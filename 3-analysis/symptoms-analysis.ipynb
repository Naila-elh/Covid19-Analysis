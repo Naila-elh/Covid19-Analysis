{
 "cells": [
  {
   "cell_type": "markdown",
   "metadata": {},
   "source": [
    "# Symptomes"
   ]
  },
  {
   "cell_type": "code",
   "execution_count": null,
   "metadata": {},
   "outputs": [],
   "source": [
    "symptoms_list_fr = ['gorge', 'toux', 'fièvre', 'difficultés respiratoires']\n",
    "symptoms_list_en = ['cough', 'fever', 'tiredness', 'tired', 'coughing', 'difficulty breathing', 'sore throat', 'sneezing', 'symptom']\n",
    "symptoms_covid_fr = symptoms_list_fr+['COVID', 'covid', 'coronavirus']"
   ]
  },
  {
   "cell_type": "markdown",
   "metadata": {},
   "source": [
    "# Translation"
   ]
  },
  {
   "cell_type": "code",
   "execution_count": null,
   "metadata": {},
   "outputs": [],
   "source": [
    "import googletrans\n",
    "from googletrans import Translator"
   ]
  },
  {
   "cell_type": "code",
   "execution_count": null,
   "metadata": {},
   "outputs": [],
   "source": [
    "start = time()\n",
    "symptoms_translation = pd.DataFrame(symptoms_list_en, columns=['en'])\n",
    "languages = tweets['language'].unique().tolist()\n",
    "\n",
    "def translate_symptoms(lang) :\n",
    "    translated_symptoms=[]\n",
    "    for symptom in symptoms_list_en :\n",
    "        translator = Translator()\n",
    "        translation = translator.translate(symptom, src='en', dest=lang).text\n",
    "        translated_symptoms.append(translation)\n",
    "    translated_symptoms = [' ' + item for item in translated_symptoms]\n",
    "    symptoms_translation[lang] = translated_symptoms\n",
    "    \n",
    "for language in languages :\n",
    "    if language in googletrans.LANGUAGES:\n",
    "        translate_symptoms(language)\n",
    "print(\"DONE IN\", round(time() - start), \"SEC\")"
   ]
  },
  {
   "cell_type": "code",
   "execution_count": null,
   "metadata": {},
   "outputs": [],
   "source": [
    "symptoms_translation"
   ]
  },
  {
   "cell_type": "code",
   "execution_count": null,
   "metadata": {},
   "outputs": [],
   "source": [
    "tweets['has_symptoms']=0\n",
    "for lang in symptoms_translation.columns :\n",
    "    tweets.loc[(tweets['language']==lang) & (tweets['text'].str.contains('|'.join(symptoms_translation[lang].tolist()))), \n",
    "           'has_symptoms']=1"
   ]
  },
  {
   "cell_type": "code",
   "execution_count": null,
   "metadata": {},
   "outputs": [],
   "source": [
    "# start = time()\n",
    "# translations = pd.DataFrame(symptoms_list_en, columns=['en'])\n",
    "\n",
    "# def translation(lang) :\n",
    "#     translated_symptoms=[]\n",
    "#     tr.set_to_lang(lang)\n",
    "#     for symptom in symptoms_list_en :\n",
    "#         tr.set_text(symptom)\n",
    "#         translated_symptoms.append(tr.translate())\n",
    "#     translations[lang] = translated_symptoms\n",
    "    \n",
    "# for language in languages :\n",
    "#     translation(language)\n",
    "# print(\"DONE IN\", round(time() - start), \"SEC\")\n"
   ]
  }
 ],
 "metadata": {
  "kernelspec": {
   "display_name": "Python 3",
   "language": "python",
   "name": "python3"
  },
  "language_info": {
   "codemirror_mode": {
    "name": "ipython",
    "version": 3
   },
   "file_extension": ".py",
   "mimetype": "text/x-python",
   "name": "python",
   "nbconvert_exporter": "python",
   "pygments_lexer": "ipython3",
   "version": "3.7.3"
  }
 },
 "nbformat": 4,
 "nbformat_minor": 2
}
