{
 "cells": [
  {
   "cell_type": "code",
   "execution_count": 11,
   "metadata": {
    "ExecuteTime": {
     "end_time": "2020-04-09T10:08:34.183801Z",
     "start_time": "2020-04-09T10:08:34.171468Z"
    }
   },
   "outputs": [],
   "source": [
    "import pandas as pd\n",
    "import bz2\n",
    "import os\n",
    "import json\n",
    "import twitter_functions\n",
    "import multiprocessing as mp\n",
    "from time import time"
   ]
  },
  {
   "cell_type": "code",
   "execution_count": 12,
   "metadata": {
    "ExecuteTime": {
     "end_time": "2020-04-09T10:08:34.838778Z",
     "start_time": "2020-04-09T10:08:34.782235Z"
    }
   },
   "outputs": [],
   "source": [
    "path_to_timeline='../data/timelines/API/IDF-old/'\n",
    "bzs = sorted([x for x in os.listdir(path_to_timeline) if x[-4:]=='.bz2'])"
   ]
  },
  {
   "cell_type": "code",
   "execution_count": 13,
   "metadata": {
    "ExecuteTime": {
     "end_time": "2020-04-09T10:08:35.117266Z",
     "start_time": "2020-04-09T10:08:35.108803Z"
    },
    "scrolled": true
   },
   "outputs": [
    {
     "data": {
      "text/plain": [
       "['timelines-0-0-0-20-5557c651-0954-4d18-bcbe-2eb8170f6e8a.json.bz2',\n",
       " 'timelines-0-0-0-20-66031178-958f-4fa4-81bd-ce37b8358438.json.bz2',\n",
       " 'timelines-0-0-0-20-6f851a44-3715-4ad2-aba9-d2a198cac956.json.bz2',\n",
       " 'timelines-0-0-0-20-97d479f8-4a2a-42f4-b3a2-cd58f52858fd.json.bz2',\n",
       " 'timelines-0-0-0-20-a88c4479-adb6-4702-ba43-30a2019952ba.json.bz2',\n",
       " 'timelines-0-0-0-20-b8748dc3-a6e9-4fb0-b6da-a5e2fad65d31.json.bz2',\n",
       " 'timelines-0-0-0-20-c00a35a6-260a-4868-bd17-9fb87697b270.json.bz2',\n",
       " 'timelines-0-0-0-20-d284a58b-6174-4cc4-869d-278a326cbb99.json.bz2',\n",
       " 'timelines-0-0-0-4-32261e05-3bce-40af-9e23-3e72486243eb.json.bz2',\n",
       " 'timelines-0-0-1-20-165b2965-3c01-43f7-9184-9686a96e6545.json.bz2',\n",
       " 'timelines-0-0-1-20-1d86c638-bda7-4f67-bfa2-d2de0ca5fd16.json.bz2',\n",
       " 'timelines-0-0-1-20-595e6abc-c531-46ba-a172-fbc9e9c3cc43.json.bz2',\n",
       " 'timelines-0-0-1-20-7849f82e-178e-401d-a927-2e1cc2c3f25a.json.bz2',\n",
       " 'timelines-0-0-1-20-98f4e02a-a1a7-49cf-a7f3-04f3575bd186.json.bz2',\n",
       " 'timelines-0-0-1-20-ac298670-4003-4c0d-8f24-d802ea35120f.json.bz2',\n",
       " 'timelines-0-0-1-20-ac59fb4d-0f52-4175-b0af-372109c87410.json.bz2',\n",
       " 'timelines-0-0-1-20-d43702ca-ccee-44cc-94f1-f36992cd2fe7.json.bz2',\n",
       " 'timelines-0-0-2-1-32620269-afa3-4268-a731-08c111d528a3.json.bz2',\n",
       " 'timelines-0-0-2-20-18b0132c-12e2-4d04-9ab3-512f0a5e1bc0.json.bz2',\n",
       " 'timelines-0-0-2-20-42851004-3172-4f0a-aa6a-b93e709386d8.json.bz2',\n",
       " 'timelines-0-0-2-20-60008a31-bce0-4873-9774-25b1aa82c4c8.json.bz2',\n",
       " 'timelines-0-0-2-20-9144375c-c76c-4204-b813-7c5795c6b081.json.bz2',\n",
       " 'timelines-0-0-2-20-a882e875-0396-4665-be12-b84e23a680c0.json.bz2',\n",
       " 'timelines-0-0-2-20-aa2b6d7c-081e-454d-9b84-e328f61795f1.json.bz2',\n",
       " 'timelines-0-0-2-20-b4751e0f-8911-4707-95e2-12d1d7fa96ac.json.bz2',\n",
       " 'timelines-0-0-2-20-d47ca750-42b9-43eb-8761-b4cf9d6c5019.json.bz2',\n",
       " 'timelines-0-0-3-1-ac5adb26-9d27-481f-9200-7a88c352531b.json.bz2',\n",
       " 'timelines-0-0-3-20-0adcbf12-ffc5-458e-acb8-a74fc86f16cc.json.bz2',\n",
       " 'timelines-0-0-3-20-3ac2a5a7-f79c-4722-aa8f-5154da9153ef.json.bz2',\n",
       " 'timelines-0-0-3-20-3b696766-3fd2-47dc-bc8e-a2a84951eb30.json.bz2',\n",
       " 'timelines-0-0-3-20-493b9f28-c7ff-4212-9269-7be1eb1b28a2.json.bz2',\n",
       " 'timelines-0-0-3-20-6f39d76a-1060-4bca-93db-5b5cd74c7a45.json.bz2',\n",
       " 'timelines-0-0-3-20-803e89ea-00ae-45b7-b31d-a8080b84abb8.json.bz2',\n",
       " 'timelines-0-0-3-20-861189b8-8f26-49b3-aedf-7fd54e8ed92f.json.bz2',\n",
       " 'timelines-0-0-3-20-f2c97cef-c07b-44b5-b8b0-80ae30effb7e.json.bz2',\n",
       " 'timelines-0-0-4-20-13444361-e9e0-4d4d-aab4-b255d30f3436.json.bz2',\n",
       " 'timelines-0-0-4-20-149156d9-8b44-4db3-b777-5c8ccc16f514.json.bz2',\n",
       " 'timelines-0-0-4-20-6f082d1b-9bbb-43e8-9c46-d7997f8b5f6d.json.bz2',\n",
       " 'timelines-0-0-4-20-74525757-0770-457d-83b2-3a335f89dd73.json.bz2',\n",
       " 'timelines-0-0-4-20-d8885ead-dc5b-4dfb-8d23-94aaffe686d2.json.bz2',\n",
       " 'timelines-0-0-4-20-da970265-b147-40e0-bcce-463de2a2b7aa.json.bz2',\n",
       " 'timelines-0-0-4-20-df59bfe9-d333-4cad-b28d-4c28a0d46b06.json.bz2',\n",
       " 'timelines-0-0-4-20-f5cf06f3-a2f3-4ede-9e4f-ba0162d2b69f.json.bz2',\n",
       " 'timelines-0-0-5-2-8a30ee3e-7182-4364-bcde-d39dbe39369d.json.bz2',\n",
       " 'timelines-0-0-5-20-145eafaf-f96e-4a2f-adb1-546c6cdeb90f.json.bz2',\n",
       " 'timelines-0-0-5-20-2ccf3436-d990-4e7f-b68f-01e72a152a32.json.bz2',\n",
       " 'timelines-0-0-5-20-32c76c1f-a106-47c0-a9d4-e554a654b0d0.json.bz2',\n",
       " 'timelines-0-0-5-20-38da602d-d180-4668-95a5-90ea52b4b487.json.bz2',\n",
       " 'timelines-0-0-5-20-429ab782-3de5-47f7-b49d-bf3fd0f1d144.json.bz2',\n",
       " 'timelines-0-0-5-20-5b0f6ade-ae81-4ee0-b255-06fc5a273edf.json.bz2',\n",
       " 'timelines-0-0-5-20-971fba44-3afb-4ca1-bf9b-fa27b7f1ad94.json.bz2',\n",
       " 'timelines-0-0-5-20-e4c3d860-382b-4691-81b1-2a27207ef0f7.json.bz2']"
      ]
     },
     "execution_count": 13,
     "metadata": {},
     "output_type": "execute_result"
    }
   ],
   "source": [
    "bzs"
   ]
  },
  {
   "cell_type": "code",
   "execution_count": 14,
   "metadata": {
    "ExecuteTime": {
     "end_time": "2020-04-09T10:08:36.099883Z",
     "start_time": "2020-04-09T10:08:36.093618Z"
    }
   },
   "outputs": [],
   "source": [
    "bzs=bzs[:16]"
   ]
  },
  {
   "cell_type": "code",
   "execution_count": 15,
   "metadata": {
    "ExecuteTime": {
     "end_time": "2020-04-09T10:32:26.816194Z",
     "start_time": "2020-04-09T10:08:49.155577Z"
    },
    "scrolled": true
   },
   "outputs": [
    {
     "name": "stdout",
     "output_type": "stream",
     "text": [
      "USE DEFAULT # CORES\n",
      "# PROCESSORS: 8 \n",
      "\n",
      "Read Tweets ...\n",
      "2\n",
      "[<multiprocessing.pool.ApplyResult object at 0x000002C880AC4F60>, <multiprocessing.pool.ApplyResult object at 0x000002C85ADED438>, <multiprocessing.pool.ApplyResult object at 0x000002C85ADED400>, <multiprocessing.pool.ApplyResult object at 0x000002C85ADED320>, <multiprocessing.pool.ApplyResult object at 0x000002C85ADED240>, <multiprocessing.pool.ApplyResult object at 0x000002C85ADED160>, <multiprocessing.pool.ApplyResult object at 0x000002C84622DBA8>, <multiprocessing.pool.ApplyResult object at 0x000002C846243CF8>]\n",
      "done\n",
      "DONE IN 1417 SEC\n"
     ]
    }
   ],
   "source": [
    "# START POOL OF CPUS\n",
    "try:\n",
    "    n_cpu = int(os.getenv(\"SLURM_CPUS_PER_TASK\"))\n",
    "    print('INFER # CORES FROM PBS VARIABLE')\n",
    "except:\n",
    "    n_cpu = mp.cpu_count()\n",
    "    print('USE DEFAULT # CORES')\n",
    "    \n",
    "pool  = mp.Pool(processes=n_cpu)\n",
    "print(\"# PROCESSORS:\", n_cpu, \"\\n\")\n",
    "\n",
    "print(\"Read Tweets ...\")\n",
    "start = time()\n",
    "\n",
    "# COMPUTE LIST OF RESULTS\n",
    "n_blocks= len(bzs)//n_cpu + len(bzs)%n_cpu\n",
    "print(n_blocks)\n",
    "results = [pool.apply_async(twitter_functions.get_tweets, args=(index_block,n_blocks)) for index_block in range(n_cpu)]\n",
    "print(results)\n",
    "tweets  = pd.concat([results[index_block].get() for index_block in range(n_cpu)]).reset_index(drop=True)\n",
    "print('done')\n",
    "#print(tweets)\n",
    "\n",
    "pool.close()    \n",
    "print(\"DONE IN\", round(time() - start), \"SEC\")\n"
   ]
  },
  {
   "cell_type": "code",
   "execution_count": 16,
   "metadata": {
    "ExecuteTime": {
     "end_time": "2020-04-09T10:34:42.490370Z",
     "start_time": "2020-04-09T10:34:42.193351Z"
    }
   },
   "outputs": [
    {
     "data": {
      "text/html": [
       "<div>\n",
       "<style scoped>\n",
       "    .dataframe tbody tr th:only-of-type {\n",
       "        vertical-align: middle;\n",
       "    }\n",
       "\n",
       "    .dataframe tbody tr th {\n",
       "        vertical-align: top;\n",
       "    }\n",
       "\n",
       "    .dataframe thead th {\n",
       "        text-align: right;\n",
       "    }\n",
       "</style>\n",
       "<table border=\"1\" class=\"dataframe\">\n",
       "  <thead>\n",
       "    <tr style=\"text-align: right;\">\n",
       "      <th></th>\n",
       "      <th>id_str</th>\n",
       "      <th>user</th>\n",
       "      <th>full_text</th>\n",
       "      <th>created_at</th>\n",
       "      <th>lang</th>\n",
       "    </tr>\n",
       "  </thead>\n",
       "  <tbody>\n",
       "    <tr>\n",
       "      <th>0</th>\n",
       "      <td>1246817876910243841</td>\n",
       "      <td>{'id': 3387491127, 'id_str': '3387491127', 'na...</td>\n",
       "      <td>RT @mandinette77: En triant mes bouquins je to...</td>\n",
       "      <td>Sun Apr 05 15:12:01 +0000 2020</td>\n",
       "      <td>fr</td>\n",
       "    </tr>\n",
       "    <tr>\n",
       "      <th>1</th>\n",
       "      <td>1246797555117297664</td>\n",
       "      <td>{'id': 3387491127, 'id_str': '3387491127', 'na...</td>\n",
       "      <td>RT @Ch_Richard20: Voila la nouvelle vidéo de l...</td>\n",
       "      <td>Sun Apr 05 13:51:16 +0000 2020</td>\n",
       "      <td>fr</td>\n",
       "    </tr>\n",
       "    <tr>\n",
       "      <th>2</th>\n",
       "      <td>1246797196126756864</td>\n",
       "      <td>{'id': 3387491127, 'id_str': '3387491127', 'na...</td>\n",
       "      <td>@_Pat_Sim_ C’est gentil ça ☺️\\nQuel accueil ! ...</td>\n",
       "      <td>Sun Apr 05 13:49:50 +0000 2020</td>\n",
       "      <td>fr</td>\n",
       "    </tr>\n",
       "    <tr>\n",
       "      <th>3</th>\n",
       "      <td>1246795386003558405</td>\n",
       "      <td>{'id': 3387491127, 'id_str': '3387491127', 'na...</td>\n",
       "      <td>@StephaneAlbouy C’est dingue tous ces journali...</td>\n",
       "      <td>Sun Apr 05 13:42:39 +0000 2020</td>\n",
       "      <td>fr</td>\n",
       "    </tr>\n",
       "    <tr>\n",
       "      <th>4</th>\n",
       "      <td>1246550688236273664</td>\n",
       "      <td>{'id': 3387491127, 'id_str': '3387491127', 'na...</td>\n",
       "      <td>@Manu_Lechypre • Propos anti-arabes : « c’est ...</td>\n",
       "      <td>Sat Apr 04 21:30:18 +0000 2020</td>\n",
       "      <td>fr</td>\n",
       "    </tr>\n",
       "  </tbody>\n",
       "</table>\n",
       "</div>"
      ],
      "text/plain": [
       "                id_str                                               user  \\\n",
       "0  1246817876910243841  {'id': 3387491127, 'id_str': '3387491127', 'na...   \n",
       "1  1246797555117297664  {'id': 3387491127, 'id_str': '3387491127', 'na...   \n",
       "2  1246797196126756864  {'id': 3387491127, 'id_str': '3387491127', 'na...   \n",
       "3  1246795386003558405  {'id': 3387491127, 'id_str': '3387491127', 'na...   \n",
       "4  1246550688236273664  {'id': 3387491127, 'id_str': '3387491127', 'na...   \n",
       "\n",
       "                                           full_text  \\\n",
       "0  RT @mandinette77: En triant mes bouquins je to...   \n",
       "1  RT @Ch_Richard20: Voila la nouvelle vidéo de l...   \n",
       "2  @_Pat_Sim_ C’est gentil ça ☺️\\nQuel accueil ! ...   \n",
       "3  @StephaneAlbouy C’est dingue tous ces journali...   \n",
       "4  @Manu_Lechypre • Propos anti-arabes : « c’est ...   \n",
       "\n",
       "                       created_at lang  \n",
       "0  Sun Apr 05 15:12:01 +0000 2020   fr  \n",
       "1  Sun Apr 05 13:51:16 +0000 2020   fr  \n",
       "2  Sun Apr 05 13:49:50 +0000 2020   fr  \n",
       "3  Sun Apr 05 13:42:39 +0000 2020   fr  \n",
       "4  Sat Apr 04 21:30:18 +0000 2020   fr  "
      ]
     },
     "execution_count": 16,
     "metadata": {},
     "output_type": "execute_result"
    }
   ],
   "source": [
    "tweets.head()"
   ]
  },
  {
   "cell_type": "markdown",
   "metadata": {},
   "source": [
    "# Analysis"
   ]
  },
  {
   "cell_type": "code",
   "execution_count": 17,
   "metadata": {
    "ExecuteTime": {
     "end_time": "2020-04-09T10:34:45.843000Z",
     "start_time": "2020-04-09T10:34:45.252494Z"
    }
   },
   "outputs": [],
   "source": [
    "tweets['user_id'] = tweets['user'].apply(lambda x: x.get('id_str'))"
   ]
  },
  {
   "cell_type": "code",
   "execution_count": 18,
   "metadata": {
    "ExecuteTime": {
     "end_time": "2020-04-09T10:34:47.449477Z",
     "start_time": "2020-04-09T10:34:46.497586Z"
    }
   },
   "outputs": [],
   "source": [
    "tweets['full_text'] = tweets['full_text'].apply(lambda x: x.lower())"
   ]
  },
  {
   "cell_type": "code",
   "execution_count": 20,
   "metadata": {
    "ExecuteTime": {
     "end_time": "2020-04-09T10:36:50.209515Z",
     "start_time": "2020-04-09T10:34:50.165424Z"
    }
   },
   "outputs": [],
   "source": [
    "tweets['created_at'] = pd.to_datetime(tweets['created_at'])\n",
    "tweets['day'] = tweets['created_at'].dt.floor('d')"
   ]
  },
  {
   "cell_type": "markdown",
   "metadata": {},
   "source": [
    "## Contains covid or symptoms"
   ]
  },
  {
   "cell_type": "code",
   "execution_count": 28,
   "metadata": {
    "ExecuteTime": {
     "end_time": "2020-04-09T10:46:48.112362Z",
     "start_time": "2020-04-09T10:46:47.882503Z"
    }
   },
   "outputs": [],
   "source": [
    "tweets=tweets[tweets['created_at'] > '2019-12-01']"
   ]
  },
  {
   "cell_type": "code",
   "execution_count": 110,
   "metadata": {
    "ExecuteTime": {
     "end_time": "2020-04-09T11:53:47.174112Z",
     "start_time": "2020-04-09T11:53:46.515461Z"
    }
   },
   "outputs": [],
   "source": [
    "tweets.loc[tweets['full_text'].str.contains('covid|corona|coronavirus'), 'covid'] = 1\n",
    "tweets.loc[tweets['full_text'].str.contains('confin'), 'confinement'] = 1"
   ]
  },
  {
   "cell_type": "code",
   "execution_count": 88,
   "metadata": {
    "ExecuteTime": {
     "end_time": "2020-04-09T11:29:37.709169Z",
     "start_time": "2020-04-09T11:29:35.306403Z"
    }
   },
   "outputs": [],
   "source": [
    "symptoms_dict_fr = {'toux' : ['toux', 'tousse'],\n",
    "                   'maux de gorge' : ['maux de gorge', 'mal de gorge', 'mal à la gorge'],\n",
    "                   'fièvre' : ['fievre', 'fièvre', 'fiévre'],\n",
    "                   'perte goût et odorat' : ['perte du goût', \"perte de l'odorat\", 'perte du gout'],\n",
    "                   'engelures' : ['engelures'],\n",
    "                   'symptômes' : ['symptome', 'symptôme'],\n",
    "                   'difficultés respiratoires' : ['difficultés à respirer', 'difficultés respiratoires', 'difficulté à respirer']}\n",
    "\n",
    "for symptom in symptoms_dict_fr.keys():\n",
    "    tweets[symptom] = 0\n",
    "    tweets.loc[tweets['full_text'].str.contains(('|').join(symptoms_dict_fr.get(symptom))), symptom] = 1\n",
    "    tweets.loc[tweets[symptom]==1, 'has_symptom'] = 1"
   ]
  },
  {
   "cell_type": "code",
   "execution_count": 86,
   "metadata": {
    "ExecuteTime": {
     "end_time": "2020-04-09T11:27:46.612670Z",
     "start_time": "2020-04-09T11:27:41.625836Z"
    }
   },
   "outputs": [],
   "source": [
    "# symptoms_list_fr = ['gorge', 'toux', 'fièvre', 'difficultés respiratoires', 'tousse', \"perte de l'odorat\", \"perte du goût\", \"engelures\"]\n",
    "# for symptom in symptoms_list_fr:\n",
    "#     tweets[symptom]=0\n",
    "#     tweets.loc[tweets['full_text'].str.contains('symptom'), 'symptom'] = 1\n",
    "#     tweets.loc[tweets['full_text'].str.contains(symptom), symptom] = 1"
   ]
  },
  {
   "cell_type": "markdown",
   "metadata": {},
   "source": [
    "## Graphs"
   ]
  },
  {
   "cell_type": "code",
   "execution_count": 39,
   "metadata": {
    "ExecuteTime": {
     "end_time": "2020-04-09T10:52:06.135744Z",
     "start_time": "2020-04-09T10:52:06.075913Z"
    }
   },
   "outputs": [
    {
     "data": {
      "text/plain": [
       "15134"
      ]
     },
     "execution_count": 39,
     "metadata": {},
     "output_type": "execute_result"
    }
   ],
   "source": [
    "len(tweets.loc[tweets['covid']==1])"
   ]
  },
  {
   "cell_type": "code",
   "execution_count": 40,
   "metadata": {
    "ExecuteTime": {
     "end_time": "2020-04-09T10:52:08.529032Z",
     "start_time": "2020-04-09T10:52:08.521052Z"
    }
   },
   "outputs": [],
   "source": [
    "from matplotlib import pyplot as plt"
   ]
  },
  {
   "cell_type": "code",
   "execution_count": 41,
   "metadata": {
    "ExecuteTime": {
     "end_time": "2020-04-09T10:52:13.780960Z",
     "start_time": "2020-04-09T10:52:09.444247Z"
    }
   },
   "outputs": [
    {
     "data": {
      "image/png": "[encoded data removed]",
      "text/plain": [
       "<Figure size 432x288 with 1 Axes>"
      ]
     },
     "metadata": {
      "needs_background": "light"
     },
     "output_type": "display_data"
    }
   ],
   "source": [
    "tweets[tweets['created_at'] > '2019-12-05'][['day', 'covid']].groupby('day').agg('sum')['covid'].plot()\n",
    "plt.show()"
   ]
  },
  {
   "cell_type": "code",
   "execution_count": 42,
   "metadata": {
    "ExecuteTime": {
     "end_time": "2020-04-09T10:52:14.358374Z",
     "start_time": "2020-04-09T10:52:13.783952Z"
    }
   },
   "outputs": [
    {
     "data": {
      "image/png": "[encoded data removed]",
      "text/plain": [
       "<Figure size 432x288 with 1 Axes>"
      ]
     },
     "metadata": {
      "needs_background": "light"
     },
     "output_type": "display_data"
    }
   ],
   "source": [
    "tweets[tweets['created_at'] > '2019-12-05'][['day', 'symptom']].groupby('day').agg('sum')['symptom'].plot()\n",
    "plt.show()"
   ]
  },
  {
   "cell_type": "code",
   "execution_count": 45,
   "metadata": {
    "ExecuteTime": {
     "end_time": "2020-04-09T10:56:02.779137Z",
     "start_time": "2020-04-09T10:56:02.322126Z"
    }
   },
   "outputs": [
    {
     "name": "stderr",
     "output_type": "stream",
     "text": [
      "C:\\Users\\naila\\Anaconda3\\lib\\site-packages\\pandas\\core\\arrays\\datetimes.py:1172: UserWarning:\n",
      "\n",
      "Converting to PeriodArray/Index representation will drop timezone information.\n",
      "\n"
     ]
    },
    {
     "data": {
      "image/png": "[encoded data removed]",
      "text/plain": [
       "<Figure size 432x288 with 1 Axes>"
      ]
     },
     "metadata": {
      "needs_background": "light"
     },
     "output_type": "display_data"
    }
   ],
   "source": [
    "tweets[['day'] + symptoms_list_fr].groupby('day').agg('sum')[symptoms_list_fr].plot()\n",
    "plt.show()"
   ]
  },
  {
   "cell_type": "code",
   "execution_count": 44,
   "metadata": {
    "ExecuteTime": {
     "end_time": "2020-04-09T10:53:47.874910Z",
     "start_time": "2020-04-09T10:53:40.657460Z"
    }
   },
   "outputs": [
    {
     "data": {
      "text/html": [
       "        <script type=\"text/javascript\">\n",
       "        window.PlotlyConfig = {MathJaxConfig: 'local'};\n",
       "        if (window.MathJax) {MathJax.Hub.Config({SVG: {font: \"STIX-Web\"}});}\n",
       "        if (typeof require !== 'undefined') {\n",
       "        require.undef(\"plotly\");\n",
       "        requirejs.config({\n",
       "            paths: {\n",
       "                'plotly': ['https://cdn.plot.ly/plotly-latest.min']\n",
       "            }\n",
       "        });\n",
       "        require(['plotly'], function(Plotly) {\n",
       "            window._Plotly = Plotly;\n",
       "        });\n",
       "        }\n",
       "        </script>\n",
       "        "
      ]
     },
     "metadata": {},
     "output_type": "display_data"
    }
   ],
   "source": [
    "import plotly.figure_factory as ff\n",
    "import plotly.offline as py\n",
    "import plotly.graph_objs as go\n",
    "from plotly import tools\n",
    "py.init_notebook_mode(connected = True)"
   ]
  },
  {
   "cell_type": "code",
   "execution_count": 111,
   "metadata": {
    "ExecuteTime": {
     "end_time": "2020-04-09T11:54:05.559242Z",
     "start_time": "2020-04-09T11:54:05.217491Z"
    }
   },
   "outputs": [
    {
     "data": {
      "application/vnd.plotly.v1+json": {
       "config": {
        "linkText": "Export to plot.ly",
        "plotlyServerURL": "https://plot.ly",
        "showLink": false
       },
       "data": [
        {
         "mode": "lines",
         "name": "covid",
         "type": "scatter",
         "x": [
          "2019-12-01T00:00:00+00:00",
          "2019-12-02T00:00:00+00:00",
          "2019-12-03T00:00:00+00:00",
          "2019-12-04T00:00:00+00:00",
          "2019-12-05T00:00:00+00:00",
          "2019-12-06T00:00:00+00:00",
          "2019-12-07T00:00:00+00:00",
          "2019-12-08T00:00:00+00:00",
          "2019-12-09T00:00:00+00:00",
          "2019-12-10T00:00:00+00:00",
          "2019-12-11T00:00:00+00:00",
          "2019-12-12T00:00:00+00:00",
          "2019-12-13T00:00:00+00:00",
          "2019-12-14T00:00:00+00:00",
          "2019-12-15T00:00:00+00:00",
          "2019-12-16T00:00:00+00:00",
          "2019-12-17T00:00:00+00:00",
          "2019-12-18T00:00:00+00:00",
          "2019-12-19T00:00:00+00:00",
          "2019-12-20T00:00:00+00:00",
          "2019-12-21T00:00:00+00:00",
          "2019-12-22T00:00:00+00:00",
          "2019-12-23T00:00:00+00:00",
          "2019-12-24T00:00:00+00:00",
          "2019-12-25T00:00:00+00:00",
          "2019-12-26T00:00:00+00:00",
          "2019-12-27T00:00:00+00:00",
          "2019-12-28T00:00:00+00:00",
          "2019-12-29T00:00:00+00:00",
          "2019-12-30T00:00:00+00:00",
          "2019-12-31T00:00:00+00:00",
          "2020-01-01T00:00:00+00:00",
          "2020-01-02T00:00:00+00:00",
          "2020-01-03T00:00:00+00:00",
          "2020-01-04T00:00:00+00:00",
          "2020-01-05T00:00:00+00:00",
          "2020-01-06T00:00:00+00:00",
          "2020-01-07T00:00:00+00:00",
          "2020-01-08T00:00:00+00:00",
          "2020-01-09T00:00:00+00:00",
          "2020-01-10T00:00:00+00:00",
          "2020-01-11T00:00:00+00:00",
          "2020-01-12T00:00:00+00:00",
          "2020-01-13T00:00:00+00:00",
          "2020-01-14T00:00:00+00:00",
          "2020-01-15T00:00:00+00:00",
          "2020-01-16T00:00:00+00:00",
          "2020-01-17T00:00:00+00:00",
          "2020-01-18T00:00:00+00:00",
          "2020-01-19T00:00:00+00:00",
          "2020-01-20T00:00:00+00:00",
          "2020-01-21T00:00:00+00:00",
          "2020-01-22T00:00:00+00:00",
          "2020-01-23T00:00:00+00:00",
          "2020-01-24T00:00:00+00:00",
          "2020-01-25T00:00:00+00:00",
          "2020-01-26T00:00:00+00:00",
          "2020-01-27T00:00:00+00:00",
          "2020-01-28T00:00:00+00:00",
          "2020-01-29T00:00:00+00:00",
          "2020-01-30T00:00:00+00:00",
          "2020-01-31T00:00:00+00:00",
          "2020-02-01T00:00:00+00:00",
          "2020-02-02T00:00:00+00:00",
          "2020-02-03T00:00:00+00:00",
          "2020-02-04T00:00:00+00:00",
          "2020-02-05T00:00:00+00:00",
          "2020-02-06T00:00:00+00:00",
          "2020-02-07T00:00:00+00:00",
          "2020-02-08T00:00:00+00:00",
          "2020-02-09T00:00:00+00:00",
          "2020-02-10T00:00:00+00:00",
          "2020-02-11T00:00:00+00:00",
          "2020-02-12T00:00:00+00:00",
          "2020-02-13T00:00:00+00:00",
          "2020-02-14T00:00:00+00:00",
          "2020-02-15T00:00:00+00:00",
          "2020-02-16T00:00:00+00:00",
          "2020-02-17T00:00:00+00:00",
          "2020-02-18T00:00:00+00:00",
          "2020-02-19T00:00:00+00:00",
          "2020-02-20T00:00:00+00:00",
          "2020-02-21T00:00:00+00:00",
          "2020-02-22T00:00:00+00:00",
          "2020-02-23T00:00:00+00:00",
          "2020-02-24T00:00:00+00:00",
          "2020-02-25T00:00:00+00:00",
          "2020-02-26T00:00:00+00:00",
          "2020-02-27T00:00:00+00:00",
          "2020-02-28T00:00:00+00:00",
          "2020-02-29T00:00:00+00:00",
          "2020-03-01T00:00:00+00:00",
          "2020-03-02T00:00:00+00:00",
          "2020-03-03T00:00:00+00:00",
          "2020-03-04T00:00:00+00:00",
          "2020-03-05T00:00:00+00:00",
          "2020-03-06T00:00:00+00:00",
          "2020-03-07T00:00:00+00:00",
          "2020-03-08T00:00:00+00:00",
          "2020-03-09T00:00:00+00:00",
          "2020-03-10T00:00:00+00:00",
          "2020-03-11T00:00:00+00:00",
          "2020-03-12T00:00:00+00:00",
          "2020-03-13T00:00:00+00:00",
          "2020-03-14T00:00:00+00:00",
          "2020-03-15T00:00:00+00:00",
          "2020-03-16T00:00:00+00:00",
          "2020-03-17T00:00:00+00:00",
          "2020-03-18T00:00:00+00:00",
          "2020-03-19T00:00:00+00:00",
          "2020-03-20T00:00:00+00:00",
          "2020-03-21T00:00:00+00:00",
          "2020-03-22T00:00:00+00:00",
          "2020-03-23T00:00:00+00:00",
          "2020-03-24T00:00:00+00:00",
          "2020-03-25T00:00:00+00:00",
          "2020-03-26T00:00:00+00:00",
          "2020-03-27T00:00:00+00:00",
          "2020-03-28T00:00:00+00:00",
          "2020-03-29T00:00:00+00:00",
          "2020-03-30T00:00:00+00:00",
          "2020-03-31T00:00:00+00:00",
          "2020-04-01T00:00:00+00:00",
          "2020-04-02T00:00:00+00:00",
          "2020-04-03T00:00:00+00:00",
          "2020-04-04T00:00:00+00:00",
          "2020-04-05T00:00:00+00:00",
          "2020-04-06T00:00:00+00:00"
         ],
         "y": [
          0,
          0,
          0,
          0,
          0,
          0,
          0,
          0,
          0,
          0,
          0,
          0,
          0,
          0,
          0,
          0,
          0,
          0,
          0,
          0,
          0,
          0,
          0,
          0,
          0,
          0,
          0,
          0,
          0,
          0,
          0,
          0,
          0,
          0,
          0,
          0,
          0,
          0,
          0,
          0,
          0,
          0,
          0,
          0,
          0,
          0,
          0,
          0,
          0,
          0,
          0,
          7,
          4,
          16,
          72,
          65,
          30,
          24,
          11,
          25,
          22,
          11,
          8,
          15,
          5,
          16,
          9,
          9,
          13,
          9,
          12,
          8,
          3,
          6,
          6,
          7,
          4,
          14,
          6,
          4,
          7,
          7,
          3,
          10,
          31,
          45,
          64,
          65,
          88,
          90,
          64,
          110,
          123,
          139,
          134,
          136,
          139,
          103,
          121,
          205,
          229,
          202,
          627,
          561,
          626,
          599,
          617,
          566,
          535,
          568,
          537,
          490,
          492,
          430,
          466,
          526,
          496,
          600,
          453,
          434,
          385,
          454,
          416,
          509,
          354,
          293,
          345,
          199
         ]
        },
        {
         "mode": "lines",
         "name": "has_symptom",
         "type": "scatter",
         "x": [
          "2019-12-01T00:00:00+00:00",
          "2019-12-02T00:00:00+00:00",
          "2019-12-03T00:00:00+00:00",
          "2019-12-04T00:00:00+00:00",
          "2019-12-05T00:00:00+00:00",
          "2019-12-06T00:00:00+00:00",
          "2019-12-07T00:00:00+00:00",
          "2019-12-08T00:00:00+00:00",
          "2019-12-09T00:00:00+00:00",
          "2019-12-10T00:00:00+00:00",
          "2019-12-11T00:00:00+00:00",
          "2019-12-12T00:00:00+00:00",
          "2019-12-13T00:00:00+00:00",
          "2019-12-14T00:00:00+00:00",
          "2019-12-15T00:00:00+00:00",
          "2019-12-16T00:00:00+00:00",
          "2019-12-17T00:00:00+00:00",
          "2019-12-18T00:00:00+00:00",
          "2019-12-19T00:00:00+00:00",
          "2019-12-20T00:00:00+00:00",
          "2019-12-21T00:00:00+00:00",
          "2019-12-22T00:00:00+00:00",
          "2019-12-23T00:00:00+00:00",
          "2019-12-24T00:00:00+00:00",
          "2019-12-25T00:00:00+00:00",
          "2019-12-26T00:00:00+00:00",
          "2019-12-27T00:00:00+00:00",
          "2019-12-28T00:00:00+00:00",
          "2019-12-29T00:00:00+00:00",
          "2019-12-30T00:00:00+00:00",
          "2019-12-31T00:00:00+00:00",
          "2020-01-01T00:00:00+00:00",
          "2020-01-02T00:00:00+00:00",
          "2020-01-03T00:00:00+00:00",
          "2020-01-04T00:00:00+00:00",
          "2020-01-05T00:00:00+00:00",
          "2020-01-06T00:00:00+00:00",
          "2020-01-07T00:00:00+00:00",
          "2020-01-08T00:00:00+00:00",
          "2020-01-09T00:00:00+00:00",
          "2020-01-10T00:00:00+00:00",
          "2020-01-11T00:00:00+00:00",
          "2020-01-12T00:00:00+00:00",
          "2020-01-13T00:00:00+00:00",
          "2020-01-14T00:00:00+00:00",
          "2020-01-15T00:00:00+00:00",
          "2020-01-16T00:00:00+00:00",
          "2020-01-17T00:00:00+00:00",
          "2020-01-18T00:00:00+00:00",
          "2020-01-19T00:00:00+00:00",
          "2020-01-20T00:00:00+00:00",
          "2020-01-21T00:00:00+00:00",
          "2020-01-22T00:00:00+00:00",
          "2020-01-23T00:00:00+00:00",
          "2020-01-24T00:00:00+00:00",
          "2020-01-25T00:00:00+00:00",
          "2020-01-26T00:00:00+00:00",
          "2020-01-27T00:00:00+00:00",
          "2020-01-28T00:00:00+00:00",
          "2020-01-29T00:00:00+00:00",
          "2020-01-30T00:00:00+00:00",
          "2020-01-31T00:00:00+00:00",
          "2020-02-01T00:00:00+00:00",
          "2020-02-02T00:00:00+00:00",
          "2020-02-03T00:00:00+00:00",
          "2020-02-04T00:00:00+00:00",
          "2020-02-05T00:00:00+00:00",
          "2020-02-06T00:00:00+00:00",
          "2020-02-07T00:00:00+00:00",
          "2020-02-08T00:00:00+00:00",
          "2020-02-09T00:00:00+00:00",
          "2020-02-10T00:00:00+00:00",
          "2020-02-11T00:00:00+00:00",
          "2020-02-12T00:00:00+00:00",
          "2020-02-13T00:00:00+00:00",
          "2020-02-14T00:00:00+00:00",
          "2020-02-15T00:00:00+00:00",
          "2020-02-16T00:00:00+00:00",
          "2020-02-17T00:00:00+00:00",
          "2020-02-18T00:00:00+00:00",
          "2020-02-19T00:00:00+00:00",
          "2020-02-20T00:00:00+00:00",
          "2020-02-21T00:00:00+00:00",
          "2020-02-22T00:00:00+00:00",
          "2020-02-23T00:00:00+00:00",
          "2020-02-24T00:00:00+00:00",
          "2020-02-25T00:00:00+00:00",
          "2020-02-26T00:00:00+00:00",
          "2020-02-27T00:00:00+00:00",
          "2020-02-28T00:00:00+00:00",
          "2020-02-29T00:00:00+00:00",
          "2020-03-01T00:00:00+00:00",
          "2020-03-02T00:00:00+00:00",
          "2020-03-03T00:00:00+00:00",
          "2020-03-04T00:00:00+00:00",
          "2020-03-05T00:00:00+00:00",
          "2020-03-06T00:00:00+00:00",
          "2020-03-07T00:00:00+00:00",
          "2020-03-08T00:00:00+00:00",
          "2020-03-09T00:00:00+00:00",
          "2020-03-10T00:00:00+00:00",
          "2020-03-11T00:00:00+00:00",
          "2020-03-12T00:00:00+00:00",
          "2020-03-13T00:00:00+00:00",
          "2020-03-14T00:00:00+00:00",
          "2020-03-15T00:00:00+00:00",
          "2020-03-16T00:00:00+00:00",
          "2020-03-17T00:00:00+00:00",
          "2020-03-18T00:00:00+00:00",
          "2020-03-19T00:00:00+00:00",
          "2020-03-20T00:00:00+00:00",
          "2020-03-21T00:00:00+00:00",
          "2020-03-22T00:00:00+00:00",
          "2020-03-23T00:00:00+00:00",
          "2020-03-24T00:00:00+00:00",
          "2020-03-25T00:00:00+00:00",
          "2020-03-26T00:00:00+00:00",
          "2020-03-27T00:00:00+00:00",
          "2020-03-28T00:00:00+00:00",
          "2020-03-29T00:00:00+00:00",
          "2020-03-30T00:00:00+00:00",
          "2020-03-31T00:00:00+00:00",
          "2020-04-01T00:00:00+00:00",
          "2020-04-02T00:00:00+00:00",
          "2020-04-03T00:00:00+00:00",
          "2020-04-04T00:00:00+00:00",
          "2020-04-05T00:00:00+00:00",
          "2020-04-06T00:00:00+00:00"
         ],
         "y": [
          4,
          2,
          1,
          1,
          0,
          1,
          3,
          0,
          2,
          3,
          1,
          0,
          0,
          0,
          2,
          0,
          2,
          0,
          0,
          1,
          1,
          3,
          0,
          1,
          0,
          0,
          0,
          1,
          0,
          4,
          2,
          0,
          1,
          0,
          1,
          0,
          0,
          1,
          2,
          1,
          0,
          1,
          0,
          1,
          0,
          1,
          2,
          1,
          4,
          0,
          0,
          8,
          2,
          10,
          14,
          11,
          2,
          2,
          3,
          1,
          2,
          2,
          0,
          2,
          0,
          4,
          5,
          3,
          2,
          3,
          1,
          0,
          3,
          6,
          1,
          3,
          3,
          3,
          2,
          0,
          3,
          1,
          1,
          0,
          0,
          1,
          4,
          2,
          4,
          5,
          6,
          10,
          9,
          10,
          9,
          4,
          9,
          12,
          6,
          12,
          22,
          10,
          29,
          23,
          48,
          32,
          41,
          48,
          31,
          28,
          19,
          28,
          36,
          24,
          28,
          17,
          12,
          56,
          21,
          28,
          39,
          28,
          18,
          10,
          12,
          10,
          12,
          11
         ]
        },
        {
         "mode": "lines",
         "name": "confinement",
         "type": "scatter",
         "x": [
          "2019-12-01T00:00:00+00:00",
          "2019-12-02T00:00:00+00:00",
          "2019-12-03T00:00:00+00:00",
          "2019-12-04T00:00:00+00:00",
          "2019-12-05T00:00:00+00:00",
          "2019-12-06T00:00:00+00:00",
          "2019-12-07T00:00:00+00:00",
          "2019-12-08T00:00:00+00:00",
          "2019-12-09T00:00:00+00:00",
          "2019-12-10T00:00:00+00:00",
          "2019-12-11T00:00:00+00:00",
          "2019-12-12T00:00:00+00:00",
          "2019-12-13T00:00:00+00:00",
          "2019-12-14T00:00:00+00:00",
          "2019-12-15T00:00:00+00:00",
          "2019-12-16T00:00:00+00:00",
          "2019-12-17T00:00:00+00:00",
          "2019-12-18T00:00:00+00:00",
          "2019-12-19T00:00:00+00:00",
          "2019-12-20T00:00:00+00:00",
          "2019-12-21T00:00:00+00:00",
          "2019-12-22T00:00:00+00:00",
          "2019-12-23T00:00:00+00:00",
          "2019-12-24T00:00:00+00:00",
          "2019-12-25T00:00:00+00:00",
          "2019-12-26T00:00:00+00:00",
          "2019-12-27T00:00:00+00:00",
          "2019-12-28T00:00:00+00:00",
          "2019-12-29T00:00:00+00:00",
          "2019-12-30T00:00:00+00:00",
          "2019-12-31T00:00:00+00:00",
          "2020-01-01T00:00:00+00:00",
          "2020-01-02T00:00:00+00:00",
          "2020-01-03T00:00:00+00:00",
          "2020-01-04T00:00:00+00:00",
          "2020-01-05T00:00:00+00:00",
          "2020-01-06T00:00:00+00:00",
          "2020-01-07T00:00:00+00:00",
          "2020-01-08T00:00:00+00:00",
          "2020-01-09T00:00:00+00:00",
          "2020-01-10T00:00:00+00:00",
          "2020-01-11T00:00:00+00:00",
          "2020-01-12T00:00:00+00:00",
          "2020-01-13T00:00:00+00:00",
          "2020-01-14T00:00:00+00:00",
          "2020-01-15T00:00:00+00:00",
          "2020-01-16T00:00:00+00:00",
          "2020-01-17T00:00:00+00:00",
          "2020-01-18T00:00:00+00:00",
          "2020-01-19T00:00:00+00:00",
          "2020-01-20T00:00:00+00:00",
          "2020-01-21T00:00:00+00:00",
          "2020-01-22T00:00:00+00:00",
          "2020-01-23T00:00:00+00:00",
          "2020-01-24T00:00:00+00:00",
          "2020-01-25T00:00:00+00:00",
          "2020-01-26T00:00:00+00:00",
          "2020-01-27T00:00:00+00:00",
          "2020-01-28T00:00:00+00:00",
          "2020-01-29T00:00:00+00:00",
          "2020-01-30T00:00:00+00:00",
          "2020-01-31T00:00:00+00:00",
          "2020-02-01T00:00:00+00:00",
          "2020-02-02T00:00:00+00:00",
          "2020-02-03T00:00:00+00:00",
          "2020-02-04T00:00:00+00:00",
          "2020-02-05T00:00:00+00:00",
          "2020-02-06T00:00:00+00:00",
          "2020-02-07T00:00:00+00:00",
          "2020-02-08T00:00:00+00:00",
          "2020-02-09T00:00:00+00:00",
          "2020-02-10T00:00:00+00:00",
          "2020-02-11T00:00:00+00:00",
          "2020-02-12T00:00:00+00:00",
          "2020-02-13T00:00:00+00:00",
          "2020-02-14T00:00:00+00:00",
          "2020-02-15T00:00:00+00:00",
          "2020-02-16T00:00:00+00:00",
          "2020-02-17T00:00:00+00:00",
          "2020-02-18T00:00:00+00:00",
          "2020-02-19T00:00:00+00:00",
          "2020-02-20T00:00:00+00:00",
          "2020-02-21T00:00:00+00:00",
          "2020-02-22T00:00:00+00:00",
          "2020-02-23T00:00:00+00:00",
          "2020-02-24T00:00:00+00:00",
          "2020-02-25T00:00:00+00:00",
          "2020-02-26T00:00:00+00:00",
          "2020-02-27T00:00:00+00:00",
          "2020-02-28T00:00:00+00:00",
          "2020-02-29T00:00:00+00:00",
          "2020-03-01T00:00:00+00:00",
          "2020-03-02T00:00:00+00:00",
          "2020-03-03T00:00:00+00:00",
          "2020-03-04T00:00:00+00:00",
          "2020-03-05T00:00:00+00:00",
          "2020-03-06T00:00:00+00:00",
          "2020-03-07T00:00:00+00:00",
          "2020-03-08T00:00:00+00:00",
          "2020-03-09T00:00:00+00:00",
          "2020-03-10T00:00:00+00:00",
          "2020-03-11T00:00:00+00:00",
          "2020-03-12T00:00:00+00:00",
          "2020-03-13T00:00:00+00:00",
          "2020-03-14T00:00:00+00:00",
          "2020-03-15T00:00:00+00:00",
          "2020-03-16T00:00:00+00:00",
          "2020-03-17T00:00:00+00:00",
          "2020-03-18T00:00:00+00:00",
          "2020-03-19T00:00:00+00:00",
          "2020-03-20T00:00:00+00:00",
          "2020-03-21T00:00:00+00:00",
          "2020-03-22T00:00:00+00:00",
          "2020-03-23T00:00:00+00:00",
          "2020-03-24T00:00:00+00:00",
          "2020-03-25T00:00:00+00:00",
          "2020-03-26T00:00:00+00:00",
          "2020-03-27T00:00:00+00:00",
          "2020-03-28T00:00:00+00:00",
          "2020-03-29T00:00:00+00:00",
          "2020-03-30T00:00:00+00:00",
          "2020-03-31T00:00:00+00:00",
          "2020-04-01T00:00:00+00:00",
          "2020-04-02T00:00:00+00:00",
          "2020-04-03T00:00:00+00:00",
          "2020-04-04T00:00:00+00:00",
          "2020-04-05T00:00:00+00:00",
          "2020-04-06T00:00:00+00:00"
         ],
         "y": [
          0,
          0,
          0,
          0,
          0,
          0,
          0,
          0,
          0,
          0,
          0,
          0,
          0,
          0,
          0,
          0,
          0,
          1,
          0,
          0,
          0,
          0,
          0,
          0,
          0,
          0,
          0,
          0,
          0,
          0,
          1,
          0,
          0,
          1,
          0,
          0,
          0,
          0,
          0,
          0,
          0,
          0,
          0,
          0,
          0,
          0,
          0,
          0,
          0,
          0,
          0,
          0,
          0,
          0,
          1,
          0,
          0,
          0,
          1,
          1,
          0,
          0,
          0,
          0,
          1,
          1,
          0,
          0,
          0,
          1,
          0,
          0,
          0,
          0,
          0,
          1,
          1,
          0,
          1,
          0,
          0,
          0,
          0,
          1,
          2,
          1,
          6,
          2,
          0,
          1,
          7,
          5,
          3,
          2,
          3,
          4,
          1,
          5,
          2,
          10,
          12,
          13,
          42,
          58,
          94,
          325,
          604,
          635,
          552,
          628,
          697,
          603,
          529,
          420,
          408,
          453,
          383,
          495,
          463,
          393,
          350,
          353,
          366,
          392,
          350,
          338,
          482,
          240
         ]
        }
       ],
       "layout": {
        "template": {
         "data": {
          "bar": [
           {
            "error_x": {
             "color": "#2a3f5f"
            },
            "error_y": {
             "color": "#2a3f5f"
            },
            "marker": {
             "line": {
              "color": "#E5ECF6",
              "width": 0.5
             }
            },
            "type": "bar"
           }
          ],
          "barpolar": [
           {
            "marker": {
             "line": {
              "color": "#E5ECF6",
              "width": 0.5
             }
            },
            "type": "barpolar"
           }
          ],
          "carpet": [
           {
            "aaxis": {
             "endlinecolor": "#2a3f5f",
             "gridcolor": "white",
             "linecolor": "white",
             "minorgridcolor": "white",
             "startlinecolor": "#2a3f5f"
            },
            "baxis": {
             "endlinecolor": "#2a3f5f",
             "gridcolor": "white",
             "linecolor": "white",
             "minorgridcolor": "white",
             "startlinecolor": "#2a3f5f"
            },
            "type": "carpet"
           }
          ],
          "choropleth": [
           {
            "colorbar": {
             "outlinewidth": 0,
             "ticks": ""
            },
            "type": "choropleth"
           }
          ],
          "contour": [
           {
            "colorbar": {
             "outlinewidth": 0,
             "ticks": ""
            },
            "colorscale": [
             [
              0,
              "#0d0887"
             ],
             [
              0.1111111111111111,
              "#46039f"
             ],
             [
              0.2222222222222222,
              "#7201a8"
             ],
             [
              0.3333333333333333,
              "#9c179e"
             ],
             [
              0.4444444444444444,
              "#bd3786"
             ],
             [
              0.5555555555555556,
              "#d8576b"
             ],
             [
              0.6666666666666666,
              "#ed7953"
             ],
             [
              0.7777777777777778,
              "#fb9f3a"
             ],
             [
              0.8888888888888888,
              "#fdca26"
             ],
             [
              1,
              "#f0f921"
             ]
            ],
            "type": "contour"
           }
          ],
          "contourcarpet": [
           {
            "colorbar": {
             "outlinewidth": 0,
             "ticks": ""
            },
            "type": "contourcarpet"
           }
          ],
          "heatmap": [
           {
            "colorbar": {
             "outlinewidth": 0,
             "ticks": ""
            },
            "colorscale": [
             [
              0,
              "#0d0887"
             ],
             [
              0.1111111111111111,
              "#46039f"
             ],
             [
              0.2222222222222222,
              "#7201a8"
             ],
             [
              0.3333333333333333,
              "#9c179e"
             ],
             [
              0.4444444444444444,
              "#bd3786"
             ],
             [
              0.5555555555555556,
              "#d8576b"
             ],
             [
              0.6666666666666666,
              "#ed7953"
             ],
             [
              0.7777777777777778,
              "#fb9f3a"
             ],
             [
              0.8888888888888888,
              "#fdca26"
             ],
             [
              1,
              "#f0f921"
             ]
            ],
            "type": "heatmap"
           }
          ],
          "heatmapgl": [
           {
            "colorbar": {
             "outlinewidth": 0,
             "ticks": ""
            },
            "colorscale": [
             [
              0,
              "#0d0887"
             ],
             [
              0.1111111111111111,
              "#46039f"
             ],
             [
              0.2222222222222222,
              "#7201a8"
             ],
             [
              0.3333333333333333,
              "#9c179e"
             ],
             [
              0.4444444444444444,
              "#bd3786"
             ],
             [
              0.5555555555555556,
              "#d8576b"
             ],
             [
              0.6666666666666666,
              "#ed7953"
             ],
             [
              0.7777777777777778,
              "#fb9f3a"
             ],
             [
              0.8888888888888888,
              "#fdca26"
             ],
             [
              1,
              "#f0f921"
             ]
            ],
            "type": "heatmapgl"
           }
          ],
          "histogram": [
           {
            "marker": {
             "colorbar": {
              "outlinewidth": 0,
              "ticks": ""
             }
            },
            "type": "histogram"
           }
          ],
          "histogram2d": [
           {
            "colorbar": {
             "outlinewidth": 0,
             "ticks": ""
            },
            "colorscale": [
             [
              0,
              "#0d0887"
             ],
             [
              0.1111111111111111,
              "#46039f"
             ],
             [
              0.2222222222222222,
              "#7201a8"
             ],
             [
              0.3333333333333333,
              "#9c179e"
             ],
             [
              0.4444444444444444,
              "#bd3786"
             ],
             [
              0.5555555555555556,
              "#d8576b"
             ],
             [
              0.6666666666666666,
              "#ed7953"
             ],
             [
              0.7777777777777778,
              "#fb9f3a"
             ],
             [
              0.8888888888888888,
              "#fdca26"
             ],
             [
              1,
              "#f0f921"
             ]
            ],
            "type": "histogram2d"
           }
          ],
          "histogram2dcontour": [
           {
            "colorbar": {
             "outlinewidth": 0,
             "ticks": ""
            },
            "colorscale": [
             [
              0,
              "#0d0887"
             ],
             [
              0.1111111111111111,
              "#46039f"
             ],
             [
              0.2222222222222222,
              "#7201a8"
             ],
             [
              0.3333333333333333,
              "#9c179e"
             ],
             [
              0.4444444444444444,
              "#bd3786"
             ],
             [
              0.5555555555555556,
              "#d8576b"
             ],
             [
              0.6666666666666666,
              "#ed7953"
             ],
             [
              0.7777777777777778,
              "#fb9f3a"
             ],
             [
              0.8888888888888888,
              "#fdca26"
             ],
             [
              1,
              "#f0f921"
             ]
            ],
            "type": "histogram2dcontour"
           }
          ],
          "mesh3d": [
           {
            "colorbar": {
             "outlinewidth": 0,
             "ticks": ""
            },
            "type": "mesh3d"
           }
          ],
          "parcoords": [
           {
            "line": {
             "colorbar": {
              "outlinewidth": 0,
              "ticks": ""
             }
            },
            "type": "parcoords"
           }
          ],
          "pie": [
           {
            "automargin": true,
            "type": "pie"
           }
          ],
          "scatter": [
           {
            "marker": {
             "colorbar": {
              "outlinewidth": 0,
              "ticks": ""
             }
            },
            "type": "scatter"
           }
          ],
          "scatter3d": [
           {
            "line": {
             "colorbar": {
              "outlinewidth": 0,
              "ticks": ""
             }
            },
            "marker": {
             "colorbar": {
              "outlinewidth": 0,
              "ticks": ""
             }
            },
            "type": "scatter3d"
           }
          ],
          "scattercarpet": [
           {
            "marker": {
             "colorbar": {
              "outlinewidth": 0,
              "ticks": ""
             }
            },
            "type": "scattercarpet"
           }
          ],
          "scattergeo": [
           {
            "marker": {
             "colorbar": {
              "outlinewidth": 0,
              "ticks": ""
             }
            },
            "type": "scattergeo"
           }
          ],
          "scattergl": [
           {
            "marker": {
             "colorbar": {
              "outlinewidth": 0,
              "ticks": ""
             }
            },
            "type": "scattergl"
           }
          ],
          "scattermapbox": [
           {
            "marker": {
             "colorbar": {
              "outlinewidth": 0,
              "ticks": ""
             }
            },
            "type": "scattermapbox"
           }
          ],
          "scatterpolar": [
           {
            "marker": {
             "colorbar": {
              "outlinewidth": 0,
              "ticks": ""
             }
            },
            "type": "scatterpolar"
           }
          ],
          "scatterpolargl": [
           {
            "marker": {
             "colorbar": {
              "outlinewidth": 0,
              "ticks": ""
             }
            },
            "type": "scatterpolargl"
           }
          ],
          "scatterternary": [
           {
            "marker": {
             "colorbar": {
              "outlinewidth": 0,
              "ticks": ""
             }
            },
            "type": "scatterternary"
           }
          ],
          "surface": [
           {
            "colorbar": {
             "outlinewidth": 0,
             "ticks": ""
            },
            "colorscale": [
             [
              0,
              "#0d0887"
             ],
             [
              0.1111111111111111,
              "#46039f"
             ],
             [
              0.2222222222222222,
              "#7201a8"
             ],
             [
              0.3333333333333333,
              "#9c179e"
             ],
             [
              0.4444444444444444,
              "#bd3786"
             ],
             [
              0.5555555555555556,
              "#d8576b"
             ],
             [
              0.6666666666666666,
              "#ed7953"
             ],
             [
              0.7777777777777778,
              "#fb9f3a"
             ],
             [
              0.8888888888888888,
              "#fdca26"
             ],
             [
              1,
              "#f0f921"
             ]
            ],
            "type": "surface"
           }
          ],
          "table": [
           {
            "cells": {
             "fill": {
              "color": "#EBF0F8"
             },
             "line": {
              "color": "white"
             }
            },
            "header": {
             "fill": {
              "color": "#C8D4E3"
             },
             "line": {
              "color": "white"
             }
            },
            "type": "table"
           }
          ]
         },
         "layout": {
          "annotationdefaults": {
           "arrowcolor": "#2a3f5f",
           "arrowhead": 0,
           "arrowwidth": 1
          },
          "coloraxis": {
           "colorbar": {
            "outlinewidth": 0,
            "ticks": ""
           }
          },
          "colorscale": {
           "diverging": [
            [
             0,
             "#8e0152"
            ],
            [
             0.1,
             "#c51b7d"
            ],
            [
             0.2,
             "#de77ae"
            ],
            [
             0.3,
             "#f1b6da"
            ],
            [
             0.4,
             "#fde0ef"
            ],
            [
             0.5,
             "#f7f7f7"
            ],
            [
             0.6,
             "#e6f5d0"
            ],
            [
             0.7,
             "#b8e186"
            ],
            [
             0.8,
             "#7fbc41"
            ],
            [
             0.9,
             "#4d9221"
            ],
            [
             1,
             "#276419"
            ]
           ],
           "sequential": [
            [
             0,
             "#0d0887"
            ],
            [
             0.1111111111111111,
             "#46039f"
            ],
            [
             0.2222222222222222,
             "#7201a8"
            ],
            [
             0.3333333333333333,
             "#9c179e"
            ],
            [
             0.4444444444444444,
             "#bd3786"
            ],
            [
             0.5555555555555556,
             "#d8576b"
            ],
            [
             0.6666666666666666,
             "#ed7953"
            ],
            [
             0.7777777777777778,
             "#fb9f3a"
            ],
            [
             0.8888888888888888,
             "#fdca26"
            ],
            [
             1,
             "#f0f921"
            ]
           ],
           "sequentialminus": [
            [
             0,
             "#0d0887"
            ],
            [
             0.1111111111111111,
             "#46039f"
            ],
            [
             0.2222222222222222,
             "#7201a8"
            ],
            [
             0.3333333333333333,
             "#9c179e"
            ],
            [
             0.4444444444444444,
             "#bd3786"
            ],
            [
             0.5555555555555556,
             "#d8576b"
            ],
            [
             0.6666666666666666,
             "#ed7953"
            ],
            [
             0.7777777777777778,
             "#fb9f3a"
            ],
            [
             0.8888888888888888,
             "#fdca26"
            ],
            [
             1,
             "#f0f921"
            ]
           ]
          },
          "colorway": [
           "#636efa",
           "#EF553B",
           "#00cc96",
           "#ab63fa",
           "#FFA15A",
           "#19d3f3",
           "#FF6692",
           "#B6E880",
           "#FF97FF",
           "#FECB52"
          ],
          "font": {
           "color": "#2a3f5f"
          },
          "geo": {
           "bgcolor": "white",
           "lakecolor": "white",
           "landcolor": "#E5ECF6",
           "showlakes": true,
           "showland": true,
           "subunitcolor": "white"
          },
          "hoverlabel": {
           "align": "left"
          },
          "hovermode": "closest",
          "mapbox": {
           "style": "light"
          },
          "paper_bgcolor": "white",
          "plot_bgcolor": "#E5ECF6",
          "polar": {
           "angularaxis": {
            "gridcolor": "white",
            "linecolor": "white",
            "ticks": ""
           },
           "bgcolor": "#E5ECF6",
           "radialaxis": {
            "gridcolor": "white",
            "linecolor": "white",
            "ticks": ""
           }
          },
          "scene": {
           "xaxis": {
            "backgroundcolor": "#E5ECF6",
            "gridcolor": "white",
            "gridwidth": 2,
            "linecolor": "white",
            "showbackground": true,
            "ticks": "",
            "zerolinecolor": "white"
           },
           "yaxis": {
            "backgroundcolor": "#E5ECF6",
            "gridcolor": "white",
            "gridwidth": 2,
            "linecolor": "white",
            "showbackground": true,
            "ticks": "",
            "zerolinecolor": "white"
           },
           "zaxis": {
            "backgroundcolor": "#E5ECF6",
            "gridcolor": "white",
            "gridwidth": 2,
            "linecolor": "white",
            "showbackground": true,
            "ticks": "",
            "zerolinecolor": "white"
           }
          },
          "shapedefaults": {
           "line": {
            "color": "#2a3f5f"
           }
          },
          "ternary": {
           "aaxis": {
            "gridcolor": "white",
            "linecolor": "white",
            "ticks": ""
           },
           "baxis": {
            "gridcolor": "white",
            "linecolor": "white",
            "ticks": ""
           },
           "bgcolor": "#E5ECF6",
           "caxis": {
            "gridcolor": "white",
            "linecolor": "white",
            "ticks": ""
           }
          },
          "title": {
           "x": 0.05
          },
          "xaxis": {
           "automargin": true,
           "gridcolor": "white",
           "linecolor": "white",
           "ticks": "",
           "title": {
            "standoff": 15
           },
           "zerolinecolor": "white",
           "zerolinewidth": 2
          },
          "yaxis": {
           "automargin": true,
           "gridcolor": "white",
           "linecolor": "white",
           "ticks": "",
           "title": {
            "standoff": 15
           },
           "zerolinecolor": "white",
           "zerolinewidth": 2
          }
         }
        },
        "title": {
         "text": "Evolution of symptoms in Ile-de-France"
        }
       }
      },
      "text/html": [
       "<div>\n",
       "        \n",
       "        \n",
       "            <div id=\"cc9396dd-f08d-4241-ad96-440e92d1645e\" class=\"plotly-graph-div\" style=\"height:525px; width:100%;\"></div>\n",
       "            <script type=\"text/javascript\">\n",
       "                require([\"plotly\"], function(Plotly) {\n",
       "                    window.PLOTLYENV=window.PLOTLYENV || {};\n",
       "                    \n",
       "                if (document.getElementById(\"cc9396dd-f08d-4241-ad96-440e92d1645e\")) {\n",
       "                    Plotly.newPlot(\n",
       "                        'cc9396dd-f08d-4241-ad96-440e92d1645e',\n",
       "                        [{\"mode\": \"lines\", \"name\": \"covid\", \"type\": \"scatter\", \"x\": [\"2019-12-01T00:00:00+00:00\", \"2019-12-02T00:00:00+00:00\", \"2019-12-03T00:00:00+00:00\", \"2019-12-04T00:00:00+00:00\", \"2019-12-05T00:00:00+00:00\", \"2019-12-06T00:00:00+00:00\", \"2019-12-07T00:00:00+00:00\", \"2019-12-08T00:00:00+00:00\", \"2019-12-09T00:00:00+00:00\", \"2019-12-10T00:00:00+00:00\", \"2019-12-11T00:00:00+00:00\", \"2019-12-12T00:00:00+00:00\", \"2019-12-13T00:00:00+00:00\", \"2019-12-14T00:00:00+00:00\", \"2019-12-15T00:00:00+00:00\", \"2019-12-16T00:00:00+00:00\", \"2019-12-17T00:00:00+00:00\", \"2019-12-18T00:00:00+00:00\", \"2019-12-19T00:00:00+00:00\", \"2019-12-20T00:00:00+00:00\", \"2019-12-21T00:00:00+00:00\", \"2019-12-22T00:00:00+00:00\", \"2019-12-23T00:00:00+00:00\", \"2019-12-24T00:00:00+00:00\", \"2019-12-25T00:00:00+00:00\", \"2019-12-26T00:00:00+00:00\", \"2019-12-27T00:00:00+00:00\", \"2019-12-28T00:00:00+00:00\", \"2019-12-29T00:00:00+00:00\", \"2019-12-30T00:00:00+00:00\", \"2019-12-31T00:00:00+00:00\", \"2020-01-01T00:00:00+00:00\", \"2020-01-02T00:00:00+00:00\", \"2020-01-03T00:00:00+00:00\", \"2020-01-04T00:00:00+00:00\", \"2020-01-05T00:00:00+00:00\", \"2020-01-06T00:00:00+00:00\", \"2020-01-07T00:00:00+00:00\", \"2020-01-08T00:00:00+00:00\", \"2020-01-09T00:00:00+00:00\", \"2020-01-10T00:00:00+00:00\", \"2020-01-11T00:00:00+00:00\", \"2020-01-12T00:00:00+00:00\", \"2020-01-13T00:00:00+00:00\", \"2020-01-14T00:00:00+00:00\", \"2020-01-15T00:00:00+00:00\", \"2020-01-16T00:00:00+00:00\", \"2020-01-17T00:00:00+00:00\", \"2020-01-18T00:00:00+00:00\", \"2020-01-19T00:00:00+00:00\", \"2020-01-20T00:00:00+00:00\", \"2020-01-21T00:00:00+00:00\", \"2020-01-22T00:00:00+00:00\", \"2020-01-23T00:00:00+00:00\", \"2020-01-24T00:00:00+00:00\", \"2020-01-25T00:00:00+00:00\", \"2020-01-26T00:00:00+00:00\", \"2020-01-27T00:00:00+00:00\", \"2020-01-28T00:00:00+00:00\", \"2020-01-29T00:00:00+00:00\", \"2020-01-30T00:00:00+00:00\", \"2020-01-31T00:00:00+00:00\", \"2020-02-01T00:00:00+00:00\", \"2020-02-02T00:00:00+00:00\", \"2020-02-03T00:00:00+00:00\", \"2020-02-04T00:00:00+00:00\", \"2020-02-05T00:00:00+00:00\", \"2020-02-06T00:00:00+00:00\", \"2020-02-07T00:00:00+00:00\", \"2020-02-08T00:00:00+00:00\", \"2020-02-09T00:00:00+00:00\", \"2020-02-10T00:00:00+00:00\", \"2020-02-11T00:00:00+00:00\", \"2020-02-12T00:00:00+00:00\", \"2020-02-13T00:00:00+00:00\", \"2020-02-14T00:00:00+00:00\", \"2020-02-15T00:00:00+00:00\", \"2020-02-16T00:00:00+00:00\", \"2020-02-17T00:00:00+00:00\", \"2020-02-18T00:00:00+00:00\", \"2020-02-19T00:00:00+00:00\", \"2020-02-20T00:00:00+00:00\", \"2020-02-21T00:00:00+00:00\", \"2020-02-22T00:00:00+00:00\", \"2020-02-23T00:00:00+00:00\", \"2020-02-24T00:00:00+00:00\", \"2020-02-25T00:00:00+00:00\", \"2020-02-26T00:00:00+00:00\", \"2020-02-27T00:00:00+00:00\", \"2020-02-28T00:00:00+00:00\", \"2020-02-29T00:00:00+00:00\", \"2020-03-01T00:00:00+00:00\", \"2020-03-02T00:00:00+00:00\", \"2020-03-03T00:00:00+00:00\", \"2020-03-04T00:00:00+00:00\", \"2020-03-05T00:00:00+00:00\", \"2020-03-06T00:00:00+00:00\", \"2020-03-07T00:00:00+00:00\", \"2020-03-08T00:00:00+00:00\", \"2020-03-09T00:00:00+00:00\", \"2020-03-10T00:00:00+00:00\", \"2020-03-11T00:00:00+00:00\", \"2020-03-12T00:00:00+00:00\", \"2020-03-13T00:00:00+00:00\", \"2020-03-14T00:00:00+00:00\", \"2020-03-15T00:00:00+00:00\", \"2020-03-16T00:00:00+00:00\", \"2020-03-17T00:00:00+00:00\", \"2020-03-18T00:00:00+00:00\", \"2020-03-19T00:00:00+00:00\", \"2020-03-20T00:00:00+00:00\", \"2020-03-21T00:00:00+00:00\", \"2020-03-22T00:00:00+00:00\", \"2020-03-23T00:00:00+00:00\", \"2020-03-24T00:00:00+00:00\", \"2020-03-25T00:00:00+00:00\", \"2020-03-26T00:00:00+00:00\", \"2020-03-27T00:00:00+00:00\", \"2020-03-28T00:00:00+00:00\", \"2020-03-29T00:00:00+00:00\", \"2020-03-30T00:00:00+00:00\", \"2020-03-31T00:00:00+00:00\", \"2020-04-01T00:00:00+00:00\", \"2020-04-02T00:00:00+00:00\", \"2020-04-03T00:00:00+00:00\", \"2020-04-04T00:00:00+00:00\", \"2020-04-05T00:00:00+00:00\", \"2020-04-06T00:00:00+00:00\"], \"y\": [0.0, 0.0, 0.0, 0.0, 0.0, 0.0, 0.0, 0.0, 0.0, 0.0, 0.0, 0.0, 0.0, 0.0, 0.0, 0.0, 0.0, 0.0, 0.0, 0.0, 0.0, 0.0, 0.0, 0.0, 0.0, 0.0, 0.0, 0.0, 0.0, 0.0, 0.0, 0.0, 0.0, 0.0, 0.0, 0.0, 0.0, 0.0, 0.0, 0.0, 0.0, 0.0, 0.0, 0.0, 0.0, 0.0, 0.0, 0.0, 0.0, 0.0, 0.0, 7.0, 4.0, 16.0, 72.0, 65.0, 30.0, 24.0, 11.0, 25.0, 22.0, 11.0, 8.0, 15.0, 5.0, 16.0, 9.0, 9.0, 13.0, 9.0, 12.0, 8.0, 3.0, 6.0, 6.0, 7.0, 4.0, 14.0, 6.0, 4.0, 7.0, 7.0, 3.0, 10.0, 31.0, 45.0, 64.0, 65.0, 88.0, 90.0, 64.0, 110.0, 123.0, 139.0, 134.0, 136.0, 139.0, 103.0, 121.0, 205.0, 229.0, 202.0, 627.0, 561.0, 626.0, 599.0, 617.0, 566.0, 535.0, 568.0, 537.0, 490.0, 492.0, 430.0, 466.0, 526.0, 496.0, 600.0, 453.0, 434.0, 385.0, 454.0, 416.0, 509.0, 354.0, 293.0, 345.0, 199.0]}, {\"mode\": \"lines\", \"name\": \"has_symptom\", \"type\": \"scatter\", \"x\": [\"2019-12-01T00:00:00+00:00\", \"2019-12-02T00:00:00+00:00\", \"2019-12-03T00:00:00+00:00\", \"2019-12-04T00:00:00+00:00\", \"2019-12-05T00:00:00+00:00\", \"2019-12-06T00:00:00+00:00\", \"2019-12-07T00:00:00+00:00\", \"2019-12-08T00:00:00+00:00\", \"2019-12-09T00:00:00+00:00\", \"2019-12-10T00:00:00+00:00\", \"2019-12-11T00:00:00+00:00\", \"2019-12-12T00:00:00+00:00\", \"2019-12-13T00:00:00+00:00\", \"2019-12-14T00:00:00+00:00\", \"2019-12-15T00:00:00+00:00\", \"2019-12-16T00:00:00+00:00\", \"2019-12-17T00:00:00+00:00\", \"2019-12-18T00:00:00+00:00\", \"2019-12-19T00:00:00+00:00\", \"2019-12-20T00:00:00+00:00\", \"2019-12-21T00:00:00+00:00\", \"2019-12-22T00:00:00+00:00\", \"2019-12-23T00:00:00+00:00\", \"2019-12-24T00:00:00+00:00\", \"2019-12-25T00:00:00+00:00\", \"2019-12-26T00:00:00+00:00\", \"2019-12-27T00:00:00+00:00\", \"2019-12-28T00:00:00+00:00\", \"2019-12-29T00:00:00+00:00\", \"2019-12-30T00:00:00+00:00\", \"2019-12-31T00:00:00+00:00\", \"2020-01-01T00:00:00+00:00\", \"2020-01-02T00:00:00+00:00\", \"2020-01-03T00:00:00+00:00\", \"2020-01-04T00:00:00+00:00\", \"2020-01-05T00:00:00+00:00\", \"2020-01-06T00:00:00+00:00\", \"2020-01-07T00:00:00+00:00\", \"2020-01-08T00:00:00+00:00\", \"2020-01-09T00:00:00+00:00\", \"2020-01-10T00:00:00+00:00\", \"2020-01-11T00:00:00+00:00\", \"2020-01-12T00:00:00+00:00\", \"2020-01-13T00:00:00+00:00\", \"2020-01-14T00:00:00+00:00\", \"2020-01-15T00:00:00+00:00\", \"2020-01-16T00:00:00+00:00\", \"2020-01-17T00:00:00+00:00\", \"2020-01-18T00:00:00+00:00\", \"2020-01-19T00:00:00+00:00\", \"2020-01-20T00:00:00+00:00\", \"2020-01-21T00:00:00+00:00\", \"2020-01-22T00:00:00+00:00\", \"2020-01-23T00:00:00+00:00\", \"2020-01-24T00:00:00+00:00\", \"2020-01-25T00:00:00+00:00\", \"2020-01-26T00:00:00+00:00\", \"2020-01-27T00:00:00+00:00\", \"2020-01-28T00:00:00+00:00\", \"2020-01-29T00:00:00+00:00\", \"2020-01-30T00:00:00+00:00\", \"2020-01-31T00:00:00+00:00\", \"2020-02-01T00:00:00+00:00\", \"2020-02-02T00:00:00+00:00\", \"2020-02-03T00:00:00+00:00\", \"2020-02-04T00:00:00+00:00\", \"2020-02-05T00:00:00+00:00\", \"2020-02-06T00:00:00+00:00\", \"2020-02-07T00:00:00+00:00\", \"2020-02-08T00:00:00+00:00\", \"2020-02-09T00:00:00+00:00\", \"2020-02-10T00:00:00+00:00\", \"2020-02-11T00:00:00+00:00\", \"2020-02-12T00:00:00+00:00\", \"2020-02-13T00:00:00+00:00\", \"2020-02-14T00:00:00+00:00\", \"2020-02-15T00:00:00+00:00\", \"2020-02-16T00:00:00+00:00\", \"2020-02-17T00:00:00+00:00\", \"2020-02-18T00:00:00+00:00\", \"2020-02-19T00:00:00+00:00\", \"2020-02-20T00:00:00+00:00\", \"2020-02-21T00:00:00+00:00\", \"2020-02-22T00:00:00+00:00\", \"2020-02-23T00:00:00+00:00\", \"2020-02-24T00:00:00+00:00\", \"2020-02-25T00:00:00+00:00\", \"2020-02-26T00:00:00+00:00\", \"2020-02-27T00:00:00+00:00\", \"2020-02-28T00:00:00+00:00\", \"2020-02-29T00:00:00+00:00\", \"2020-03-01T00:00:00+00:00\", \"2020-03-02T00:00:00+00:00\", \"2020-03-03T00:00:00+00:00\", \"2020-03-04T00:00:00+00:00\", \"2020-03-05T00:00:00+00:00\", \"2020-03-06T00:00:00+00:00\", \"2020-03-07T00:00:00+00:00\", \"2020-03-08T00:00:00+00:00\", \"2020-03-09T00:00:00+00:00\", \"2020-03-10T00:00:00+00:00\", \"2020-03-11T00:00:00+00:00\", \"2020-03-12T00:00:00+00:00\", \"2020-03-13T00:00:00+00:00\", \"2020-03-14T00:00:00+00:00\", \"2020-03-15T00:00:00+00:00\", \"2020-03-16T00:00:00+00:00\", \"2020-03-17T00:00:00+00:00\", \"2020-03-18T00:00:00+00:00\", \"2020-03-19T00:00:00+00:00\", \"2020-03-20T00:00:00+00:00\", \"2020-03-21T00:00:00+00:00\", \"2020-03-22T00:00:00+00:00\", \"2020-03-23T00:00:00+00:00\", \"2020-03-24T00:00:00+00:00\", \"2020-03-25T00:00:00+00:00\", \"2020-03-26T00:00:00+00:00\", \"2020-03-27T00:00:00+00:00\", \"2020-03-28T00:00:00+00:00\", \"2020-03-29T00:00:00+00:00\", \"2020-03-30T00:00:00+00:00\", \"2020-03-31T00:00:00+00:00\", \"2020-04-01T00:00:00+00:00\", \"2020-04-02T00:00:00+00:00\", \"2020-04-03T00:00:00+00:00\", \"2020-04-04T00:00:00+00:00\", \"2020-04-05T00:00:00+00:00\", \"2020-04-06T00:00:00+00:00\"], \"y\": [4.0, 2.0, 1.0, 1.0, 0.0, 1.0, 3.0, 0.0, 2.0, 3.0, 1.0, 0.0, 0.0, 0.0, 2.0, 0.0, 2.0, 0.0, 0.0, 1.0, 1.0, 3.0, 0.0, 1.0, 0.0, 0.0, 0.0, 1.0, 0.0, 4.0, 2.0, 0.0, 1.0, 0.0, 1.0, 0.0, 0.0, 1.0, 2.0, 1.0, 0.0, 1.0, 0.0, 1.0, 0.0, 1.0, 2.0, 1.0, 4.0, 0.0, 0.0, 8.0, 2.0, 10.0, 14.0, 11.0, 2.0, 2.0, 3.0, 1.0, 2.0, 2.0, 0.0, 2.0, 0.0, 4.0, 5.0, 3.0, 2.0, 3.0, 1.0, 0.0, 3.0, 6.0, 1.0, 3.0, 3.0, 3.0, 2.0, 0.0, 3.0, 1.0, 1.0, 0.0, 0.0, 1.0, 4.0, 2.0, 4.0, 5.0, 6.0, 10.0, 9.0, 10.0, 9.0, 4.0, 9.0, 12.0, 6.0, 12.0, 22.0, 10.0, 29.0, 23.0, 48.0, 32.0, 41.0, 48.0, 31.0, 28.0, 19.0, 28.0, 36.0, 24.0, 28.0, 17.0, 12.0, 56.0, 21.0, 28.0, 39.0, 28.0, 18.0, 10.0, 12.0, 10.0, 12.0, 11.0]}, {\"mode\": \"lines\", \"name\": \"confinement\", \"type\": \"scatter\", \"x\": [\"2019-12-01T00:00:00+00:00\", \"2019-12-02T00:00:00+00:00\", \"2019-12-03T00:00:00+00:00\", \"2019-12-04T00:00:00+00:00\", \"2019-12-05T00:00:00+00:00\", \"2019-12-06T00:00:00+00:00\", \"2019-12-07T00:00:00+00:00\", \"2019-12-08T00:00:00+00:00\", \"2019-12-09T00:00:00+00:00\", \"2019-12-10T00:00:00+00:00\", \"2019-12-11T00:00:00+00:00\", \"2019-12-12T00:00:00+00:00\", \"2019-12-13T00:00:00+00:00\", \"2019-12-14T00:00:00+00:00\", \"2019-12-15T00:00:00+00:00\", \"2019-12-16T00:00:00+00:00\", \"2019-12-17T00:00:00+00:00\", \"2019-12-18T00:00:00+00:00\", \"2019-12-19T00:00:00+00:00\", \"2019-12-20T00:00:00+00:00\", \"2019-12-21T00:00:00+00:00\", \"2019-12-22T00:00:00+00:00\", \"2019-12-23T00:00:00+00:00\", \"2019-12-24T00:00:00+00:00\", \"2019-12-25T00:00:00+00:00\", \"2019-12-26T00:00:00+00:00\", \"2019-12-27T00:00:00+00:00\", \"2019-12-28T00:00:00+00:00\", \"2019-12-29T00:00:00+00:00\", \"2019-12-30T00:00:00+00:00\", \"2019-12-31T00:00:00+00:00\", \"2020-01-01T00:00:00+00:00\", \"2020-01-02T00:00:00+00:00\", \"2020-01-03T00:00:00+00:00\", \"2020-01-04T00:00:00+00:00\", \"2020-01-05T00:00:00+00:00\", \"2020-01-06T00:00:00+00:00\", \"2020-01-07T00:00:00+00:00\", \"2020-01-08T00:00:00+00:00\", \"2020-01-09T00:00:00+00:00\", \"2020-01-10T00:00:00+00:00\", \"2020-01-11T00:00:00+00:00\", \"2020-01-12T00:00:00+00:00\", \"2020-01-13T00:00:00+00:00\", \"2020-01-14T00:00:00+00:00\", \"2020-01-15T00:00:00+00:00\", \"2020-01-16T00:00:00+00:00\", \"2020-01-17T00:00:00+00:00\", \"2020-01-18T00:00:00+00:00\", \"2020-01-19T00:00:00+00:00\", \"2020-01-20T00:00:00+00:00\", \"2020-01-21T00:00:00+00:00\", \"2020-01-22T00:00:00+00:00\", \"2020-01-23T00:00:00+00:00\", \"2020-01-24T00:00:00+00:00\", \"2020-01-25T00:00:00+00:00\", \"2020-01-26T00:00:00+00:00\", \"2020-01-27T00:00:00+00:00\", \"2020-01-28T00:00:00+00:00\", \"2020-01-29T00:00:00+00:00\", \"2020-01-30T00:00:00+00:00\", \"2020-01-31T00:00:00+00:00\", \"2020-02-01T00:00:00+00:00\", \"2020-02-02T00:00:00+00:00\", \"2020-02-03T00:00:00+00:00\", \"2020-02-04T00:00:00+00:00\", \"2020-02-05T00:00:00+00:00\", \"2020-02-06T00:00:00+00:00\", \"2020-02-07T00:00:00+00:00\", \"2020-02-08T00:00:00+00:00\", \"2020-02-09T00:00:00+00:00\", \"2020-02-10T00:00:00+00:00\", \"2020-02-11T00:00:00+00:00\", \"2020-02-12T00:00:00+00:00\", \"2020-02-13T00:00:00+00:00\", \"2020-02-14T00:00:00+00:00\", \"2020-02-15T00:00:00+00:00\", \"2020-02-16T00:00:00+00:00\", \"2020-02-17T00:00:00+00:00\", \"2020-02-18T00:00:00+00:00\", \"2020-02-19T00:00:00+00:00\", \"2020-02-20T00:00:00+00:00\", \"2020-02-21T00:00:00+00:00\", \"2020-02-22T00:00:00+00:00\", \"2020-02-23T00:00:00+00:00\", \"2020-02-24T00:00:00+00:00\", \"2020-02-25T00:00:00+00:00\", \"2020-02-26T00:00:00+00:00\", \"2020-02-27T00:00:00+00:00\", \"2020-02-28T00:00:00+00:00\", \"2020-02-29T00:00:00+00:00\", \"2020-03-01T00:00:00+00:00\", \"2020-03-02T00:00:00+00:00\", \"2020-03-03T00:00:00+00:00\", \"2020-03-04T00:00:00+00:00\", \"2020-03-05T00:00:00+00:00\", \"2020-03-06T00:00:00+00:00\", \"2020-03-07T00:00:00+00:00\", \"2020-03-08T00:00:00+00:00\", \"2020-03-09T00:00:00+00:00\", \"2020-03-10T00:00:00+00:00\", \"2020-03-11T00:00:00+00:00\", \"2020-03-12T00:00:00+00:00\", \"2020-03-13T00:00:00+00:00\", \"2020-03-14T00:00:00+00:00\", \"2020-03-15T00:00:00+00:00\", \"2020-03-16T00:00:00+00:00\", \"2020-03-17T00:00:00+00:00\", \"2020-03-18T00:00:00+00:00\", \"2020-03-19T00:00:00+00:00\", \"2020-03-20T00:00:00+00:00\", \"2020-03-21T00:00:00+00:00\", \"2020-03-22T00:00:00+00:00\", \"2020-03-23T00:00:00+00:00\", \"2020-03-24T00:00:00+00:00\", \"2020-03-25T00:00:00+00:00\", \"2020-03-26T00:00:00+00:00\", \"2020-03-27T00:00:00+00:00\", \"2020-03-28T00:00:00+00:00\", \"2020-03-29T00:00:00+00:00\", \"2020-03-30T00:00:00+00:00\", \"2020-03-31T00:00:00+00:00\", \"2020-04-01T00:00:00+00:00\", \"2020-04-02T00:00:00+00:00\", \"2020-04-03T00:00:00+00:00\", \"2020-04-04T00:00:00+00:00\", \"2020-04-05T00:00:00+00:00\", \"2020-04-06T00:00:00+00:00\"], \"y\": [0.0, 0.0, 0.0, 0.0, 0.0, 0.0, 0.0, 0.0, 0.0, 0.0, 0.0, 0.0, 0.0, 0.0, 0.0, 0.0, 0.0, 1.0, 0.0, 0.0, 0.0, 0.0, 0.0, 0.0, 0.0, 0.0, 0.0, 0.0, 0.0, 0.0, 1.0, 0.0, 0.0, 1.0, 0.0, 0.0, 0.0, 0.0, 0.0, 0.0, 0.0, 0.0, 0.0, 0.0, 0.0, 0.0, 0.0, 0.0, 0.0, 0.0, 0.0, 0.0, 0.0, 0.0, 1.0, 0.0, 0.0, 0.0, 1.0, 1.0, 0.0, 0.0, 0.0, 0.0, 1.0, 1.0, 0.0, 0.0, 0.0, 1.0, 0.0, 0.0, 0.0, 0.0, 0.0, 1.0, 1.0, 0.0, 1.0, 0.0, 0.0, 0.0, 0.0, 1.0, 2.0, 1.0, 6.0, 2.0, 0.0, 1.0, 7.0, 5.0, 3.0, 2.0, 3.0, 4.0, 1.0, 5.0, 2.0, 10.0, 12.0, 13.0, 42.0, 58.0, 94.0, 325.0, 604.0, 635.0, 552.0, 628.0, 697.0, 603.0, 529.0, 420.0, 408.0, 453.0, 383.0, 495.0, 463.0, 393.0, 350.0, 353.0, 366.0, 392.0, 350.0, 338.0, 482.0, 240.0]}],\n",
       "                        {\"template\": {\"data\": {\"bar\": [{\"error_x\": {\"color\": \"#2a3f5f\"}, \"error_y\": {\"color\": \"#2a3f5f\"}, \"marker\": {\"line\": {\"color\": \"#E5ECF6\", \"width\": 0.5}}, \"type\": \"bar\"}], \"barpolar\": [{\"marker\": {\"line\": {\"color\": \"#E5ECF6\", \"width\": 0.5}}, \"type\": \"barpolar\"}], \"carpet\": [{\"aaxis\": {\"endlinecolor\": \"#2a3f5f\", \"gridcolor\": \"white\", \"linecolor\": \"white\", \"minorgridcolor\": \"white\", \"startlinecolor\": \"#2a3f5f\"}, \"baxis\": {\"endlinecolor\": \"#2a3f5f\", \"gridcolor\": \"white\", \"linecolor\": \"white\", \"minorgridcolor\": \"white\", \"startlinecolor\": \"#2a3f5f\"}, \"type\": \"carpet\"}], \"choropleth\": [{\"colorbar\": {\"outlinewidth\": 0, \"ticks\": \"\"}, \"type\": \"choropleth\"}], \"contour\": [{\"colorbar\": {\"outlinewidth\": 0, \"ticks\": \"\"}, \"colorscale\": [[0.0, \"#0d0887\"], [0.1111111111111111, \"#46039f\"], [0.2222222222222222, \"#7201a8\"], [0.3333333333333333, \"#9c179e\"], [0.4444444444444444, \"#bd3786\"], [0.5555555555555556, \"#d8576b\"], [0.6666666666666666, \"#ed7953\"], [0.7777777777777778, \"#fb9f3a\"], [0.8888888888888888, \"#fdca26\"], [1.0, \"#f0f921\"]], \"type\": \"contour\"}], \"contourcarpet\": [{\"colorbar\": {\"outlinewidth\": 0, \"ticks\": \"\"}, \"type\": \"contourcarpet\"}], \"heatmap\": [{\"colorbar\": {\"outlinewidth\": 0, \"ticks\": \"\"}, \"colorscale\": [[0.0, \"#0d0887\"], [0.1111111111111111, \"#46039f\"], [0.2222222222222222, \"#7201a8\"], [0.3333333333333333, \"#9c179e\"], [0.4444444444444444, \"#bd3786\"], [0.5555555555555556, \"#d8576b\"], [0.6666666666666666, \"#ed7953\"], [0.7777777777777778, \"#fb9f3a\"], [0.8888888888888888, \"#fdca26\"], [1.0, \"#f0f921\"]], \"type\": \"heatmap\"}], \"heatmapgl\": [{\"colorbar\": {\"outlinewidth\": 0, \"ticks\": \"\"}, \"colorscale\": [[0.0, \"#0d0887\"], [0.1111111111111111, \"#46039f\"], [0.2222222222222222, \"#7201a8\"], [0.3333333333333333, \"#9c179e\"], [0.4444444444444444, \"#bd3786\"], [0.5555555555555556, \"#d8576b\"], [0.6666666666666666, \"#ed7953\"], [0.7777777777777778, \"#fb9f3a\"], [0.8888888888888888, \"#fdca26\"], [1.0, \"#f0f921\"]], \"type\": \"heatmapgl\"}], \"histogram\": [{\"marker\": {\"colorbar\": {\"outlinewidth\": 0, \"ticks\": \"\"}}, \"type\": \"histogram\"}], \"histogram2d\": [{\"colorbar\": {\"outlinewidth\": 0, \"ticks\": \"\"}, \"colorscale\": [[0.0, \"#0d0887\"], [0.1111111111111111, \"#46039f\"], [0.2222222222222222, \"#7201a8\"], [0.3333333333333333, \"#9c179e\"], [0.4444444444444444, \"#bd3786\"], [0.5555555555555556, \"#d8576b\"], [0.6666666666666666, \"#ed7953\"], [0.7777777777777778, \"#fb9f3a\"], [0.8888888888888888, \"#fdca26\"], [1.0, \"#f0f921\"]], \"type\": \"histogram2d\"}], \"histogram2dcontour\": [{\"colorbar\": {\"outlinewidth\": 0, \"ticks\": \"\"}, \"colorscale\": [[0.0, \"#0d0887\"], [0.1111111111111111, \"#46039f\"], [0.2222222222222222, \"#7201a8\"], [0.3333333333333333, \"#9c179e\"], [0.4444444444444444, \"#bd3786\"], [0.5555555555555556, \"#d8576b\"], [0.6666666666666666, \"#ed7953\"], [0.7777777777777778, \"#fb9f3a\"], [0.8888888888888888, \"#fdca26\"], [1.0, \"#f0f921\"]], \"type\": \"histogram2dcontour\"}], \"mesh3d\": [{\"colorbar\": {\"outlinewidth\": 0, \"ticks\": \"\"}, \"type\": \"mesh3d\"}], \"parcoords\": [{\"line\": {\"colorbar\": {\"outlinewidth\": 0, \"ticks\": \"\"}}, \"type\": \"parcoords\"}], \"pie\": [{\"automargin\": true, \"type\": \"pie\"}], \"scatter\": [{\"marker\": {\"colorbar\": {\"outlinewidth\": 0, \"ticks\": \"\"}}, \"type\": \"scatter\"}], \"scatter3d\": [{\"line\": {\"colorbar\": {\"outlinewidth\": 0, \"ticks\": \"\"}}, \"marker\": {\"colorbar\": {\"outlinewidth\": 0, \"ticks\": \"\"}}, \"type\": \"scatter3d\"}], \"scattercarpet\": [{\"marker\": {\"colorbar\": {\"outlinewidth\": 0, \"ticks\": \"\"}}, \"type\": \"scattercarpet\"}], \"scattergeo\": [{\"marker\": {\"colorbar\": {\"outlinewidth\": 0, \"ticks\": \"\"}}, \"type\": \"scattergeo\"}], \"scattergl\": [{\"marker\": {\"colorbar\": {\"outlinewidth\": 0, \"ticks\": \"\"}}, \"type\": \"scattergl\"}], \"scattermapbox\": [{\"marker\": {\"colorbar\": {\"outlinewidth\": 0, \"ticks\": \"\"}}, \"type\": \"scattermapbox\"}], \"scatterpolar\": [{\"marker\": {\"colorbar\": {\"outlinewidth\": 0, \"ticks\": \"\"}}, \"type\": \"scatterpolar\"}], \"scatterpolargl\": [{\"marker\": {\"colorbar\": {\"outlinewidth\": 0, \"ticks\": \"\"}}, \"type\": \"scatterpolargl\"}], \"scatterternary\": [{\"marker\": {\"colorbar\": {\"outlinewidth\": 0, \"ticks\": \"\"}}, \"type\": \"scatterternary\"}], \"surface\": [{\"colorbar\": {\"outlinewidth\": 0, \"ticks\": \"\"}, \"colorscale\": [[0.0, \"#0d0887\"], [0.1111111111111111, \"#46039f\"], [0.2222222222222222, \"#7201a8\"], [0.3333333333333333, \"#9c179e\"], [0.4444444444444444, \"#bd3786\"], [0.5555555555555556, \"#d8576b\"], [0.6666666666666666, \"#ed7953\"], [0.7777777777777778, \"#fb9f3a\"], [0.8888888888888888, \"#fdca26\"], [1.0, \"#f0f921\"]], \"type\": \"surface\"}], \"table\": [{\"cells\": {\"fill\": {\"color\": \"#EBF0F8\"}, \"line\": {\"color\": \"white\"}}, \"header\": {\"fill\": {\"color\": \"#C8D4E3\"}, \"line\": {\"color\": \"white\"}}, \"type\": \"table\"}]}, \"layout\": {\"annotationdefaults\": {\"arrowcolor\": \"#2a3f5f\", \"arrowhead\": 0, \"arrowwidth\": 1}, \"coloraxis\": {\"colorbar\": {\"outlinewidth\": 0, \"ticks\": \"\"}}, \"colorscale\": {\"diverging\": [[0, \"#8e0152\"], [0.1, \"#c51b7d\"], [0.2, \"#de77ae\"], [0.3, \"#f1b6da\"], [0.4, \"#fde0ef\"], [0.5, \"#f7f7f7\"], [0.6, \"#e6f5d0\"], [0.7, \"#b8e186\"], [0.8, \"#7fbc41\"], [0.9, \"#4d9221\"], [1, \"#276419\"]], \"sequential\": [[0.0, \"#0d0887\"], [0.1111111111111111, \"#46039f\"], [0.2222222222222222, \"#7201a8\"], [0.3333333333333333, \"#9c179e\"], [0.4444444444444444, \"#bd3786\"], [0.5555555555555556, \"#d8576b\"], [0.6666666666666666, \"#ed7953\"], [0.7777777777777778, \"#fb9f3a\"], [0.8888888888888888, \"#fdca26\"], [1.0, \"#f0f921\"]], \"sequentialminus\": [[0.0, \"#0d0887\"], [0.1111111111111111, \"#46039f\"], [0.2222222222222222, \"#7201a8\"], [0.3333333333333333, \"#9c179e\"], [0.4444444444444444, \"#bd3786\"], [0.5555555555555556, \"#d8576b\"], [0.6666666666666666, \"#ed7953\"], [0.7777777777777778, \"#fb9f3a\"], [0.8888888888888888, \"#fdca26\"], [1.0, \"#f0f921\"]]}, \"colorway\": [\"#636efa\", \"#EF553B\", \"#00cc96\", \"#ab63fa\", \"#FFA15A\", \"#19d3f3\", \"#FF6692\", \"#B6E880\", \"#FF97FF\", \"#FECB52\"], \"font\": {\"color\": \"#2a3f5f\"}, \"geo\": {\"bgcolor\": \"white\", \"lakecolor\": \"white\", \"landcolor\": \"#E5ECF6\", \"showlakes\": true, \"showland\": true, \"subunitcolor\": \"white\"}, \"hoverlabel\": {\"align\": \"left\"}, \"hovermode\": \"closest\", \"mapbox\": {\"style\": \"light\"}, \"paper_bgcolor\": \"white\", \"plot_bgcolor\": \"#E5ECF6\", \"polar\": {\"angularaxis\": {\"gridcolor\": \"white\", \"linecolor\": \"white\", \"ticks\": \"\"}, \"bgcolor\": \"#E5ECF6\", \"radialaxis\": {\"gridcolor\": \"white\", \"linecolor\": \"white\", \"ticks\": \"\"}}, \"scene\": {\"xaxis\": {\"backgroundcolor\": \"#E5ECF6\", \"gridcolor\": \"white\", \"gridwidth\": 2, \"linecolor\": \"white\", \"showbackground\": true, \"ticks\": \"\", \"zerolinecolor\": \"white\"}, \"yaxis\": {\"backgroundcolor\": \"#E5ECF6\", \"gridcolor\": \"white\", \"gridwidth\": 2, \"linecolor\": \"white\", \"showbackground\": true, \"ticks\": \"\", \"zerolinecolor\": \"white\"}, \"zaxis\": {\"backgroundcolor\": \"#E5ECF6\", \"gridcolor\": \"white\", \"gridwidth\": 2, \"linecolor\": \"white\", \"showbackground\": true, \"ticks\": \"\", \"zerolinecolor\": \"white\"}}, \"shapedefaults\": {\"line\": {\"color\": \"#2a3f5f\"}}, \"ternary\": {\"aaxis\": {\"gridcolor\": \"white\", \"linecolor\": \"white\", \"ticks\": \"\"}, \"baxis\": {\"gridcolor\": \"white\", \"linecolor\": \"white\", \"ticks\": \"\"}, \"bgcolor\": \"#E5ECF6\", \"caxis\": {\"gridcolor\": \"white\", \"linecolor\": \"white\", \"ticks\": \"\"}}, \"title\": {\"x\": 0.05}, \"xaxis\": {\"automargin\": true, \"gridcolor\": \"white\", \"linecolor\": \"white\", \"ticks\": \"\", \"title\": {\"standoff\": 15}, \"zerolinecolor\": \"white\", \"zerolinewidth\": 2}, \"yaxis\": {\"automargin\": true, \"gridcolor\": \"white\", \"linecolor\": \"white\", \"ticks\": \"\", \"title\": {\"standoff\": 15}, \"zerolinecolor\": \"white\", \"zerolinewidth\": 2}}}, \"title\": {\"text\": \"Evolution of symptoms in Ile-de-France\"}},\n",
       "                        {\"responsive\": true}\n",
       "                    ).then(function(){\n",
       "                            \n",
       "var gd = document.getElementById('cc9396dd-f08d-4241-ad96-440e92d1645e');\n",
       "var x = new MutationObserver(function (mutations, observer) {{\n",
       "        var display = window.getComputedStyle(gd).display;\n",
       "        if (!display || display === 'none') {{\n",
       "            console.log([gd, 'removed!']);\n",
       "            Plotly.purge(gd);\n",
       "            observer.disconnect();\n",
       "        }}\n",
       "}});\n",
       "\n",
       "// Listen for the removal of the full notebook cells\n",
       "var notebookContainer = gd.closest('#notebook-container');\n",
       "if (notebookContainer) {{\n",
       "    x.observe(notebookContainer, {childList: true});\n",
       "}}\n",
       "\n",
       "// Listen for the clearing of the current output cell\n",
       "var outputEl = gd.closest('.output');\n",
       "if (outputEl) {{\n",
       "    x.observe(outputEl, {childList: true});\n",
       "}}\n",
       "\n",
       "                        })\n",
       "                };\n",
       "                });\n",
       "            </script>\n",
       "        </div>"
      ]
     },
     "metadata": {},
     "output_type": "display_data"
    }
   ],
   "source": [
    "def plot_covid_evolution() :\n",
    "    traces=[]\n",
    "    df = tweets[['day','covid','has_symptom', 'confinement']].groupby('day').agg('sum')\n",
    "    for value in ['covid','has_symptom','confinement']:\n",
    "        traces.append(go.Scatter(x = df.index, \n",
    "                                 y = df[value].values,\n",
    "                                mode = 'lines',\n",
    "                                name = value))\n",
    "    layout = go.Layout(title=\"Evolution of symptoms in Ile-de-France\")\n",
    "    fig = go.Figure(traces, layout)\n",
    "    py.iplot(fig)\n",
    "plot_covid_evolution()"
   ]
  },
  {
   "cell_type": "code",
   "execution_count": 80,
   "metadata": {
    "ExecuteTime": {
     "end_time": "2020-04-09T11:24:10.243275Z",
     "start_time": "2020-04-09T11:24:09.839351Z"
    }
   },
   "outputs": [
    {
     "data": {
      "application/vnd.plotly.v1+json": {
       "config": {
        "linkText": "Export to plot.ly",
        "plotlyServerURL": "https://plot.ly",
        "showLink": false
       },
       "data": [
        {
         "mode": "lines",
         "name": "toux",
         "type": "scatter",
         "x": [
          "2019-12-01T00:00:00+00:00",
          "2019-12-02T00:00:00+00:00",
          "2019-12-03T00:00:00+00:00",
          "2019-12-04T00:00:00+00:00",
          "2019-12-05T00:00:00+00:00",
          "2019-12-06T00:00:00+00:00",
          "2019-12-07T00:00:00+00:00",
          "2019-12-08T00:00:00+00:00",
          "2019-12-09T00:00:00+00:00",
          "2019-12-10T00:00:00+00:00",
          "2019-12-11T00:00:00+00:00",
          "2019-12-12T00:00:00+00:00",
          "2019-12-13T00:00:00+00:00",
          "2019-12-14T00:00:00+00:00",
          "2019-12-15T00:00:00+00:00",
          "2019-12-16T00:00:00+00:00",
          "2019-12-17T00:00:00+00:00",
          "2019-12-18T00:00:00+00:00",
          "2019-12-19T00:00:00+00:00",
          "2019-12-20T00:00:00+00:00",
          "2019-12-21T00:00:00+00:00",
          "2019-12-22T00:00:00+00:00",
          "2019-12-23T00:00:00+00:00",
          "2019-12-24T00:00:00+00:00",
          "2019-12-25T00:00:00+00:00",
          "2019-12-26T00:00:00+00:00",
          "2019-12-27T00:00:00+00:00",
          "2019-12-28T00:00:00+00:00",
          "2019-12-29T00:00:00+00:00",
          "2019-12-30T00:00:00+00:00",
          "2019-12-31T00:00:00+00:00",
          "2020-01-01T00:00:00+00:00",
          "2020-01-02T00:00:00+00:00",
          "2020-01-03T00:00:00+00:00",
          "2020-01-04T00:00:00+00:00",
          "2020-01-05T00:00:00+00:00",
          "2020-01-06T00:00:00+00:00",
          "2020-01-07T00:00:00+00:00",
          "2020-01-08T00:00:00+00:00",
          "2020-01-09T00:00:00+00:00",
          "2020-01-10T00:00:00+00:00",
          "2020-01-11T00:00:00+00:00",
          "2020-01-12T00:00:00+00:00",
          "2020-01-13T00:00:00+00:00",
          "2020-01-14T00:00:00+00:00",
          "2020-01-15T00:00:00+00:00",
          "2020-01-16T00:00:00+00:00",
          "2020-01-17T00:00:00+00:00",
          "2020-01-18T00:00:00+00:00",
          "2020-01-19T00:00:00+00:00",
          "2020-01-20T00:00:00+00:00",
          "2020-01-21T00:00:00+00:00",
          "2020-01-22T00:00:00+00:00",
          "2020-01-23T00:00:00+00:00",
          "2020-01-24T00:00:00+00:00",
          "2020-01-25T00:00:00+00:00",
          "2020-01-26T00:00:00+00:00",
          "2020-01-27T00:00:00+00:00",
          "2020-01-28T00:00:00+00:00",
          "2020-01-29T00:00:00+00:00",
          "2020-01-30T00:00:00+00:00",
          "2020-01-31T00:00:00+00:00",
          "2020-02-01T00:00:00+00:00",
          "2020-02-02T00:00:00+00:00",
          "2020-02-03T00:00:00+00:00",
          "2020-02-04T00:00:00+00:00",
          "2020-02-05T00:00:00+00:00",
          "2020-02-06T00:00:00+00:00",
          "2020-02-07T00:00:00+00:00",
          "2020-02-08T00:00:00+00:00",
          "2020-02-09T00:00:00+00:00",
          "2020-02-10T00:00:00+00:00",
          "2020-02-11T00:00:00+00:00",
          "2020-02-12T00:00:00+00:00",
          "2020-02-13T00:00:00+00:00",
          "2020-02-14T00:00:00+00:00",
          "2020-02-15T00:00:00+00:00",
          "2020-02-16T00:00:00+00:00",
          "2020-02-17T00:00:00+00:00",
          "2020-02-18T00:00:00+00:00",
          "2020-02-19T00:00:00+00:00",
          "2020-02-20T00:00:00+00:00",
          "2020-02-21T00:00:00+00:00",
          "2020-02-22T00:00:00+00:00",
          "2020-02-23T00:00:00+00:00",
          "2020-02-24T00:00:00+00:00",
          "2020-02-25T00:00:00+00:00",
          "2020-02-26T00:00:00+00:00",
          "2020-02-27T00:00:00+00:00",
          "2020-02-28T00:00:00+00:00",
          "2020-02-29T00:00:00+00:00",
          "2020-03-01T00:00:00+00:00",
          "2020-03-02T00:00:00+00:00",
          "2020-03-03T00:00:00+00:00",
          "2020-03-04T00:00:00+00:00",
          "2020-03-05T00:00:00+00:00",
          "2020-03-06T00:00:00+00:00",
          "2020-03-07T00:00:00+00:00",
          "2020-03-08T00:00:00+00:00",
          "2020-03-09T00:00:00+00:00",
          "2020-03-10T00:00:00+00:00",
          "2020-03-11T00:00:00+00:00",
          "2020-03-12T00:00:00+00:00",
          "2020-03-13T00:00:00+00:00",
          "2020-03-14T00:00:00+00:00",
          "2020-03-15T00:00:00+00:00",
          "2020-03-16T00:00:00+00:00",
          "2020-03-17T00:00:00+00:00",
          "2020-03-18T00:00:00+00:00",
          "2020-03-19T00:00:00+00:00",
          "2020-03-20T00:00:00+00:00",
          "2020-03-21T00:00:00+00:00",
          "2020-03-22T00:00:00+00:00",
          "2020-03-23T00:00:00+00:00",
          "2020-03-24T00:00:00+00:00",
          "2020-03-25T00:00:00+00:00",
          "2020-03-26T00:00:00+00:00",
          "2020-03-27T00:00:00+00:00",
          "2020-03-28T00:00:00+00:00",
          "2020-03-29T00:00:00+00:00",
          "2020-03-30T00:00:00+00:00",
          "2020-03-31T00:00:00+00:00",
          "2020-04-01T00:00:00+00:00",
          "2020-04-02T00:00:00+00:00",
          "2020-04-03T00:00:00+00:00",
          "2020-04-04T00:00:00+00:00",
          "2020-04-05T00:00:00+00:00",
          "2020-04-06T00:00:00+00:00"
         ],
         "y": [
          2,
          0,
          1,
          0,
          0,
          0,
          2,
          0,
          1,
          2,
          1,
          0,
          0,
          0,
          1,
          0,
          0,
          0,
          0,
          0,
          0,
          1,
          0,
          1,
          0,
          0,
          0,
          0,
          0,
          4,
          0,
          0,
          1,
          0,
          0,
          0,
          0,
          1,
          2,
          1,
          0,
          1,
          0,
          0,
          0,
          0,
          2,
          0,
          2,
          0,
          0,
          4,
          2,
          9,
          9,
          6,
          2,
          1,
          2,
          0,
          1,
          0,
          0,
          1,
          0,
          1,
          2,
          1,
          1,
          1,
          1,
          0,
          2,
          3,
          0,
          1,
          3,
          0,
          0,
          0,
          3,
          1,
          0,
          0,
          0,
          0,
          3,
          2,
          3,
          0,
          5,
          9,
          6,
          5,
          6,
          2,
          5,
          10,
          6,
          5,
          12,
          7,
          19,
          17,
          29,
          20,
          13,
          25,
          17,
          15,
          8,
          7,
          4,
          8,
          12,
          4,
          4,
          26,
          5,
          3,
          13,
          12,
          6,
          5,
          6,
          5,
          4,
          5
         ]
        },
        {
         "mode": "lines",
         "name": "maux de gorge",
         "type": "scatter",
         "x": [
          "2019-12-01T00:00:00+00:00",
          "2019-12-02T00:00:00+00:00",
          "2019-12-03T00:00:00+00:00",
          "2019-12-04T00:00:00+00:00",
          "2019-12-05T00:00:00+00:00",
          "2019-12-06T00:00:00+00:00",
          "2019-12-07T00:00:00+00:00",
          "2019-12-08T00:00:00+00:00",
          "2019-12-09T00:00:00+00:00",
          "2019-12-10T00:00:00+00:00",
          "2019-12-11T00:00:00+00:00",
          "2019-12-12T00:00:00+00:00",
          "2019-12-13T00:00:00+00:00",
          "2019-12-14T00:00:00+00:00",
          "2019-12-15T00:00:00+00:00",
          "2019-12-16T00:00:00+00:00",
          "2019-12-17T00:00:00+00:00",
          "2019-12-18T00:00:00+00:00",
          "2019-12-19T00:00:00+00:00",
          "2019-12-20T00:00:00+00:00",
          "2019-12-21T00:00:00+00:00",
          "2019-12-22T00:00:00+00:00",
          "2019-12-23T00:00:00+00:00",
          "2019-12-24T00:00:00+00:00",
          "2019-12-25T00:00:00+00:00",
          "2019-12-26T00:00:00+00:00",
          "2019-12-27T00:00:00+00:00",
          "2019-12-28T00:00:00+00:00",
          "2019-12-29T00:00:00+00:00",
          "2019-12-30T00:00:00+00:00",
          "2019-12-31T00:00:00+00:00",
          "2020-01-01T00:00:00+00:00",
          "2020-01-02T00:00:00+00:00",
          "2020-01-03T00:00:00+00:00",
          "2020-01-04T00:00:00+00:00",
          "2020-01-05T00:00:00+00:00",
          "2020-01-06T00:00:00+00:00",
          "2020-01-07T00:00:00+00:00",
          "2020-01-08T00:00:00+00:00",
          "2020-01-09T00:00:00+00:00",
          "2020-01-10T00:00:00+00:00",
          "2020-01-11T00:00:00+00:00",
          "2020-01-12T00:00:00+00:00",
          "2020-01-13T00:00:00+00:00",
          "2020-01-14T00:00:00+00:00",
          "2020-01-15T00:00:00+00:00",
          "2020-01-16T00:00:00+00:00",
          "2020-01-17T00:00:00+00:00",
          "2020-01-18T00:00:00+00:00",
          "2020-01-19T00:00:00+00:00",
          "2020-01-20T00:00:00+00:00",
          "2020-01-21T00:00:00+00:00",
          "2020-01-22T00:00:00+00:00",
          "2020-01-23T00:00:00+00:00",
          "2020-01-24T00:00:00+00:00",
          "2020-01-25T00:00:00+00:00",
          "2020-01-26T00:00:00+00:00",
          "2020-01-27T00:00:00+00:00",
          "2020-01-28T00:00:00+00:00",
          "2020-01-29T00:00:00+00:00",
          "2020-01-30T00:00:00+00:00",
          "2020-01-31T00:00:00+00:00",
          "2020-02-01T00:00:00+00:00",
          "2020-02-02T00:00:00+00:00",
          "2020-02-03T00:00:00+00:00",
          "2020-02-04T00:00:00+00:00",
          "2020-02-05T00:00:00+00:00",
          "2020-02-06T00:00:00+00:00",
          "2020-02-07T00:00:00+00:00",
          "2020-02-08T00:00:00+00:00",
          "2020-02-09T00:00:00+00:00",
          "2020-02-10T00:00:00+00:00",
          "2020-02-11T00:00:00+00:00",
          "2020-02-12T00:00:00+00:00",
          "2020-02-13T00:00:00+00:00",
          "2020-02-14T00:00:00+00:00",
          "2020-02-15T00:00:00+00:00",
          "2020-02-16T00:00:00+00:00",
          "2020-02-17T00:00:00+00:00",
          "2020-02-18T00:00:00+00:00",
          "2020-02-19T00:00:00+00:00",
          "2020-02-20T00:00:00+00:00",
          "2020-02-21T00:00:00+00:00",
          "2020-02-22T00:00:00+00:00",
          "2020-02-23T00:00:00+00:00",
          "2020-02-24T00:00:00+00:00",
          "2020-02-25T00:00:00+00:00",
          "2020-02-26T00:00:00+00:00",
          "2020-02-27T00:00:00+00:00",
          "2020-02-28T00:00:00+00:00",
          "2020-02-29T00:00:00+00:00",
          "2020-03-01T00:00:00+00:00",
          "2020-03-02T00:00:00+00:00",
          "2020-03-03T00:00:00+00:00",
          "2020-03-04T00:00:00+00:00",
          "2020-03-05T00:00:00+00:00",
          "2020-03-06T00:00:00+00:00",
          "2020-03-07T00:00:00+00:00",
          "2020-03-08T00:00:00+00:00",
          "2020-03-09T00:00:00+00:00",
          "2020-03-10T00:00:00+00:00",
          "2020-03-11T00:00:00+00:00",
          "2020-03-12T00:00:00+00:00",
          "2020-03-13T00:00:00+00:00",
          "2020-03-14T00:00:00+00:00",
          "2020-03-15T00:00:00+00:00",
          "2020-03-16T00:00:00+00:00",
          "2020-03-17T00:00:00+00:00",
          "2020-03-18T00:00:00+00:00",
          "2020-03-19T00:00:00+00:00",
          "2020-03-20T00:00:00+00:00",
          "2020-03-21T00:00:00+00:00",
          "2020-03-22T00:00:00+00:00",
          "2020-03-23T00:00:00+00:00",
          "2020-03-24T00:00:00+00:00",
          "2020-03-25T00:00:00+00:00",
          "2020-03-26T00:00:00+00:00",
          "2020-03-27T00:00:00+00:00",
          "2020-03-28T00:00:00+00:00",
          "2020-03-29T00:00:00+00:00",
          "2020-03-30T00:00:00+00:00",
          "2020-03-31T00:00:00+00:00",
          "2020-04-01T00:00:00+00:00",
          "2020-04-02T00:00:00+00:00",
          "2020-04-03T00:00:00+00:00",
          "2020-04-04T00:00:00+00:00",
          "2020-04-05T00:00:00+00:00",
          "2020-04-06T00:00:00+00:00"
         ],
         "y": [
          0,
          1,
          0,
          0,
          0,
          0,
          0,
          0,
          0,
          0,
          0,
          0,
          0,
          0,
          1,
          0,
          0,
          0,
          0,
          0,
          0,
          0,
          0,
          0,
          0,
          0,
          0,
          0,
          0,
          0,
          0,
          0,
          0,
          0,
          1,
          0,
          0,
          0,
          0,
          0,
          0,
          0,
          0,
          0,
          0,
          0,
          0,
          0,
          0,
          0,
          0,
          1,
          0,
          0,
          0,
          0,
          0,
          0,
          0,
          0,
          0,
          0,
          0,
          1,
          0,
          0,
          0,
          0,
          0,
          0,
          0,
          0,
          0,
          0,
          0,
          0,
          0,
          0,
          0,
          0,
          0,
          0,
          0,
          0,
          0,
          0,
          0,
          0,
          0,
          1,
          1,
          0,
          0,
          0,
          0,
          0,
          0,
          0,
          0,
          4,
          1,
          1,
          1,
          1,
          0,
          0,
          1,
          0,
          1,
          1,
          0,
          3,
          2,
          2,
          1,
          0,
          0,
          0,
          0,
          0,
          0,
          1,
          0,
          0,
          1,
          0,
          0,
          1
         ]
        },
        {
         "mode": "lines",
         "name": "fièvre",
         "type": "scatter",
         "x": [
          "2019-12-01T00:00:00+00:00",
          "2019-12-02T00:00:00+00:00",
          "2019-12-03T00:00:00+00:00",
          "2019-12-04T00:00:00+00:00",
          "2019-12-05T00:00:00+00:00",
          "2019-12-06T00:00:00+00:00",
          "2019-12-07T00:00:00+00:00",
          "2019-12-08T00:00:00+00:00",
          "2019-12-09T00:00:00+00:00",
          "2019-12-10T00:00:00+00:00",
          "2019-12-11T00:00:00+00:00",
          "2019-12-12T00:00:00+00:00",
          "2019-12-13T00:00:00+00:00",
          "2019-12-14T00:00:00+00:00",
          "2019-12-15T00:00:00+00:00",
          "2019-12-16T00:00:00+00:00",
          "2019-12-17T00:00:00+00:00",
          "2019-12-18T00:00:00+00:00",
          "2019-12-19T00:00:00+00:00",
          "2019-12-20T00:00:00+00:00",
          "2019-12-21T00:00:00+00:00",
          "2019-12-22T00:00:00+00:00",
          "2019-12-23T00:00:00+00:00",
          "2019-12-24T00:00:00+00:00",
          "2019-12-25T00:00:00+00:00",
          "2019-12-26T00:00:00+00:00",
          "2019-12-27T00:00:00+00:00",
          "2019-12-28T00:00:00+00:00",
          "2019-12-29T00:00:00+00:00",
          "2019-12-30T00:00:00+00:00",
          "2019-12-31T00:00:00+00:00",
          "2020-01-01T00:00:00+00:00",
          "2020-01-02T00:00:00+00:00",
          "2020-01-03T00:00:00+00:00",
          "2020-01-04T00:00:00+00:00",
          "2020-01-05T00:00:00+00:00",
          "2020-01-06T00:00:00+00:00",
          "2020-01-07T00:00:00+00:00",
          "2020-01-08T00:00:00+00:00",
          "2020-01-09T00:00:00+00:00",
          "2020-01-10T00:00:00+00:00",
          "2020-01-11T00:00:00+00:00",
          "2020-01-12T00:00:00+00:00",
          "2020-01-13T00:00:00+00:00",
          "2020-01-14T00:00:00+00:00",
          "2020-01-15T00:00:00+00:00",
          "2020-01-16T00:00:00+00:00",
          "2020-01-17T00:00:00+00:00",
          "2020-01-18T00:00:00+00:00",
          "2020-01-19T00:00:00+00:00",
          "2020-01-20T00:00:00+00:00",
          "2020-01-21T00:00:00+00:00",
          "2020-01-22T00:00:00+00:00",
          "2020-01-23T00:00:00+00:00",
          "2020-01-24T00:00:00+00:00",
          "2020-01-25T00:00:00+00:00",
          "2020-01-26T00:00:00+00:00",
          "2020-01-27T00:00:00+00:00",
          "2020-01-28T00:00:00+00:00",
          "2020-01-29T00:00:00+00:00",
          "2020-01-30T00:00:00+00:00",
          "2020-01-31T00:00:00+00:00",
          "2020-02-01T00:00:00+00:00",
          "2020-02-02T00:00:00+00:00",
          "2020-02-03T00:00:00+00:00",
          "2020-02-04T00:00:00+00:00",
          "2020-02-05T00:00:00+00:00",
          "2020-02-06T00:00:00+00:00",
          "2020-02-07T00:00:00+00:00",
          "2020-02-08T00:00:00+00:00",
          "2020-02-09T00:00:00+00:00",
          "2020-02-10T00:00:00+00:00",
          "2020-02-11T00:00:00+00:00",
          "2020-02-12T00:00:00+00:00",
          "2020-02-13T00:00:00+00:00",
          "2020-02-14T00:00:00+00:00",
          "2020-02-15T00:00:00+00:00",
          "2020-02-16T00:00:00+00:00",
          "2020-02-17T00:00:00+00:00",
          "2020-02-18T00:00:00+00:00",
          "2020-02-19T00:00:00+00:00",
          "2020-02-20T00:00:00+00:00",
          "2020-02-21T00:00:00+00:00",
          "2020-02-22T00:00:00+00:00",
          "2020-02-23T00:00:00+00:00",
          "2020-02-24T00:00:00+00:00",
          "2020-02-25T00:00:00+00:00",
          "2020-02-26T00:00:00+00:00",
          "2020-02-27T00:00:00+00:00",
          "2020-02-28T00:00:00+00:00",
          "2020-02-29T00:00:00+00:00",
          "2020-03-01T00:00:00+00:00",
          "2020-03-02T00:00:00+00:00",
          "2020-03-03T00:00:00+00:00",
          "2020-03-04T00:00:00+00:00",
          "2020-03-05T00:00:00+00:00",
          "2020-03-06T00:00:00+00:00",
          "2020-03-07T00:00:00+00:00",
          "2020-03-08T00:00:00+00:00",
          "2020-03-09T00:00:00+00:00",
          "2020-03-10T00:00:00+00:00",
          "2020-03-11T00:00:00+00:00",
          "2020-03-12T00:00:00+00:00",
          "2020-03-13T00:00:00+00:00",
          "2020-03-14T00:00:00+00:00",
          "2020-03-15T00:00:00+00:00",
          "2020-03-16T00:00:00+00:00",
          "2020-03-17T00:00:00+00:00",
          "2020-03-18T00:00:00+00:00",
          "2020-03-19T00:00:00+00:00",
          "2020-03-20T00:00:00+00:00",
          "2020-03-21T00:00:00+00:00",
          "2020-03-22T00:00:00+00:00",
          "2020-03-23T00:00:00+00:00",
          "2020-03-24T00:00:00+00:00",
          "2020-03-25T00:00:00+00:00",
          "2020-03-26T00:00:00+00:00",
          "2020-03-27T00:00:00+00:00",
          "2020-03-28T00:00:00+00:00",
          "2020-03-29T00:00:00+00:00",
          "2020-03-30T00:00:00+00:00",
          "2020-03-31T00:00:00+00:00",
          "2020-04-01T00:00:00+00:00",
          "2020-04-02T00:00:00+00:00",
          "2020-04-03T00:00:00+00:00",
          "2020-04-04T00:00:00+00:00",
          "2020-04-05T00:00:00+00:00",
          "2020-04-06T00:00:00+00:00"
         ],
         "y": [
          0,
          1,
          0,
          0,
          0,
          1,
          0,
          0,
          1,
          1,
          0,
          0,
          0,
          0,
          0,
          0,
          0,
          0,
          0,
          0,
          0,
          1,
          0,
          0,
          0,
          0,
          0,
          0,
          0,
          0,
          1,
          0,
          0,
          0,
          0,
          0,
          0,
          0,
          0,
          0,
          0,
          0,
          0,
          0,
          0,
          0,
          0,
          0,
          0,
          0,
          0,
          2,
          0,
          1,
          7,
          3,
          1,
          1,
          1,
          0,
          0,
          0,
          0,
          0,
          0,
          1,
          2,
          0,
          0,
          2,
          0,
          0,
          0,
          2,
          0,
          2,
          0,
          0,
          1,
          0,
          0,
          0,
          1,
          0,
          0,
          0,
          1,
          0,
          0,
          1,
          1,
          1,
          1,
          1,
          3,
          0,
          2,
          0,
          0,
          2,
          8,
          2,
          7,
          4,
          18,
          6,
          13,
          12,
          9,
          3,
          2,
          3,
          4,
          4,
          2,
          4,
          2,
          5,
          0,
          10,
          1,
          5,
          4,
          0,
          4,
          0,
          5,
          1
         ]
        },
        {
         "mode": "lines",
         "name": "perte goût et odorat",
         "type": "scatter",
         "x": [
          "2019-12-01T00:00:00+00:00",
          "2019-12-02T00:00:00+00:00",
          "2019-12-03T00:00:00+00:00",
          "2019-12-04T00:00:00+00:00",
          "2019-12-05T00:00:00+00:00",
          "2019-12-06T00:00:00+00:00",
          "2019-12-07T00:00:00+00:00",
          "2019-12-08T00:00:00+00:00",
          "2019-12-09T00:00:00+00:00",
          "2019-12-10T00:00:00+00:00",
          "2019-12-11T00:00:00+00:00",
          "2019-12-12T00:00:00+00:00",
          "2019-12-13T00:00:00+00:00",
          "2019-12-14T00:00:00+00:00",
          "2019-12-15T00:00:00+00:00",
          "2019-12-16T00:00:00+00:00",
          "2019-12-17T00:00:00+00:00",
          "2019-12-18T00:00:00+00:00",
          "2019-12-19T00:00:00+00:00",
          "2019-12-20T00:00:00+00:00",
          "2019-12-21T00:00:00+00:00",
          "2019-12-22T00:00:00+00:00",
          "2019-12-23T00:00:00+00:00",
          "2019-12-24T00:00:00+00:00",
          "2019-12-25T00:00:00+00:00",
          "2019-12-26T00:00:00+00:00",
          "2019-12-27T00:00:00+00:00",
          "2019-12-28T00:00:00+00:00",
          "2019-12-29T00:00:00+00:00",
          "2019-12-30T00:00:00+00:00",
          "2019-12-31T00:00:00+00:00",
          "2020-01-01T00:00:00+00:00",
          "2020-01-02T00:00:00+00:00",
          "2020-01-03T00:00:00+00:00",
          "2020-01-04T00:00:00+00:00",
          "2020-01-05T00:00:00+00:00",
          "2020-01-06T00:00:00+00:00",
          "2020-01-07T00:00:00+00:00",
          "2020-01-08T00:00:00+00:00",
          "2020-01-09T00:00:00+00:00",
          "2020-01-10T00:00:00+00:00",
          "2020-01-11T00:00:00+00:00",
          "2020-01-12T00:00:00+00:00",
          "2020-01-13T00:00:00+00:00",
          "2020-01-14T00:00:00+00:00",
          "2020-01-15T00:00:00+00:00",
          "2020-01-16T00:00:00+00:00",
          "2020-01-17T00:00:00+00:00",
          "2020-01-18T00:00:00+00:00",
          "2020-01-19T00:00:00+00:00",
          "2020-01-20T00:00:00+00:00",
          "2020-01-21T00:00:00+00:00",
          "2020-01-22T00:00:00+00:00",
          "2020-01-23T00:00:00+00:00",
          "2020-01-24T00:00:00+00:00",
          "2020-01-25T00:00:00+00:00",
          "2020-01-26T00:00:00+00:00",
          "2020-01-27T00:00:00+00:00",
          "2020-01-28T00:00:00+00:00",
          "2020-01-29T00:00:00+00:00",
          "2020-01-30T00:00:00+00:00",
          "2020-01-31T00:00:00+00:00",
          "2020-02-01T00:00:00+00:00",
          "2020-02-02T00:00:00+00:00",
          "2020-02-03T00:00:00+00:00",
          "2020-02-04T00:00:00+00:00",
          "2020-02-05T00:00:00+00:00",
          "2020-02-06T00:00:00+00:00",
          "2020-02-07T00:00:00+00:00",
          "2020-02-08T00:00:00+00:00",
          "2020-02-09T00:00:00+00:00",
          "2020-02-10T00:00:00+00:00",
          "2020-02-11T00:00:00+00:00",
          "2020-02-12T00:00:00+00:00",
          "2020-02-13T00:00:00+00:00",
          "2020-02-14T00:00:00+00:00",
          "2020-02-15T00:00:00+00:00",
          "2020-02-16T00:00:00+00:00",
          "2020-02-17T00:00:00+00:00",
          "2020-02-18T00:00:00+00:00",
          "2020-02-19T00:00:00+00:00",
          "2020-02-20T00:00:00+00:00",
          "2020-02-21T00:00:00+00:00",
          "2020-02-22T00:00:00+00:00",
          "2020-02-23T00:00:00+00:00",
          "2020-02-24T00:00:00+00:00",
          "2020-02-25T00:00:00+00:00",
          "2020-02-26T00:00:00+00:00",
          "2020-02-27T00:00:00+00:00",
          "2020-02-28T00:00:00+00:00",
          "2020-02-29T00:00:00+00:00",
          "2020-03-01T00:00:00+00:00",
          "2020-03-02T00:00:00+00:00",
          "2020-03-03T00:00:00+00:00",
          "2020-03-04T00:00:00+00:00",
          "2020-03-05T00:00:00+00:00",
          "2020-03-06T00:00:00+00:00",
          "2020-03-07T00:00:00+00:00",
          "2020-03-08T00:00:00+00:00",
          "2020-03-09T00:00:00+00:00",
          "2020-03-10T00:00:00+00:00",
          "2020-03-11T00:00:00+00:00",
          "2020-03-12T00:00:00+00:00",
          "2020-03-13T00:00:00+00:00",
          "2020-03-14T00:00:00+00:00",
          "2020-03-15T00:00:00+00:00",
          "2020-03-16T00:00:00+00:00",
          "2020-03-17T00:00:00+00:00",
          "2020-03-18T00:00:00+00:00",
          "2020-03-19T00:00:00+00:00",
          "2020-03-20T00:00:00+00:00",
          "2020-03-21T00:00:00+00:00",
          "2020-03-22T00:00:00+00:00",
          "2020-03-23T00:00:00+00:00",
          "2020-03-24T00:00:00+00:00",
          "2020-03-25T00:00:00+00:00",
          "2020-03-26T00:00:00+00:00",
          "2020-03-27T00:00:00+00:00",
          "2020-03-28T00:00:00+00:00",
          "2020-03-29T00:00:00+00:00",
          "2020-03-30T00:00:00+00:00",
          "2020-03-31T00:00:00+00:00",
          "2020-04-01T00:00:00+00:00",
          "2020-04-02T00:00:00+00:00",
          "2020-04-03T00:00:00+00:00",
          "2020-04-04T00:00:00+00:00",
          "2020-04-05T00:00:00+00:00",
          "2020-04-06T00:00:00+00:00"
         ],
         "y": [
          0,
          0,
          0,
          0,
          0,
          0,
          0,
          0,
          0,
          0,
          0,
          0,
          0,
          0,
          0,
          0,
          0,
          0,
          0,
          0,
          0,
          0,
          0,
          0,
          0,
          0,
          0,
          0,
          0,
          0,
          0,
          0,
          0,
          0,
          0,
          0,
          0,
          0,
          0,
          0,
          0,
          0,
          0,
          0,
          0,
          0,
          0,
          0,
          0,
          0,
          0,
          0,
          0,
          0,
          0,
          0,
          0,
          0,
          0,
          0,
          0,
          0,
          0,
          0,
          0,
          0,
          0,
          0,
          0,
          0,
          0,
          0,
          0,
          0,
          0,
          0,
          0,
          0,
          0,
          0,
          0,
          0,
          0,
          0,
          0,
          0,
          0,
          0,
          0,
          0,
          0,
          0,
          0,
          0,
          0,
          0,
          0,
          0,
          0,
          0,
          0,
          0,
          0,
          0,
          0,
          0,
          0,
          0,
          0,
          3,
          1,
          0,
          0,
          0,
          0,
          0,
          1,
          0,
          6,
          1,
          0,
          0,
          0,
          0,
          0,
          0,
          1,
          0
         ]
        },
        {
         "mode": "lines",
         "name": "engelures",
         "type": "scatter",
         "x": [
          "2019-12-01T00:00:00+00:00",
          "2019-12-02T00:00:00+00:00",
          "2019-12-03T00:00:00+00:00",
          "2019-12-04T00:00:00+00:00",
          "2019-12-05T00:00:00+00:00",
          "2019-12-06T00:00:00+00:00",
          "2019-12-07T00:00:00+00:00",
          "2019-12-08T00:00:00+00:00",
          "2019-12-09T00:00:00+00:00",
          "2019-12-10T00:00:00+00:00",
          "2019-12-11T00:00:00+00:00",
          "2019-12-12T00:00:00+00:00",
          "2019-12-13T00:00:00+00:00",
          "2019-12-14T00:00:00+00:00",
          "2019-12-15T00:00:00+00:00",
          "2019-12-16T00:00:00+00:00",
          "2019-12-17T00:00:00+00:00",
          "2019-12-18T00:00:00+00:00",
          "2019-12-19T00:00:00+00:00",
          "2019-12-20T00:00:00+00:00",
          "2019-12-21T00:00:00+00:00",
          "2019-12-22T00:00:00+00:00",
          "2019-12-23T00:00:00+00:00",
          "2019-12-24T00:00:00+00:00",
          "2019-12-25T00:00:00+00:00",
          "2019-12-26T00:00:00+00:00",
          "2019-12-27T00:00:00+00:00",
          "2019-12-28T00:00:00+00:00",
          "2019-12-29T00:00:00+00:00",
          "2019-12-30T00:00:00+00:00",
          "2019-12-31T00:00:00+00:00",
          "2020-01-01T00:00:00+00:00",
          "2020-01-02T00:00:00+00:00",
          "2020-01-03T00:00:00+00:00",
          "2020-01-04T00:00:00+00:00",
          "2020-01-05T00:00:00+00:00",
          "2020-01-06T00:00:00+00:00",
          "2020-01-07T00:00:00+00:00",
          "2020-01-08T00:00:00+00:00",
          "2020-01-09T00:00:00+00:00",
          "2020-01-10T00:00:00+00:00",
          "2020-01-11T00:00:00+00:00",
          "2020-01-12T00:00:00+00:00",
          "2020-01-13T00:00:00+00:00",
          "2020-01-14T00:00:00+00:00",
          "2020-01-15T00:00:00+00:00",
          "2020-01-16T00:00:00+00:00",
          "2020-01-17T00:00:00+00:00",
          "2020-01-18T00:00:00+00:00",
          "2020-01-19T00:00:00+00:00",
          "2020-01-20T00:00:00+00:00",
          "2020-01-21T00:00:00+00:00",
          "2020-01-22T00:00:00+00:00",
          "2020-01-23T00:00:00+00:00",
          "2020-01-24T00:00:00+00:00",
          "2020-01-25T00:00:00+00:00",
          "2020-01-26T00:00:00+00:00",
          "2020-01-27T00:00:00+00:00",
          "2020-01-28T00:00:00+00:00",
          "2020-01-29T00:00:00+00:00",
          "2020-01-30T00:00:00+00:00",
          "2020-01-31T00:00:00+00:00",
          "2020-02-01T00:00:00+00:00",
          "2020-02-02T00:00:00+00:00",
          "2020-02-03T00:00:00+00:00",
          "2020-02-04T00:00:00+00:00",
          "2020-02-05T00:00:00+00:00",
          "2020-02-06T00:00:00+00:00",
          "2020-02-07T00:00:00+00:00",
          "2020-02-08T00:00:00+00:00",
          "2020-02-09T00:00:00+00:00",
          "2020-02-10T00:00:00+00:00",
          "2020-02-11T00:00:00+00:00",
          "2020-02-12T00:00:00+00:00",
          "2020-02-13T00:00:00+00:00",
          "2020-02-14T00:00:00+00:00",
          "2020-02-15T00:00:00+00:00",
          "2020-02-16T00:00:00+00:00",
          "2020-02-17T00:00:00+00:00",
          "2020-02-18T00:00:00+00:00",
          "2020-02-19T00:00:00+00:00",
          "2020-02-20T00:00:00+00:00",
          "2020-02-21T00:00:00+00:00",
          "2020-02-22T00:00:00+00:00",
          "2020-02-23T00:00:00+00:00",
          "2020-02-24T00:00:00+00:00",
          "2020-02-25T00:00:00+00:00",
          "2020-02-26T00:00:00+00:00",
          "2020-02-27T00:00:00+00:00",
          "2020-02-28T00:00:00+00:00",
          "2020-02-29T00:00:00+00:00",
          "2020-03-01T00:00:00+00:00",
          "2020-03-02T00:00:00+00:00",
          "2020-03-03T00:00:00+00:00",
          "2020-03-04T00:00:00+00:00",
          "2020-03-05T00:00:00+00:00",
          "2020-03-06T00:00:00+00:00",
          "2020-03-07T00:00:00+00:00",
          "2020-03-08T00:00:00+00:00",
          "2020-03-09T00:00:00+00:00",
          "2020-03-10T00:00:00+00:00",
          "2020-03-11T00:00:00+00:00",
          "2020-03-12T00:00:00+00:00",
          "2020-03-13T00:00:00+00:00",
          "2020-03-14T00:00:00+00:00",
          "2020-03-15T00:00:00+00:00",
          "2020-03-16T00:00:00+00:00",
          "2020-03-17T00:00:00+00:00",
          "2020-03-18T00:00:00+00:00",
          "2020-03-19T00:00:00+00:00",
          "2020-03-20T00:00:00+00:00",
          "2020-03-21T00:00:00+00:00",
          "2020-03-22T00:00:00+00:00",
          "2020-03-23T00:00:00+00:00",
          "2020-03-24T00:00:00+00:00",
          "2020-03-25T00:00:00+00:00",
          "2020-03-26T00:00:00+00:00",
          "2020-03-27T00:00:00+00:00",
          "2020-03-28T00:00:00+00:00",
          "2020-03-29T00:00:00+00:00",
          "2020-03-30T00:00:00+00:00",
          "2020-03-31T00:00:00+00:00",
          "2020-04-01T00:00:00+00:00",
          "2020-04-02T00:00:00+00:00",
          "2020-04-03T00:00:00+00:00",
          "2020-04-04T00:00:00+00:00",
          "2020-04-05T00:00:00+00:00",
          "2020-04-06T00:00:00+00:00"
         ],
         "y": [
          0,
          0,
          0,
          0,
          0,
          0,
          0,
          0,
          0,
          0,
          0,
          0,
          0,
          0,
          0,
          0,
          0,
          0,
          0,
          0,
          0,
          0,
          0,
          0,
          0,
          0,
          0,
          0,
          0,
          0,
          0,
          0,
          0,
          0,
          0,
          0,
          0,
          0,
          0,
          0,
          0,
          0,
          0,
          0,
          0,
          0,
          0,
          0,
          0,
          0,
          0,
          0,
          0,
          0,
          0,
          0,
          0,
          0,
          0,
          0,
          0,
          0,
          0,
          0,
          0,
          0,
          0,
          0,
          0,
          0,
          0,
          0,
          0,
          0,
          0,
          0,
          0,
          0,
          0,
          0,
          0,
          0,
          0,
          0,
          0,
          0,
          0,
          0,
          0,
          0,
          0,
          0,
          0,
          0,
          0,
          0,
          0,
          0,
          0,
          0,
          0,
          0,
          0,
          0,
          0,
          0,
          0,
          0,
          0,
          0,
          0,
          0,
          0,
          0,
          0,
          0,
          0,
          0,
          0,
          0,
          0,
          0,
          0,
          0,
          0,
          0,
          0,
          0
         ]
        },
        {
         "mode": "lines",
         "name": "symptômes",
         "type": "scatter",
         "x": [
          "2019-12-01T00:00:00+00:00",
          "2019-12-02T00:00:00+00:00",
          "2019-12-03T00:00:00+00:00",
          "2019-12-04T00:00:00+00:00",
          "2019-12-05T00:00:00+00:00",
          "2019-12-06T00:00:00+00:00",
          "2019-12-07T00:00:00+00:00",
          "2019-12-08T00:00:00+00:00",
          "2019-12-09T00:00:00+00:00",
          "2019-12-10T00:00:00+00:00",
          "2019-12-11T00:00:00+00:00",
          "2019-12-12T00:00:00+00:00",
          "2019-12-13T00:00:00+00:00",
          "2019-12-14T00:00:00+00:00",
          "2019-12-15T00:00:00+00:00",
          "2019-12-16T00:00:00+00:00",
          "2019-12-17T00:00:00+00:00",
          "2019-12-18T00:00:00+00:00",
          "2019-12-19T00:00:00+00:00",
          "2019-12-20T00:00:00+00:00",
          "2019-12-21T00:00:00+00:00",
          "2019-12-22T00:00:00+00:00",
          "2019-12-23T00:00:00+00:00",
          "2019-12-24T00:00:00+00:00",
          "2019-12-25T00:00:00+00:00",
          "2019-12-26T00:00:00+00:00",
          "2019-12-27T00:00:00+00:00",
          "2019-12-28T00:00:00+00:00",
          "2019-12-29T00:00:00+00:00",
          "2019-12-30T00:00:00+00:00",
          "2019-12-31T00:00:00+00:00",
          "2020-01-01T00:00:00+00:00",
          "2020-01-02T00:00:00+00:00",
          "2020-01-03T00:00:00+00:00",
          "2020-01-04T00:00:00+00:00",
          "2020-01-05T00:00:00+00:00",
          "2020-01-06T00:00:00+00:00",
          "2020-01-07T00:00:00+00:00",
          "2020-01-08T00:00:00+00:00",
          "2020-01-09T00:00:00+00:00",
          "2020-01-10T00:00:00+00:00",
          "2020-01-11T00:00:00+00:00",
          "2020-01-12T00:00:00+00:00",
          "2020-01-13T00:00:00+00:00",
          "2020-01-14T00:00:00+00:00",
          "2020-01-15T00:00:00+00:00",
          "2020-01-16T00:00:00+00:00",
          "2020-01-17T00:00:00+00:00",
          "2020-01-18T00:00:00+00:00",
          "2020-01-19T00:00:00+00:00",
          "2020-01-20T00:00:00+00:00",
          "2020-01-21T00:00:00+00:00",
          "2020-01-22T00:00:00+00:00",
          "2020-01-23T00:00:00+00:00",
          "2020-01-24T00:00:00+00:00",
          "2020-01-25T00:00:00+00:00",
          "2020-01-26T00:00:00+00:00",
          "2020-01-27T00:00:00+00:00",
          "2020-01-28T00:00:00+00:00",
          "2020-01-29T00:00:00+00:00",
          "2020-01-30T00:00:00+00:00",
          "2020-01-31T00:00:00+00:00",
          "2020-02-01T00:00:00+00:00",
          "2020-02-02T00:00:00+00:00",
          "2020-02-03T00:00:00+00:00",
          "2020-02-04T00:00:00+00:00",
          "2020-02-05T00:00:00+00:00",
          "2020-02-06T00:00:00+00:00",
          "2020-02-07T00:00:00+00:00",
          "2020-02-08T00:00:00+00:00",
          "2020-02-09T00:00:00+00:00",
          "2020-02-10T00:00:00+00:00",
          "2020-02-11T00:00:00+00:00",
          "2020-02-12T00:00:00+00:00",
          "2020-02-13T00:00:00+00:00",
          "2020-02-14T00:00:00+00:00",
          "2020-02-15T00:00:00+00:00",
          "2020-02-16T00:00:00+00:00",
          "2020-02-17T00:00:00+00:00",
          "2020-02-18T00:00:00+00:00",
          "2020-02-19T00:00:00+00:00",
          "2020-02-20T00:00:00+00:00",
          "2020-02-21T00:00:00+00:00",
          "2020-02-22T00:00:00+00:00",
          "2020-02-23T00:00:00+00:00",
          "2020-02-24T00:00:00+00:00",
          "2020-02-25T00:00:00+00:00",
          "2020-02-26T00:00:00+00:00",
          "2020-02-27T00:00:00+00:00",
          "2020-02-28T00:00:00+00:00",
          "2020-02-29T00:00:00+00:00",
          "2020-03-01T00:00:00+00:00",
          "2020-03-02T00:00:00+00:00",
          "2020-03-03T00:00:00+00:00",
          "2020-03-04T00:00:00+00:00",
          "2020-03-05T00:00:00+00:00",
          "2020-03-06T00:00:00+00:00",
          "2020-03-07T00:00:00+00:00",
          "2020-03-08T00:00:00+00:00",
          "2020-03-09T00:00:00+00:00",
          "2020-03-10T00:00:00+00:00",
          "2020-03-11T00:00:00+00:00",
          "2020-03-12T00:00:00+00:00",
          "2020-03-13T00:00:00+00:00",
          "2020-03-14T00:00:00+00:00",
          "2020-03-15T00:00:00+00:00",
          "2020-03-16T00:00:00+00:00",
          "2020-03-17T00:00:00+00:00",
          "2020-03-18T00:00:00+00:00",
          "2020-03-19T00:00:00+00:00",
          "2020-03-20T00:00:00+00:00",
          "2020-03-21T00:00:00+00:00",
          "2020-03-22T00:00:00+00:00",
          "2020-03-23T00:00:00+00:00",
          "2020-03-24T00:00:00+00:00",
          "2020-03-25T00:00:00+00:00",
          "2020-03-26T00:00:00+00:00",
          "2020-03-27T00:00:00+00:00",
          "2020-03-28T00:00:00+00:00",
          "2020-03-29T00:00:00+00:00",
          "2020-03-30T00:00:00+00:00",
          "2020-03-31T00:00:00+00:00",
          "2020-04-01T00:00:00+00:00",
          "2020-04-02T00:00:00+00:00",
          "2020-04-03T00:00:00+00:00",
          "2020-04-04T00:00:00+00:00",
          "2020-04-05T00:00:00+00:00",
          "2020-04-06T00:00:00+00:00"
         ],
         "y": [
          2,
          0,
          0,
          1,
          0,
          0,
          1,
          0,
          0,
          0,
          0,
          0,
          0,
          0,
          0,
          0,
          2,
          0,
          0,
          1,
          1,
          1,
          0,
          0,
          0,
          0,
          0,
          1,
          0,
          0,
          1,
          0,
          0,
          0,
          0,
          0,
          0,
          0,
          0,
          0,
          0,
          0,
          0,
          1,
          0,
          1,
          0,
          1,
          2,
          0,
          0,
          3,
          0,
          0,
          4,
          6,
          1,
          0,
          0,
          1,
          1,
          2,
          0,
          0,
          0,
          2,
          1,
          2,
          1,
          1,
          0,
          0,
          1,
          1,
          1,
          0,
          0,
          3,
          1,
          0,
          0,
          0,
          0,
          0,
          0,
          1,
          0,
          0,
          1,
          3,
          0,
          2,
          2,
          4,
          0,
          2,
          2,
          2,
          0,
          4,
          4,
          1,
          5,
          4,
          11,
          9,
          15,
          18,
          13,
          10,
          9,
          21,
          29,
          11,
          14,
          10,
          6,
          28,
          10,
          15,
          25,
          14,
          10,
          5,
          2,
          5,
          3,
          4
         ]
        },
        {
         "mode": "lines",
         "name": "difficultés respiratoires",
         "type": "scatter",
         "x": [
          "2019-12-01T00:00:00+00:00",
          "2019-12-02T00:00:00+00:00",
          "2019-12-03T00:00:00+00:00",
          "2019-12-04T00:00:00+00:00",
          "2019-12-05T00:00:00+00:00",
          "2019-12-06T00:00:00+00:00",
          "2019-12-07T00:00:00+00:00",
          "2019-12-08T00:00:00+00:00",
          "2019-12-09T00:00:00+00:00",
          "2019-12-10T00:00:00+00:00",
          "2019-12-11T00:00:00+00:00",
          "2019-12-12T00:00:00+00:00",
          "2019-12-13T00:00:00+00:00",
          "2019-12-14T00:00:00+00:00",
          "2019-12-15T00:00:00+00:00",
          "2019-12-16T00:00:00+00:00",
          "2019-12-17T00:00:00+00:00",
          "2019-12-18T00:00:00+00:00",
          "2019-12-19T00:00:00+00:00",
          "2019-12-20T00:00:00+00:00",
          "2019-12-21T00:00:00+00:00",
          "2019-12-22T00:00:00+00:00",
          "2019-12-23T00:00:00+00:00",
          "2019-12-24T00:00:00+00:00",
          "2019-12-25T00:00:00+00:00",
          "2019-12-26T00:00:00+00:00",
          "2019-12-27T00:00:00+00:00",
          "2019-12-28T00:00:00+00:00",
          "2019-12-29T00:00:00+00:00",
          "2019-12-30T00:00:00+00:00",
          "2019-12-31T00:00:00+00:00",
          "2020-01-01T00:00:00+00:00",
          "2020-01-02T00:00:00+00:00",
          "2020-01-03T00:00:00+00:00",
          "2020-01-04T00:00:00+00:00",
          "2020-01-05T00:00:00+00:00",
          "2020-01-06T00:00:00+00:00",
          "2020-01-07T00:00:00+00:00",
          "2020-01-08T00:00:00+00:00",
          "2020-01-09T00:00:00+00:00",
          "2020-01-10T00:00:00+00:00",
          "2020-01-11T00:00:00+00:00",
          "2020-01-12T00:00:00+00:00",
          "2020-01-13T00:00:00+00:00",
          "2020-01-14T00:00:00+00:00",
          "2020-01-15T00:00:00+00:00",
          "2020-01-16T00:00:00+00:00",
          "2020-01-17T00:00:00+00:00",
          "2020-01-18T00:00:00+00:00",
          "2020-01-19T00:00:00+00:00",
          "2020-01-20T00:00:00+00:00",
          "2020-01-21T00:00:00+00:00",
          "2020-01-22T00:00:00+00:00",
          "2020-01-23T00:00:00+00:00",
          "2020-01-24T00:00:00+00:00",
          "2020-01-25T00:00:00+00:00",
          "2020-01-26T00:00:00+00:00",
          "2020-01-27T00:00:00+00:00",
          "2020-01-28T00:00:00+00:00",
          "2020-01-29T00:00:00+00:00",
          "2020-01-30T00:00:00+00:00",
          "2020-01-31T00:00:00+00:00",
          "2020-02-01T00:00:00+00:00",
          "2020-02-02T00:00:00+00:00",
          "2020-02-03T00:00:00+00:00",
          "2020-02-04T00:00:00+00:00",
          "2020-02-05T00:00:00+00:00",
          "2020-02-06T00:00:00+00:00",
          "2020-02-07T00:00:00+00:00",
          "2020-02-08T00:00:00+00:00",
          "2020-02-09T00:00:00+00:00",
          "2020-02-10T00:00:00+00:00",
          "2020-02-11T00:00:00+00:00",
          "2020-02-12T00:00:00+00:00",
          "2020-02-13T00:00:00+00:00",
          "2020-02-14T00:00:00+00:00",
          "2020-02-15T00:00:00+00:00",
          "2020-02-16T00:00:00+00:00",
          "2020-02-17T00:00:00+00:00",
          "2020-02-18T00:00:00+00:00",
          "2020-02-19T00:00:00+00:00",
          "2020-02-20T00:00:00+00:00",
          "2020-02-21T00:00:00+00:00",
          "2020-02-22T00:00:00+00:00",
          "2020-02-23T00:00:00+00:00",
          "2020-02-24T00:00:00+00:00",
          "2020-02-25T00:00:00+00:00",
          "2020-02-26T00:00:00+00:00",
          "2020-02-27T00:00:00+00:00",
          "2020-02-28T00:00:00+00:00",
          "2020-02-29T00:00:00+00:00",
          "2020-03-01T00:00:00+00:00",
          "2020-03-02T00:00:00+00:00",
          "2020-03-03T00:00:00+00:00",
          "2020-03-04T00:00:00+00:00",
          "2020-03-05T00:00:00+00:00",
          "2020-03-06T00:00:00+00:00",
          "2020-03-07T00:00:00+00:00",
          "2020-03-08T00:00:00+00:00",
          "2020-03-09T00:00:00+00:00",
          "2020-03-10T00:00:00+00:00",
          "2020-03-11T00:00:00+00:00",
          "2020-03-12T00:00:00+00:00",
          "2020-03-13T00:00:00+00:00",
          "2020-03-14T00:00:00+00:00",
          "2020-03-15T00:00:00+00:00",
          "2020-03-16T00:00:00+00:00",
          "2020-03-17T00:00:00+00:00",
          "2020-03-18T00:00:00+00:00",
          "2020-03-19T00:00:00+00:00",
          "2020-03-20T00:00:00+00:00",
          "2020-03-21T00:00:00+00:00",
          "2020-03-22T00:00:00+00:00",
          "2020-03-23T00:00:00+00:00",
          "2020-03-24T00:00:00+00:00",
          "2020-03-25T00:00:00+00:00",
          "2020-03-26T00:00:00+00:00",
          "2020-03-27T00:00:00+00:00",
          "2020-03-28T00:00:00+00:00",
          "2020-03-29T00:00:00+00:00",
          "2020-03-30T00:00:00+00:00",
          "2020-03-31T00:00:00+00:00",
          "2020-04-01T00:00:00+00:00",
          "2020-04-02T00:00:00+00:00",
          "2020-04-03T00:00:00+00:00",
          "2020-04-04T00:00:00+00:00",
          "2020-04-05T00:00:00+00:00",
          "2020-04-06T00:00:00+00:00"
         ],
         "y": [
          0,
          0,
          0,
          0,
          0,
          0,
          0,
          0,
          0,
          0,
          0,
          0,
          0,
          0,
          0,
          0,
          0,
          0,
          0,
          0,
          0,
          0,
          0,
          0,
          0,
          0,
          0,
          0,
          0,
          0,
          0,
          0,
          0,
          0,
          0,
          0,
          0,
          0,
          0,
          0,
          0,
          0,
          0,
          0,
          0,
          0,
          0,
          0,
          0,
          0,
          0,
          0,
          0,
          0,
          0,
          0,
          0,
          0,
          0,
          0,
          0,
          0,
          0,
          0,
          0,
          0,
          0,
          0,
          0,
          0,
          0,
          0,
          0,
          0,
          0,
          0,
          0,
          0,
          0,
          0,
          0,
          0,
          0,
          0,
          0,
          0,
          0,
          0,
          0,
          0,
          1,
          0,
          0,
          0,
          0,
          0,
          0,
          0,
          0,
          1,
          1,
          0,
          0,
          1,
          2,
          0,
          0,
          0,
          0,
          0,
          0,
          0,
          0,
          0,
          0,
          0,
          0,
          0,
          0,
          0,
          0,
          1,
          0,
          0,
          0,
          0,
          0,
          0
         ]
        }
       ],
       "layout": {
        "template": {
         "data": {
          "bar": [
           {
            "error_x": {
             "color": "#2a3f5f"
            },
            "error_y": {
             "color": "#2a3f5f"
            },
            "marker": {
             "line": {
              "color": "#E5ECF6",
              "width": 0.5
             }
            },
            "type": "bar"
           }
          ],
          "barpolar": [
           {
            "marker": {
             "line": {
              "color": "#E5ECF6",
              "width": 0.5
             }
            },
            "type": "barpolar"
           }
          ],
          "carpet": [
           {
            "aaxis": {
             "endlinecolor": "#2a3f5f",
             "gridcolor": "white",
             "linecolor": "white",
             "minorgridcolor": "white",
             "startlinecolor": "#2a3f5f"
            },
            "baxis": {
             "endlinecolor": "#2a3f5f",
             "gridcolor": "white",
             "linecolor": "white",
             "minorgridcolor": "white",
             "startlinecolor": "#2a3f5f"
            },
            "type": "carpet"
           }
          ],
          "choropleth": [
           {
            "colorbar": {
             "outlinewidth": 0,
             "ticks": ""
            },
            "type": "choropleth"
           }
          ],
          "contour": [
           {
            "colorbar": {
             "outlinewidth": 0,
             "ticks": ""
            },
            "colorscale": [
             [
              0,
              "#0d0887"
             ],
             [
              0.1111111111111111,
              "#46039f"
             ],
             [
              0.2222222222222222,
              "#7201a8"
             ],
             [
              0.3333333333333333,
              "#9c179e"
             ],
             [
              0.4444444444444444,
              "#bd3786"
             ],
             [
              0.5555555555555556,
              "#d8576b"
             ],
             [
              0.6666666666666666,
              "#ed7953"
             ],
             [
              0.7777777777777778,
              "#fb9f3a"
             ],
             [
              0.8888888888888888,
              "#fdca26"
             ],
             [
              1,
              "#f0f921"
             ]
            ],
            "type": "contour"
           }
          ],
          "contourcarpet": [
           {
            "colorbar": {
             "outlinewidth": 0,
             "ticks": ""
            },
            "type": "contourcarpet"
           }
          ],
          "heatmap": [
           {
            "colorbar": {
             "outlinewidth": 0,
             "ticks": ""
            },
            "colorscale": [
             [
              0,
              "#0d0887"
             ],
             [
              0.1111111111111111,
              "#46039f"
             ],
             [
              0.2222222222222222,
              "#7201a8"
             ],
             [
              0.3333333333333333,
              "#9c179e"
             ],
             [
              0.4444444444444444,
              "#bd3786"
             ],
             [
              0.5555555555555556,
              "#d8576b"
             ],
             [
              0.6666666666666666,
              "#ed7953"
             ],
             [
              0.7777777777777778,
              "#fb9f3a"
             ],
             [
              0.8888888888888888,
              "#fdca26"
             ],
             [
              1,
              "#f0f921"
             ]
            ],
            "type": "heatmap"
           }
          ],
          "heatmapgl": [
           {
            "colorbar": {
             "outlinewidth": 0,
             "ticks": ""
            },
            "colorscale": [
             [
              0,
              "#0d0887"
             ],
             [
              0.1111111111111111,
              "#46039f"
             ],
             [
              0.2222222222222222,
              "#7201a8"
             ],
             [
              0.3333333333333333,
              "#9c179e"
             ],
             [
              0.4444444444444444,
              "#bd3786"
             ],
             [
              0.5555555555555556,
              "#d8576b"
             ],
             [
              0.6666666666666666,
              "#ed7953"
             ],
             [
              0.7777777777777778,
              "#fb9f3a"
             ],
             [
              0.8888888888888888,
              "#fdca26"
             ],
             [
              1,
              "#f0f921"
             ]
            ],
            "type": "heatmapgl"
           }
          ],
          "histogram": [
           {
            "marker": {
             "colorbar": {
              "outlinewidth": 0,
              "ticks": ""
             }
            },
            "type": "histogram"
           }
          ],
          "histogram2d": [
           {
            "colorbar": {
             "outlinewidth": 0,
             "ticks": ""
            },
            "colorscale": [
             [
              0,
              "#0d0887"
             ],
             [
              0.1111111111111111,
              "#46039f"
             ],
             [
              0.2222222222222222,
              "#7201a8"
             ],
             [
              0.3333333333333333,
              "#9c179e"
             ],
             [
              0.4444444444444444,
              "#bd3786"
             ],
             [
              0.5555555555555556,
              "#d8576b"
             ],
             [
              0.6666666666666666,
              "#ed7953"
             ],
             [
              0.7777777777777778,
              "#fb9f3a"
             ],
             [
              0.8888888888888888,
              "#fdca26"
             ],
             [
              1,
              "#f0f921"
             ]
            ],
            "type": "histogram2d"
           }
          ],
          "histogram2dcontour": [
           {
            "colorbar": {
             "outlinewidth": 0,
             "ticks": ""
            },
            "colorscale": [
             [
              0,
              "#0d0887"
             ],
             [
              0.1111111111111111,
              "#46039f"
             ],
             [
              0.2222222222222222,
              "#7201a8"
             ],
             [
              0.3333333333333333,
              "#9c179e"
             ],
             [
              0.4444444444444444,
              "#bd3786"
             ],
             [
              0.5555555555555556,
              "#d8576b"
             ],
             [
              0.6666666666666666,
              "#ed7953"
             ],
             [
              0.7777777777777778,
              "#fb9f3a"
             ],
             [
              0.8888888888888888,
              "#fdca26"
             ],
             [
              1,
              "#f0f921"
             ]
            ],
            "type": "histogram2dcontour"
           }
          ],
          "mesh3d": [
           {
            "colorbar": {
             "outlinewidth": 0,
             "ticks": ""
            },
            "type": "mesh3d"
           }
          ],
          "parcoords": [
           {
            "line": {
             "colorbar": {
              "outlinewidth": 0,
              "ticks": ""
             }
            },
            "type": "parcoords"
           }
          ],
          "pie": [
           {
            "automargin": true,
            "type": "pie"
           }
          ],
          "scatter": [
           {
            "marker": {
             "colorbar": {
              "outlinewidth": 0,
              "ticks": ""
             }
            },
            "type": "scatter"
           }
          ],
          "scatter3d": [
           {
            "line": {
             "colorbar": {
              "outlinewidth": 0,
              "ticks": ""
             }
            },
            "marker": {
             "colorbar": {
              "outlinewidth": 0,
              "ticks": ""
             }
            },
            "type": "scatter3d"
           }
          ],
          "scattercarpet": [
           {
            "marker": {
             "colorbar": {
              "outlinewidth": 0,
              "ticks": ""
             }
            },
            "type": "scattercarpet"
           }
          ],
          "scattergeo": [
           {
            "marker": {
             "colorbar": {
              "outlinewidth": 0,
              "ticks": ""
             }
            },
            "type": "scattergeo"
           }
          ],
          "scattergl": [
           {
            "marker": {
             "colorbar": {
              "outlinewidth": 0,
              "ticks": ""
             }
            },
            "type": "scattergl"
           }
          ],
          "scattermapbox": [
           {
            "marker": {
             "colorbar": {
              "outlinewidth": 0,
              "ticks": ""
             }
            },
            "type": "scattermapbox"
           }
          ],
          "scatterpolar": [
           {
            "marker": {
             "colorbar": {
              "outlinewidth": 0,
              "ticks": ""
             }
            },
            "type": "scatterpolar"
           }
          ],
          "scatterpolargl": [
           {
            "marker": {
             "colorbar": {
              "outlinewidth": 0,
              "ticks": ""
             }
            },
            "type": "scatterpolargl"
           }
          ],
          "scatterternary": [
           {
            "marker": {
             "colorbar": {
              "outlinewidth": 0,
              "ticks": ""
             }
            },
            "type": "scatterternary"
           }
          ],
          "surface": [
           {
            "colorbar": {
             "outlinewidth": 0,
             "ticks": ""
            },
            "colorscale": [
             [
              0,
              "#0d0887"
             ],
             [
              0.1111111111111111,
              "#46039f"
             ],
             [
              0.2222222222222222,
              "#7201a8"
             ],
             [
              0.3333333333333333,
              "#9c179e"
             ],
             [
              0.4444444444444444,
              "#bd3786"
             ],
             [
              0.5555555555555556,
              "#d8576b"
             ],
             [
              0.6666666666666666,
              "#ed7953"
             ],
             [
              0.7777777777777778,
              "#fb9f3a"
             ],
             [
              0.8888888888888888,
              "#fdca26"
             ],
             [
              1,
              "#f0f921"
             ]
            ],
            "type": "surface"
           }
          ],
          "table": [
           {
            "cells": {
             "fill": {
              "color": "#EBF0F8"
             },
             "line": {
              "color": "white"
             }
            },
            "header": {
             "fill": {
              "color": "#C8D4E3"
             },
             "line": {
              "color": "white"
             }
            },
            "type": "table"
           }
          ]
         },
         "layout": {
          "annotationdefaults": {
           "arrowcolor": "#2a3f5f",
           "arrowhead": 0,
           "arrowwidth": 1
          },
          "coloraxis": {
           "colorbar": {
            "outlinewidth": 0,
            "ticks": ""
           }
          },
          "colorscale": {
           "diverging": [
            [
             0,
             "#8e0152"
            ],
            [
             0.1,
             "#c51b7d"
            ],
            [
             0.2,
             "#de77ae"
            ],
            [
             0.3,
             "#f1b6da"
            ],
            [
             0.4,
             "#fde0ef"
            ],
            [
             0.5,
             "#f7f7f7"
            ],
            [
             0.6,
             "#e6f5d0"
            ],
            [
             0.7,
             "#b8e186"
            ],
            [
             0.8,
             "#7fbc41"
            ],
            [
             0.9,
             "#4d9221"
            ],
            [
             1,
             "#276419"
            ]
           ],
           "sequential": [
            [
             0,
             "#0d0887"
            ],
            [
             0.1111111111111111,
             "#46039f"
            ],
            [
             0.2222222222222222,
             "#7201a8"
            ],
            [
             0.3333333333333333,
             "#9c179e"
            ],
            [
             0.4444444444444444,
             "#bd3786"
            ],
            [
             0.5555555555555556,
             "#d8576b"
            ],
            [
             0.6666666666666666,
             "#ed7953"
            ],
            [
             0.7777777777777778,
             "#fb9f3a"
            ],
            [
             0.8888888888888888,
             "#fdca26"
            ],
            [
             1,
             "#f0f921"
            ]
           ],
           "sequentialminus": [
            [
             0,
             "#0d0887"
            ],
            [
             0.1111111111111111,
             "#46039f"
            ],
            [
             0.2222222222222222,
             "#7201a8"
            ],
            [
             0.3333333333333333,
             "#9c179e"
            ],
            [
             0.4444444444444444,
             "#bd3786"
            ],
            [
             0.5555555555555556,
             "#d8576b"
            ],
            [
             0.6666666666666666,
             "#ed7953"
            ],
            [
             0.7777777777777778,
             "#fb9f3a"
            ],
            [
             0.8888888888888888,
             "#fdca26"
            ],
            [
             1,
             "#f0f921"
            ]
           ]
          },
          "colorway": [
           "#636efa",
           "#EF553B",
           "#00cc96",
           "#ab63fa",
           "#FFA15A",
           "#19d3f3",
           "#FF6692",
           "#B6E880",
           "#FF97FF",
           "#FECB52"
          ],
          "font": {
           "color": "#2a3f5f"
          },
          "geo": {
           "bgcolor": "white",
           "lakecolor": "white",
           "landcolor": "#E5ECF6",
           "showlakes": true,
           "showland": true,
           "subunitcolor": "white"
          },
          "hoverlabel": {
           "align": "left"
          },
          "hovermode": "closest",
          "mapbox": {
           "style": "light"
          },
          "paper_bgcolor": "white",
          "plot_bgcolor": "#E5ECF6",
          "polar": {
           "angularaxis": {
            "gridcolor": "white",
            "linecolor": "white",
            "ticks": ""
           },
           "bgcolor": "#E5ECF6",
           "radialaxis": {
            "gridcolor": "white",
            "linecolor": "white",
            "ticks": ""
           }
          },
          "scene": {
           "xaxis": {
            "backgroundcolor": "#E5ECF6",
            "gridcolor": "white",
            "gridwidth": 2,
            "linecolor": "white",
            "showbackground": true,
            "ticks": "",
            "zerolinecolor": "white"
           },
           "yaxis": {
            "backgroundcolor": "#E5ECF6",
            "gridcolor": "white",
            "gridwidth": 2,
            "linecolor": "white",
            "showbackground": true,
            "ticks": "",
            "zerolinecolor": "white"
           },
           "zaxis": {
            "backgroundcolor": "#E5ECF6",
            "gridcolor": "white",
            "gridwidth": 2,
            "linecolor": "white",
            "showbackground": true,
            "ticks": "",
            "zerolinecolor": "white"
           }
          },
          "shapedefaults": {
           "line": {
            "color": "#2a3f5f"
           }
          },
          "ternary": {
           "aaxis": {
            "gridcolor": "white",
            "linecolor": "white",
            "ticks": ""
           },
           "baxis": {
            "gridcolor": "white",
            "linecolor": "white",
            "ticks": ""
           },
           "bgcolor": "#E5ECF6",
           "caxis": {
            "gridcolor": "white",
            "linecolor": "white",
            "ticks": ""
           }
          },
          "title": {
           "x": 0.05
          },
          "xaxis": {
           "automargin": true,
           "gridcolor": "white",
           "linecolor": "white",
           "ticks": "",
           "title": {
            "standoff": 15
           },
           "zerolinecolor": "white",
           "zerolinewidth": 2
          },
          "yaxis": {
           "automargin": true,
           "gridcolor": "white",
           "linecolor": "white",
           "ticks": "",
           "title": {
            "standoff": 15
           },
           "zerolinecolor": "white",
           "zerolinewidth": 2
          }
         }
        },
        "title": {
         "text": "Evolution of symptoms in Ile-de-France"
        }
       }
      },
      "text/html": [
       "<div>\n",
       "        \n",
       "        \n",
       "            <div id=\"ce18de92-5ed9-4565-a9a5-0a92f53c5615\" class=\"plotly-graph-div\" style=\"height:525px; width:100%;\"></div>\n",
       "            <script type=\"text/javascript\">\n",
       "                require([\"plotly\"], function(Plotly) {\n",
       "                    window.PLOTLYENV=window.PLOTLYENV || {};\n",
       "                    \n",
       "                if (document.getElementById(\"ce18de92-5ed9-4565-a9a5-0a92f53c5615\")) {\n",
       "                    Plotly.newPlot(\n",
       "                        'ce18de92-5ed9-4565-a9a5-0a92f53c5615',\n",
       "                        [{\"mode\": \"lines\", \"name\": \"toux\", \"type\": \"scatter\", \"x\": [\"2019-12-01T00:00:00+00:00\", \"2019-12-02T00:00:00+00:00\", \"2019-12-03T00:00:00+00:00\", \"2019-12-04T00:00:00+00:00\", \"2019-12-05T00:00:00+00:00\", \"2019-12-06T00:00:00+00:00\", \"2019-12-07T00:00:00+00:00\", \"2019-12-08T00:00:00+00:00\", \"2019-12-09T00:00:00+00:00\", \"2019-12-10T00:00:00+00:00\", \"2019-12-11T00:00:00+00:00\", \"2019-12-12T00:00:00+00:00\", \"2019-12-13T00:00:00+00:00\", \"2019-12-14T00:00:00+00:00\", \"2019-12-15T00:00:00+00:00\", \"2019-12-16T00:00:00+00:00\", \"2019-12-17T00:00:00+00:00\", \"2019-12-18T00:00:00+00:00\", \"2019-12-19T00:00:00+00:00\", \"2019-12-20T00:00:00+00:00\", \"2019-12-21T00:00:00+00:00\", \"2019-12-22T00:00:00+00:00\", \"2019-12-23T00:00:00+00:00\", \"2019-12-24T00:00:00+00:00\", \"2019-12-25T00:00:00+00:00\", \"2019-12-26T00:00:00+00:00\", \"2019-12-27T00:00:00+00:00\", \"2019-12-28T00:00:00+00:00\", \"2019-12-29T00:00:00+00:00\", \"2019-12-30T00:00:00+00:00\", \"2019-12-31T00:00:00+00:00\", \"2020-01-01T00:00:00+00:00\", \"2020-01-02T00:00:00+00:00\", \"2020-01-03T00:00:00+00:00\", \"2020-01-04T00:00:00+00:00\", \"2020-01-05T00:00:00+00:00\", \"2020-01-06T00:00:00+00:00\", \"2020-01-07T00:00:00+00:00\", \"2020-01-08T00:00:00+00:00\", \"2020-01-09T00:00:00+00:00\", \"2020-01-10T00:00:00+00:00\", \"2020-01-11T00:00:00+00:00\", \"2020-01-12T00:00:00+00:00\", \"2020-01-13T00:00:00+00:00\", \"2020-01-14T00:00:00+00:00\", \"2020-01-15T00:00:00+00:00\", \"2020-01-16T00:00:00+00:00\", \"2020-01-17T00:00:00+00:00\", \"2020-01-18T00:00:00+00:00\", \"2020-01-19T00:00:00+00:00\", \"2020-01-20T00:00:00+00:00\", \"2020-01-21T00:00:00+00:00\", \"2020-01-22T00:00:00+00:00\", \"2020-01-23T00:00:00+00:00\", \"2020-01-24T00:00:00+00:00\", \"2020-01-25T00:00:00+00:00\", \"2020-01-26T00:00:00+00:00\", \"2020-01-27T00:00:00+00:00\", \"2020-01-28T00:00:00+00:00\", \"2020-01-29T00:00:00+00:00\", \"2020-01-30T00:00:00+00:00\", \"2020-01-31T00:00:00+00:00\", \"2020-02-01T00:00:00+00:00\", \"2020-02-02T00:00:00+00:00\", \"2020-02-03T00:00:00+00:00\", \"2020-02-04T00:00:00+00:00\", \"2020-02-05T00:00:00+00:00\", \"2020-02-06T00:00:00+00:00\", \"2020-02-07T00:00:00+00:00\", \"2020-02-08T00:00:00+00:00\", \"2020-02-09T00:00:00+00:00\", \"2020-02-10T00:00:00+00:00\", \"2020-02-11T00:00:00+00:00\", \"2020-02-12T00:00:00+00:00\", \"2020-02-13T00:00:00+00:00\", \"2020-02-14T00:00:00+00:00\", \"2020-02-15T00:00:00+00:00\", \"2020-02-16T00:00:00+00:00\", \"2020-02-17T00:00:00+00:00\", \"2020-02-18T00:00:00+00:00\", \"2020-02-19T00:00:00+00:00\", \"2020-02-20T00:00:00+00:00\", \"2020-02-21T00:00:00+00:00\", \"2020-02-22T00:00:00+00:00\", \"2020-02-23T00:00:00+00:00\", \"2020-02-24T00:00:00+00:00\", \"2020-02-25T00:00:00+00:00\", \"2020-02-26T00:00:00+00:00\", \"2020-02-27T00:00:00+00:00\", \"2020-02-28T00:00:00+00:00\", \"2020-02-29T00:00:00+00:00\", \"2020-03-01T00:00:00+00:00\", \"2020-03-02T00:00:00+00:00\", \"2020-03-03T00:00:00+00:00\", \"2020-03-04T00:00:00+00:00\", \"2020-03-05T00:00:00+00:00\", \"2020-03-06T00:00:00+00:00\", \"2020-03-07T00:00:00+00:00\", \"2020-03-08T00:00:00+00:00\", \"2020-03-09T00:00:00+00:00\", \"2020-03-10T00:00:00+00:00\", \"2020-03-11T00:00:00+00:00\", \"2020-03-12T00:00:00+00:00\", \"2020-03-13T00:00:00+00:00\", \"2020-03-14T00:00:00+00:00\", \"2020-03-15T00:00:00+00:00\", \"2020-03-16T00:00:00+00:00\", \"2020-03-17T00:00:00+00:00\", \"2020-03-18T00:00:00+00:00\", \"2020-03-19T00:00:00+00:00\", \"2020-03-20T00:00:00+00:00\", \"2020-03-21T00:00:00+00:00\", \"2020-03-22T00:00:00+00:00\", \"2020-03-23T00:00:00+00:00\", \"2020-03-24T00:00:00+00:00\", \"2020-03-25T00:00:00+00:00\", \"2020-03-26T00:00:00+00:00\", \"2020-03-27T00:00:00+00:00\", \"2020-03-28T00:00:00+00:00\", \"2020-03-29T00:00:00+00:00\", \"2020-03-30T00:00:00+00:00\", \"2020-03-31T00:00:00+00:00\", \"2020-04-01T00:00:00+00:00\", \"2020-04-02T00:00:00+00:00\", \"2020-04-03T00:00:00+00:00\", \"2020-04-04T00:00:00+00:00\", \"2020-04-05T00:00:00+00:00\", \"2020-04-06T00:00:00+00:00\"], \"y\": [2, 0, 1, 0, 0, 0, 2, 0, 1, 2, 1, 0, 0, 0, 1, 0, 0, 0, 0, 0, 0, 1, 0, 1, 0, 0, 0, 0, 0, 4, 0, 0, 1, 0, 0, 0, 0, 1, 2, 1, 0, 1, 0, 0, 0, 0, 2, 0, 2, 0, 0, 4, 2, 9, 9, 6, 2, 1, 2, 0, 1, 0, 0, 1, 0, 1, 2, 1, 1, 1, 1, 0, 2, 3, 0, 1, 3, 0, 0, 0, 3, 1, 0, 0, 0, 0, 3, 2, 3, 0, 5, 9, 6, 5, 6, 2, 5, 10, 6, 5, 12, 7, 19, 17, 29, 20, 13, 25, 17, 15, 8, 7, 4, 8, 12, 4, 4, 26, 5, 3, 13, 12, 6, 5, 6, 5, 4, 5]}, {\"mode\": \"lines\", \"name\": \"maux de gorge\", \"type\": \"scatter\", \"x\": [\"2019-12-01T00:00:00+00:00\", \"2019-12-02T00:00:00+00:00\", \"2019-12-03T00:00:00+00:00\", \"2019-12-04T00:00:00+00:00\", \"2019-12-05T00:00:00+00:00\", \"2019-12-06T00:00:00+00:00\", \"2019-12-07T00:00:00+00:00\", \"2019-12-08T00:00:00+00:00\", \"2019-12-09T00:00:00+00:00\", \"2019-12-10T00:00:00+00:00\", \"2019-12-11T00:00:00+00:00\", \"2019-12-12T00:00:00+00:00\", \"2019-12-13T00:00:00+00:00\", \"2019-12-14T00:00:00+00:00\", \"2019-12-15T00:00:00+00:00\", \"2019-12-16T00:00:00+00:00\", \"2019-12-17T00:00:00+00:00\", \"2019-12-18T00:00:00+00:00\", \"2019-12-19T00:00:00+00:00\", \"2019-12-20T00:00:00+00:00\", \"2019-12-21T00:00:00+00:00\", \"2019-12-22T00:00:00+00:00\", \"2019-12-23T00:00:00+00:00\", \"2019-12-24T00:00:00+00:00\", \"2019-12-25T00:00:00+00:00\", \"2019-12-26T00:00:00+00:00\", \"2019-12-27T00:00:00+00:00\", \"2019-12-28T00:00:00+00:00\", \"2019-12-29T00:00:00+00:00\", \"2019-12-30T00:00:00+00:00\", \"2019-12-31T00:00:00+00:00\", \"2020-01-01T00:00:00+00:00\", \"2020-01-02T00:00:00+00:00\", \"2020-01-03T00:00:00+00:00\", \"2020-01-04T00:00:00+00:00\", \"2020-01-05T00:00:00+00:00\", \"2020-01-06T00:00:00+00:00\", \"2020-01-07T00:00:00+00:00\", \"2020-01-08T00:00:00+00:00\", \"2020-01-09T00:00:00+00:00\", \"2020-01-10T00:00:00+00:00\", \"2020-01-11T00:00:00+00:00\", \"2020-01-12T00:00:00+00:00\", \"2020-01-13T00:00:00+00:00\", \"2020-01-14T00:00:00+00:00\", \"2020-01-15T00:00:00+00:00\", \"2020-01-16T00:00:00+00:00\", \"2020-01-17T00:00:00+00:00\", \"2020-01-18T00:00:00+00:00\", \"2020-01-19T00:00:00+00:00\", \"2020-01-20T00:00:00+00:00\", \"2020-01-21T00:00:00+00:00\", \"2020-01-22T00:00:00+00:00\", \"2020-01-23T00:00:00+00:00\", \"2020-01-24T00:00:00+00:00\", \"2020-01-25T00:00:00+00:00\", \"2020-01-26T00:00:00+00:00\", \"2020-01-27T00:00:00+00:00\", \"2020-01-28T00:00:00+00:00\", \"2020-01-29T00:00:00+00:00\", \"2020-01-30T00:00:00+00:00\", \"2020-01-31T00:00:00+00:00\", \"2020-02-01T00:00:00+00:00\", \"2020-02-02T00:00:00+00:00\", \"2020-02-03T00:00:00+00:00\", \"2020-02-04T00:00:00+00:00\", \"2020-02-05T00:00:00+00:00\", \"2020-02-06T00:00:00+00:00\", \"2020-02-07T00:00:00+00:00\", \"2020-02-08T00:00:00+00:00\", \"2020-02-09T00:00:00+00:00\", \"2020-02-10T00:00:00+00:00\", \"2020-02-11T00:00:00+00:00\", \"2020-02-12T00:00:00+00:00\", \"2020-02-13T00:00:00+00:00\", \"2020-02-14T00:00:00+00:00\", \"2020-02-15T00:00:00+00:00\", \"2020-02-16T00:00:00+00:00\", \"2020-02-17T00:00:00+00:00\", \"2020-02-18T00:00:00+00:00\", \"2020-02-19T00:00:00+00:00\", \"2020-02-20T00:00:00+00:00\", \"2020-02-21T00:00:00+00:00\", \"2020-02-22T00:00:00+00:00\", \"2020-02-23T00:00:00+00:00\", \"2020-02-24T00:00:00+00:00\", \"2020-02-25T00:00:00+00:00\", \"2020-02-26T00:00:00+00:00\", \"2020-02-27T00:00:00+00:00\", \"2020-02-28T00:00:00+00:00\", \"2020-02-29T00:00:00+00:00\", \"2020-03-01T00:00:00+00:00\", \"2020-03-02T00:00:00+00:00\", \"2020-03-03T00:00:00+00:00\", \"2020-03-04T00:00:00+00:00\", \"2020-03-05T00:00:00+00:00\", \"2020-03-06T00:00:00+00:00\", \"2020-03-07T00:00:00+00:00\", \"2020-03-08T00:00:00+00:00\", \"2020-03-09T00:00:00+00:00\", \"2020-03-10T00:00:00+00:00\", \"2020-03-11T00:00:00+00:00\", \"2020-03-12T00:00:00+00:00\", \"2020-03-13T00:00:00+00:00\", \"2020-03-14T00:00:00+00:00\", \"2020-03-15T00:00:00+00:00\", \"2020-03-16T00:00:00+00:00\", \"2020-03-17T00:00:00+00:00\", \"2020-03-18T00:00:00+00:00\", \"2020-03-19T00:00:00+00:00\", \"2020-03-20T00:00:00+00:00\", \"2020-03-21T00:00:00+00:00\", \"2020-03-22T00:00:00+00:00\", \"2020-03-23T00:00:00+00:00\", \"2020-03-24T00:00:00+00:00\", \"2020-03-25T00:00:00+00:00\", \"2020-03-26T00:00:00+00:00\", \"2020-03-27T00:00:00+00:00\", \"2020-03-28T00:00:00+00:00\", \"2020-03-29T00:00:00+00:00\", \"2020-03-30T00:00:00+00:00\", \"2020-03-31T00:00:00+00:00\", \"2020-04-01T00:00:00+00:00\", \"2020-04-02T00:00:00+00:00\", \"2020-04-03T00:00:00+00:00\", \"2020-04-04T00:00:00+00:00\", \"2020-04-05T00:00:00+00:00\", \"2020-04-06T00:00:00+00:00\"], \"y\": [0, 1, 0, 0, 0, 0, 0, 0, 0, 0, 0, 0, 0, 0, 1, 0, 0, 0, 0, 0, 0, 0, 0, 0, 0, 0, 0, 0, 0, 0, 0, 0, 0, 0, 1, 0, 0, 0, 0, 0, 0, 0, 0, 0, 0, 0, 0, 0, 0, 0, 0, 1, 0, 0, 0, 0, 0, 0, 0, 0, 0, 0, 0, 1, 0, 0, 0, 0, 0, 0, 0, 0, 0, 0, 0, 0, 0, 0, 0, 0, 0, 0, 0, 0, 0, 0, 0, 0, 0, 1, 1, 0, 0, 0, 0, 0, 0, 0, 0, 4, 1, 1, 1, 1, 0, 0, 1, 0, 1, 1, 0, 3, 2, 2, 1, 0, 0, 0, 0, 0, 0, 1, 0, 0, 1, 0, 0, 1]}, {\"mode\": \"lines\", \"name\": \"fi\\u00e8vre\", \"type\": \"scatter\", \"x\": [\"2019-12-01T00:00:00+00:00\", \"2019-12-02T00:00:00+00:00\", \"2019-12-03T00:00:00+00:00\", \"2019-12-04T00:00:00+00:00\", \"2019-12-05T00:00:00+00:00\", \"2019-12-06T00:00:00+00:00\", \"2019-12-07T00:00:00+00:00\", \"2019-12-08T00:00:00+00:00\", \"2019-12-09T00:00:00+00:00\", \"2019-12-10T00:00:00+00:00\", \"2019-12-11T00:00:00+00:00\", \"2019-12-12T00:00:00+00:00\", \"2019-12-13T00:00:00+00:00\", \"2019-12-14T00:00:00+00:00\", \"2019-12-15T00:00:00+00:00\", \"2019-12-16T00:00:00+00:00\", \"2019-12-17T00:00:00+00:00\", \"2019-12-18T00:00:00+00:00\", \"2019-12-19T00:00:00+00:00\", \"2019-12-20T00:00:00+00:00\", \"2019-12-21T00:00:00+00:00\", \"2019-12-22T00:00:00+00:00\", \"2019-12-23T00:00:00+00:00\", \"2019-12-24T00:00:00+00:00\", \"2019-12-25T00:00:00+00:00\", \"2019-12-26T00:00:00+00:00\", \"2019-12-27T00:00:00+00:00\", \"2019-12-28T00:00:00+00:00\", \"2019-12-29T00:00:00+00:00\", \"2019-12-30T00:00:00+00:00\", \"2019-12-31T00:00:00+00:00\", \"2020-01-01T00:00:00+00:00\", \"2020-01-02T00:00:00+00:00\", \"2020-01-03T00:00:00+00:00\", \"2020-01-04T00:00:00+00:00\", \"2020-01-05T00:00:00+00:00\", \"2020-01-06T00:00:00+00:00\", \"2020-01-07T00:00:00+00:00\", \"2020-01-08T00:00:00+00:00\", \"2020-01-09T00:00:00+00:00\", \"2020-01-10T00:00:00+00:00\", \"2020-01-11T00:00:00+00:00\", \"2020-01-12T00:00:00+00:00\", \"2020-01-13T00:00:00+00:00\", \"2020-01-14T00:00:00+00:00\", \"2020-01-15T00:00:00+00:00\", \"2020-01-16T00:00:00+00:00\", \"2020-01-17T00:00:00+00:00\", \"2020-01-18T00:00:00+00:00\", \"2020-01-19T00:00:00+00:00\", \"2020-01-20T00:00:00+00:00\", \"2020-01-21T00:00:00+00:00\", \"2020-01-22T00:00:00+00:00\", \"2020-01-23T00:00:00+00:00\", \"2020-01-24T00:00:00+00:00\", \"2020-01-25T00:00:00+00:00\", \"2020-01-26T00:00:00+00:00\", \"2020-01-27T00:00:00+00:00\", \"2020-01-28T00:00:00+00:00\", \"2020-01-29T00:00:00+00:00\", \"2020-01-30T00:00:00+00:00\", \"2020-01-31T00:00:00+00:00\", \"2020-02-01T00:00:00+00:00\", \"2020-02-02T00:00:00+00:00\", \"2020-02-03T00:00:00+00:00\", \"2020-02-04T00:00:00+00:00\", \"2020-02-05T00:00:00+00:00\", \"2020-02-06T00:00:00+00:00\", \"2020-02-07T00:00:00+00:00\", \"2020-02-08T00:00:00+00:00\", \"2020-02-09T00:00:00+00:00\", \"2020-02-10T00:00:00+00:00\", \"2020-02-11T00:00:00+00:00\", \"2020-02-12T00:00:00+00:00\", \"2020-02-13T00:00:00+00:00\", \"2020-02-14T00:00:00+00:00\", \"2020-02-15T00:00:00+00:00\", \"2020-02-16T00:00:00+00:00\", \"2020-02-17T00:00:00+00:00\", \"2020-02-18T00:00:00+00:00\", \"2020-02-19T00:00:00+00:00\", \"2020-02-20T00:00:00+00:00\", \"2020-02-21T00:00:00+00:00\", \"2020-02-22T00:00:00+00:00\", \"2020-02-23T00:00:00+00:00\", \"2020-02-24T00:00:00+00:00\", \"2020-02-25T00:00:00+00:00\", \"2020-02-26T00:00:00+00:00\", \"2020-02-27T00:00:00+00:00\", \"2020-02-28T00:00:00+00:00\", \"2020-02-29T00:00:00+00:00\", \"2020-03-01T00:00:00+00:00\", \"2020-03-02T00:00:00+00:00\", \"2020-03-03T00:00:00+00:00\", \"2020-03-04T00:00:00+00:00\", \"2020-03-05T00:00:00+00:00\", \"2020-03-06T00:00:00+00:00\", \"2020-03-07T00:00:00+00:00\", \"2020-03-08T00:00:00+00:00\", \"2020-03-09T00:00:00+00:00\", \"2020-03-10T00:00:00+00:00\", \"2020-03-11T00:00:00+00:00\", \"2020-03-12T00:00:00+00:00\", \"2020-03-13T00:00:00+00:00\", \"2020-03-14T00:00:00+00:00\", \"2020-03-15T00:00:00+00:00\", \"2020-03-16T00:00:00+00:00\", \"2020-03-17T00:00:00+00:00\", \"2020-03-18T00:00:00+00:00\", \"2020-03-19T00:00:00+00:00\", \"2020-03-20T00:00:00+00:00\", \"2020-03-21T00:00:00+00:00\", \"2020-03-22T00:00:00+00:00\", \"2020-03-23T00:00:00+00:00\", \"2020-03-24T00:00:00+00:00\", \"2020-03-25T00:00:00+00:00\", \"2020-03-26T00:00:00+00:00\", \"2020-03-27T00:00:00+00:00\", \"2020-03-28T00:00:00+00:00\", \"2020-03-29T00:00:00+00:00\", \"2020-03-30T00:00:00+00:00\", \"2020-03-31T00:00:00+00:00\", \"2020-04-01T00:00:00+00:00\", \"2020-04-02T00:00:00+00:00\", \"2020-04-03T00:00:00+00:00\", \"2020-04-04T00:00:00+00:00\", \"2020-04-05T00:00:00+00:00\", \"2020-04-06T00:00:00+00:00\"], \"y\": [0, 1, 0, 0, 0, 1, 0, 0, 1, 1, 0, 0, 0, 0, 0, 0, 0, 0, 0, 0, 0, 1, 0, 0, 0, 0, 0, 0, 0, 0, 1, 0, 0, 0, 0, 0, 0, 0, 0, 0, 0, 0, 0, 0, 0, 0, 0, 0, 0, 0, 0, 2, 0, 1, 7, 3, 1, 1, 1, 0, 0, 0, 0, 0, 0, 1, 2, 0, 0, 2, 0, 0, 0, 2, 0, 2, 0, 0, 1, 0, 0, 0, 1, 0, 0, 0, 1, 0, 0, 1, 1, 1, 1, 1, 3, 0, 2, 0, 0, 2, 8, 2, 7, 4, 18, 6, 13, 12, 9, 3, 2, 3, 4, 4, 2, 4, 2, 5, 0, 10, 1, 5, 4, 0, 4, 0, 5, 1]}, {\"mode\": \"lines\", \"name\": \"perte go\\u00fbt et odorat\", \"type\": \"scatter\", \"x\": [\"2019-12-01T00:00:00+00:00\", \"2019-12-02T00:00:00+00:00\", \"2019-12-03T00:00:00+00:00\", \"2019-12-04T00:00:00+00:00\", \"2019-12-05T00:00:00+00:00\", \"2019-12-06T00:00:00+00:00\", \"2019-12-07T00:00:00+00:00\", \"2019-12-08T00:00:00+00:00\", \"2019-12-09T00:00:00+00:00\", \"2019-12-10T00:00:00+00:00\", \"2019-12-11T00:00:00+00:00\", \"2019-12-12T00:00:00+00:00\", \"2019-12-13T00:00:00+00:00\", \"2019-12-14T00:00:00+00:00\", \"2019-12-15T00:00:00+00:00\", \"2019-12-16T00:00:00+00:00\", \"2019-12-17T00:00:00+00:00\", \"2019-12-18T00:00:00+00:00\", \"2019-12-19T00:00:00+00:00\", \"2019-12-20T00:00:00+00:00\", \"2019-12-21T00:00:00+00:00\", \"2019-12-22T00:00:00+00:00\", \"2019-12-23T00:00:00+00:00\", \"2019-12-24T00:00:00+00:00\", \"2019-12-25T00:00:00+00:00\", \"2019-12-26T00:00:00+00:00\", \"2019-12-27T00:00:00+00:00\", \"2019-12-28T00:00:00+00:00\", \"2019-12-29T00:00:00+00:00\", \"2019-12-30T00:00:00+00:00\", \"2019-12-31T00:00:00+00:00\", \"2020-01-01T00:00:00+00:00\", \"2020-01-02T00:00:00+00:00\", \"2020-01-03T00:00:00+00:00\", \"2020-01-04T00:00:00+00:00\", \"2020-01-05T00:00:00+00:00\", \"2020-01-06T00:00:00+00:00\", \"2020-01-07T00:00:00+00:00\", \"2020-01-08T00:00:00+00:00\", \"2020-01-09T00:00:00+00:00\", \"2020-01-10T00:00:00+00:00\", \"2020-01-11T00:00:00+00:00\", \"2020-01-12T00:00:00+00:00\", \"2020-01-13T00:00:00+00:00\", \"2020-01-14T00:00:00+00:00\", \"2020-01-15T00:00:00+00:00\", \"2020-01-16T00:00:00+00:00\", \"2020-01-17T00:00:00+00:00\", \"2020-01-18T00:00:00+00:00\", \"2020-01-19T00:00:00+00:00\", \"2020-01-20T00:00:00+00:00\", \"2020-01-21T00:00:00+00:00\", \"2020-01-22T00:00:00+00:00\", \"2020-01-23T00:00:00+00:00\", \"2020-01-24T00:00:00+00:00\", \"2020-01-25T00:00:00+00:00\", \"2020-01-26T00:00:00+00:00\", \"2020-01-27T00:00:00+00:00\", \"2020-01-28T00:00:00+00:00\", \"2020-01-29T00:00:00+00:00\", \"2020-01-30T00:00:00+00:00\", \"2020-01-31T00:00:00+00:00\", \"2020-02-01T00:00:00+00:00\", \"2020-02-02T00:00:00+00:00\", \"2020-02-03T00:00:00+00:00\", \"2020-02-04T00:00:00+00:00\", \"2020-02-05T00:00:00+00:00\", \"2020-02-06T00:00:00+00:00\", \"2020-02-07T00:00:00+00:00\", \"2020-02-08T00:00:00+00:00\", \"2020-02-09T00:00:00+00:00\", \"2020-02-10T00:00:00+00:00\", \"2020-02-11T00:00:00+00:00\", \"2020-02-12T00:00:00+00:00\", \"2020-02-13T00:00:00+00:00\", \"2020-02-14T00:00:00+00:00\", \"2020-02-15T00:00:00+00:00\", \"2020-02-16T00:00:00+00:00\", \"2020-02-17T00:00:00+00:00\", \"2020-02-18T00:00:00+00:00\", \"2020-02-19T00:00:00+00:00\", \"2020-02-20T00:00:00+00:00\", \"2020-02-21T00:00:00+00:00\", \"2020-02-22T00:00:00+00:00\", \"2020-02-23T00:00:00+00:00\", \"2020-02-24T00:00:00+00:00\", \"2020-02-25T00:00:00+00:00\", \"2020-02-26T00:00:00+00:00\", \"2020-02-27T00:00:00+00:00\", \"2020-02-28T00:00:00+00:00\", \"2020-02-29T00:00:00+00:00\", \"2020-03-01T00:00:00+00:00\", \"2020-03-02T00:00:00+00:00\", \"2020-03-03T00:00:00+00:00\", \"2020-03-04T00:00:00+00:00\", \"2020-03-05T00:00:00+00:00\", \"2020-03-06T00:00:00+00:00\", \"2020-03-07T00:00:00+00:00\", \"2020-03-08T00:00:00+00:00\", \"2020-03-09T00:00:00+00:00\", \"2020-03-10T00:00:00+00:00\", \"2020-03-11T00:00:00+00:00\", \"2020-03-12T00:00:00+00:00\", \"2020-03-13T00:00:00+00:00\", \"2020-03-14T00:00:00+00:00\", \"2020-03-15T00:00:00+00:00\", \"2020-03-16T00:00:00+00:00\", \"2020-03-17T00:00:00+00:00\", \"2020-03-18T00:00:00+00:00\", \"2020-03-19T00:00:00+00:00\", \"2020-03-20T00:00:00+00:00\", \"2020-03-21T00:00:00+00:00\", \"2020-03-22T00:00:00+00:00\", \"2020-03-23T00:00:00+00:00\", \"2020-03-24T00:00:00+00:00\", \"2020-03-25T00:00:00+00:00\", \"2020-03-26T00:00:00+00:00\", \"2020-03-27T00:00:00+00:00\", \"2020-03-28T00:00:00+00:00\", \"2020-03-29T00:00:00+00:00\", \"2020-03-30T00:00:00+00:00\", \"2020-03-31T00:00:00+00:00\", \"2020-04-01T00:00:00+00:00\", \"2020-04-02T00:00:00+00:00\", \"2020-04-03T00:00:00+00:00\", \"2020-04-04T00:00:00+00:00\", \"2020-04-05T00:00:00+00:00\", \"2020-04-06T00:00:00+00:00\"], \"y\": [0, 0, 0, 0, 0, 0, 0, 0, 0, 0, 0, 0, 0, 0, 0, 0, 0, 0, 0, 0, 0, 0, 0, 0, 0, 0, 0, 0, 0, 0, 0, 0, 0, 0, 0, 0, 0, 0, 0, 0, 0, 0, 0, 0, 0, 0, 0, 0, 0, 0, 0, 0, 0, 0, 0, 0, 0, 0, 0, 0, 0, 0, 0, 0, 0, 0, 0, 0, 0, 0, 0, 0, 0, 0, 0, 0, 0, 0, 0, 0, 0, 0, 0, 0, 0, 0, 0, 0, 0, 0, 0, 0, 0, 0, 0, 0, 0, 0, 0, 0, 0, 0, 0, 0, 0, 0, 0, 0, 0, 3, 1, 0, 0, 0, 0, 0, 1, 0, 6, 1, 0, 0, 0, 0, 0, 0, 1, 0]}, {\"mode\": \"lines\", \"name\": \"engelures\", \"type\": \"scatter\", \"x\": [\"2019-12-01T00:00:00+00:00\", \"2019-12-02T00:00:00+00:00\", \"2019-12-03T00:00:00+00:00\", \"2019-12-04T00:00:00+00:00\", \"2019-12-05T00:00:00+00:00\", \"2019-12-06T00:00:00+00:00\", \"2019-12-07T00:00:00+00:00\", \"2019-12-08T00:00:00+00:00\", \"2019-12-09T00:00:00+00:00\", \"2019-12-10T00:00:00+00:00\", \"2019-12-11T00:00:00+00:00\", \"2019-12-12T00:00:00+00:00\", \"2019-12-13T00:00:00+00:00\", \"2019-12-14T00:00:00+00:00\", \"2019-12-15T00:00:00+00:00\", \"2019-12-16T00:00:00+00:00\", \"2019-12-17T00:00:00+00:00\", \"2019-12-18T00:00:00+00:00\", \"2019-12-19T00:00:00+00:00\", \"2019-12-20T00:00:00+00:00\", \"2019-12-21T00:00:00+00:00\", \"2019-12-22T00:00:00+00:00\", \"2019-12-23T00:00:00+00:00\", \"2019-12-24T00:00:00+00:00\", \"2019-12-25T00:00:00+00:00\", \"2019-12-26T00:00:00+00:00\", \"2019-12-27T00:00:00+00:00\", \"2019-12-28T00:00:00+00:00\", \"2019-12-29T00:00:00+00:00\", \"2019-12-30T00:00:00+00:00\", \"2019-12-31T00:00:00+00:00\", \"2020-01-01T00:00:00+00:00\", \"2020-01-02T00:00:00+00:00\", \"2020-01-03T00:00:00+00:00\", \"2020-01-04T00:00:00+00:00\", \"2020-01-05T00:00:00+00:00\", \"2020-01-06T00:00:00+00:00\", \"2020-01-07T00:00:00+00:00\", \"2020-01-08T00:00:00+00:00\", \"2020-01-09T00:00:00+00:00\", \"2020-01-10T00:00:00+00:00\", \"2020-01-11T00:00:00+00:00\", \"2020-01-12T00:00:00+00:00\", \"2020-01-13T00:00:00+00:00\", \"2020-01-14T00:00:00+00:00\", \"2020-01-15T00:00:00+00:00\", \"2020-01-16T00:00:00+00:00\", \"2020-01-17T00:00:00+00:00\", \"2020-01-18T00:00:00+00:00\", \"2020-01-19T00:00:00+00:00\", \"2020-01-20T00:00:00+00:00\", \"2020-01-21T00:00:00+00:00\", \"2020-01-22T00:00:00+00:00\", \"2020-01-23T00:00:00+00:00\", \"2020-01-24T00:00:00+00:00\", \"2020-01-25T00:00:00+00:00\", \"2020-01-26T00:00:00+00:00\", \"2020-01-27T00:00:00+00:00\", \"2020-01-28T00:00:00+00:00\", \"2020-01-29T00:00:00+00:00\", \"2020-01-30T00:00:00+00:00\", \"2020-01-31T00:00:00+00:00\", \"2020-02-01T00:00:00+00:00\", \"2020-02-02T00:00:00+00:00\", \"2020-02-03T00:00:00+00:00\", \"2020-02-04T00:00:00+00:00\", \"2020-02-05T00:00:00+00:00\", \"2020-02-06T00:00:00+00:00\", \"2020-02-07T00:00:00+00:00\", \"2020-02-08T00:00:00+00:00\", \"2020-02-09T00:00:00+00:00\", \"2020-02-10T00:00:00+00:00\", \"2020-02-11T00:00:00+00:00\", \"2020-02-12T00:00:00+00:00\", \"2020-02-13T00:00:00+00:00\", \"2020-02-14T00:00:00+00:00\", \"2020-02-15T00:00:00+00:00\", \"2020-02-16T00:00:00+00:00\", \"2020-02-17T00:00:00+00:00\", \"2020-02-18T00:00:00+00:00\", \"2020-02-19T00:00:00+00:00\", \"2020-02-20T00:00:00+00:00\", \"2020-02-21T00:00:00+00:00\", \"2020-02-22T00:00:00+00:00\", \"2020-02-23T00:00:00+00:00\", \"2020-02-24T00:00:00+00:00\", \"2020-02-25T00:00:00+00:00\", \"2020-02-26T00:00:00+00:00\", \"2020-02-27T00:00:00+00:00\", \"2020-02-28T00:00:00+00:00\", \"2020-02-29T00:00:00+00:00\", \"2020-03-01T00:00:00+00:00\", \"2020-03-02T00:00:00+00:00\", \"2020-03-03T00:00:00+00:00\", \"2020-03-04T00:00:00+00:00\", \"2020-03-05T00:00:00+00:00\", \"2020-03-06T00:00:00+00:00\", \"2020-03-07T00:00:00+00:00\", \"2020-03-08T00:00:00+00:00\", \"2020-03-09T00:00:00+00:00\", \"2020-03-10T00:00:00+00:00\", \"2020-03-11T00:00:00+00:00\", \"2020-03-12T00:00:00+00:00\", \"2020-03-13T00:00:00+00:00\", \"2020-03-14T00:00:00+00:00\", \"2020-03-15T00:00:00+00:00\", \"2020-03-16T00:00:00+00:00\", \"2020-03-17T00:00:00+00:00\", \"2020-03-18T00:00:00+00:00\", \"2020-03-19T00:00:00+00:00\", \"2020-03-20T00:00:00+00:00\", \"2020-03-21T00:00:00+00:00\", \"2020-03-22T00:00:00+00:00\", \"2020-03-23T00:00:00+00:00\", \"2020-03-24T00:00:00+00:00\", \"2020-03-25T00:00:00+00:00\", \"2020-03-26T00:00:00+00:00\", \"2020-03-27T00:00:00+00:00\", \"2020-03-28T00:00:00+00:00\", \"2020-03-29T00:00:00+00:00\", \"2020-03-30T00:00:00+00:00\", \"2020-03-31T00:00:00+00:00\", \"2020-04-01T00:00:00+00:00\", \"2020-04-02T00:00:00+00:00\", \"2020-04-03T00:00:00+00:00\", \"2020-04-04T00:00:00+00:00\", \"2020-04-05T00:00:00+00:00\", \"2020-04-06T00:00:00+00:00\"], \"y\": [0, 0, 0, 0, 0, 0, 0, 0, 0, 0, 0, 0, 0, 0, 0, 0, 0, 0, 0, 0, 0, 0, 0, 0, 0, 0, 0, 0, 0, 0, 0, 0, 0, 0, 0, 0, 0, 0, 0, 0, 0, 0, 0, 0, 0, 0, 0, 0, 0, 0, 0, 0, 0, 0, 0, 0, 0, 0, 0, 0, 0, 0, 0, 0, 0, 0, 0, 0, 0, 0, 0, 0, 0, 0, 0, 0, 0, 0, 0, 0, 0, 0, 0, 0, 0, 0, 0, 0, 0, 0, 0, 0, 0, 0, 0, 0, 0, 0, 0, 0, 0, 0, 0, 0, 0, 0, 0, 0, 0, 0, 0, 0, 0, 0, 0, 0, 0, 0, 0, 0, 0, 0, 0, 0, 0, 0, 0, 0]}, {\"mode\": \"lines\", \"name\": \"sympt\\u00f4mes\", \"type\": \"scatter\", \"x\": [\"2019-12-01T00:00:00+00:00\", \"2019-12-02T00:00:00+00:00\", \"2019-12-03T00:00:00+00:00\", \"2019-12-04T00:00:00+00:00\", \"2019-12-05T00:00:00+00:00\", \"2019-12-06T00:00:00+00:00\", \"2019-12-07T00:00:00+00:00\", \"2019-12-08T00:00:00+00:00\", \"2019-12-09T00:00:00+00:00\", \"2019-12-10T00:00:00+00:00\", \"2019-12-11T00:00:00+00:00\", \"2019-12-12T00:00:00+00:00\", \"2019-12-13T00:00:00+00:00\", \"2019-12-14T00:00:00+00:00\", \"2019-12-15T00:00:00+00:00\", \"2019-12-16T00:00:00+00:00\", \"2019-12-17T00:00:00+00:00\", \"2019-12-18T00:00:00+00:00\", \"2019-12-19T00:00:00+00:00\", \"2019-12-20T00:00:00+00:00\", \"2019-12-21T00:00:00+00:00\", \"2019-12-22T00:00:00+00:00\", \"2019-12-23T00:00:00+00:00\", \"2019-12-24T00:00:00+00:00\", \"2019-12-25T00:00:00+00:00\", \"2019-12-26T00:00:00+00:00\", \"2019-12-27T00:00:00+00:00\", \"2019-12-28T00:00:00+00:00\", \"2019-12-29T00:00:00+00:00\", \"2019-12-30T00:00:00+00:00\", \"2019-12-31T00:00:00+00:00\", \"2020-01-01T00:00:00+00:00\", \"2020-01-02T00:00:00+00:00\", \"2020-01-03T00:00:00+00:00\", \"2020-01-04T00:00:00+00:00\", \"2020-01-05T00:00:00+00:00\", \"2020-01-06T00:00:00+00:00\", \"2020-01-07T00:00:00+00:00\", \"2020-01-08T00:00:00+00:00\", \"2020-01-09T00:00:00+00:00\", \"2020-01-10T00:00:00+00:00\", \"2020-01-11T00:00:00+00:00\", \"2020-01-12T00:00:00+00:00\", \"2020-01-13T00:00:00+00:00\", \"2020-01-14T00:00:00+00:00\", \"2020-01-15T00:00:00+00:00\", \"2020-01-16T00:00:00+00:00\", \"2020-01-17T00:00:00+00:00\", \"2020-01-18T00:00:00+00:00\", \"2020-01-19T00:00:00+00:00\", \"2020-01-20T00:00:00+00:00\", \"2020-01-21T00:00:00+00:00\", \"2020-01-22T00:00:00+00:00\", \"2020-01-23T00:00:00+00:00\", \"2020-01-24T00:00:00+00:00\", \"2020-01-25T00:00:00+00:00\", \"2020-01-26T00:00:00+00:00\", \"2020-01-27T00:00:00+00:00\", \"2020-01-28T00:00:00+00:00\", \"2020-01-29T00:00:00+00:00\", \"2020-01-30T00:00:00+00:00\", \"2020-01-31T00:00:00+00:00\", \"2020-02-01T00:00:00+00:00\", \"2020-02-02T00:00:00+00:00\", \"2020-02-03T00:00:00+00:00\", \"2020-02-04T00:00:00+00:00\", \"2020-02-05T00:00:00+00:00\", \"2020-02-06T00:00:00+00:00\", \"2020-02-07T00:00:00+00:00\", \"2020-02-08T00:00:00+00:00\", \"2020-02-09T00:00:00+00:00\", \"2020-02-10T00:00:00+00:00\", \"2020-02-11T00:00:00+00:00\", \"2020-02-12T00:00:00+00:00\", \"2020-02-13T00:00:00+00:00\", \"2020-02-14T00:00:00+00:00\", \"2020-02-15T00:00:00+00:00\", \"2020-02-16T00:00:00+00:00\", \"2020-02-17T00:00:00+00:00\", \"2020-02-18T00:00:00+00:00\", \"2020-02-19T00:00:00+00:00\", \"2020-02-20T00:00:00+00:00\", \"2020-02-21T00:00:00+00:00\", \"2020-02-22T00:00:00+00:00\", \"2020-02-23T00:00:00+00:00\", \"2020-02-24T00:00:00+00:00\", \"2020-02-25T00:00:00+00:00\", \"2020-02-26T00:00:00+00:00\", \"2020-02-27T00:00:00+00:00\", \"2020-02-28T00:00:00+00:00\", \"2020-02-29T00:00:00+00:00\", \"2020-03-01T00:00:00+00:00\", \"2020-03-02T00:00:00+00:00\", \"2020-03-03T00:00:00+00:00\", \"2020-03-04T00:00:00+00:00\", \"2020-03-05T00:00:00+00:00\", \"2020-03-06T00:00:00+00:00\", \"2020-03-07T00:00:00+00:00\", \"2020-03-08T00:00:00+00:00\", \"2020-03-09T00:00:00+00:00\", \"2020-03-10T00:00:00+00:00\", \"2020-03-11T00:00:00+00:00\", \"2020-03-12T00:00:00+00:00\", \"2020-03-13T00:00:00+00:00\", \"2020-03-14T00:00:00+00:00\", \"2020-03-15T00:00:00+00:00\", \"2020-03-16T00:00:00+00:00\", \"2020-03-17T00:00:00+00:00\", \"2020-03-18T00:00:00+00:00\", \"2020-03-19T00:00:00+00:00\", \"2020-03-20T00:00:00+00:00\", \"2020-03-21T00:00:00+00:00\", \"2020-03-22T00:00:00+00:00\", \"2020-03-23T00:00:00+00:00\", \"2020-03-24T00:00:00+00:00\", \"2020-03-25T00:00:00+00:00\", \"2020-03-26T00:00:00+00:00\", \"2020-03-27T00:00:00+00:00\", \"2020-03-28T00:00:00+00:00\", \"2020-03-29T00:00:00+00:00\", \"2020-03-30T00:00:00+00:00\", \"2020-03-31T00:00:00+00:00\", \"2020-04-01T00:00:00+00:00\", \"2020-04-02T00:00:00+00:00\", \"2020-04-03T00:00:00+00:00\", \"2020-04-04T00:00:00+00:00\", \"2020-04-05T00:00:00+00:00\", \"2020-04-06T00:00:00+00:00\"], \"y\": [2, 0, 0, 1, 0, 0, 1, 0, 0, 0, 0, 0, 0, 0, 0, 0, 2, 0, 0, 1, 1, 1, 0, 0, 0, 0, 0, 1, 0, 0, 1, 0, 0, 0, 0, 0, 0, 0, 0, 0, 0, 0, 0, 1, 0, 1, 0, 1, 2, 0, 0, 3, 0, 0, 4, 6, 1, 0, 0, 1, 1, 2, 0, 0, 0, 2, 1, 2, 1, 1, 0, 0, 1, 1, 1, 0, 0, 3, 1, 0, 0, 0, 0, 0, 0, 1, 0, 0, 1, 3, 0, 2, 2, 4, 0, 2, 2, 2, 0, 4, 4, 1, 5, 4, 11, 9, 15, 18, 13, 10, 9, 21, 29, 11, 14, 10, 6, 28, 10, 15, 25, 14, 10, 5, 2, 5, 3, 4]}, {\"mode\": \"lines\", \"name\": \"difficult\\u00e9s respiratoires\", \"type\": \"scatter\", \"x\": [\"2019-12-01T00:00:00+00:00\", \"2019-12-02T00:00:00+00:00\", \"2019-12-03T00:00:00+00:00\", \"2019-12-04T00:00:00+00:00\", \"2019-12-05T00:00:00+00:00\", \"2019-12-06T00:00:00+00:00\", \"2019-12-07T00:00:00+00:00\", \"2019-12-08T00:00:00+00:00\", \"2019-12-09T00:00:00+00:00\", \"2019-12-10T00:00:00+00:00\", \"2019-12-11T00:00:00+00:00\", \"2019-12-12T00:00:00+00:00\", \"2019-12-13T00:00:00+00:00\", \"2019-12-14T00:00:00+00:00\", \"2019-12-15T00:00:00+00:00\", \"2019-12-16T00:00:00+00:00\", \"2019-12-17T00:00:00+00:00\", \"2019-12-18T00:00:00+00:00\", \"2019-12-19T00:00:00+00:00\", \"2019-12-20T00:00:00+00:00\", \"2019-12-21T00:00:00+00:00\", \"2019-12-22T00:00:00+00:00\", \"2019-12-23T00:00:00+00:00\", \"2019-12-24T00:00:00+00:00\", \"2019-12-25T00:00:00+00:00\", \"2019-12-26T00:00:00+00:00\", \"2019-12-27T00:00:00+00:00\", \"2019-12-28T00:00:00+00:00\", \"2019-12-29T00:00:00+00:00\", \"2019-12-30T00:00:00+00:00\", \"2019-12-31T00:00:00+00:00\", \"2020-01-01T00:00:00+00:00\", \"2020-01-02T00:00:00+00:00\", \"2020-01-03T00:00:00+00:00\", \"2020-01-04T00:00:00+00:00\", \"2020-01-05T00:00:00+00:00\", \"2020-01-06T00:00:00+00:00\", \"2020-01-07T00:00:00+00:00\", \"2020-01-08T00:00:00+00:00\", \"2020-01-09T00:00:00+00:00\", \"2020-01-10T00:00:00+00:00\", \"2020-01-11T00:00:00+00:00\", \"2020-01-12T00:00:00+00:00\", \"2020-01-13T00:00:00+00:00\", \"2020-01-14T00:00:00+00:00\", \"2020-01-15T00:00:00+00:00\", \"2020-01-16T00:00:00+00:00\", \"2020-01-17T00:00:00+00:00\", \"2020-01-18T00:00:00+00:00\", \"2020-01-19T00:00:00+00:00\", \"2020-01-20T00:00:00+00:00\", \"2020-01-21T00:00:00+00:00\", \"2020-01-22T00:00:00+00:00\", \"2020-01-23T00:00:00+00:00\", \"2020-01-24T00:00:00+00:00\", \"2020-01-25T00:00:00+00:00\", \"2020-01-26T00:00:00+00:00\", \"2020-01-27T00:00:00+00:00\", \"2020-01-28T00:00:00+00:00\", \"2020-01-29T00:00:00+00:00\", \"2020-01-30T00:00:00+00:00\", \"2020-01-31T00:00:00+00:00\", \"2020-02-01T00:00:00+00:00\", \"2020-02-02T00:00:00+00:00\", \"2020-02-03T00:00:00+00:00\", \"2020-02-04T00:00:00+00:00\", \"2020-02-05T00:00:00+00:00\", \"2020-02-06T00:00:00+00:00\", \"2020-02-07T00:00:00+00:00\", \"2020-02-08T00:00:00+00:00\", \"2020-02-09T00:00:00+00:00\", \"2020-02-10T00:00:00+00:00\", \"2020-02-11T00:00:00+00:00\", \"2020-02-12T00:00:00+00:00\", \"2020-02-13T00:00:00+00:00\", \"2020-02-14T00:00:00+00:00\", \"2020-02-15T00:00:00+00:00\", \"2020-02-16T00:00:00+00:00\", \"2020-02-17T00:00:00+00:00\", \"2020-02-18T00:00:00+00:00\", \"2020-02-19T00:00:00+00:00\", \"2020-02-20T00:00:00+00:00\", \"2020-02-21T00:00:00+00:00\", \"2020-02-22T00:00:00+00:00\", \"2020-02-23T00:00:00+00:00\", \"2020-02-24T00:00:00+00:00\", \"2020-02-25T00:00:00+00:00\", \"2020-02-26T00:00:00+00:00\", \"2020-02-27T00:00:00+00:00\", \"2020-02-28T00:00:00+00:00\", \"2020-02-29T00:00:00+00:00\", \"2020-03-01T00:00:00+00:00\", \"2020-03-02T00:00:00+00:00\", \"2020-03-03T00:00:00+00:00\", \"2020-03-04T00:00:00+00:00\", \"2020-03-05T00:00:00+00:00\", \"2020-03-06T00:00:00+00:00\", \"2020-03-07T00:00:00+00:00\", \"2020-03-08T00:00:00+00:00\", \"2020-03-09T00:00:00+00:00\", \"2020-03-10T00:00:00+00:00\", \"2020-03-11T00:00:00+00:00\", \"2020-03-12T00:00:00+00:00\", \"2020-03-13T00:00:00+00:00\", \"2020-03-14T00:00:00+00:00\", \"2020-03-15T00:00:00+00:00\", \"2020-03-16T00:00:00+00:00\", \"2020-03-17T00:00:00+00:00\", \"2020-03-18T00:00:00+00:00\", \"2020-03-19T00:00:00+00:00\", \"2020-03-20T00:00:00+00:00\", \"2020-03-21T00:00:00+00:00\", \"2020-03-22T00:00:00+00:00\", \"2020-03-23T00:00:00+00:00\", \"2020-03-24T00:00:00+00:00\", \"2020-03-25T00:00:00+00:00\", \"2020-03-26T00:00:00+00:00\", \"2020-03-27T00:00:00+00:00\", \"2020-03-28T00:00:00+00:00\", \"2020-03-29T00:00:00+00:00\", \"2020-03-30T00:00:00+00:00\", \"2020-03-31T00:00:00+00:00\", \"2020-04-01T00:00:00+00:00\", \"2020-04-02T00:00:00+00:00\", \"2020-04-03T00:00:00+00:00\", \"2020-04-04T00:00:00+00:00\", \"2020-04-05T00:00:00+00:00\", \"2020-04-06T00:00:00+00:00\"], \"y\": [0, 0, 0, 0, 0, 0, 0, 0, 0, 0, 0, 0, 0, 0, 0, 0, 0, 0, 0, 0, 0, 0, 0, 0, 0, 0, 0, 0, 0, 0, 0, 0, 0, 0, 0, 0, 0, 0, 0, 0, 0, 0, 0, 0, 0, 0, 0, 0, 0, 0, 0, 0, 0, 0, 0, 0, 0, 0, 0, 0, 0, 0, 0, 0, 0, 0, 0, 0, 0, 0, 0, 0, 0, 0, 0, 0, 0, 0, 0, 0, 0, 0, 0, 0, 0, 0, 0, 0, 0, 0, 1, 0, 0, 0, 0, 0, 0, 0, 0, 1, 1, 0, 0, 1, 2, 0, 0, 0, 0, 0, 0, 0, 0, 0, 0, 0, 0, 0, 0, 0, 0, 1, 0, 0, 0, 0, 0, 0]}],\n",
       "                        {\"template\": {\"data\": {\"bar\": [{\"error_x\": {\"color\": \"#2a3f5f\"}, \"error_y\": {\"color\": \"#2a3f5f\"}, \"marker\": {\"line\": {\"color\": \"#E5ECF6\", \"width\": 0.5}}, \"type\": \"bar\"}], \"barpolar\": [{\"marker\": {\"line\": {\"color\": \"#E5ECF6\", \"width\": 0.5}}, \"type\": \"barpolar\"}], \"carpet\": [{\"aaxis\": {\"endlinecolor\": \"#2a3f5f\", \"gridcolor\": \"white\", \"linecolor\": \"white\", \"minorgridcolor\": \"white\", \"startlinecolor\": \"#2a3f5f\"}, \"baxis\": {\"endlinecolor\": \"#2a3f5f\", \"gridcolor\": \"white\", \"linecolor\": \"white\", \"minorgridcolor\": \"white\", \"startlinecolor\": \"#2a3f5f\"}, \"type\": \"carpet\"}], \"choropleth\": [{\"colorbar\": {\"outlinewidth\": 0, \"ticks\": \"\"}, \"type\": \"choropleth\"}], \"contour\": [{\"colorbar\": {\"outlinewidth\": 0, \"ticks\": \"\"}, \"colorscale\": [[0.0, \"#0d0887\"], [0.1111111111111111, \"#46039f\"], [0.2222222222222222, \"#7201a8\"], [0.3333333333333333, \"#9c179e\"], [0.4444444444444444, \"#bd3786\"], [0.5555555555555556, \"#d8576b\"], [0.6666666666666666, \"#ed7953\"], [0.7777777777777778, \"#fb9f3a\"], [0.8888888888888888, \"#fdca26\"], [1.0, \"#f0f921\"]], \"type\": \"contour\"}], \"contourcarpet\": [{\"colorbar\": {\"outlinewidth\": 0, \"ticks\": \"\"}, \"type\": \"contourcarpet\"}], \"heatmap\": [{\"colorbar\": {\"outlinewidth\": 0, \"ticks\": \"\"}, \"colorscale\": [[0.0, \"#0d0887\"], [0.1111111111111111, \"#46039f\"], [0.2222222222222222, \"#7201a8\"], [0.3333333333333333, \"#9c179e\"], [0.4444444444444444, \"#bd3786\"], [0.5555555555555556, \"#d8576b\"], [0.6666666666666666, \"#ed7953\"], [0.7777777777777778, \"#fb9f3a\"], [0.8888888888888888, \"#fdca26\"], [1.0, \"#f0f921\"]], \"type\": \"heatmap\"}], \"heatmapgl\": [{\"colorbar\": {\"outlinewidth\": 0, \"ticks\": \"\"}, \"colorscale\": [[0.0, \"#0d0887\"], [0.1111111111111111, \"#46039f\"], [0.2222222222222222, \"#7201a8\"], [0.3333333333333333, \"#9c179e\"], [0.4444444444444444, \"#bd3786\"], [0.5555555555555556, \"#d8576b\"], [0.6666666666666666, \"#ed7953\"], [0.7777777777777778, \"#fb9f3a\"], [0.8888888888888888, \"#fdca26\"], [1.0, \"#f0f921\"]], \"type\": \"heatmapgl\"}], \"histogram\": [{\"marker\": {\"colorbar\": {\"outlinewidth\": 0, \"ticks\": \"\"}}, \"type\": \"histogram\"}], \"histogram2d\": [{\"colorbar\": {\"outlinewidth\": 0, \"ticks\": \"\"}, \"colorscale\": [[0.0, \"#0d0887\"], [0.1111111111111111, \"#46039f\"], [0.2222222222222222, \"#7201a8\"], [0.3333333333333333, \"#9c179e\"], [0.4444444444444444, \"#bd3786\"], [0.5555555555555556, \"#d8576b\"], [0.6666666666666666, \"#ed7953\"], [0.7777777777777778, \"#fb9f3a\"], [0.8888888888888888, \"#fdca26\"], [1.0, \"#f0f921\"]], \"type\": \"histogram2d\"}], \"histogram2dcontour\": [{\"colorbar\": {\"outlinewidth\": 0, \"ticks\": \"\"}, \"colorscale\": [[0.0, \"#0d0887\"], [0.1111111111111111, \"#46039f\"], [0.2222222222222222, \"#7201a8\"], [0.3333333333333333, \"#9c179e\"], [0.4444444444444444, \"#bd3786\"], [0.5555555555555556, \"#d8576b\"], [0.6666666666666666, \"#ed7953\"], [0.7777777777777778, \"#fb9f3a\"], [0.8888888888888888, \"#fdca26\"], [1.0, \"#f0f921\"]], \"type\": \"histogram2dcontour\"}], \"mesh3d\": [{\"colorbar\": {\"outlinewidth\": 0, \"ticks\": \"\"}, \"type\": \"mesh3d\"}], \"parcoords\": [{\"line\": {\"colorbar\": {\"outlinewidth\": 0, \"ticks\": \"\"}}, \"type\": \"parcoords\"}], \"pie\": [{\"automargin\": true, \"type\": \"pie\"}], \"scatter\": [{\"marker\": {\"colorbar\": {\"outlinewidth\": 0, \"ticks\": \"\"}}, \"type\": \"scatter\"}], \"scatter3d\": [{\"line\": {\"colorbar\": {\"outlinewidth\": 0, \"ticks\": \"\"}}, \"marker\": {\"colorbar\": {\"outlinewidth\": 0, \"ticks\": \"\"}}, \"type\": \"scatter3d\"}], \"scattercarpet\": [{\"marker\": {\"colorbar\": {\"outlinewidth\": 0, \"ticks\": \"\"}}, \"type\": \"scattercarpet\"}], \"scattergeo\": [{\"marker\": {\"colorbar\": {\"outlinewidth\": 0, \"ticks\": \"\"}}, \"type\": \"scattergeo\"}], \"scattergl\": [{\"marker\": {\"colorbar\": {\"outlinewidth\": 0, \"ticks\": \"\"}}, \"type\": \"scattergl\"}], \"scattermapbox\": [{\"marker\": {\"colorbar\": {\"outlinewidth\": 0, \"ticks\": \"\"}}, \"type\": \"scattermapbox\"}], \"scatterpolar\": [{\"marker\": {\"colorbar\": {\"outlinewidth\": 0, \"ticks\": \"\"}}, \"type\": \"scatterpolar\"}], \"scatterpolargl\": [{\"marker\": {\"colorbar\": {\"outlinewidth\": 0, \"ticks\": \"\"}}, \"type\": \"scatterpolargl\"}], \"scatterternary\": [{\"marker\": {\"colorbar\": {\"outlinewidth\": 0, \"ticks\": \"\"}}, \"type\": \"scatterternary\"}], \"surface\": [{\"colorbar\": {\"outlinewidth\": 0, \"ticks\": \"\"}, \"colorscale\": [[0.0, \"#0d0887\"], [0.1111111111111111, \"#46039f\"], [0.2222222222222222, \"#7201a8\"], [0.3333333333333333, \"#9c179e\"], [0.4444444444444444, \"#bd3786\"], [0.5555555555555556, \"#d8576b\"], [0.6666666666666666, \"#ed7953\"], [0.7777777777777778, \"#fb9f3a\"], [0.8888888888888888, \"#fdca26\"], [1.0, \"#f0f921\"]], \"type\": \"surface\"}], \"table\": [{\"cells\": {\"fill\": {\"color\": \"#EBF0F8\"}, \"line\": {\"color\": \"white\"}}, \"header\": {\"fill\": {\"color\": \"#C8D4E3\"}, \"line\": {\"color\": \"white\"}}, \"type\": \"table\"}]}, \"layout\": {\"annotationdefaults\": {\"arrowcolor\": \"#2a3f5f\", \"arrowhead\": 0, \"arrowwidth\": 1}, \"coloraxis\": {\"colorbar\": {\"outlinewidth\": 0, \"ticks\": \"\"}}, \"colorscale\": {\"diverging\": [[0, \"#8e0152\"], [0.1, \"#c51b7d\"], [0.2, \"#de77ae\"], [0.3, \"#f1b6da\"], [0.4, \"#fde0ef\"], [0.5, \"#f7f7f7\"], [0.6, \"#e6f5d0\"], [0.7, \"#b8e186\"], [0.8, \"#7fbc41\"], [0.9, \"#4d9221\"], [1, \"#276419\"]], \"sequential\": [[0.0, \"#0d0887\"], [0.1111111111111111, \"#46039f\"], [0.2222222222222222, \"#7201a8\"], [0.3333333333333333, \"#9c179e\"], [0.4444444444444444, \"#bd3786\"], [0.5555555555555556, \"#d8576b\"], [0.6666666666666666, \"#ed7953\"], [0.7777777777777778, \"#fb9f3a\"], [0.8888888888888888, \"#fdca26\"], [1.0, \"#f0f921\"]], \"sequentialminus\": [[0.0, \"#0d0887\"], [0.1111111111111111, \"#46039f\"], [0.2222222222222222, \"#7201a8\"], [0.3333333333333333, \"#9c179e\"], [0.4444444444444444, \"#bd3786\"], [0.5555555555555556, \"#d8576b\"], [0.6666666666666666, \"#ed7953\"], [0.7777777777777778, \"#fb9f3a\"], [0.8888888888888888, \"#fdca26\"], [1.0, \"#f0f921\"]]}, \"colorway\": [\"#636efa\", \"#EF553B\", \"#00cc96\", \"#ab63fa\", \"#FFA15A\", \"#19d3f3\", \"#FF6692\", \"#B6E880\", \"#FF97FF\", \"#FECB52\"], \"font\": {\"color\": \"#2a3f5f\"}, \"geo\": {\"bgcolor\": \"white\", \"lakecolor\": \"white\", \"landcolor\": \"#E5ECF6\", \"showlakes\": true, \"showland\": true, \"subunitcolor\": \"white\"}, \"hoverlabel\": {\"align\": \"left\"}, \"hovermode\": \"closest\", \"mapbox\": {\"style\": \"light\"}, \"paper_bgcolor\": \"white\", \"plot_bgcolor\": \"#E5ECF6\", \"polar\": {\"angularaxis\": {\"gridcolor\": \"white\", \"linecolor\": \"white\", \"ticks\": \"\"}, \"bgcolor\": \"#E5ECF6\", \"radialaxis\": {\"gridcolor\": \"white\", \"linecolor\": \"white\", \"ticks\": \"\"}}, \"scene\": {\"xaxis\": {\"backgroundcolor\": \"#E5ECF6\", \"gridcolor\": \"white\", \"gridwidth\": 2, \"linecolor\": \"white\", \"showbackground\": true, \"ticks\": \"\", \"zerolinecolor\": \"white\"}, \"yaxis\": {\"backgroundcolor\": \"#E5ECF6\", \"gridcolor\": \"white\", \"gridwidth\": 2, \"linecolor\": \"white\", \"showbackground\": true, \"ticks\": \"\", \"zerolinecolor\": \"white\"}, \"zaxis\": {\"backgroundcolor\": \"#E5ECF6\", \"gridcolor\": \"white\", \"gridwidth\": 2, \"linecolor\": \"white\", \"showbackground\": true, \"ticks\": \"\", \"zerolinecolor\": \"white\"}}, \"shapedefaults\": {\"line\": {\"color\": \"#2a3f5f\"}}, \"ternary\": {\"aaxis\": {\"gridcolor\": \"white\", \"linecolor\": \"white\", \"ticks\": \"\"}, \"baxis\": {\"gridcolor\": \"white\", \"linecolor\": \"white\", \"ticks\": \"\"}, \"bgcolor\": \"#E5ECF6\", \"caxis\": {\"gridcolor\": \"white\", \"linecolor\": \"white\", \"ticks\": \"\"}}, \"title\": {\"x\": 0.05}, \"xaxis\": {\"automargin\": true, \"gridcolor\": \"white\", \"linecolor\": \"white\", \"ticks\": \"\", \"title\": {\"standoff\": 15}, \"zerolinecolor\": \"white\", \"zerolinewidth\": 2}, \"yaxis\": {\"automargin\": true, \"gridcolor\": \"white\", \"linecolor\": \"white\", \"ticks\": \"\", \"title\": {\"standoff\": 15}, \"zerolinecolor\": \"white\", \"zerolinewidth\": 2}}}, \"title\": {\"text\": \"Evolution of symptoms in Ile-de-France\"}},\n",
       "                        {\"responsive\": true}\n",
       "                    ).then(function(){\n",
       "                            \n",
       "var gd = document.getElementById('ce18de92-5ed9-4565-a9a5-0a92f53c5615');\n",
       "var x = new MutationObserver(function (mutations, observer) {{\n",
       "        var display = window.getComputedStyle(gd).display;\n",
       "        if (!display || display === 'none') {{\n",
       "            console.log([gd, 'removed!']);\n",
       "            Plotly.purge(gd);\n",
       "            observer.disconnect();\n",
       "        }}\n",
       "}});\n",
       "\n",
       "// Listen for the removal of the full notebook cells\n",
       "var notebookContainer = gd.closest('#notebook-container');\n",
       "if (notebookContainer) {{\n",
       "    x.observe(notebookContainer, {childList: true});\n",
       "}}\n",
       "\n",
       "// Listen for the clearing of the current output cell\n",
       "var outputEl = gd.closest('.output');\n",
       "if (outputEl) {{\n",
       "    x.observe(outputEl, {childList: true});\n",
       "}}\n",
       "\n",
       "                        })\n",
       "                };\n",
       "                });\n",
       "            </script>\n",
       "        </div>"
      ]
     },
     "metadata": {},
     "output_type": "display_data"
    }
   ],
   "source": [
    "def plot_symptoms_evolution() :\n",
    "    traces=[]\n",
    "    df = tweets[['day'] + list(symptoms_dict_fr.keys())].groupby('day').agg('sum')\n",
    "    for symptom in symptoms_dict_fr.keys():\n",
    "        traces.append(go.Scatter(x = df.index, \n",
    "                                 y = df[symptom].values,\n",
    "                                mode = 'lines',\n",
    "                                name = symptom))\n",
    "    layout = go.Layout(title=\"Evolution of symptoms in Ile-de-France\")\n",
    "    fig = go.Figure(traces, layout)\n",
    "    py.iplot(fig)\n",
    "plot_symptoms_evolution()"
   ]
  },
  {
   "cell_type": "markdown",
   "metadata": {},
   "source": [
    "## Wordclouds of tweets using covid"
   ]
  },
  {
   "cell_type": "code",
   "execution_count": 107,
   "metadata": {
    "ExecuteTime": {
     "end_time": "2020-04-09T11:52:41.333252Z",
     "start_time": "2020-04-09T11:52:39.229777Z"
    }
   },
   "outputs": [],
   "source": [
    "import nltk\n",
    "from nltk.corpus import stopwords\n",
    "from nltk.tokenize import word_tokenize \n",
    "stop_words = set(stopwords.words('french'))\n",
    "from wordcloud import WordCloud\n",
    "\n",
    "\n"
   ]
  },
  {
   "cell_type": "code",
   "execution_count": 113,
   "metadata": {
    "ExecuteTime": {
     "end_time": "2020-04-09T11:56:25.468987Z",
     "start_time": "2020-04-09T11:56:21.612066Z"
    }
   },
   "outputs": [
    {
     "data": {
      "image/png": "[encoded data removed]",
      "text/plain": [
       "<Figure size 432x288 with 1 Axes>"
      ]
     },
     "metadata": {
      "needs_background": "light"
     },
     "output_type": "display_data"
    }
   ],
   "source": [
    "def wordcloud(word) :\n",
    "    # remove stopwords\n",
    "    tokens = word_tokenize(' '.join(tweets.loc[tweets[word]==1, 'full_text']))\n",
    "    tokens = [w for w in tokens if not w in stop_words] \n",
    "    text_clean = ' '.join(tokens)\n",
    "    \n",
    "    #wordcloud\n",
    "    wordcloud = WordCloud(max_font_size=50, max_words=100, background_color=\"white\").generate(text_clean)\n",
    "    plt.figure()\n",
    "    plt.imshow(wordcloud, interpolation='bilinear')\n",
    "    plt.axis(\"off\")\n",
    "    plt.show()\n",
    "wordcloud('covid')"
   ]
  },
  {
   "cell_type": "code",
   "execution_count": 114,
   "metadata": {
    "ExecuteTime": {
     "end_time": "2020-04-09T11:56:34.344680Z",
     "start_time": "2020-04-09T11:56:31.810523Z"
    }
   },
   "outputs": [
    {
     "data": {
      "image/png": "[encoded data removed]",
      "text/plain": [
       "<Figure size 432x288 with 1 Axes>"
      ]
     },
     "metadata": {
      "needs_background": "light"
     },
     "output_type": "display_data"
    }
   ],
   "source": [
    "wordcloud('confinement')"
   ]
  },
  {
   "cell_type": "code",
   "execution_count": 115,
   "metadata": {
    "ExecuteTime": {
     "end_time": "2020-04-09T11:56:45.424394Z",
     "start_time": "2020-04-09T11:56:45.081762Z"
    }
   },
   "outputs": [
    {
     "data": {
      "image/png": "[encoded data removed]",
      "text/plain": [
       "<Figure size 432x288 with 1 Axes>"
      ]
     },
     "metadata": {
      "needs_background": "light"
     },
     "output_type": "display_data"
    }
   ],
   "source": [
    "wordcloud('fièvre')"
   ]
  },
  {
   "cell_type": "code",
   "execution_count": 116,
   "metadata": {
    "ExecuteTime": {
     "end_time": "2020-04-09T11:57:03.639611Z",
     "start_time": "2020-04-09T11:57:03.228603Z"
    }
   },
   "outputs": [
    {
     "data": {
      "image/png": "[encoded data removed]",
      "text/plain": [
       "<Figure size 432x288 with 1 Axes>"
      ]
     },
     "metadata": {
      "needs_background": "light"
     },
     "output_type": "display_data"
    }
   ],
   "source": [
    "wordcloud('toux')"
   ]
  },
  {
   "cell_type": "code",
   "execution_count": null,
   "metadata": {},
   "outputs": [],
   "source": []
  }
 ],
 "metadata": {
  "kernelspec": {
   "display_name": "Python 3",
   "language": "python",
   "name": "python3"
  },
  "language_info": {
   "codemirror_mode": {
    "name": "ipython",
    "version": 3
   },
   "file_extension": ".py",
   "mimetype": "text/x-python",
   "name": "python",
   "nbconvert_exporter": "python",
   "pygments_lexer": "ipython3",
   "version": "3.7.3"
  }
 },
 "nbformat": 4,
 "nbformat_minor": 2
}
