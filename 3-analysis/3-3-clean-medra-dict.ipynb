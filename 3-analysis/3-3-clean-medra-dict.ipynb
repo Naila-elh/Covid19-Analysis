{
 "cells": [
  {
   "cell_type": "code",
   "execution_count": 1,
   "metadata": {},
   "outputs": [],
   "source": [
    "import pandas as pd\n",
    "import unidecode\n",
    "import os\n",
    "\n",
    "import nltk\n",
    "from nltk import word_tokenize\n",
    "from nltk.stem.snowball import SnowballStemmer\n",
    "\n",
    "from ekphrasis.classes.preprocessor import TextPreProcessor\n",
    "from ekphrasis.classes.tokenizer import SocialTokenizer\n",
    "from ekphrasis.dicts.emoticons import emoticons"
   ]
  },
  {
   "cell_type": "code",
   "execution_count": 2,
   "metadata": {},
   "outputs": [],
   "source": [
    "# Paths to data\n",
    "path_to_data = \"../data/\"\n",
    "path_to_external_data = os.path.join(path_to_data, \"external-data/\")"
   ]
  },
  {
   "cell_type": "code",
   "execution_count": 3,
   "metadata": {},
   "outputs": [],
   "source": [
    "language_dict = {'fr' : 'French',\n",
    "                'en' : 'English',\n",
    "                'es' : 'Spanish',\n",
    "                'pt' : 'Portuguese'}"
   ]
  },
  {
   "cell_type": "code",
   "execution_count": 4,
   "metadata": {},
   "outputs": [],
   "source": [
    "def clean_medra(language_code):\n",
    "\n",
    "    medra = pd.read_excel(os.path.join(path_to_external_data,'MedRa','WB_Extract_covid_MedDRA_multilangue_2020_07_02.xlsx'),\n",
    "                         sheet_name = language_dict.get(language_code))\n",
    "\n",
    "    # Clean column 'pt_name' (used as column name later - no spaces, no accents)\n",
    "    medra['pt_name'] = medra['pt_name'].apply(lambda x: unidecode.unidecode(x))\n",
    "    medra['pt_name'] = medra['pt_name'].str.replace(\"'\", \" \").str.replace(' ', '_')\n",
    "\n",
    "    # Cleaning of column llt_name : remove accents and apostrophes\n",
    "    medra['clean_llt_name'] = medra['llt_name'].apply(lambda x: unidecode.unidecode(x))\n",
    "    medra['clean_llt_name'] = medra['clean_llt_name'].str.replace(\"'\", \" \")\n",
    "\n",
    "    # Stem\n",
    "    stemmer = SnowballStemmer(language_dict.get(language_code).lower())\n",
    "    for col in ['llt_name','clean_llt_name'] :\n",
    "        medra['stemmed_'+col] = medra[col].apply(lambda x: ' '.join([stemmer.stem(word) for word in word_tokenize(x)]))\n",
    "        \n",
    "    # Create new col for llt_name clean, without spaces and accents, to be used as a spark columns\n",
    "    medra['llt_name_as_col'] = medra['clean_llt_name'].str.replace(' ','_')\n",
    "    \n",
    "    medra.to_csv(os.path.join(path_to_external_data,'MedRa','medra_lang','medra_'+str(language_code)+'.csv'), index=False)"
   ]
  },
  {
   "cell_type": "code",
   "execution_count": 5,
   "metadata": {},
   "outputs": [],
   "source": [
    "for language_code in list(language_dict.keys()):\n",
    "    clean_medra(language_code)"
   ]
  }
 ],
 "metadata": {
  "kernelspec": {
   "display_name": "Python 3",
   "language": "python",
   "name": "python3"
  },
  "language_info": {
   "codemirror_mode": {
    "name": "ipython",
    "version": 3
   },
   "file_extension": ".py",
   "mimetype": "text/x-python",
   "name": "python",
   "nbconvert_exporter": "python",
   "pygments_lexer": "ipython3",
   "version": "3.7.5"
  }
 },
 "nbformat": 4,
 "nbformat_minor": 4
}
