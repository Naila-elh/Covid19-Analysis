{
 "cells": [
  {
   "cell_type": "code",
   "execution_count": 1,
   "metadata": {
    "ExecuteTime": {
     "end_time": "2020-04-15T21:48:05.837266Z",
     "start_time": "2020-04-15T21:47:59.039181Z"
    }
   },
   "outputs": [],
   "source": [
    "from timeit import default_timer as timer\n",
    "import itertools\n",
    "import os\n",
    "import sys\n",
    "import uuid\n",
    "from glob import glob\n",
    "import json\n",
    "import tweepy\n",
    "import numpy as np\n",
    "import pandas as pd\n",
    "import multiprocessing as mp\n",
    "import psutil\n",
    "import socket\n",
    "from functools import partial\n",
    "import time"
   ]
  },
  {
   "cell_type": "markdown",
   "metadata": {},
   "source": [
    "# Params"
   ]
  },
  {
   "cell_type": "code",
   "execution_count": 2,
   "metadata": {
    "ExecuteTime": {
     "end_time": "2020-04-15T21:48:05.858175Z",
     "start_time": "2020-04-15T21:48:05.843243Z"
    }
   },
   "outputs": [
    {
     "name": "stdout",
     "output_type": "stream",
     "text": [
      "Save Data After Downloading 100 Timelines\n"
     ]
    }
   ],
   "source": [
    "cutoff = 100\n",
    "print('Save Data After Downloading',cutoff,'Timelines')"
   ]
  },
  {
   "cell_type": "code",
   "execution_count": 3,
   "metadata": {
    "ExecuteTime": {
     "end_time": "2020-04-15T21:48:05.941199Z",
     "start_time": "2020-04-15T21:48:05.862202Z"
    }
   },
   "outputs": [
    {
     "name": "stdout",
     "output_type": "stream",
     "text": [
      "SLURM_JOB_ID : 0 (Default)\n",
      "SLURM_ARRAY_TASK_ID : 0 (Default)\n",
      "SLURM_ARRAY_TASK_COUNT : 1 (Default)\n",
      "SLURM_JOB_CPUS_PER_NODE : 16 (Default)\n"
     ]
    }
   ],
   "source": [
    "def get_env_var(varname,default):\n",
    "    \n",
    "    if os.environ.get(varname) != None:\n",
    "        var = int(os.environ.get(varname))\n",
    "        print(varname,':', var)\n",
    "    else:\n",
    "        var = default\n",
    "        print(varname,':', var,'(Default)')\n",
    "    return var\n",
    "\n",
    "# Choose Number of Nodes To Distribute Credentials: e.g. jobarray=0-4, cpu_per_task=20, credentials = 90 (<100)\n",
    "SLURM_JOB_ID            = get_env_var('SLURM_JOB_ID',0)\n",
    "SLURM_ARRAY_TASK_ID     = get_env_var('SLURM_ARRAY_TASK_ID',0)\n",
    "SLURM_ARRAY_TASK_COUNT  = get_env_var('SLURM_ARRAY_TASK_COUNT',1)\n",
    "SLURM_JOB_CPUS_PER_NODE = get_env_var('SLURM_JOB_CPUS_PER_NODE',mp.cpu_count())"
   ]
  },
  {
   "cell_type": "code",
   "execution_count": 4,
   "metadata": {
    "ExecuteTime": {
     "end_time": "2020-04-15T21:48:05.976479Z",
     "start_time": "2020-04-15T21:48:05.950970Z"
    }
   },
   "outputs": [
    {
     "name": "stdout",
     "output_type": "stream",
     "text": [
      "../data/users\n",
      "../keys\n",
      "../data/timelines/API\n"
     ]
    }
   ],
   "source": [
    "path_to_data='../data'\n",
    "path_to_users = os.path.join(path_to_data + '/users')\n",
    "path_to_keys = os.path.join('../keys')\n",
    "path_to_timelines = os.path.join(path_to_data,'timelines','API')\n",
    "os.makedirs(path_to_timelines, exist_ok=True)\n",
    "print(path_to_users)\n",
    "print(path_to_keys)\n",
    "print(path_to_timelines)\n"
   ]
  },
  {
   "cell_type": "markdown",
   "metadata": {},
   "source": [
    "# Credentials"
   ]
  },
  {
   "cell_type": "code",
   "execution_count": 5,
   "metadata": {
    "ExecuteTime": {
     "end_time": "2020-04-15T21:48:33.707151Z",
     "start_time": "2020-04-15T21:48:33.685596Z"
    }
   },
   "outputs": [
    {
     "name": "stdout",
     "output_type": "stream",
     "text": [
      "# Credentials Allocated To Node: 10\n",
      "../keys/key_jihanne.json\n",
      "../keys/key_othmane.json\n",
      "../keys/key_naila.json\n",
      "../keys/key_sam.json\n",
      "../keys/key_cyril.json\n",
      "../keys/key_noemie.json\n",
      "../keys/key_youssr.json\n",
      "../keys/key_marc.json\n",
      "../keys/key_clemence.json\n",
      "../keys/key_naila2.json\n",
      "../keys/auth_naila.json\n"
     ]
    }
   ],
   "source": [
    "def get_key_files(SLURM_ARRAY_TASK_ID,SLURM_ARRAY_TASK_COUNT,SLURM_JOB_CPUS_PER_NODE):\n",
    "\n",
    "    # Randomize set of key files using constant seed\n",
    "    np.random.seed(0)\n",
    "    all_key_files = np.random.permutation(glob(os.path.join(path_to_keys,'key*')))\n",
    "    auth_file = np.random.permutation(glob(os.path.join(path_to_keys,'auth*')))\n",
    "    \n",
    "    # Split file list by node\n",
    "    key_files = np.array_split(all_key_files,SLURM_ARRAY_TASK_COUNT)[SLURM_ARRAY_TASK_ID]\n",
    "    \n",
    "    # Check that node has more CPU than key file \n",
    "    if len(key_files) <= SLURM_JOB_CPUS_PER_NODE:\n",
    "        print('# Credentials Allocated To Node:', len(key_files)) \n",
    "    else:\n",
    "        print('Check environment variables:')\n",
    "        print('# Credentials (',len(key_files),') > # CPU (', SLURM_JOB_CPUS_PER_NODE,')')\n",
    "        print('Only keeping', SLURM_JOB_CPUS_PER_NODE, 'credentials')\n",
    "        key_files = key_files[:SLURM_JOB_CPUS_PER_NODE]\n",
    "        \n",
    "    return key_files, auth_file\n",
    "\n",
    "key_files, auth_file = get_key_files(SLURM_ARRAY_TASK_ID,SLURM_ARRAY_TASK_COUNT,SLURM_JOB_CPUS_PER_NODE)\n",
    "print('\\n'.join(key_files))\n",
    "print('\\n'.join(auth_file))"
   ]
  },
  {
   "cell_type": "code",
   "execution_count": 6,
   "metadata": {
    "ExecuteTime": {
     "end_time": "2020-04-15T21:48:34.371541Z",
     "start_time": "2020-04-15T21:48:34.359538Z"
    }
   },
   "outputs": [],
   "source": [
    "def get_auth(key_file):\n",
    "    \n",
    "    # Import Auth keys\n",
    "    for auth_file in glob(os.path.join(path_to_keys,'auth*')) :\n",
    "        with open (auth_file) as f:\n",
    "            auth_key = json.load(f)\n",
    "    \n",
    "    # Import token pairs\n",
    "    with open(key_file) as f:\n",
    "        key = json.load(f)\n",
    "\n",
    "    # OAuth process, using the keys and tokens\n",
    "    auth = tweepy.OAuthHandler(auth_key['consumer_key'], auth_key['consumer_secret'])\n",
    "    auth.set_access_token(key['access_token'], key['access_token_secret'])\n",
    "\n",
    "    # Creation of the actual interface, using authentication\n",
    "    api = tweepy.API(auth, wait_on_rate_limit=True, wait_on_rate_limit_notify=True)\n",
    "    \n",
    "    try:\n",
    "        api.verify_credentials()\n",
    "        print(key_file,\": Authentication checked\")\n",
    "    except:\n",
    "        print(key_file,\": error during authentication\")\n",
    "        sys.exit('Exit')\n",
    "    \n",
    "    return auth, api"
   ]
  },
  {
   "cell_type": "markdown",
   "metadata": {},
   "source": [
    "# Users list"
   ]
  },
  {
   "cell_type": "code",
   "execution_count": 7,
   "metadata": {
    "ExecuteTime": {
     "end_time": "2020-04-15T21:48:35.373747Z",
     "start_time": "2020-04-15T21:48:35.199017Z"
    }
   },
   "outputs": [
    {
     "name": "stdout",
     "output_type": "stream",
     "text": [
      "Import Users in IDF and Paris\n"
     ]
    }
   ],
   "source": [
    "print('Import Users in IDF and Paris')\n",
    "users_idf = pd.read_json(os.path.join(path_to_users, 'users_idf.json'), lines=True)[0].tolist()\n",
    "users_paris = pd.read_json(os.path.join(path_to_users, 'users_paris.json'), lines=True)[0].tolist()"
   ]
  },
  {
   "cell_type": "code",
   "execution_count": 34,
   "metadata": {},
   "outputs": [
    {
     "name": "stdout",
     "output_type": "stream",
     "text": [
      "Users for which we don't have the timeline\n"
     ]
    }
   ],
   "source": [
    "print(\"Users for which we don't have the timeline\")\n",
    "with open(os.path.join(path_to_timelines,'IDF','success','downloaded_ids.txt'), 'r', encoding='utf-8') as file:\n",
    "    users_idf_downloaded = file.read().splitlines()\n",
    "users_idf_to_download = [item for item in users_idf if item not in users_idf_downloaded]"
   ]
  },
  {
   "cell_type": "markdown",
   "metadata": {},
   "source": [
    "# Get timeline"
   ]
  },
  {
   "cell_type": "code",
   "execution_count": 8,
   "metadata": {
    "ExecuteTime": {
     "end_time": "2020-04-15T21:48:47.680656Z",
     "start_time": "2020-04-15T21:48:47.668500Z"
    }
   },
   "outputs": [],
   "source": [
    "def get_timeline(user_id,api):\n",
    "    \n",
    "    timeline = []\n",
    "    error = None\n",
    "    \n",
    "    # Collect All Statuses in Timeline\n",
    "    try:\n",
    "        cursor = tweepy.Cursor(\n",
    "        api.user_timeline, \n",
    "        user_id=user_id, \n",
    "        count=3200,\n",
    "        tweet_mode=\"extended\", \n",
    "        include_rts=True, \n",
    "        sleep_on_rate_limit=False).items()\n",
    "        \n",
    "        for status in cursor:\n",
    "            timeline.append(status._json)\n",
    "     \n",
    "    except tweepy.error.TweepError as e:\n",
    "        error = str(e)\n",
    "    timeline = pd.DataFrame(timeline, columns = ['id_str','user','full_text','created_at','lang'])\n",
    "    timeline['user_id'] = timeline['user'].apply(lambda x: x.get('id_str'))\n",
    "    timeline['user_name'] = timeline['user'].apply(lambda x: x.get('name'))\n",
    "    return timeline[['id_str','user_id','user_name','full_text','created_at','lang']], error\n",
    "\n",
    "# timeline = get_user_timeline('12',get_auth(key_file))"
   ]
  },
  {
   "cell_type": "code",
   "execution_count": 38,
   "metadata": {
    "ExecuteTime": {
     "end_time": "2020-04-15T21:48:51.247198Z",
     "start_time": "2020-04-15T21:48:51.234295Z"
    },
    "code_folding": [
     0
    ]
   },
   "outputs": [],
   "source": [
    "cutoff=100\n",
    "\n",
    "def download_timelines(index_key,users_list):\n",
    "\n",
    "    # Create Access For Block of Users\n",
    "    api = get_auth(key_files[index_key])[1]\n",
    "    \n",
    "    # Select Block of Users\n",
    "    users_block = np.array_split(users_list,len(key_files))[index_key]\n",
    "    \n",
    "    # Initialize Output File ID\n",
    "    output_id = str(uuid.uuid4())\n",
    "    \n",
    "    # Initialize DataFrame\n",
    "    timelines = pd.DataFrame()\n",
    "    \n",
    "    # Initialize Downloaded User List\n",
    "    downloaded_ids = []\n",
    "    \n",
    "    for user_id in users_block:\n",
    "        #print(str(user_id))\n",
    "        # Try Downloading Timeline\n",
    "        timeline, error = get_timeline(user_id,api)\n",
    "        \n",
    "        if error!=None:\n",
    "            print(user_id,index_key,error)\n",
    "            continue\n",
    "        # Append\n",
    "        timelines = pd.concat([timelines, timeline],sort=False)\n",
    "        downloaded_ids.append(user_id)\n",
    "\n",
    "        #print('appended')\n",
    "\n",
    "        # Save after <cutoff> timelines or when reaching last user\n",
    "        if len(downloaded_ids) == cutoff or user_id == users_block[-1]:\n",
    "            print('save')\n",
    "\n",
    "            filename = \\\n",
    "            'timelines-'+\\\n",
    "            str(SLURM_JOB_ID)+'-'+\\\n",
    "            str(SLURM_ARRAY_TASK_ID)+'-'+\\\n",
    "            str(index_key)+'-'+\\\n",
    "            str(len(downloaded_ids))+'-'+\\\n",
    "            output_id+'.json'\n",
    "            \n",
    "            print('Process', index_key, 'saving', len(downloaded_ids), 'timelines with output file:', \n",
    "            os.path.join(path_to_timelines,'IDF',filename))\n",
    "            \n",
    "            # Save as list of dict discarding index\n",
    "            print('save as list')\n",
    "            timelines.to_json(\n",
    "            os.path.join(path_to_timelines,'IDF',filename),\n",
    "            orient='records',\n",
    "            #force_ascii=False,\n",
    "            date_format=None,\n",
    "            double_precision=15)\n",
    "            \n",
    "            # Save User Id and File In Which Its Timeline Was Saved\n",
    "            print('save user_id')\n",
    "            with open(os.path.join(path_to_timelines,'IDF','success','downloaded_ids.txt'), 'a', encoding='utf-8') as file:\n",
    "                for downloaded_id in downloaded_ids:\n",
    "                    file.write(str(downloaded_id)+'\\n')\n",
    "            print('user_id_saved')\n",
    "            \n",
    "            # Reset Output File ID, Data, and Downloaded Users\n",
    "            print('reset')\n",
    "            del timelines, downloaded_ids\n",
    "            output_id = str(uuid.uuid4())\n",
    "            timelines = pd.DataFrame()\n",
    "            downloaded_ids = []\n",
    "    return 0"
   ]
  },
  {
   "cell_type": "code",
   "execution_count": null,
   "metadata": {
    "ExecuteTime": {
     "start_time": "2020-04-15T21:48:52.455Z"
    },
    "scrolled": true
   },
   "outputs": [
    {
     "name": "stdout",
     "output_type": "stream",
     "text": [
      "Extract Timelines...\n",
      "\n",
      "../keys/key_naila.json : Authentication checked\n",
      "../keys/key_cyril.json : Authentication checked\n",
      "../keys/key_jihanne.json : Authentication checked\n",
      "../keys/key_othmane.json : Authentication checked\n",
      "../keys/key_sam.json : Authentication checked\n",
      "../keys/key_noemie.json : Authentication checked\n",
      "../keys/key_youssr.json : Authentication checked\n",
      "../keys/key_clemence.json : Authentication checked\n",
      "../keys/key_marc.json : Authentication checked\n",
      "../keys/key_naila2.json : Authentication checked\n",
      "464903859 4 Twitter error response: status code = 401\n",
      "1057794546 0 Twitter error response: status code = 401\n",
      "2223133986 6 Twitter error response: status code = 401\n",
      "143728976 3 Twitter error response: status code = 401\n",
      "1239295644336115713 0 Twitter error response: status code = 401\n",
      "739568210 7 Twitter error response: status code = 401\n"
     ]
    },
    {
     "name": "stderr",
     "output_type": "stream",
     "text": [
      "Rate limit reached. Sleeping for: 520\n",
      "Rate limit reached. Sleeping for: 518\n"
     ]
    },
    {
     "name": "stdout",
     "output_type": "stream",
     "text": [
      "1251619861656109058 6 Twitter error response: status code = 401\n"
     ]
    },
    {
     "name": "stderr",
     "output_type": "stream",
     "text": [
      "Rate limit reached. Sleeping for: 497\n",
      "Rate limit reached. Sleeping for: 496\n",
      "Rate limit reached. Sleeping for: 482\n",
      "Rate limit reached. Sleeping for: 481\n",
      "Rate limit reached. Sleeping for: 478\n",
      "Rate limit reached. Sleeping for: 473\n",
      "Rate limit reached. Sleeping for: 469\n",
      "Rate limit reached. Sleeping for: 464\n"
     ]
    },
    {
     "name": "stdout",
     "output_type": "stream",
     "text": [
      "28349211 2 Twitter error response: status code = 401\n",
      "988407190057897984 8 Twitter error response: status code = 503\n",
      "1078627279696265216 8 Twitter error response: status code = 401\n",
      "1187734345580199937 0 Twitter error response: status code = 401\n",
      "340422281 7 Twitter error response: status code = 401\n",
      "1150518223273697280 9 Twitter error response: status code = 401\n",
      "1248643806922244100 2 Twitter error response: status code = 401\n",
      "1119976115672633344 8 Twitter error response: status code = 401\n",
      "154603854 1 Twitter error response: status code = 401\n",
      "save\n",
      "Process 5 saving 100 timelines with output file: ../data/timelines/API/IDF/timelines-0-0-5-100-fc38e4fc-f2d7-4413-afb5-11f307ce04e6.json\n",
      "save as list\n",
      "save user_id\n",
      "user_id_saved\n",
      "reset\n",
      "107728519 6 Twitter error response: status code = 401\n",
      "1247616994792308741 5 Twitter error response: status code = 401\n",
      "save\n",
      "Process 6 saving 100 timelines with output file: ../data/timelines/API/IDF/timelines-0-0-6-100-0a0f76d0-95d8-4358-881f-4ba52ec9533e.json\n",
      "save as list\n",
      "save user_id\n",
      "user_id_saved\n",
      "reset\n",
      "329997432 6 Twitter error response: status code = 401\n",
      "save\n",
      "Process 8 saving 100 timelines with output file: ../data/timelines/API/IDF/timelines-0-0-8-100-33e02890-8066-4763-88cd-5db116c7ed34.json\n",
      "save as list\n",
      "save user_id\n",
      "user_id_saved\n",
      "reset\n",
      "save\n",
      "Process 4 saving 100 timelines with output file: ../data/timelines/API/IDF/timelines-0-0-4-100-b60c56b9-4288-47e2-8c9c-a2bee9c7c88f.json\n",
      "save as list\n",
      "save user_id\n",
      "user_id_saved\n",
      "reset\n",
      "save\n",
      "Process 3 saving 100 timelines with output file: ../data/timelines/API/IDF/timelines-0-0-3-100-334d73a4-5287-4e38-94b4-96c65ac3f2db.json\n",
      "save as list\n",
      "save user_id\n",
      "user_id_saved\n",
      "reset\n",
      "save\n",
      "Process 9 saving 100 timelines with output file: ../data/timelines/API/IDF/timelines-0-0-9-100-e187f55e-d414-4b0a-86eb-93cae989404a.json\n",
      "save as list\n",
      "save user_id\n",
      "user_id_saved\n",
      "reset\n",
      "save\n",
      "Process 7 saving 100 timelines with output file: ../data/timelines/API/IDF/timelines-0-0-7-100-eec0207b-fbae-431f-bb6a-574aeda84d2e.json\n",
      "save as list\n",
      "save user_id\n",
      "user_id_saved\n",
      "reset\n",
      "1240302998116618240 7 Twitter error response: status code = 404\n",
      "save\n",
      "Process 2 saving 100 timelines with output file: ../data/timelines/API/IDF/timelines-0-0-2-100-4e15ea5e-5f36-4ed9-8c68-74f92d0d56e9.json\n",
      "save as list\n",
      "save user_id\n",
      "user_id_saved\n",
      "reset\n",
      "save\n",
      "Process 1 saving 100 timelines with output file: ../data/timelines/API/IDF/timelines-0-0-1-100-c801218e-8a62-4440-a676-52f9ccd158fc.json\n",
      "save as list\n",
      "save user_id\n",
      "user_id_saved\n",
      "reset\n",
      "2356120865 8 Twitter error response: status code = 401\n",
      "414865509 7 Twitter error response: status code = 401\n",
      "1146234952071208960 6 Twitter error response: status code = 401\n",
      "80828770 9 Twitter error response: status code = 401\n",
      "3665827936 1 Twitter error response: status code = 401\n",
      "2198284923 1 Twitter error response: status code = 401\n",
      "save\n",
      "Process 0 saving 100 timelines with output file: ../data/timelines/API/IDF/timelines-0-0-0-100-166755b4-487e-4854-b1f4-78f9b63cfd7b.json\n",
      "save as list\n"
     ]
    },
    {
     "name": "stderr",
     "output_type": "stream",
     "text": [
      "Rate limit reached. Sleeping for: 312\n"
     ]
    },
    {
     "name": "stdout",
     "output_type": "stream",
     "text": [
      "save user_id\n",
      "user_id_saved\n",
      "reset\n"
     ]
    },
    {
     "name": "stderr",
     "output_type": "stream",
     "text": [
      "Rate limit reached. Sleeping for: 320\n",
      "Rate limit reached. Sleeping for: 306\n",
      "Rate limit reached. Sleeping for: 300\n",
      "Rate limit reached. Sleeping for: 288\n",
      "Rate limit reached. Sleeping for: 285\n",
      "Rate limit reached. Sleeping for: 262\n",
      "Rate limit reached. Sleeping for: 280\n",
      "Rate limit reached. Sleeping for: 250\n",
      "Rate limit reached. Sleeping for: 247\n"
     ]
    },
    {
     "name": "stdout",
     "output_type": "stream",
     "text": [
      "348149269 6 Twitter error response: status code = 401\n",
      "save\n",
      "Process 5 saving 100 timelines with output file: ../data/timelines/API/IDF/timelines-0-0-5-100-78c9d18f-7762-47d1-8a79-6ac1610e4fe4.json\n",
      "save as list\n",
      "save user_id\n",
      "user_id_saved\n",
      "reset\n",
      "1187965343672741889 8 Twitter error response: status code = 401\n",
      "1036025028352126978 1 Twitter error response: status code = 401\n",
      "1229489877877710848 7 Twitter error response: status code = 401\n",
      "save\n",
      "Process 6 saving 100 timelines with output file: ../data/timelines/API/IDF/timelines-0-0-6-100-dae031d5-61b9-4491-b75e-1f4e28b9da42.json\n",
      "save as list\n",
      "save user_id\n",
      "user_id_saved\n",
      "reset\n",
      "1235350358727237632 7 Twitter error response: status code = 401\n",
      "save\n",
      "Process 9 saving 100 timelines with output file: ../data/timelines/API/IDF/timelines-0-0-9-100-1087afb7-e519-4d59-8faf-9607efd11c5a.json\n",
      "save as list\n",
      "save user_id\n",
      "user_id_saved\n",
      "reset\n",
      "1236303463124008964 7 Twitter error response: status code = 404\n",
      "1081252262431899650 8 Twitter error response: status code = 401\n",
      "save\n",
      "Process 8 saving 100 timelines with output file: ../data/timelines/API/IDF/timelines-0-0-8-100-77453008-8832-476e-a1a3-c0de81d6e31d.json\n",
      "save as list\n",
      "save user_id\n",
      "user_id_saved\n",
      "reset\n",
      "1283422076 6 Twitter error response: status code = 401\n",
      "1933509240 1 Twitter error response: status code = 401\n",
      "save\n",
      "Process 4 saving 100 timelines with output file: ../data/timelines/API/IDF/timelines-0-0-4-100-eb23f712-8aa1-475f-bb74-7380894faffa.json\n",
      "save as list\n",
      "save user_id\n",
      "user_id_saved\n",
      "reset\n",
      "1224672643577675776 5 Twitter error response: status code = 401\n",
      "save\n",
      "Process 3 saving 100 timelines with output file: ../data/timelines/API/IDF/timelines-0-0-3-100-c8ed23eb-0038-4b05-a190-512b357dcf8d.json\n",
      "save as list\n",
      "save user_id\n",
      "user_id_saved\n",
      "reset\n",
      "1228556323031261184 7 Twitter error response: status code = 404\n",
      "save\n",
      "Process 7 saving 100 timelines with output file: ../data/timelines/API/IDF/timelines-0-0-7-100-2a609202-765a-40f7-b63f-a8ea349dbb79.json\n",
      "save as list\n",
      "save user_id\n",
      "user_id_saved\n",
      "reset\n",
      "723949624453697536 7 Twitter error response: status code = 401\n",
      "871544207059677184 7 Twitter error response: status code = 401\n",
      "851820252 6 Twitter error response: status code = 401\n",
      "1116075216311074816 5 Twitter error response: status code = 401\n",
      "save\n",
      "Process 1 saving 100 timelines with output file: ../data/timelines/API/IDF/timelines-0-0-1-100-63b036b0-2ccc-46be-901a-1d303e8f6c1f.json\n",
      "save as list\n",
      "save user_id\n",
      "user_id_saved\n",
      "reset\n",
      "1222227161484009472 9 Twitter error response: status code = 401\n",
      "1145288196688941056 4 Twitter error response: status code = 401\n"
     ]
    },
    {
     "name": "stderr",
     "output_type": "stream",
     "text": [
      "Rate limit reached. Sleeping for: 360\n",
      "Rate limit reached. Sleeping for: 368\n",
      "Rate limit reached. Sleeping for: 360\n",
      "Rate limit reached. Sleeping for: 359\n",
      "Rate limit reached. Sleeping for: 348\n"
     ]
    },
    {
     "name": "stdout",
     "output_type": "stream",
     "text": [
      "2609141204 1 Twitter error response: status code = 401\n"
     ]
    },
    {
     "name": "stderr",
     "output_type": "stream",
     "text": [
      "Rate limit reached. Sleeping for: 332\n",
      "Rate limit reached. Sleeping for: 322\n",
      "Rate limit reached. Sleeping for: 333\n",
      "Rate limit reached. Sleeping for: 334\n",
      "Rate limit reached. Sleeping for: 307\n"
     ]
    },
    {
     "name": "stdout",
     "output_type": "stream",
     "text": [
      "2322240294 5 Twitter error response: status code = 401\n",
      "save\n",
      "Process 2 saving 100 timelines with output file: ../data/timelines/API/IDF/timelines-0-0-2-100-7b7ec00a-c408-4858-bc44-4690c02686f5.json\n",
      "save as list\n",
      "save user_id\n",
      "user_id_saved\n",
      "reset\n",
      "515649425 7 Twitter error response: status code = 404\n",
      "2580378615 4 Twitter error response: status code = 404\n",
      "274448693 9 Twitter error response: status code = 401\n",
      "269916766 4 Twitter error response: status code = 401\n",
      "1163124996232945665 5 Twitter error response: status code = 401\n",
      "save\n",
      "Process 5 saving 100 timelines with output file: ../data/timelines/API/IDF/timelines-0-0-5-100-9b9cedc1-6870-4675-9063-94bb39e619d2.json\n",
      "save as list\n",
      "save user_id\n",
      "user_id_saved\n",
      "reset\n",
      "save\n",
      "Process 8 saving 100 timelines with output file: ../data/timelines/API/IDF/timelines-0-0-8-100-40bb252d-52c2-40f7-ae68-5a632e302fd1.json\n",
      "save as list\n",
      "save user_id\n",
      "user_id_saved\n",
      "reset\n",
      "1305547003 5 Twitter error response: status code = 401\n",
      "save\n",
      "Process 6 saving 100 timelines with output file: ../data/timelines/API/IDF/timelines-0-0-6-100-3a0a5de6-df51-44bf-868f-a8ee0a07864b.json\n",
      "save as list\n",
      "save\n",
      "Process 9 saving 100 timelines with output file: ../data/timelines/API/IDF/timelines-0-0-9-100-775290ec-3977-4670-bb3e-b383abb16722.json\n",
      "save as list\n",
      "save user_id\n",
      "user_id_saved\n",
      "reset\n",
      "save user_id\n",
      "user_id_saved\n",
      "reset\n",
      "854366095 9 Twitter error response: status code = 401\n",
      "484076037 8 Twitter error response: status code = 401\n",
      "1118069418389590016 9 Twitter error response: status code = 401\n",
      "save\n",
      "Process 0 saving 100 timelines with output file: ../data/timelines/API/IDF/timelines-0-0-0-100-5733ce12-f5c0-479c-b542-41de7ec808b0.json\n",
      "save as list\n",
      "save user_id\n",
      "user_id_saved\n",
      "reset\n",
      "save\n",
      "Process 4 saving 100 timelines with output file: ../data/timelines/API/IDF/timelines-0-0-4-100-352af3e2-696b-4741-ae09-d59c56647430.json\n",
      "save as list\n",
      "save user_id\n",
      "user_id_saved\n",
      "reset\n",
      "838199245 1 Twitter error response: status code = 401\n",
      "save\n",
      "Process 3 saving 100 timelines with output file: ../data/timelines/API/IDF/timelines-0-0-3-100-512357aa-6592-4816-b401-3e94dd5a1c78.json\n",
      "save as list\n",
      "save user_id\n",
      "user_id_saved\n",
      "reset\n",
      "save\n",
      "Process 7 saving 100 timelines with output file: ../data/timelines/API/IDF/timelines-0-0-7-100-8d80e003-3e11-44fa-b1b8-3079117aba64.json\n",
      "save as list\n",
      "save user_id\n",
      "user_id_saved\n",
      "reset\n",
      "4877617907 6 Twitter error response: status code = 401\n",
      "121799165 3 Twitter error response: status code = 401\n"
     ]
    },
    {
     "name": "stderr",
     "output_type": "stream",
     "text": [
      "Rate limit reached. Sleeping for: 365\n",
      "Rate limit reached. Sleeping for: 347\n"
     ]
    },
    {
     "name": "stdout",
     "output_type": "stream",
     "text": [
      "1222876965503410177 0 Twitter error response: status code = 401\n"
     ]
    },
    {
     "name": "stderr",
     "output_type": "stream",
     "text": [
      "Rate limit reached. Sleeping for: 345\n"
     ]
    },
    {
     "name": "stdout",
     "output_type": "stream",
     "text": [
      "1237708791099076608 6 Twitter error response: status code = 401\n"
     ]
    },
    {
     "name": "stderr",
     "output_type": "stream",
     "text": [
      "Rate limit reached. Sleeping for: 334\n",
      "Rate limit reached. Sleeping for: 328\n",
      "Rate limit reached. Sleeping for: 323\n",
      "Rate limit reached. Sleeping for: 341\n",
      "Rate limit reached. Sleeping for: 312\n",
      "Rate limit reached. Sleeping for: 311\n",
      "Rate limit reached. Sleeping for: 282\n"
     ]
    },
    {
     "name": "stdout",
     "output_type": "stream",
     "text": [
      "2532997170 6 Twitter error response: status code = 401\n",
      "1213981371414138880 8 Twitter error response: status code = 401\n",
      "1051547735889973248 2 Twitter error response: status code = 401\n",
      "save\n",
      "Process 1 saving 100 timelines with output file: ../data/timelines/API/IDF/timelines-0-0-1-100-95e78749-b681-4590-aedd-b89d79ef8bcf.json\n",
      "save as list\n",
      "save user_id\n",
      "user_id_saved\n",
      "reset\n",
      "1221447443444838401 8 Twitter error response: status code = 401\n",
      "2394985801 6 Twitter error response: status code = 401\n",
      "1242814446021627904 8 Twitter error response: status code = 401\n",
      "1185518208511553536 7 Twitter error response: status code = 401\n",
      "save\n",
      "Process 6 saving 100 timelines with output file: ../data/timelines/API/IDF/timelines-0-0-6-100-7039832d-93ab-499a-aa1f-bd1ea960a046.json\n",
      "save as list\n",
      "save user_id\n",
      "user_id_saved\n",
      "reset\n",
      "save\n",
      "Process 5 saving 100 timelines with output file: ../data/timelines/API/IDF/timelines-0-0-5-100-a1c4d198-c0e4-49f0-b317-65a884ab36ae.json\n",
      "save as list\n",
      "save user_id\n",
      "user_id_saved\n",
      "reset\n",
      "714555209045909504 5 Twitter error response: status code = 401\n",
      "save\n",
      "Process 2 saving 100 timelines with output file: ../data/timelines/API/IDF/timelines-0-0-2-100-b0bbd66c-9723-40e0-905a-b7e36a7b9a20.json\n",
      "save as list\n",
      "save user_id\n",
      "user_id_saved\n",
      "reset\n",
      "1241135800013783040 6 Twitter error response: status code = 401\n",
      "save\n",
      "Process 8 saving 100 timelines with output file: ../data/timelines/API/IDF/timelines-0-0-8-100-12252120-def4-4382-98ac-8874dba9b8ac.json\n",
      "save as list\n",
      "save user_id\n",
      "user_id_saved\n",
      "reset\n",
      "363814404 7 Twitter error response: status code = 401\n",
      "1395257203 0 Twitter error response: status code = 401\n",
      "1143958700798939136 5 Twitter error response: status code = 401\n",
      "1088423620790104064 1 Twitter error response: status code = 401\n",
      "save\n",
      "Process 9 saving 100 timelines with output file: ../data/timelines/API/IDF/timelines-0-0-9-100-8cdcdec4-0789-411e-a242-4296311323d3.json\n",
      "save as list\n",
      "save user_id\n",
      "user_id_saved\n",
      "reset\n",
      "968869794 4 Twitter error response: status code = 404\n",
      "81664020 8 Twitter error response: status code = 401\n",
      "1598636168 0 Twitter error response: status code = 401\n",
      "1249831278242906112 4 Twitter error response: status code = 401\n",
      "1217580122 9 Twitter error response: status code = 401\n"
     ]
    },
    {
     "name": "stderr",
     "output_type": "stream",
     "text": [
      "Rate limit reached. Sleeping for: 358\n",
      "Rate limit reached. Sleeping for: 364\n"
     ]
    },
    {
     "name": "stdout",
     "output_type": "stream",
     "text": [
      "54059293 8 Twitter error response: status code = 401\n"
     ]
    },
    {
     "name": "stderr",
     "output_type": "stream",
     "text": [
      "Rate limit reached. Sleeping for: 348\n",
      "Rate limit reached. Sleeping for: 349\n",
      "Rate limit reached. Sleeping for: 337\n",
      "Rate limit reached. Sleeping for: 327\n",
      "Rate limit reached. Sleeping for: 300\n",
      "Rate limit reached. Sleeping for: 320\n"
     ]
    },
    {
     "name": "stdout",
     "output_type": "stream",
     "text": [
      "244863241 3 Twitter error response: status code = 401\n"
     ]
    },
    {
     "name": "stderr",
     "output_type": "stream",
     "text": [
      "Rate limit reached. Sleeping for: 286\n",
      "Rate limit reached. Sleeping for: 291\n"
     ]
    },
    {
     "name": "stdout",
     "output_type": "stream",
     "text": [
      "save\n",
      "Process 7 saving 100 timelines with output file: ../data/timelines/API/IDF/timelines-0-0-7-100-bc31de0a-8d82-4d29-b9f2-2a43c701e500.json\n",
      "save as list\n",
      "save user_id\n",
      "user_id_saved\n",
      "reset\n",
      "save\n",
      "Process 4 saving 100 timelines with output file: ../data/timelines/API/IDF/timelines-0-0-4-100-b50c6710-4ed3-4d67-aece-03c67f7b883f.json\n",
      "save as list\n",
      "save user_id\n",
      "user_id_saved\n",
      "reset\n",
      "290981389 0 Twitter error response: status code = 401\n",
      "1243551672024080384 8 Twitter error response: status code = 401\n",
      "save\n",
      "Process 3 saving 100 timelines with output file: ../data/timelines/API/IDF/timelines-0-0-3-100-a73d0f99-583c-4327-a72e-0b9e0b990545.json\n",
      "save as list\n",
      "save user_id\n",
      "user_id_saved\n",
      "reset\n",
      "1237260994684096512 3 Twitter error response: status code = 401\n",
      "770310099940286464 7 Twitter error response: status code = 401\n",
      "save\n",
      "Process 0 saving 100 timelines with output file: ../data/timelines/API/IDF/timelines-0-0-0-100-9a77a5c3-15a4-43a6-b767-625bbe2d4b0a.json\n",
      "save as list\n",
      "save user_id\n",
      "user_id_saved\n",
      "reset\n",
      "1018284667567566848 7 Twitter error response: status code = 401\n",
      "587488487 5 Twitter error response: status code = 401\n",
      "2191624048 6 Twitter error response: status code = 401\n",
      "1241534278246248448 8 Twitter error response: status code = 401\n",
      "2840495013 7 Twitter error response: status code = 401\n",
      "1245397755952074752 3 Twitter error response: status code = 401\n",
      "4837202981 8 Twitter error response: status code = 401\n",
      "1070389078074507265 8 Twitter error response: status code = 401\n",
      "460441721 0 Twitter error response: status code = 401\n",
      "1655664036 5 Twitter error response: status code = 500\n",
      "save\n",
      "Process 6 saving 100 timelines with output file: ../data/timelines/API/IDF/timelines-0-0-6-100-f35c5c29-2134-45a5-8f52-52956147cf13.json\n",
      "save as list\n",
      "save user_id\n",
      "user_id_saved\n",
      "reset\n",
      "1240238471907872769 9 Twitter error response: status code = 401\n",
      "1242151444897292291 7 Twitter error response: status code = 404\n",
      "save\n",
      "Process 8 saving 100 timelines with output file: ../data/timelines/API/IDF/timelines-0-0-8-100-a3ec6d6f-ec5c-46f6-86e9-867d2d1bf65d.json\n",
      "save as list\n",
      "save user_id\n",
      "user_id_saved\n",
      "reset\n",
      "save\n",
      "Process 9 saving 100 timelines with output file: ../data/timelines/API/IDF/timelines-0-0-9-100-de7aeaa4-1f07-442b-86ab-a388535780b9.json\n",
      "save as list\n",
      "1234178980405825536 8 Twitter error response: status code = 401\n",
      "save user_id\n",
      "user_id_saved\n",
      "reset\n",
      "1200709358839054339 7 Twitter error response: status code = 401\n",
      "save\n",
      "Process 1 saving 100 timelines with output file: ../data/timelines/API/IDF/timelines-0-0-1-100-4cd782ad-0213-43db-b542-1889a48d7505.json\n",
      "save as list\n",
      "save user_id\n",
      "user_id_saved\n",
      "reset\n",
      "save\n",
      "Process 5 saving 100 timelines with output file: ../data/timelines/API/IDF/timelines-0-0-5-100-765ab815-6f49-490d-8a7e-d105faf8735e.json\n",
      "save as list\n",
      "save user_id\n",
      "user_id_saved\n",
      "reset\n",
      "1205919841347088385 5 Twitter error response: status code = 401\n"
     ]
    },
    {
     "name": "stderr",
     "output_type": "stream",
     "text": [
      "Rate limit reached. Sleeping for: 352\n",
      "Rate limit reached. Sleeping for: 350\n",
      "Rate limit reached. Sleeping for: 339\n",
      "Rate limit reached. Sleeping for: 339\n",
      "Rate limit reached. Sleeping for: 330\n",
      "Rate limit reached. Sleeping for: 307\n",
      "Rate limit reached. Sleeping for: 326\n",
      "Rate limit reached. Sleeping for: 308\n",
      "Rate limit reached. Sleeping for: 304\n",
      "Rate limit reached. Sleeping for: 282\n"
     ]
    },
    {
     "name": "stdout",
     "output_type": "stream",
     "text": [
      "1205635771572670465 0 Twitter error response: status code = 401\n",
      "save\n",
      "Process 2 saving 100 timelines with output file: ../data/timelines/API/IDF/timelines-0-0-2-100-47f45178-a4ee-4a28-8c14-edcd20194b99.json\n",
      "save as list\n",
      "save user_id\n",
      "user_id_saved\n",
      "reset\n",
      "1545530472 9 Twitter error response: status code = 401\n",
      "1120042115382353920 8 Twitter error response: status code = 401\n",
      "315398241 5 Twitter error response: status code = 401\n",
      "185074648 9 Twitter error response: status code = 401\n",
      "579668208 6 Twitter error response: status code = 401\n",
      "save\n",
      "Process 7 saving 100 timelines with output file: ../data/timelines/API/IDF/timelines-0-0-7-100-6d46f219-3912-4001-9324-f486b75abb6d.json\n",
      "save as list\n",
      "save user_id\n",
      "user_id_saved\n",
      "reset\n",
      "1241883229524615168 7 Twitter error response: status code = 401\n",
      "410327685 9 Twitter error response: status code = 401\n",
      "save\n",
      "Process 4 saving 100 timelines with output file: ../data/timelines/API/IDF/timelines-0-0-4-100-3c02980b-9a7a-431e-b0a7-84368f17d926.json\n",
      "save as list\n",
      "save user_id\n",
      "user_id_saved\n",
      "reset\n",
      "3419766363 8 Twitter error response: status code = 401\n",
      "857180144531902464 3 Twitter error response: status code = 401\n",
      "save\n",
      "Process 3 saving 100 timelines with output file: ../data/timelines/API/IDF/timelines-0-0-3-100-fdfae046-c2c8-4a67-aad3-e112deadef34.json\n",
      "save as list\n",
      "save user_id\n",
      "user_id_saved\n",
      "reset\n",
      "1475634781 8 Twitter error response: status code = 401\n",
      "1087071299745267713 8 Twitter error response: status code = 401\n",
      "save\n",
      "Process 6 saving 100 timelines with output file: ../data/timelines/API/IDF/timelines-0-0-6-100-9995ad87-81fe-47ef-84c0-235673f6261a.json\n",
      "save as list\n",
      "save user_id\n",
      "user_id_saved\n",
      "reset\n",
      "1080223788577579010 9 Twitter error response: status code = 401\n",
      "877994269373583361 7 Twitter error response: status code = 401\n",
      "86403861 9 Twitter error response: status code = 401\n",
      "980388174185844737 8 Twitter error response: status code = 401\n",
      "save\n",
      "Process 8 saving 100 timelines with output file: ../data/timelines/API/IDF/timelines-0-0-8-100-ca68eacc-e539-4ade-a2c9-60413818b55b.json\n",
      "save as list\n",
      "save user_id\n",
      "user_id_saved\n",
      "reset\n",
      "771811735 9 Twitter error response: status code = 401\n"
     ]
    },
    {
     "name": "stderr",
     "output_type": "stream",
     "text": [
      "Rate limit reached. Sleeping for: 355\n",
      "Rate limit reached. Sleeping for: 359\n",
      "Rate limit reached. Sleeping for: 347\n",
      "Rate limit reached. Sleeping for: 342\n",
      "Rate limit reached. Sleeping for: 339\n",
      "Rate limit reached. Sleeping for: 333\n",
      "Rate limit reached. Sleeping for: 344\n",
      "Rate limit reached. Sleeping for: 302\n",
      "Rate limit reached. Sleeping for: 303\n",
      "Rate limit reached. Sleeping for: 306\n"
     ]
    },
    {
     "name": "stdout",
     "output_type": "stream",
     "text": [
      "14640579 7 Twitter error response: status code = 401\n",
      "1196575979478511616 7 Twitter error response: status code = 404\n",
      "save\n",
      "Process 0 saving 100 timelines with output file: ../data/timelines/API/IDF/timelines-0-0-0-100-a68e2ca9-eef6-4f4b-98b2-3d98ee678480.json\n",
      "save as list\n",
      "save user_id\n",
      "user_id_saved\n",
      "reset\n",
      "708382559403712514 0 Twitter error response: status code = 401\n",
      "1026650140147437568 4 Twitter error response: status code = 401\n",
      "save\n",
      "Process 9 saving 100 timelines with output file: ../data/timelines/API/IDF/timelines-0-0-9-100-b398fbdd-5599-4cfd-84dc-7ea0d76c2b97.json\n",
      "save as list\n",
      "save user_id\n",
      "user_id_saved\n",
      "reset\n",
      "save\n",
      "Process 5 saving 100 timelines with output file: ../data/timelines/API/IDF/timelines-0-0-5-100-6cbb46a0-5bd2-4fa5-b9ee-148a8c88b8dc.json\n",
      "save as list\n",
      "save user_id\n",
      "user_id_saved\n",
      "reset\n",
      "2839887351 0 Twitter error response: status code = 401\n",
      "1220687206181851136 8 Twitter error response: status code = 401\n",
      "1205865577522384902 9 Twitter error response: status code = 401\n",
      "798963997 2 Twitter error response: status code = 401\n",
      "save\n",
      "Process 7 saving 100 timelines with output file: ../data/timelines/API/IDF/timelines-0-0-7-100-30823842-8bbe-4966-84e1-fe14e4520635.json\n",
      "save as list\n",
      "save user_id\n",
      "user_id_saved\n",
      "reset\n",
      "save\n",
      "Process 1 saving 100 timelines with output file: ../data/timelines/API/IDF/timelines-0-0-1-100-8bfcf3fa-360f-42b0-a9ef-fca8f7b0318d.json\n",
      "save as list\n",
      "save user_id\n",
      "user_id_saved\n",
      "reset\n",
      "1198011334652256256 9 Twitter error response: status code = 401\n",
      "save\n",
      "Process 2 saving 100 timelines with output file: ../data/timelines/API/IDF/timelines-0-0-2-100-40901f80-2b7e-4ee4-aef5-d4d935126f88.json\n",
      "save as list\n",
      "save user_id\n",
      "user_id_saved\n",
      "reset\n",
      "save\n",
      "Process 4 saving 100 timelines with output file: ../data/timelines/API/IDF/timelines-0-0-4-100-f9d35588-f535-4f58-b2b6-ff5cdc97976d.json\n",
      "save as list\n",
      "save user_id\n",
      "user_id_saved\n",
      "reset\n",
      "476049628 7 Twitter error response: status code = 401\n",
      "save\n",
      "Process 6 saving 100 timelines with output file: ../data/timelines/API/IDF/timelines-0-0-6-100-a69faa7d-3d0c-406e-9010-1013d0095fa4.json\n",
      "save as list\n",
      "save user_id\n",
      "user_id_saved\n",
      "reset\n",
      "617306120 7 Twitter error response: status code = 401\n",
      "save\n",
      "Process 3 saving 100 timelines with output file: ../data/timelines/API/IDF/timelines-0-0-3-100-1ee64546-e59c-4646-b855-f58ce5e8098d.json\n",
      "save as list\n",
      "save user_id\n",
      "user_id_saved\n",
      "reset\n",
      "532991137 8 Twitter error response: status code = 401\n",
      "1230582939760627712 0 Twitter error response: status code = 401\n",
      "1222249032812285955 8 Twitter error response: status code = 401\n",
      "762448575355682816 0 Twitter error response: status code = 401\n"
     ]
    },
    {
     "name": "stderr",
     "output_type": "stream",
     "text": [
      "Rate limit reached. Sleeping for: 370\n",
      "Rate limit reached. Sleeping for: 379\n",
      "Rate limit reached. Sleeping for: 376\n",
      "Rate limit reached. Sleeping for: 369\n",
      "Rate limit reached. Sleeping for: 367\n",
      "Rate limit reached. Sleeping for: 328\n",
      "Rate limit reached. Sleeping for: 332\n"
     ]
    },
    {
     "name": "stdout",
     "output_type": "stream",
     "text": [
      "926603249943302144 0 Twitter error response: status code = 401\n"
     ]
    },
    {
     "name": "stderr",
     "output_type": "stream",
     "text": [
      "Rate limit reached. Sleeping for: 326\n",
      "Rate limit reached. Sleeping for: 332\n",
      "Rate limit reached. Sleeping for: 325\n"
     ]
    },
    {
     "name": "stdout",
     "output_type": "stream",
     "text": [
      "286082576 7 Twitter error response: status code = 401\n",
      "save\n",
      "Process 8 saving 100 timelines with output file: ../data/timelines/API/IDF/timelines-0-0-8-100-72d2d638-9334-4b95-934e-07734d32bb19.json\n",
      "save as list\n",
      "save user_id\n",
      "user_id_saved\n",
      "reset\n",
      "762879373904973824 9 Twitter error response: status code = 401\n",
      "save\n",
      "Process 9 saving 100 timelines with output file: ../data/timelines/API/IDF/timelines-0-0-9-100-2ce78a1e-71a6-4d10-a50b-5edd4ea4477d.json\n",
      "save as list\n",
      "save user_id\n",
      "user_id_saved\n",
      "reset\n",
      "79671535 8 Twitter error response: status code = 401\n",
      "4872874330 7 Twitter error response: status code = 401\n",
      "save\n",
      "Process 5 saving 100 timelines with output file: ../data/timelines/API/IDF/timelines-0-0-5-100-0b73d5b2-f0c6-4218-a110-1bba36c57f01.json\n",
      "save as list\n",
      "save user_id\n",
      "user_id_saved\n",
      "reset\n",
      "129287832 7 Twitter error response: status code = 401\n",
      "4775693663 9 Twitter error response: status code = 401\n",
      "save\n",
      "Process 7 saving 100 timelines with output file: ../data/timelines/API/IDF/timelines-0-0-7-100-31f1561b-a5d5-4971-bd97-1a2b5091794f.json\n",
      "save as list\n",
      "save user_id\n",
      "user_id_saved\n",
      "reset\n",
      "1226371210155565057 3 Twitter error response: status code = 401\n",
      "1244627389583372288 9 Twitter error response: status code = 401\n",
      "1069555136454770688 8 Twitter error response: status code = 401\n",
      "save\n",
      "Process 6 saving 100 timelines with output file: ../data/timelines/API/IDF/timelines-0-0-6-100-38895f95-4c36-46b2-b961-b9ddcee208dd.json\n",
      "save as list\n",
      "save user_id\n",
      "user_id_saved\n",
      "reset\n",
      "save\n",
      "Process 0 saving 100 timelines with output file: ../data/timelines/API/IDF/timelines-0-0-0-100-4437672a-2eb7-4536-817d-2f0315262f46.json\n",
      "save as list\n",
      "save user_id\n",
      "user_id_saved\n",
      "reset\n",
      "save\n",
      "Process 4 saving 100 timelines with output file: ../data/timelines/API/IDF/timelines-0-0-4-100-a47a9f37-ccda-45c2-823f-f30b5336db35.json\n",
      "save as list\n",
      "save user_id\n",
      "user_id_saved\n",
      "reset\n",
      "1030922170313175045 2 Twitter error response: status code = 401\n",
      "1080176568218148865 9 Twitter error response: status code = 401\n",
      "save\n",
      "Process 1 saving 100 timelines with output file: ../data/timelines/API/IDF/timelines-0-0-1-100-4cdf0d38-5cdc-406d-bfd4-577cffda630d.json\n",
      "save as list\n",
      "save user_id\n",
      "user_id_saved\n",
      "reset\n",
      "save\n",
      "Process 2 saving 100 timelines with output file: ../data/timelines/API/IDF/timelines-0-0-2-100-2cbd6b3e-c93e-4563-917e-d098521ae067.json\n",
      "save as list\n",
      "save user_id\n",
      "user_id_saved\n",
      "reset\n",
      "3189860038 7 Twitter error response: status code = 401\n"
     ]
    },
    {
     "name": "stderr",
     "output_type": "stream",
     "text": [
      "Rate limit reached. Sleeping for: 424\n"
     ]
    },
    {
     "name": "stdout",
     "output_type": "stream",
     "text": [
      "976418336132214785 0 Twitter error response: status code = 401\n"
     ]
    },
    {
     "name": "stderr",
     "output_type": "stream",
     "text": [
      "Rate limit reached. Sleeping for: 404\n"
     ]
    },
    {
     "name": "stdout",
     "output_type": "stream",
     "text": [
      "save\n",
      "Process 3 saving 100 timelines with output file: ../data/timelines/API/IDF/timelines-0-0-3-100-b9442484-2d8e-4cec-b69f-7fb55367510a.json\n",
      "save as list\n",
      "save user_id\n",
      "user_id_saved\n",
      "reset\n"
     ]
    },
    {
     "name": "stderr",
     "output_type": "stream",
     "text": [
      "Rate limit reached. Sleeping for: 384\n",
      "Rate limit reached. Sleeping for: 384\n",
      "Rate limit reached. Sleeping for: 380\n",
      "Rate limit reached. Sleeping for: 379\n",
      "Rate limit reached. Sleeping for: 358\n",
      "Rate limit reached. Sleeping for: 364\n",
      "Rate limit reached. Sleeping for: 376\n",
      "Rate limit reached. Sleeping for: 350\n"
     ]
    },
    {
     "name": "stdout",
     "output_type": "stream",
     "text": [
      "1213416215713968128 7 Twitter error response: status code = 401\n",
      "1209597298726060032 7 Twitter error response: status code = 401\n",
      "582976740 9 Twitter error response: status code = 401\n",
      "618340609 4 Twitter error response: status code = 401\n",
      "save\n",
      "Process 8 saving 100 timelines with output file: ../data/timelines/API/IDF/timelines-0-0-8-100-ea3daf59-b613-4621-9fbb-f812f0018ebf.json\n",
      "save as list\n",
      "save user_id\n",
      "user_id_saved\n",
      "reset\n",
      "1244579848594612232 9 Twitter error response: status code = 401\n",
      "1250577438851190784 4 Twitter error response: status code = 401\n",
      "save\n",
      "Process 9 saving 100 timelines with output file: ../data/timelines/API/IDF/timelines-0-0-9-100-f596100c-c51b-480d-834c-e911085bc242.json\n",
      "save as list\n",
      "save user_id\n",
      "user_id_saved\n",
      "reset\n",
      "1008171770132787200 4 Twitter error response: status code = 401\n",
      "1126220377435398144 2 Twitter error response: status code = 401\n",
      "save\n",
      "Process 5 saving 100 timelines with output file: ../data/timelines/API/IDF/timelines-0-0-5-100-2aea6d29-5a3d-4d8c-98cd-408853fbb5b9.json\n",
      "save as list\n",
      "save user_id\n",
      "user_id_saved\n",
      "reset\n",
      "save\n",
      "Process 7 saving 100 timelines with output file: ../data/timelines/API/IDF/timelines-0-0-7-100-94b52690-c7eb-4408-9c95-82bdba963150.json\n",
      "save as list\n",
      "save user_id\n",
      "user_id_saved\n",
      "reset\n"
     ]
    }
   ],
   "source": [
    "print('Extract Timelines...\\n')\n",
    "with mp.Pool() as pool:\n",
    "    #pool.map(partial(download_timelines, users_list=users_idf), range(len(key_files)))\n",
    "    pool.map(partial(download_timelines, users_list=users_idf_to_download), range(len(key_files)))"
   ]
  },
  {
   "cell_type": "code",
   "execution_count": null,
   "metadata": {},
   "outputs": [],
   "source": []
  }
 ],
 "metadata": {
  "kernelspec": {
   "display_name": "Python 3",
   "language": "python",
   "name": "python3"
  },
  "language_info": {
   "codemirror_mode": {
    "name": "ipython",
    "version": 3
   },
   "file_extension": ".py",
   "mimetype": "text/x-python",
   "name": "python",
   "nbconvert_exporter": "python",
   "pygments_lexer": "ipython3",
   "version": "3.7.5"
  }
 },
 "nbformat": 4,
 "nbformat_minor": 2
}
