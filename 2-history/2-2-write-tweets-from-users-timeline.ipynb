{
 "cells": [
  {
   "cell_type": "code",
   "execution_count": 19,
   "metadata": {
    "ExecuteTime": {
     "end_time": "2020-04-09T10:08:34.183801Z",
     "start_time": "2020-04-09T10:08:34.171468Z"
    }
   },
   "outputs": [],
   "source": [
    "import pandas as pd\n",
    "import bz2\n",
    "import os\n",
    "import json\n",
    "import twitter_functions\n",
    "import multiprocessing as mp\n",
    "from time import time\n",
    "import numpy as np\n",
    "import sys"
   ]
  },
  {
   "cell_type": "code",
   "execution_count": 20,
   "metadata": {
    "ExecuteTime": {
     "end_time": "2020-04-09T10:08:34.838778Z",
     "start_time": "2020-04-09T10:08:34.782235Z"
    }
   },
   "outputs": [],
   "source": [
    "path_to_timeline='../data/timelines/API/IDF100_small/'\n",
    "bzs = sorted([x for x in os.listdir(path_to_timeline) if x[-4:]=='json'])"
   ]
  },
  {
   "cell_type": "code",
   "execution_count": 21,
   "metadata": {
    "ExecuteTime": {
     "end_time": "2020-04-09T10:08:35.117266Z",
     "start_time": "2020-04-09T10:08:35.108803Z"
    },
    "scrolled": true
   },
   "outputs": [
    {
     "data": {
      "text/plain": [
       "53"
      ]
     },
     "execution_count": 21,
     "metadata": {},
     "output_type": "execute_result"
    }
   ],
   "source": [
    "len(bzs)"
   ]
  },
  {
   "cell_type": "code",
   "execution_count": 22,
   "metadata": {},
   "outputs": [],
   "source": [
    "def get_tweets(index_block,n_blocks):\n",
    "    df=pd.DataFrame()\n",
    "    for bz in bzs[n_blocks*index_block:n_blocks*(index_block+1)]:\n",
    "        print(str(bz))\n",
    "        with open(path_to_timeline+bz, 'r') as f:\n",
    "            tweets_user = pd.DataFrame(json.load(f))\n",
    "            df = pd.concat([df,tweets_user])\n",
    "    return df"
   ]
  },
  {
   "cell_type": "code",
   "execution_count": 24,
   "metadata": {
    "ExecuteTime": {
     "end_time": "2020-04-09T10:32:26.816194Z",
     "start_time": "2020-04-09T10:08:49.155577Z"
    },
    "scrolled": true
   },
   "outputs": [
    {
     "name": "stdout",
     "output_type": "stream",
     "text": [
      "USE DEFAULT # CORES\n",
      "# PROCESSORS: 16 \n",
      "\n",
      "Read Tweets ...\n",
      "8\n",
      "timelines-0-0-2-100-ece87d5d-99ca-4ecb-8ea9-cda188fe9e2b.json\n",
      "timelines-0-0-0-100-0aeb7cd3-9724-48ff-8718-36fdd6c99ecd.json\n",
      "timelines-0-0-1-100-5866da3a-c37c-4d2f-b3ab-fcf656e19f82.json\n",
      "timelines-0-0-4-100-69a7ce01-65f0-4316-9ca1-48c93ab5cf1f.json\n",
      "timelines-0-0-5-100-44c02157-a57e-4b32-a3bf-0c02f448ae0d.json\n",
      "timelines-0-0-6-100-3457a915-5e76-459b-85f7-b0b82f2b6f7c.json\n",
      "timelines-0-0-7-100-addb9975-1abe-416a-918b-43d8bb90acb7.json\n",
      "[<multiprocessing.pool.ApplyResult object at 0x7f9ec6bf8b50>, <multiprocessing.pool.ApplyResult object at 0x7f9e489c8310>, <multiprocessing.pool.ApplyResult object at 0x7f9e489c8410>, <multiprocessing.pool.ApplyResult object at 0x7f9e489c8490>, <multiprocessing.pool.ApplyResult object at 0x7f9e489c8590>, <multiprocessing.pool.ApplyResult object at 0x7f9e489c82d0>, <multiprocessing.pool.ApplyResult object at 0x7f9e489c8790>, <multiprocessing.pool.ApplyResult object at 0x7f9e489c8890>, <multiprocessing.pool.ApplyResult object at 0x7f9e489c89d0>, <multiprocessing.pool.ApplyResult object at 0x7f9e489c8810>, <multiprocessing.pool.ApplyResult object at 0x7f9e489c8c90>, <multiprocessing.pool.ApplyResult object at 0x7f9e489c8dd0>, <multiprocessing.pool.ApplyResult object at 0x7f9e489c8f10>, <multiprocessing.pool.ApplyResult object at 0x7f9e489c8190>, <multiprocessing.pool.ApplyResult object at 0x7f9e489c4d90>, <multiprocessing.pool.ApplyResult object at 0x7f9e489c4ed0>]\n",
      "concated vraiment\n",
      "timelines-0-0-5-100-467a06f7-06af-4e4f-88ba-3a3b0ef97ea3.json\n",
      "timelines-0-0-6-100-69c039d3-aeb0-41a2-bd68-a02661d7532b.json\n",
      "timelines-0-0-7-100-b04a4c5d-86ad-4d8d-a967-6b11f2bf003e.json\n",
      "timelines-0-0-4-100-a8222567-460b-4a27-a261-73a9b7fafc96.json\n",
      "timelines-0-0-3-100-01177f0b-31d6-4830-bafd-58fe67b74fc6.json\n",
      "timelines-0-0-1-100-ad2e4fa9-3cc7-48f9-9b02-c5d9e637b0b0.json\n",
      "timelines-0-0-0-100-1ffb5bd5-272d-4c61-8b1d-e206dc6ec157.json\n",
      "timelines-0-0-7-100-b1fe44d2-1f94-4062-bd61-d22990e4cc8f.json\n",
      "timelines-0-0-5-100-58112ef4-e495-4661-9d15-7a74c8da0eb5.json\n",
      "timelines-0-0-4-100-b6dad622-ec48-4ba6-a352-b20b3bf3743f.json\n",
      "timelines-0-0-6-100-912be85b-8da5-435f-aba3-e9175c5cada2.json\n",
      "timelines-0-0-3-100-12c63d02-8b93-48c1-bb24-a111f13a0b30.json\n",
      "timelines-0-0-1-100-f551ad8d-91a8-46d5-b065-c297d760de0d.json\n",
      "timelines-0-0-0-100-202030d3-24bb-4068-a28c-512463005ba2.json\n",
      "timelines-0-0-5-100-8f9e32a7-795a-40e1-b74f-2dabd74fbf3d.json\n",
      "timelines-0-0-7-100-c7b30bb9-1623-45f6-99e3-15866e72f4a6.json\n",
      "timelines-0-0-6-100-da448db4-8aad-424f-ab4d-226c6217b06a.json\n",
      "timelines-0-0-4-100-b9334a16-c331-4857-803d-a1462bbb184b.json\n",
      "timelines-0-0-3-100-3b9beaa5-c6ba-49cb-afac-79390fc9348a.json\n",
      "timelines-0-0-2-100-10bce32c-18aa-4ab5-90cb-271583a26a33.json\n",
      "timelines-0-0-0-100-5b443f80-8550-47d9-a530-1f42cb663fd5.json\n",
      "timelines-0-0-7-100-fbf73b56-e599-444b-8b42-971e7b618b2a.json\n",
      "timelines-0-0-5-100-e3cbe0b7-2d32-4a7c-8c31-c86340add06f.json\n",
      "timelines-0-0-6-100-f361a983-2dff-4d10-8442-1438aabda24b.json\n",
      "timelines-0-0-4-100-cae4e8d2-32d4-4ee6-b50c-f4bcdabeefbb.json\n",
      "timelines-0-0-3-100-406ed767-f6a6-4611-ab11-c06f695231e8.json\n",
      "timelines-0-0-5-100-f85a01b6-c2b6-4dad-ba9b-b8507e409e35.json\n",
      "timelines-0-0-2-100-250999ad-58a9-495a-bd65-2fa2a8820a75.json\n",
      "timelines-0-0-7-100-26343701-cc38-402b-a6ff-7d075bf5e58d.json\n",
      "timelines-0-0-0-100-d5e23e1d-8d1b-4b7a-8e94-5dbfa71b4002.json\n",
      "timelines-0-0-4-100-f0d551b6-6c61-4d9c-8aa8-545dce06fd93.json\n",
      "timelines-0-0-6-100-04405b5c-dadb-4ad0-aa10-878ba22248b2.json\n",
      "timelines-0-0-3-100-82a45371-37c4-4bec-8660-37dda7fab450.json\n",
      "timelines-0-0-7-100-74a902b6-48e6-49e4-9e8e-3353db7cd56c.json\n",
      "timelines-0-0-2-100-51b7f0ba-a816-4ca3-8e9d-a19d6fe247ec.json\n",
      "timelines-0-0-5-100-22a5e755-ddf1-4968-b792-97ff94926649.json\n",
      "timelines-0-0-1-100-0ec93941-a1f8-48f8-a713-891526c39747.json\n",
      "timelines-0-0-6-100-15374011-fbc0-4bb2-abf6-f54e16768069.json\n",
      "timelines-0-0-3-100-a14da6df-8b96-4ab3-967e-e30c5e1201e4.json\n",
      "timelines-0-0-7-100-86c3f2c1-d40c-4f15-84fd-35a253d82bfc.json\n",
      "timelines-0-0-5-100-2ce906ac-3ce9-44de-9fa6-3a5529c4bdf7.json\n",
      "timelines-0-0-2-100-dbbe18db-9a60-4692-a252-8d1aeacbf515.json\n",
      "timelines-0-0-1-100-1fee6f97-76bf-4824-8a75-fb848038421b.json\n",
      "timelines-0-0-4-100-1d35420f-aa30-4356-a8dd-de29850ec6c6.json\n",
      "timelines-0-0-2-100-dfb63d30-611d-45b0-82e6-b20ddf742b3f.json\n",
      "timelines-0-0-1-100-28b6055c-9e28-4576-8f37-75b19737f3bb.json\n",
      "done\n",
      "DONE IN 66 SEC\n"
     ]
    }
   ],
   "source": [
    "# # START POOL OF CPUS\n",
    "# try:\n",
    "#     n_cpu = int(os.getenv(\"SLURM_CPUS_PER_TASK\"))\n",
    "#     print('INFER # CORES FROM PBS VARIABLE')\n",
    "# except:\n",
    "#     n_cpu = mp.cpu_count()\n",
    "#     print('USE DEFAULT # CORES')\n",
    "\n",
    "n_cpu = mp.cpu_count()\n",
    "print('USE DEFAULT # CORES')\n",
    "pool  = mp.Pool(processes=n_cpu)\n",
    "print(\"# PROCESSORS:\", n_cpu, \"\\n\")\n",
    "\n",
    "print(\"Read Tweets ...\")\n",
    "start = time()\n",
    "\n",
    "# COMPUTE LIST OF RESULTS\n",
    "n_blocks= len(bzs)//n_cpu + len(bzs)%n_cpu\n",
    "print(n_blocks)\n",
    "results = [pool.apply_async(get_tweets, args=(index_block,n_blocks)) for index_block in range(n_cpu)]\n",
    "print(results)\n",
    "print('concated vraiment')\n",
    "tweets  = pd.concat([results[index_block].get() for index_block in range(n_cpu)]).reset_index(drop=True)\n",
    "print('done')\n",
    "#print(tweets)\n",
    "\n",
    "pool.close()    \n",
    "print(\"DONE IN\", round(time() - start), \"SEC\")"
   ]
  },
  {
   "cell_type": "code",
   "execution_count": 25,
   "metadata": {},
   "outputs": [
    {
     "data": {
      "text/plain": [
       "10657619"
      ]
     },
     "execution_count": 25,
     "metadata": {},
     "output_type": "execute_result"
    }
   ],
   "source": [
    "len(tweets)"
   ]
  },
  {
   "cell_type": "code",
   "execution_count": 26,
   "metadata": {},
   "outputs": [
    {
     "data": {
      "text/plain": [
       "5298"
      ]
     },
     "execution_count": 26,
     "metadata": {},
     "output_type": "execute_result"
    }
   ],
   "source": [
    "len(tweets['user_id'].unique())"
   ]
  },
  {
   "cell_type": "code",
   "execution_count": 27,
   "metadata": {
    "ExecuteTime": {
     "start_time": "2020-04-09T15:12:24.301Z"
    }
   },
   "outputs": [],
   "source": [
    "tweets.to_json(r'../data/timelines_concat/tweets_historic_idf_100.json', orient='index')"
   ]
  }
 ],
 "metadata": {
  "kernelspec": {
   "display_name": "Python 3",
   "language": "python",
   "name": "python3"
  },
  "language_info": {
   "codemirror_mode": {
    "name": "ipython",
    "version": 3
   },
   "file_extension": ".py",
   "mimetype": "text/x-python",
   "name": "python",
   "nbconvert_exporter": "python",
   "pygments_lexer": "ipython3",
   "version": "3.7.5"
  }
 },
 "nbformat": 4,
 "nbformat_minor": 2
}
