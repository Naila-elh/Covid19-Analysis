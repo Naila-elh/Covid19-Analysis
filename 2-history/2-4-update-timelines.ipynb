{
 "cells": [
  {
   "cell_type": "code",
   "execution_count": 1,
   "metadata": {},
   "outputs": [],
   "source": [
    "from timeit import default_timer as timer\n",
    "import itertools\n",
    "import os\n",
    "import sys\n",
    "import uuid\n",
    "from glob import glob\n",
    "from pathlib import Path\n",
    "import json\n",
    "import tweepy\n",
    "import numpy as np\n",
    "import pandas as pd\n",
    "import multiprocessing as mp\n",
    "import psutil\n",
    "import socket\n",
    "from functools import partial\n",
    "import pyarrow.parquet as pq"
   ]
  },
  {
   "cell_type": "markdown",
   "metadata": {},
   "source": [
    "# Params"
   ]
  },
  {
   "cell_type": "code",
   "execution_count": 2,
   "metadata": {},
   "outputs": [
    {
     "name": "stdout",
     "output_type": "stream",
     "text": [
      "Save Data After Downloading 1000 Timelines\n"
     ]
    }
   ],
   "source": [
    "cutoff = 1000\n",
    "print('Save Data After Downloading',cutoff,'Timelines')"
   ]
  },
  {
   "cell_type": "code",
   "execution_count": 3,
   "metadata": {},
   "outputs": [
    {
     "name": "stdout",
     "output_type": "stream",
     "text": [
      "SLURM_JOB_ID : 0 (Default)\n",
      "SLURM_ARRAY_TASK_ID : 0 (Default)\n",
      "SLURM_ARRAY_TASK_COUNT : 1 (Default)\n",
      "SLURM_JOB_CPUS_PER_NODE : 16 (Default)\n"
     ]
    }
   ],
   "source": [
    "def get_env_var(varname,default):\n",
    "    \n",
    "    if os.environ.get(varname) != None:\n",
    "        var = int(os.environ.get(varname))\n",
    "        print(varname,':', var)\n",
    "    else:\n",
    "        var = default\n",
    "        print(varname,':', var,'(Default)')\n",
    "    return var\n",
    "\n",
    "# Choose Number of Nodes To Distribute Credentials: e.g. jobarray=0-4, cpu_per_task=20, credentials = 90 (<100)\n",
    "SLURM_JOB_ID            = get_env_var('SLURM_JOB_ID',0)\n",
    "SLURM_ARRAY_TASK_ID     = get_env_var('SLURM_ARRAY_TASK_ID',0)\n",
    "SLURM_ARRAY_TASK_COUNT  = get_env_var('SLURM_ARRAY_TASK_COUNT',1)\n",
    "SLURM_JOB_CPUS_PER_NODE = get_env_var('SLURM_JOB_CPUS_PER_NODE',mp.cpu_count())"
   ]
  },
  {
   "cell_type": "code",
   "execution_count": 4,
   "metadata": {},
   "outputs": [
    {
     "name": "stdout",
     "output_type": "stream",
     "text": [
      "../data/timelines/API/most_recent_id\n",
      "../keys\n",
      "../data/timelines/API/IDF-updates\n"
     ]
    }
   ],
   "source": [
    "path_to_data='../data'\n",
    "path_to_users_ids = os.path.join(path_to_data + '/users')\n",
    "path_to_users_old = os.path.join(path_to_data,'timelines','API','all_users_ids')\n",
    "path_to_users_recent = os.path.join(path_to_data,'timelines','API','most_recent_id')\n",
    "path_to_keys = os.path.join('../keys')\n",
    "path_to_timelines = os.path.join(path_to_data,'timelines','API','IDF-updates')\n",
    "os.makedirs(path_to_timelines, exist_ok=True)\n",
    "print(path_to_users_recent)\n",
    "print(path_to_keys)\n",
    "print(path_to_timelines)"
   ]
  },
  {
   "cell_type": "markdown",
   "metadata": {},
   "source": [
    "# Credentials"
   ]
  },
  {
   "cell_type": "code",
   "execution_count": 5,
   "metadata": {},
   "outputs": [
    {
     "name": "stdout",
     "output_type": "stream",
     "text": [
      "# Credentials Allocated To Node: 15\n",
      "../keys/key_cyril.json\n",
      "../keys/key_noemie.json\n",
      "../keys/key_othmane.json\n",
      "../keys/key_sam.json\n",
      "../keys/key_liubov.json\n",
      "../keys/key_naila.json\n",
      "../keys/key_jihanne.json\n",
      "../keys/key_chakresh.json\n",
      "../keys/key_charlotte.json\n",
      "../keys/key_youssr.json\n",
      "../keys/key_felix.json\n",
      "../keys/key_marc.json\n",
      "../keys/key_clemence.json\n",
      "../keys/key_naila2.json\n",
      "../keys/key_zoe.json\n",
      "../keys/auth_naila.json\n"
     ]
    }
   ],
   "source": [
    "def get_key_files(SLURM_ARRAY_TASK_ID,SLURM_ARRAY_TASK_COUNT,SLURM_JOB_CPUS_PER_NODE):\n",
    "\n",
    "    # Randomize set of key files using constant seed\n",
    "    np.random.seed(0)\n",
    "    all_key_files = list(np.random.permutation(glob(os.path.join(path_to_keys,'key*'))))\n",
    "   # all_key_files.reverse()\n",
    "    auth_file = np.random.permutation(glob(os.path.join(path_to_keys,'auth*')))\n",
    "    \n",
    "    # Split file list by node\n",
    "    key_files = np.array_split(all_key_files,SLURM_ARRAY_TASK_COUNT)[SLURM_ARRAY_TASK_ID]\n",
    "    \n",
    "    # Check that node has more CPU than key file \n",
    "    if len(key_files) <= SLURM_JOB_CPUS_PER_NODE:\n",
    "        print('# Credentials Allocated To Node:', len(key_files)) \n",
    "    else:\n",
    "        print('Check environment variables:')\n",
    "        print('# Credentials (',len(key_files),') > # CPU (', SLURM_JOB_CPUS_PER_NODE,')')\n",
    "        print('Only keeping', SLURM_JOB_CPUS_PER_NODE, 'credentials')\n",
    "        key_files = key_files[:SLURM_JOB_CPUS_PER_NODE]\n",
    "        \n",
    "    return key_files, auth_file\n",
    "\n",
    "key_files, auth_file = get_key_files(SLURM_ARRAY_TASK_ID,SLURM_ARRAY_TASK_COUNT,SLURM_JOB_CPUS_PER_NODE)\n",
    "print('\\n'.join(key_files))\n",
    "print('\\n'.join(auth_file))"
   ]
  },
  {
   "cell_type": "code",
   "execution_count": 6,
   "metadata": {},
   "outputs": [],
   "source": [
    "def get_auth(key_file):\n",
    "    \n",
    "    # Import Auth keys\n",
    "    for auth_file in glob(os.path.join(path_to_keys,'auth*')) :\n",
    "        with open (auth_file) as f:\n",
    "            auth_key = json.load(f)\n",
    "    \n",
    "    # Import token pairs\n",
    "    with open(key_file) as f:\n",
    "        key = json.load(f)\n",
    "\n",
    "    # OAuth process, using the keys and tokens\n",
    "    auth = tweepy.OAuthHandler(auth_key['consumer_key'], auth_key['consumer_secret'])\n",
    "    auth.set_access_token(key['access_token'], key['access_token_secret'])\n",
    "\n",
    "    # Creation of the actual interface, using authentication\n",
    "    api = tweepy.API(auth, wait_on_rate_limit=True, wait_on_rate_limit_notify=True)\n",
    "    \n",
    "    try:\n",
    "        api.verify_credentials()\n",
    "        print(key_file,\": Authentication checked\")\n",
    "    except:\n",
    "        print(key_file,\": error during authentication\")\n",
    "        sys.exit('Exit')\n",
    "    \n",
    "    return auth, api"
   ]
  },
  {
   "cell_type": "code",
   "execution_count": 7,
   "metadata": {},
   "outputs": [
    {
     "name": "stdout",
     "output_type": "stream",
     "text": [
      "../keys/key_cyril.json : Authentication checked\n",
      "../keys/key_noemie.json : Authentication checked\n",
      "../keys/key_othmane.json : Authentication checked\n",
      "../keys/key_sam.json : Authentication checked\n",
      "../keys/key_liubov.json : Authentication checked\n",
      "../keys/key_naila.json : Authentication checked\n",
      "../keys/key_jihanne.json : Authentication checked\n",
      "../keys/key_chakresh.json : Authentication checked\n",
      "../keys/key_charlotte.json : Authentication checked\n",
      "../keys/key_youssr.json : Authentication checked\n",
      "../keys/key_felix.json : Authentication checked\n",
      "../keys/key_marc.json : Authentication checked\n",
      "../keys/key_clemence.json : Authentication checked\n",
      "../keys/key_naila2.json : Authentication checked\n",
      "../keys/key_zoe.json : Authentication checked\n"
     ]
    }
   ],
   "source": [
    "for file in key_files:\n",
    "    get_auth(file)"
   ]
  },
  {
   "cell_type": "markdown",
   "metadata": {},
   "source": [
    "# Users list"
   ]
  },
  {
   "cell_type": "code",
   "execution_count": 8,
   "metadata": {},
   "outputs": [
    {
     "name": "stdout",
     "output_type": "stream",
     "text": [
      "Select Users...\n",
      "# Users : 30651\n",
      "Computing Time: 1 sec\n"
     ]
    }
   ],
   "source": [
    "start = timer()\n",
    "print('Select Users...')\n",
    "users_old=pq.ParquetDataset([x for x in Path(path_to_users_old).glob(\"**/*.parquet\")]).read().to_pandas()\n",
    "users_recent=pq.ParquetDataset([x for x in Path(path_to_users_recent).glob(\"**/*.parquet\")]).read().to_pandas()\n",
    "#users=pq.ParquetDataset(glob(os.path.join(path_to_users,'*.parquet'))).read().to_pandas()\n",
    "\n",
    "users=pd.concat([users_old, users_recent])\n",
    "users=users.sort_values(by=['user_id','created_at'], ascending=True)\n",
    "users=users.drop_duplicates(subset='user_id', keep='last')\n",
    "\n",
    "# Randomize users\n",
    "users=users.sample(frac=1,random_state=0)\n",
    "\n",
    "print('# Users :', len(users)) \n",
    "\n",
    "end = timer()\n",
    "print('Computing Time:', round(end - start), 'sec')"
   ]
  },
  {
   "cell_type": "code",
   "execution_count": 9,
   "metadata": {
    "scrolled": true
   },
   "outputs": [
    {
     "name": "stdout",
     "output_type": "stream",
     "text": [
      "Remove users whose timeline were successfully downloaded...\n",
      "# downloaded timelines: 0\n",
      "Computing Time: 0 sec\n"
     ]
    }
   ],
   "source": [
    "start = timer()\n",
    "print('Remove users whose timeline were successfully downloaded...')\n",
    "\n",
    "def get_success():\n",
    "    \n",
    "    if not os.path.exists(os.path.join(path_to_timelines, 'success')):\n",
    "        return set()\n",
    "    else:\n",
    "        success = set()\n",
    "        with open(os.path.join(path_to_timelines, 'success'), 'r', encoding='utf-8') as file:\n",
    "            for line in file:\n",
    "                success.add(line.strip('\\n').split('\\t')[0])\n",
    "        return set(success)\n",
    "\n",
    "success=get_success()\n",
    "print('# downloaded timelines:', len(success))\n",
    "\n",
    "users=users[-users.user_id.isin(success)].copy()\n",
    "\n",
    "end = timer()\n",
    "print('Computing Time:', round(end - start), 'sec')"
   ]
  },
  {
   "cell_type": "markdown",
   "metadata": {},
   "source": [
    "## Get timelines"
   ]
  },
  {
   "cell_type": "code",
   "execution_count": 10,
   "metadata": {},
   "outputs": [],
   "source": [
    "def get_timeline(user_id,tweet_id,api):\n",
    "    \n",
    "    timeline = []\n",
    "    error = None\n",
    "    \n",
    "    # Collect All Statuses in Timeline\n",
    "    try:\n",
    "        cursor = tweepy.Cursor(\n",
    "        api.user_timeline, \n",
    "        user_id=user_id, \n",
    "        since_id=tweet_id,\n",
    "        count=3200,\n",
    "        tweet_mode=\"extended\", \n",
    "        include_rts=True).items()\n",
    "        \n",
    "        for status in cursor:\n",
    "            timeline.append(status._json)\n",
    "     \n",
    "    except tweepy.error.TweepError as e:\n",
    "        error = str(e)\n",
    "        \n",
    "    timeline = pd.DataFrame(timeline, columns = ['id_str','user','full_text','created_at','lang','place'])\n",
    "    timeline['user_id'] = timeline['user'].apply(lambda x: x.get('id_str'))\n",
    "    timeline['user_name'] = timeline['user'].apply(lambda x: x.get('name'))\n",
    "    timeline['country_code'] = timeline.loc[~timeline['place'].isna(), 'place'].apply(lambda x: x.get('country_code'))\n",
    "    timeline['bounding_box'] = timeline.loc[~timeline['place'].isna(), 'place'].apply(lambda x: x.get('bounding_box'))\n",
    "    #timeline['coordinates'] = timeline.loc[~timeline['bouding_box'].isna(), 'bouding_box'].apply(lambda x: x.get('coordinates'))\n",
    "    timeline['city'] = timeline.loc[~timeline['place'].isna(), 'place'].apply(lambda x: x.get('full_name'))\n",
    "    \n",
    "    return timeline[['id_str','user_id','user_name','full_text','created_at','lang','country_code',\n",
    "                     'city','bounding_box']], error\n",
    "\n",
    "\n",
    "#timeline = get_timeline('12','1266367509055209473',get_auth(key_files[0])[1])"
   ]
  },
  {
   "cell_type": "code",
   "execution_count": 11,
   "metadata": {},
   "outputs": [
    {
     "name": "stdout",
     "output_type": "stream",
     "text": [
      "../keys/key_cyril.json : Authentication checked\n"
     ]
    }
   ],
   "source": [
    "timeline = get_timeline('2606411695','1267575252898459653',get_auth(key_files[0])[1])"
   ]
  },
  {
   "cell_type": "code",
   "execution_count": 12,
   "metadata": {
    "scrolled": true
   },
   "outputs": [
    {
     "data": {
      "text/plain": [
       "(                 id_str     user_id                        user_name  \\\n",
       " 0   1288050186502242304  2606411695  Nicolas Marguerie Photographies   \n",
       " 1   1283462230814711809  2606411695  Nicolas Marguerie Photographies   \n",
       " 2   1283461388053209093  2606411695  Nicolas Marguerie Photographies   \n",
       " 3   1280923643049119744  2606411695  Nicolas Marguerie Photographies   \n",
       " 4   1280866923631304705  2606411695  Nicolas Marguerie Photographies   \n",
       " 5   1280802757029625856  2606411695  Nicolas Marguerie Photographies   \n",
       " 6   1280800442243563520  2606411695  Nicolas Marguerie Photographies   \n",
       " 7   1280633383375290368  2606411695  Nicolas Marguerie Photographies   \n",
       " 8   1278613949395668992  2606411695  Nicolas Marguerie Photographies   \n",
       " 9   1278354085046075393  2606411695  Nicolas Marguerie Photographies   \n",
       " 10  1278079343944765441  2606411695  Nicolas Marguerie Photographies   \n",
       " 11  1278026876947255296  2606411695  Nicolas Marguerie Photographies   \n",
       " 12  1277649623386140673  2606411695  Nicolas Marguerie Photographies   \n",
       " 13  1276153059522105345  2606411695  Nicolas Marguerie Photographies   \n",
       " 14  1275732931647025153  2606411695  Nicolas Marguerie Photographies   \n",
       " 15  1275006152326164497  2606411695  Nicolas Marguerie Photographies   \n",
       " 16  1275003714152120321  2606411695  Nicolas Marguerie Photographies   \n",
       " 17  1274474934077730818  2606411695  Nicolas Marguerie Photographies   \n",
       " 18  1274473733370056704  2606411695  Nicolas Marguerie Photographies   \n",
       " 19  1274105220184846337  2606411695  Nicolas Marguerie Photographies   \n",
       " 20  1273934985041494016  2606411695  Nicolas Marguerie Photographies   \n",
       " 21  1273586567945129984  2606411695  Nicolas Marguerie Photographies   \n",
       " 22  1272656350997250054  2606411695  Nicolas Marguerie Photographies   \n",
       " 23  1272467943805386753  2606411695  Nicolas Marguerie Photographies   \n",
       " 24  1272309143832068100  2606411695  Nicolas Marguerie Photographies   \n",
       " 25  1272299010511048706  2606411695  Nicolas Marguerie Photographies   \n",
       " 26  1271848930293121024  2606411695  Nicolas Marguerie Photographies   \n",
       " 27  1271758064237019138  2606411695  Nicolas Marguerie Photographies   \n",
       " 28  1271212882013777920  2606411695  Nicolas Marguerie Photographies   \n",
       " \n",
       "                                             full_text  \\\n",
       " 0   Paris, Un 26 Juillet 2020, Via L’ Ile Saint Lo...   \n",
       " 1   https://t.co/7GQJZSURRm \\n#model #frenchmodel ...   \n",
       " 2                             https://t.co/h9I8jkMN6s   \n",
       " 3   Paris, Un 05 Juillet 2020, Via Alexandre III h...   \n",
       " 4   Mélanie B., Un Jour de Décembre 2019… https://...   \n",
       " 5   « Un Jour, Une Femme » serra.lunaserra - Paris...   \n",
       " 6   « La Grande Dame Parisienne » #toureiffel #tou...   \n",
       " 7   Montmartre, Un 02 Juillet 2020 https://t.co/Bv...   \n",
       " 8   « Un Jour, Une Femme » avec @melaniebruel à Pa...   \n",
       " 9   Mélanie Bruel, Un Jour de 17 Décembre 2019... ...   \n",
       " 10  «L’ Élégante » avec serra.lunaserra à Paris......   \n",
       " 11  « Histoire d’ une Rencontre » avec serra.lunas...   \n",
       " 12     Paris, Un 28 Juin 2020 https://t.co/DrTrZ4gFz6   \n",
       " 13  « Un Jour, Une Femme » @melaniebruel  - Paris ...   \n",
       " 14  « Paris, Un Jour de Juin 2020 » #shotoniphone ...   \n",
       " 15  « Paris, un jour de Juin 2020 » #toureiffel #m...   \n",
       " 16  With serra.lunaserra , shootinghaussmannien - ...   \n",
       " 17  \"Un Jour, Une Femme\" - Paris 2020\\n#woman #gir...   \n",
       " 18  \"Paris, Un Jour de Juin 2020\"\\n#toureiffel #Pa...   \n",
       " 19  Paris, Un 1er Juin 2020, Via Les Tuileries et ...   \n",
       " 20  « Un Jour, Une Femme » avec serra.lunaserra , ...   \n",
       " 21     Paris, Un 16 Juin 2020 https://t.co/YdHZHDKkXW   \n",
       " 22  Paris, Un 15 Juin 2020, Via L’ Ile de La Cité ...   \n",
       " 23  « One Day of June 2020, with Luna » serra.luna...   \n",
       " 24  « Un Jour, Une Femme », avec serra.lunaserra -...   \n",
       " 25  Paris, Un 11 Juin 2020, Via Saint André Des Ar...   \n",
       " 26  « Un Jour, Une Femme » avec serra.lunaserra - ...   \n",
       " 27  « Un Jour Un Femme », avec serra.lunaserra - P...   \n",
       " 28  « Un Jour. une Femme » serra.lunaserra  - Pari...   \n",
       " \n",
       "                         created_at lang country_code           city  \\\n",
       " 0   Tue Jul 28 09:54:29 +0000 2020   fr          NaN            NaN   \n",
       " 1   Wed Jul 15 18:03:36 +0000 2020  und          NaN            NaN   \n",
       " 2   Wed Jul 15 18:00:15 +0000 2020  und          NaN            NaN   \n",
       " 3   Wed Jul 08 17:56:09 +0000 2020   fr          NaN            NaN   \n",
       " 4   Wed Jul 08 14:10:46 +0000 2020   fr          NaN            NaN   \n",
       " 5   Wed Jul 08 09:55:48 +0000 2020   fr           FR  Paris, France   \n",
       " 6   Wed Jul 08 09:46:36 +0000 2020   fr           FR  Paris, France   \n",
       " 7   Tue Jul 07 22:42:46 +0000 2020   fr          NaN            NaN   \n",
       " 8   Thu Jul 02 08:58:15 +0000 2020   fr           FR  Paris, France   \n",
       " 9   Wed Jul 01 15:45:39 +0000 2020   fr          NaN            NaN   \n",
       " 10  Tue Jun 30 21:33:55 +0000 2020   fr           FR  Paris, France   \n",
       " 11  Tue Jun 30 18:05:26 +0000 2020   fr           FR  Paris, France   \n",
       " 12  Mon Jun 29 17:06:22 +0000 2020   fr          NaN            NaN   \n",
       " 13  Thu Jun 25 13:59:33 +0000 2020   fr           FR  Paris, France   \n",
       " 14  Wed Jun 24 10:10:07 +0000 2020   fr           FR  Paris, France   \n",
       " 15  Mon Jun 22 10:02:09 +0000 2020   fr           FR  Paris, France   \n",
       " 16  Mon Jun 22 09:52:28 +0000 2020   fr           FR  Paris, France   \n",
       " 17  Sat Jun 20 22:51:17 +0000 2020   fr          NaN            NaN   \n",
       " 18  Sat Jun 20 22:46:31 +0000 2020   fr          NaN            NaN   \n",
       " 19  Fri Jun 19 22:22:10 +0000 2020   fr          NaN            NaN   \n",
       " 20  Fri Jun 19 11:05:43 +0000 2020   fr           FR  Paris, France   \n",
       " 21  Thu Jun 18 12:01:14 +0000 2020   fr          NaN            NaN   \n",
       " 22  Mon Jun 15 22:24:53 +0000 2020   fr          NaN            NaN   \n",
       " 23  Mon Jun 15 09:56:13 +0000 2020   pt           FR  Paris, France   \n",
       " 24  Sun Jun 14 23:25:12 +0000 2020   fr          NaN            NaN   \n",
       " 25  Sun Jun 14 22:44:56 +0000 2020   fr          NaN            NaN   \n",
       " 26  Sat Jun 13 16:56:29 +0000 2020   fr           FR  Paris, France   \n",
       " 27  Sat Jun 13 10:55:25 +0000 2020   fr           FR  Paris, France   \n",
       " 28  Thu Jun 11 22:49:03 +0000 2020   fr           FR  Paris, France   \n",
       " \n",
       "                                          bounding_box  \n",
       " 0                                                 NaN  \n",
       " 1                                                 NaN  \n",
       " 2                                                 NaN  \n",
       " 3                                                 NaN  \n",
       " 4                                                 NaN  \n",
       " 5   {'type': 'Polygon', 'coordinates': [[[2.224100...  \n",
       " 6   {'type': 'Polygon', 'coordinates': [[[2.224100...  \n",
       " 7                                                 NaN  \n",
       " 8   {'type': 'Polygon', 'coordinates': [[[2.224100...  \n",
       " 9                                                 NaN  \n",
       " 10  {'type': 'Polygon', 'coordinates': [[[2.224100...  \n",
       " 11  {'type': 'Polygon', 'coordinates': [[[2.224100...  \n",
       " 12                                                NaN  \n",
       " 13  {'type': 'Polygon', 'coordinates': [[[2.224100...  \n",
       " 14  {'type': 'Polygon', 'coordinates': [[[2.224100...  \n",
       " 15  {'type': 'Polygon', 'coordinates': [[[2.224100...  \n",
       " 16  {'type': 'Polygon', 'coordinates': [[[2.224100...  \n",
       " 17                                                NaN  \n",
       " 18                                                NaN  \n",
       " 19                                                NaN  \n",
       " 20  {'type': 'Polygon', 'coordinates': [[[2.224100...  \n",
       " 21                                                NaN  \n",
       " 22                                                NaN  \n",
       " 23  {'type': 'Polygon', 'coordinates': [[[2.224100...  \n",
       " 24                                                NaN  \n",
       " 25                                                NaN  \n",
       " 26  {'type': 'Polygon', 'coordinates': [[[2.224100...  \n",
       " 27  {'type': 'Polygon', 'coordinates': [[[2.224100...  \n",
       " 28  {'type': 'Polygon', 'coordinates': [[[2.224100...  ,\n",
       " None)"
      ]
     },
     "execution_count": 12,
     "metadata": {},
     "output_type": "execute_result"
    }
   ],
   "source": [
    "timeline"
   ]
  },
  {
   "cell_type": "code",
   "execution_count": 13,
   "metadata": {},
   "outputs": [
    {
     "data": {
      "text/html": [
       "<div>\n",
       "<style scoped>\n",
       "    .dataframe tbody tr th:only-of-type {\n",
       "        vertical-align: middle;\n",
       "    }\n",
       "\n",
       "    .dataframe tbody tr th {\n",
       "        vertical-align: top;\n",
       "    }\n",
       "\n",
       "    .dataframe thead th {\n",
       "        text-align: right;\n",
       "    }\n",
       "</style>\n",
       "<table border=\"1\" class=\"dataframe\">\n",
       "  <thead>\n",
       "    <tr style=\"text-align: right;\">\n",
       "      <th></th>\n",
       "      <th>id_str</th>\n",
       "      <th>created_at</th>\n",
       "      <th>full_text</th>\n",
       "      <th>lang</th>\n",
       "      <th>user_id</th>\n",
       "      <th>user_name</th>\n",
       "      <th>country_code</th>\n",
       "      <th>city</th>\n",
       "      <th>coordinates</th>\n",
       "      <th>bounding_box_type</th>\n",
       "    </tr>\n",
       "  </thead>\n",
       "  <tbody>\n",
       "    <tr>\n",
       "      <th>43305</th>\n",
       "      <td>1271069157346459649</td>\n",
       "      <td>2020-06-11 13:17:57</td>\n",
       "      <td>RT @liamgallagher: Pints of lager c’mon Boris ...</td>\n",
       "      <td>en</td>\n",
       "      <td>283204345</td>\n",
       "      <td>Torabisu Sukotto</td>\n",
       "      <td>None</td>\n",
       "      <td>None</td>\n",
       "      <td>None</td>\n",
       "      <td>None</td>\n",
       "    </tr>\n",
       "    <tr>\n",
       "      <th>44557</th>\n",
       "      <td>1267184323251273728</td>\n",
       "      <td>2020-05-31 20:01:00</td>\n",
       "      <td>@LaurRin_ @CAgiusILD @DenoyelleW @WrestleMania...</td>\n",
       "      <td>und</td>\n",
       "      <td>563365714</td>\n",
       "      <td>dick riviere</td>\n",
       "      <td>FR</td>\n",
       "      <td>Paris, France</td>\n",
       "      <td>[[[2.2241006, 48.8155214], [2.4699053, 48.8155...</td>\n",
       "      <td>Polygon</td>\n",
       "    </tr>\n",
       "    <tr>\n",
       "      <th>8409</th>\n",
       "      <td>1273016822665818112</td>\n",
       "      <td>2020-06-16 22:17:16</td>\n",
       "      <td>Mercredi de bonheur \\n#BLACK_LIVES_MATTER http...</td>\n",
       "      <td>fr</td>\n",
       "      <td>883826000261459968</td>\n",
       "      <td>mack ten</td>\n",
       "      <td>FR</td>\n",
       "      <td>Dammarie-les-Lys, France</td>\n",
       "      <td>[[[2.5848515, 48.4946347], [2.6551137, 48.4946...</td>\n",
       "      <td>Polygon</td>\n",
       "    </tr>\n",
       "    <tr>\n",
       "      <th>44893</th>\n",
       "      <td>1270604929992925184</td>\n",
       "      <td>2020-06-10 06:33:16</td>\n",
       "      <td>RT @spopow9: ALORS COMME ÇA QUAND C’EST UN REB...</td>\n",
       "      <td>fr</td>\n",
       "      <td>736811823429746688</td>\n",
       "      <td>shikamaru</td>\n",
       "      <td>None</td>\n",
       "      <td>None</td>\n",
       "      <td>None</td>\n",
       "      <td>None</td>\n",
       "    </tr>\n",
       "    <tr>\n",
       "      <th>33494</th>\n",
       "      <td>1266145402530693121</td>\n",
       "      <td>2020-05-28 23:12:42</td>\n",
       "      <td>RT @Harvard: Today, Harvard awarded a total of...</td>\n",
       "      <td>en</td>\n",
       "      <td>202501528</td>\n",
       "      <td>Harvard Club France</td>\n",
       "      <td>None</td>\n",
       "      <td>None</td>\n",
       "      <td>None</td>\n",
       "      <td>None</td>\n",
       "    </tr>\n",
       "    <tr>\n",
       "      <th>...</th>\n",
       "      <td>...</td>\n",
       "      <td>...</td>\n",
       "      <td>...</td>\n",
       "      <td>...</td>\n",
       "      <td>...</td>\n",
       "      <td>...</td>\n",
       "      <td>...</td>\n",
       "      <td>...</td>\n",
       "      <td>...</td>\n",
       "      <td>...</td>\n",
       "    </tr>\n",
       "    <tr>\n",
       "      <th>6725</th>\n",
       "      <td>1285870131030167552</td>\n",
       "      <td>2020-07-22 09:31:44</td>\n",
       "      <td>RT @berarddemalavas: Mise à jour du FAQ de @Tr...</td>\n",
       "      <td>fr</td>\n",
       "      <td>240194563</td>\n",
       "      <td>Cgt Interforum Editis Informer-Alerter-Mobiliser</td>\n",
       "      <td>None</td>\n",
       "      <td>None</td>\n",
       "      <td>None</td>\n",
       "      <td>None</td>\n",
       "    </tr>\n",
       "    <tr>\n",
       "      <th>7740</th>\n",
       "      <td>1278791674362200066</td>\n",
       "      <td>2020-07-02 20:44:28</td>\n",
       "      <td>🤍 \\n\\n(🔜 #Calogero @calogerofficiel)</td>\n",
       "      <td>und</td>\n",
       "      <td>401703279</td>\n",
       "      <td>cyrille sauzéat</td>\n",
       "      <td>None</td>\n",
       "      <td>None</td>\n",
       "      <td>None</td>\n",
       "      <td>None</td>\n",
       "    </tr>\n",
       "    <tr>\n",
       "      <th>6203</th>\n",
       "      <td>1285188824084160514</td>\n",
       "      <td>2020-07-20 12:24:27</td>\n",
       "      <td>RT @05_Arslanbekov: Hahahha ca m’tue à la fin ...</td>\n",
       "      <td>fr</td>\n",
       "      <td>1606669932</td>\n",
       "      <td>Aldina</td>\n",
       "      <td>None</td>\n",
       "      <td>None</td>\n",
       "      <td>None</td>\n",
       "      <td>None</td>\n",
       "    </tr>\n",
       "    <tr>\n",
       "      <th>6352</th>\n",
       "      <td>1285518247484366849</td>\n",
       "      <td>2020-07-21 10:13:28</td>\n",
       "      <td>RT @FloLecointre: Accueil #presse @VisitCoteda...</td>\n",
       "      <td>fr</td>\n",
       "      <td>1872787320</td>\n",
       "      <td>Nathalie Dalmasso</td>\n",
       "      <td>None</td>\n",
       "      <td>None</td>\n",
       "      <td>None</td>\n",
       "      <td>None</td>\n",
       "    </tr>\n",
       "    <tr>\n",
       "      <th>5282</th>\n",
       "      <td>1281176717768437770</td>\n",
       "      <td>2020-07-09 10:41:47</td>\n",
       "      <td>RT @Mslavishh: God please make me rich. I prom...</td>\n",
       "      <td>en</td>\n",
       "      <td>1110310835753234433</td>\n",
       "      <td>rayane</td>\n",
       "      <td>None</td>\n",
       "      <td>None</td>\n",
       "      <td>None</td>\n",
       "      <td>None</td>\n",
       "    </tr>\n",
       "  </tbody>\n",
       "</table>\n",
       "<p>30651 rows × 10 columns</p>\n",
       "</div>"
      ],
      "text/plain": [
       "                    id_str          created_at  \\\n",
       "43305  1271069157346459649 2020-06-11 13:17:57   \n",
       "44557  1267184323251273728 2020-05-31 20:01:00   \n",
       "8409   1273016822665818112 2020-06-16 22:17:16   \n",
       "44893  1270604929992925184 2020-06-10 06:33:16   \n",
       "33494  1266145402530693121 2020-05-28 23:12:42   \n",
       "...                    ...                 ...   \n",
       "6725   1285870131030167552 2020-07-22 09:31:44   \n",
       "7740   1278791674362200066 2020-07-02 20:44:28   \n",
       "6203   1285188824084160514 2020-07-20 12:24:27   \n",
       "6352   1285518247484366849 2020-07-21 10:13:28   \n",
       "5282   1281176717768437770 2020-07-09 10:41:47   \n",
       "\n",
       "                                               full_text lang  \\\n",
       "43305  RT @liamgallagher: Pints of lager c’mon Boris ...   en   \n",
       "44557  @LaurRin_ @CAgiusILD @DenoyelleW @WrestleMania...  und   \n",
       "8409   Mercredi de bonheur \\n#BLACK_LIVES_MATTER http...   fr   \n",
       "44893  RT @spopow9: ALORS COMME ÇA QUAND C’EST UN REB...   fr   \n",
       "33494  RT @Harvard: Today, Harvard awarded a total of...   en   \n",
       "...                                                  ...  ...   \n",
       "6725   RT @berarddemalavas: Mise à jour du FAQ de @Tr...   fr   \n",
       "7740                🤍 \\n\\n(🔜 #Calogero @calogerofficiel)  und   \n",
       "6203   RT @05_Arslanbekov: Hahahha ca m’tue à la fin ...   fr   \n",
       "6352   RT @FloLecointre: Accueil #presse @VisitCoteda...   fr   \n",
       "5282   RT @Mslavishh: God please make me rich. I prom...   en   \n",
       "\n",
       "                   user_id                                         user_name  \\\n",
       "43305            283204345                                  Torabisu Sukotto   \n",
       "44557            563365714                                      dick riviere   \n",
       "8409    883826000261459968                                          mack ten   \n",
       "44893   736811823429746688                                         shikamaru   \n",
       "33494            202501528                               Harvard Club France   \n",
       "...                    ...                                               ...   \n",
       "6725             240194563  Cgt Interforum Editis Informer-Alerter-Mobiliser   \n",
       "7740             401703279                                   cyrille sauzéat   \n",
       "6203            1606669932                                            Aldina   \n",
       "6352            1872787320                                 Nathalie Dalmasso   \n",
       "5282   1110310835753234433                                            rayane   \n",
       "\n",
       "      country_code                      city  \\\n",
       "43305         None                      None   \n",
       "44557           FR             Paris, France   \n",
       "8409            FR  Dammarie-les-Lys, France   \n",
       "44893         None                      None   \n",
       "33494         None                      None   \n",
       "...            ...                       ...   \n",
       "6725          None                      None   \n",
       "7740          None                      None   \n",
       "6203          None                      None   \n",
       "6352          None                      None   \n",
       "5282          None                      None   \n",
       "\n",
       "                                             coordinates bounding_box_type  \n",
       "43305                                               None              None  \n",
       "44557  [[[2.2241006, 48.8155214], [2.4699053, 48.8155...           Polygon  \n",
       "8409   [[[2.5848515, 48.4946347], [2.6551137, 48.4946...           Polygon  \n",
       "44893                                               None              None  \n",
       "33494                                               None              None  \n",
       "...                                                  ...               ...  \n",
       "6725                                                None              None  \n",
       "7740                                                None              None  \n",
       "6203                                                None              None  \n",
       "6352                                                None              None  \n",
       "5282                                                None              None  \n",
       "\n",
       "[30651 rows x 10 columns]"
      ]
     },
     "execution_count": 13,
     "metadata": {},
     "output_type": "execute_result"
    }
   ],
   "source": [
    "users"
   ]
  },
  {
   "cell_type": "code",
   "execution_count": 14,
   "metadata": {},
   "outputs": [],
   "source": [
    "def download_timelines(index_key):\n",
    "\n",
    "    # Create Access For Block of Users\n",
    "    api = get_auth(key_files[index_key])[1]    \n",
    "    \n",
    "    # Select Block of Users\n",
    "    users_block = np.array_split(users,len(key_files))[index_key][['user_id','id_str']].values.tolist()\n",
    "    \n",
    "    # Initialize Output File ID\n",
    "    output_id = str(uuid.uuid4())\n",
    "    \n",
    "    # Initialize DataFrame\n",
    "    timelines = pd.DataFrame()\n",
    "    \n",
    "    # Initialize Downloaded User List\n",
    "    downloaded_ids = []\n",
    "    \n",
    "    for (user_id,tweet_id) in users_block:\n",
    "        \n",
    "        # Try Downloading Timeline\n",
    "        timeline, error = get_timeline(user_id,tweet_id,api)\n",
    "        \n",
    "        if error!=None:\n",
    "            print(user_id,index_key,error)\n",
    "            continue\n",
    "            \n",
    "        # Append\n",
    "        else:\n",
    "            #print('Success : ' + str(user_id))\n",
    "            timelines = pd.concat([timelines, timeline],sort=False)\n",
    "            downloaded_ids.append(user_id)\n",
    "            \n",
    "        # Save after <cutoff> timelines or when reaching last user\n",
    "        if len(downloaded_ids) == cutoff or user_id == users_block[-1][0]:\n",
    "            \n",
    "            filename = 'timelines-'+ str(SLURM_JOB_ID)+'-'+ str(SLURM_ARRAY_TASK_ID)+'-'+ str(index_key)+'-'+ \\\n",
    "            str(len(downloaded_ids))+'-'+ output_id+'.json.bz2'\n",
    "            \n",
    "            print('Process', index_key, 'saving', len(downloaded_ids), 'timelines with output file:', \n",
    "            os.path.join(path_to_timelines,filename))\n",
    "            \n",
    "            # Save as list of dict discarding index\n",
    "            timelines.to_json(\n",
    "            os.path.join(path_to_timelines,filename),\n",
    "            orient='records',\n",
    "            force_ascii=False,\n",
    "            date_format=None,\n",
    "            double_precision=15,\n",
    "            compression='bz2')\n",
    "            #print(timelines)\n",
    "            \n",
    "            # Save User Id and File In Which Its Timeline Was Saved\n",
    "            with open(os.path.join(path_to_timelines,'success'), 'a', encoding='utf-8') as file:\n",
    "                for downloaded_id in downloaded_ids:\n",
    "                    file.write(downloaded_id+'\\t'+filename+'\\n')\n",
    "            \n",
    "            # Reset Output File ID, Data, and Downloaded Users\n",
    "            del timelines, downloaded_ids\n",
    "            output_id = str(uuid.uuid4())\n",
    "            timelines = pd.DataFrame()\n",
    "            downloaded_ids = []\n",
    "            \n",
    "    return 0"
   ]
  },
  {
   "cell_type": "code",
   "execution_count": 15,
   "metadata": {
    "scrolled": true
   },
   "outputs": [
    {
     "name": "stdout",
     "output_type": "stream",
     "text": [
      "Extract Timelines...\n",
      "\n",
      "../keys/key_cyril.json../keys/key_jihanne.json ../keys/key_naila.json../keys/key_felix.json ../keys/key_naila2.json ../keys/key_charlotte.json../keys/key_clemence.json ../keys/key_noemie.json ../keys/key_chakresh.json../keys/key_sam.json../keys/key_marc.json../keys/key_liubov.json../keys/key_youssr.json: Authentication checked  : Authentication checked : Authentication checked   : Authentication checked\n",
      ": Authentication checked\n",
      " : Authentication checked: Authentication checked: Authentication checked: Authentication checked\n",
      ": Authentication checked\n",
      "../keys/key_othmane.json\n",
      ": Authentication checked\n",
      "\n",
      "\n",
      "../keys/key_zoe.json  \n",
      " : Authentication checked\n",
      "\n",
      ": Authentication checked\n",
      "\n",
      ": Authentication checked: Authentication checked\n",
      "\n",
      "1655477510 13 283204345 Twitter error response: status code = 4010 \n",
      "Twitter error response: status code = 401\n",
      "41245718 14 Twitter error response: status code = 401\n",
      "936211104442675200 11 Twitter error response: status code = 401\n",
      "1160526756 10 Twitter error response: status code = 401\n",
      "800458657716576256 1 Twitter error response: status code = 401\n",
      "214281822 1 Twitter error response: status code = 401\n",
      "3913186474 13 Twitter error response: status code = 404\n",
      "1186224455653232640 10 Twitter error response: status code = 401\n",
      "1240245739072163841 11 Twitter error response: status code = 404\n",
      "1967269568 3 Twitter error response: status code = 401\n",
      "796421337489297408 6 Twitter error response: status code = 401\n",
      "1110496179245195264 14 Twitter error response: status code = 401\n",
      "1108314345107279873 1 Twitter error response: status code = 401\n",
      "1257667502949179392 7 Twitter error response: status code = 401\n",
      "1051023206 8 Twitter error response: status code = 401\n",
      "1143879980650323968 3 Twitter error response: status code = 401\n",
      "1223236640631595008 13 Twitter error response: status code = 401\n",
      "1891294154 0 Twitter error response: status code = 404\n",
      "1158523567409156101 3 Twitter error response: status code = 404\n",
      "1097620138784886785 2 Twitter error response: status code = 401\n",
      "187245389 4 Twitter error response: status code = 401\n",
      "1128592402699227142 121937962154588979210  13Twitter error response: status code = 401 Twitter error response: status code = 401\n",
      "\n",
      "1149062424273850369 2 Twitter error response: status code = 401\n",
      "300437393 12 Twitter error response: status code = 401\n",
      "1201423858995257344 1 Twitter error response: status code = 401\n",
      "1274419461202853890 8 Twitter error response: status code = 401\n",
      "237146568 5 Twitter error response: status code = 401\n",
      "1329972662 1 Twitter error response: status code = 401\n",
      "1250498315692761101 5 Twitter error response: status code = 404\n",
      "1258862190968418304 9 Twitter error response: status code = 401\n",
      "1878674814 4 Twitter error response: status code = 401\n",
      "1073902801741328390 8 Twitter error response: status code = 401\n",
      "1221340497236480000 2 Twitter error response: status code = 401\n",
      "1179460111548502016 7 Twitter error response: status code = 401\n",
      "1070699680747671553 9 Twitter error response: status code = 401\n",
      "1022697877 11 Twitter error response: status code = 401\n",
      "1204395484581974017 7 Twitter error response: status code = 401\n",
      "277540116 12 Twitter error response: status code = 401\n",
      "1208458284203757568 0 Twitter error response: status code = 401\n",
      "2354927475 8 Twitter error response: status code = 401\n",
      "997547353 3 Twitter error response: status code = 401\n",
      "3334442477 2 Twitter error response: status code = 404\n",
      "740927740250099713 1 Twitter error response: status code = 401\n",
      "4473818493 9 Twitter error response: status code = 404\n",
      "1008018844282183680 7 Twitter error response: status code = 401\n",
      "1032297212376752130 7 Twitter error response: status code = 401\n",
      "3048605379 11 Twitter error response: status code = 401\n",
      "1261812316787662861 12 Twitter error response: status code = 401\n",
      "3601479983 11 Twitter error response: status code = 401\n",
      "1190396509457661952 13 Twitter error response: status code = 401\n",
      "2329157545 9 Twitter error response: status code = 401\n",
      "1166009003685621760 14 Twitter error response: status code = 404\n",
      "1250841827219066882 9 Twitter error response: status code = 401\n",
      "4899362171 7 Twitter error response: status code = 401\n",
      "1246753411271471107 1 Twitter error response: status code = 401\n",
      "2252913365 4 Twitter error response: status code = 401\n",
      "976091150128951296 14 Twitter error response: status code = 401\n",
      "1199026427850633216 5 Twitter error response: status code = 401\n",
      "410327685 4 Twitter error response: status code = 401\n",
      "1261766077811429376 10 Twitter error response: status code = 401\n",
      "1715596614 10 Twitter error response: status code = 401\n",
      "2423130914 10 Twitter error response: status code = 404\n",
      "1705782661 5 Twitter error response: status code = 404\n",
      "2153451608 5 Twitter error response: status code = 401\n",
      "165185224 7 Twitter error response: status code = 401\n",
      "133344214 0 Twitter error response: status code = 401\n",
      "2577927798 2 Twitter error response: status code = 401\n",
      "912623893478805504 2 Twitter error response: status code = 401\n",
      "116755284 11 Twitter error response: status code = 401\n",
      "39800297 14 Twitter error response: status code = 401\n",
      "3334579791 4 Twitter error response: status code = 401\n",
      "1268880889548865538 5 Twitter error response: status code = 404\n",
      "1169355721072414721 9 Twitter error response: status code = 401\n",
      "1184221367731920896 2 Twitter error response: status code = 401\n",
      "1183595565994692609 9 Twitter error response: status code = 401\n",
      "394655775 12 Twitter error response: status code = 401\n",
      "1081570604309012481 3 Twitter error response: status code = 401\n",
      "124177011 3 Twitter error response: status code = 401\n",
      "2441440165 0 Twitter error response: status code = 401\n",
      "4904014335 10 Twitter error response: status code = 401\n",
      "630440093 13 Twitter error response: status code = 401\n",
      "1218693440889851905 12 Twitter error response: status code = 401\n",
      "947247375126548480 8 Twitter error response: status code = 401\n",
      "1255738337861734402 0 Twitter error response: status code = 404\n",
      "548407353 3 Twitter error response: status code = 401\n",
      "1145389335396737024 4 Twitter error response: status code = 401\n",
      "305009646 5 Twitter error response: status code = 401\n",
      "964959092136538113 2 Twitter error response: status code = 401\n",
      "1117240520 2 Twitter error response: status code = 404\n",
      "964240917942226952 2 Twitter error response: status code = 401\n",
      "1545976878 10 Twitter error response: status code = 401\n",
      "1210678519820365826 0 Twitter error response: status code = 401\n",
      "1240987729753780227 6 Twitter error response: status code = 401\n",
      "3032826395 6 Twitter error response: status code = 401\n",
      "1110042396899901441 13 Twitter error response: status code = 401\n",
      "52689447 13 Twitter error response: status code = 401\n",
      "541139190 1 "
     ]
    },
    {
     "name": "stderr",
     "output_type": "stream",
     "text": [
      "Rate limit reached. Sleeping for: 595\n"
     ]
    },
    {
     "name": "stdout",
     "output_type": "stream",
     "text": [
      "Twitter error response: status code = 401\n"
     ]
    },
    {
     "name": "stderr",
     "output_type": "stream",
     "text": [
      "Rate limit reached. Sleeping for: 595\n"
     ]
    },
    {
     "name": "stdout",
     "output_type": "stream",
     "text": [
      "2901606771 9 Twitter error response: status code = 401\n",
      "1057765927557779456 10 Twitter error response: status code = 401\n"
     ]
    },
    {
     "name": "stderr",
     "output_type": "stream",
     "text": [
      "Rate limit reached. Sleeping for: 586\n"
     ]
    },
    {
     "name": "stdout",
     "output_type": "stream",
     "text": [
      "4221425063 0 Twitter error response: status code = 401\n",
      "1104486701827874816 13 Twitter error response: status code = 401\n"
     ]
    },
    {
     "name": "stderr",
     "output_type": "stream",
     "text": [
      "Rate limit reached. Sleeping for: 579\n"
     ]
    },
    {
     "name": "stdout",
     "output_type": "stream",
     "text": [
      "3013741770 11 Twitter error response: status code = 401\n",
      "1460048581 11 Twitter error response: status code = 401\n",
      "351576537 11 Twitter error response: status code = 401\n"
     ]
    },
    {
     "name": "stderr",
     "output_type": "stream",
     "text": [
      "Rate limit reached. Sleeping for: 574\n",
      "Rate limit reached. Sleeping for: 573\n",
      "Rate limit reached. Sleeping for: 572\n",
      "Rate limit reached. Sleeping for: 573\n",
      "Rate limit reached. Sleeping for: 571\n",
      "Rate limit reached. Sleeping for: 570\n",
      "Rate limit reached. Sleeping for: 569\n",
      "Rate limit reached. Sleeping for: 570\n",
      "Rate limit reached. Sleeping for: 569\n",
      "Rate limit reached. Sleeping for: 547\n",
      "Rate limit reached. Sleeping for: 547\n"
     ]
    },
    {
     "name": "stdout",
     "output_type": "stream",
     "text": [
      "1237471237145755651 6 Twitter error response: status code = 401\n",
      "3194780793 13 Twitter error response: status code = 401\n",
      "100982618 1 Twitter error response: status code = 404\n",
      "1272143452105572355 8 Twitter error response: status code = 404\n",
      "2323752151 1 Twitter error response: status code = 404\n",
      "23763540 11 Twitter error response: status code = 401\n",
      "900059501121896448 11 Twitter error response: status code = 401\n",
      "1012954787527254016 12 Twitter error response: status code = 401\n",
      "4060935423 13 Twitter error response: status code = 401\n",
      "1248424313495183360 8 Twitter error response: status code = 401\n",
      "1200577423726829569 8 Twitter error response: status code = 401\n",
      "3119430146 10 Twitter error response: status code = 401\n",
      "437794899 11 Twitter error response: status code = 401\n",
      "4822212105 1 Twitter error response: status code = 401\n",
      "1198328387535867908 10 Twitter error response: status code = 401\n",
      "940633419322667008 8 Twitter error response: status code = 404\n",
      "1263406283748761600 6 Twitter error response: status code = 401\n",
      "1136273303885230080 3 Twitter error response: status code = 401\n",
      "227849231 0 Twitter error response: status code = 401\n",
      "1045469107481645056 13 Twitter error response: status code = 401\n",
      "1212670784738447360 4 Twitter error response: status code = 401\n",
      "1170491024009023488 2 Twitter error response: status code = 401\n",
      "43907017 8 Twitter error response: status code = 401\n",
      "287749193 0 Twitter error response: status code = 401\n",
      "820398781 14 Twitter error response: status code = 401\n",
      "569047677 3 Twitter error response: status code = 401\n",
      "926211025 6 Twitter error response: status code = 401\n",
      "956521840914046976 6 Twitter error response: status code = 401\n",
      "3448784542 0 Twitter error response: status code = 401\n",
      "1219393947308560385 0 Twitter error response: status code = 401\n",
      "499837353 8 Twitter error response: status code = 401\n",
      "1251219474965020672 4 Twitter error response: status code = 404\n",
      "1100757489920950275 6 Twitter error response: status code = 401\n",
      "887051157331464194 7 Twitter error response: status code = 401\n",
      "1121068683512766464 14 Twitter error response: status code = 401\n",
      "1238450329420734466 0 Twitter error response: status code = 401\n",
      "431241041 1 Twitter error response: status code = 401\n",
      "1210606945926893569 6 Twitter error response: status code = 404\n",
      "6678312 6 Twitter error response: status code = 401\n",
      "259721141 11 Twitter error response: status code = 401\n",
      "790058415330648065 8 Twitter error response: status code = 401\n",
      "588633018 6 Twitter error response: status code = 401\n",
      "253822719 12 Twitter error response: status code = 401\n",
      "532824682 9 Twitter error response: status code = 401\n",
      "1220072469236736000 11 Twitter error response: status code = 404\n",
      "266316504 7Twitter error response: status code = 401 \n",
      "3111047117 5 Twitter error response: status code = 401\n",
      "702475860121624576 2 Twitter error response: status code = 401\n",
      "1208100630356733957 8 Twitter error response: status code = 401\n",
      "1067663619138162689 7 Twitter error response: status code = 404\n",
      "216773247 7 Twitter error response: status code = 401\n",
      "845384301218844672 12 Twitter error response: status code = 401\n",
      "937202558740910080 10 Twitter error response: status code = 401\n",
      "1136996132607991810 6 Twitter error response: status code = 401\n",
      "3326943749 2 Twitter error response: status code = 401\n",
      "1055465608672878593 5 Twitter error response: status code = 401\n",
      "1259986463871164423 2 Twitter error response: status code = 401\n",
      "1090706558571479041 2 Twitter error response: status code = 404\n",
      "1124777230737997831 11 Twitter error response: status code = 404\n",
      "2383863787 13 Twitter error response: status code = 404\n",
      "1216075698865090563 3 Twitter error response: status code = 401\n",
      "618076422 7 Twitter error response: status code = 401\n",
      "823988505365934080 11 Twitter error response: status code = 401\n",
      "140527319 2 Twitter error response: status code = 401\n",
      "970221179234652160 4 Twitter error response: status code = 401\n",
      "225183798 14 Twitter error response: status code = 404\n",
      "855759882309558273 0 Twitter error response: status code = 401\n",
      "1048168949563772928 0 Twitter error response: status code = 401\n",
      "4878619035 9 Twitter error response: status code = 401\n",
      "3257993769 3 Twitter error response: status code = 401\n",
      "1245330575709425668 9 Twitter error response: status code = 404\n",
      "1248784386004262912 11 Twitter error response: status code = 404\n",
      "957035390720004096 7 Twitter error response: status code = 401\n",
      "2305712771 13 Twitter error response: status code = 401\n",
      "999975382358126592 2 Twitter error response: status code = 401\n",
      "1135572990 11 Twitter error response: status code = 401\n",
      "1247232503573774337 2 Twitter error response: status code = 401\n",
      "1125348682734428161 10 Twitter error response: status code = 401\n",
      "894295514681888769 2 Twitter error response: status code = 401\n",
      "968847313 6 Twitter error response: status code = 401\n",
      "234574668 13 Twitter error response: status code = 401\n",
      "1211432850475503616 14 Twitter error response: status code = 401\n",
      "3327580309 14 Twitter error response: status code = 401\n",
      "1143608859359158275 8 Twitter error response: status code = 401\n",
      "777213672989024256 12 Twitter error response: status code = 401\n",
      "1203620439064530944 12 Twitter error response: status code = 404\n",
      "892156372489580545 9 Twitter error response: status code = 404\n",
      "968783257 14 Twitter error response: status code = 404\n",
      "4837118180 4 Twitter error response: status code = 401\n",
      "1262375106527006723 8 Twitter error response: status code = 401\n",
      "1250217307231715329 12 Twitter error response: status code = 401\n",
      "876106508920131585 5 Twitter error response: status code = 401\n",
      "1200936900372111367 5 Twitter error response: status code = 401\n"
     ]
    },
    {
     "name": "stderr",
     "output_type": "stream",
     "text": [
      "Rate limit reached. Sleeping for: 594\n"
     ]
    },
    {
     "name": "stdout",
     "output_type": "stream",
     "text": [
      "1008171770132787200 7 Twitter error response: status code = 401\n"
     ]
    },
    {
     "name": "stderr",
     "output_type": "stream",
     "text": [
      "Rate limit reached. Sleeping for: 592\n"
     ]
    },
    {
     "name": "stdout",
     "output_type": "stream",
     "text": [
      "1045643334 5 Twitter error response: status code = 404\n",
      "894112386 5 Twitter error response: status code = 401\n",
      "36441822 2 Twitter error response: status code = 404\n",
      "4311840815 9 Twitter error response: status code = 401\n",
      "909649840291946496 5 Twitter error response: status code = 401\n"
     ]
    },
    {
     "name": "stderr",
     "output_type": "stream",
     "text": [
      "Rate limit reached. Sleeping for: 563\n"
     ]
    },
    {
     "name": "stdout",
     "output_type": "stream",
     "text": [
      "1248762093186289665 5 Twitter error response: status code = 401\n"
     ]
    },
    {
     "name": "stderr",
     "output_type": "stream",
     "text": [
      "Rate limit reached. Sleeping for: 578\n",
      "Rate limit reached. Sleeping for: 576\n",
      "Rate limit reached. Sleeping for: 574\n"
     ]
    },
    {
     "name": "stdout",
     "output_type": "stream",
     "text": [
      "1251403032396533763 10 Twitter error response: status code = 401\n"
     ]
    },
    {
     "name": "stderr",
     "output_type": "stream",
     "text": [
      "Rate limit reached. Sleeping for: 573\n",
      "Rate limit reached. Sleeping for: 573\n"
     ]
    },
    {
     "name": "stdout",
     "output_type": "stream",
     "text": [
      "1236762059070672896 7 Twitter error response: status code = 401\n",
      "1240050715743092742 13 Twitter error response: status code = 401\n"
     ]
    },
    {
     "name": "stderr",
     "output_type": "stream",
     "text": [
      "Rate limit reached. Sleeping for: 564\n",
      "Rate limit reached. Sleeping for: 564\n"
     ]
    },
    {
     "name": "stdout",
     "output_type": "stream",
     "text": [
      "2902740718 12 Twitter error response: status code = 401\n"
     ]
    },
    {
     "name": "stderr",
     "output_type": "stream",
     "text": [
      "Rate limit reached. Sleeping for: 561\n"
     ]
    },
    {
     "name": "stdout",
     "output_type": "stream",
     "text": [
      "1246975653305626627 5 Twitter error response: status code = 404\n",
      "1246827226772819970 5 Twitter error response: status code = 404\n"
     ]
    },
    {
     "name": "stderr",
     "output_type": "stream",
     "text": [
      "Rate limit reached. Sleeping for: 554\n",
      "Rate limit reached. Sleeping for: 552\n",
      "Rate limit reached. Sleeping for: 550\n",
      "Rate limit reached. Sleeping for: 551\n"
     ]
    },
    {
     "name": "stdout",
     "output_type": "stream",
     "text": [
      "1166984932092272640 0 Twitter error response: status code = 401\n",
      "1248275146680475649 12 Twitter error response: status code = 401\n",
      "1149049613195915265 10 Twitter error response: status code = 401\n",
      "1212071758850711552 12 Twitter error response: status code = 404\n",
      "1112732344627183617 7 Twitter error response: status code = 401\n",
      "2573687288 7 Twitter error response: status code = 404\n",
      "2527041571 10 Twitter error response: status code = 401\n",
      "2626063733 3 Twitter error response: status code = 401\n",
      "840361855 10 Twitter error response: status code = 401\n",
      "1069179475907231744 8 Twitter error response: status code = 401\n",
      "1181650425403072515 12 Twitter error response: status code = 401\n",
      "522592822 0 Twitter error response: status code = 401\n",
      "2846746601 8 Twitter error response: status code = 401\n",
      "1254900350370426882 2 Twitter error response: status code = 401\n",
      "29437029 9 Twitter error response: status code = 401\n",
      "1193912498191249408 6 Twitter error response: status code = 401\n",
      "223122926 0 Twitter error response: status code = 404\n",
      "1155490099251023873 5 Twitter error response: status code = 401\n",
      "27763594 9 Twitter error response: status code = 401\n",
      "1549657819 9 Twitter error response: status code = 401\n",
      "498107448 6 Twitter error response: status code = 401\n",
      "1047341764280045568 4 Twitter error response: status code = 401\n",
      "405623022 6 Twitter error response: status code = 401\n",
      "1128396439523139586 11 Twitter error response: status code = 401\n",
      "321630968 4 Twitter error response: status code = 401\n",
      "3123962273 7 Twitter error response: status code = 401\n",
      "1233774232242413568 7 Twitter error response: status code = 401\n",
      "4309777577 10 Twitter error response: status code = 401\n",
      "117710088 8 Twitter error response: status code = 401\n",
      "328668622 9 Twitter error response: status code = 401\n",
      "1228074717703213056 6 Twitter error response: status code = 401\n",
      "7962722 9 Twitter error response: status code = 404\n",
      "164457411 4 Twitter error response: status code = 401\n",
      "1136160118637248512 6 Twitter error response: status code = 401\n",
      "1117351371890659329 0 Twitter error response: status code = 401\n",
      "921493909473251329 2 Twitter error response: status code = 401\n",
      "1037085816714092544 9 Twitter error response: status code = 401\n",
      "285903611 9 Twitter error response: status code = 401\n",
      "956507608768184321 6 Twitter error response: status code = 401\n",
      "1652819556 2 Twitter error response: status code = 401\n",
      "709511131690373120 12 Twitter error response: status code = 401\n",
      "48181813 11 Twitter error response: status code = 401\n",
      "1239230867614007296 5 Twitter error response: status code = 404\n",
      "996947331860844544 2 Twitter error response: status code = 401\n",
      "320187318 4 Twitter error response: status code = 401\n",
      "2474092205 10 Twitter error response: status code = 401\n",
      "283299596 3 Twitter error response: status code = 401\n",
      "1101548477467815938 1 Twitter error response: status code = 401\n",
      "3027378110 3 Twitter error response: status code = 404\n",
      "1087012805763510272 9 Twitter error response: status code = 401\n",
      "1275704420 11 Twitter error response: status code = 404\n",
      "1063171764 5 Twitter error response: status code = 401\n",
      "1209083130965086208 3 Twitter error response: status code = 404\n",
      "871549092081618948 7 Twitter error response: status code = 401\n",
      "799341923609808900 4 Twitter error response: status code = 401\n",
      "330744643 5 Twitter error response: status code = 401\n",
      "1172617905659371520 13 Twitter error response: status code = 404\n",
      "1115680002639417344 13 Twitter error response: status code = 404\n",
      "75097213 6 Twitter error response: status code = 401\n",
      "1249795800739258368 11 Twitter error response: status code = 404\n",
      "747888362 5 Twitter error response: status code = 401\n",
      "574054347 14 Twitter error response: status code = 404\n",
      "726170027922169860 4 Twitter error response: status code = 401\n",
      "948134756356673537 6 Twitter error response: status code = 401\n",
      "1317142225 12 Twitter error response: status code = 401\n",
      "1267834271923941377 14 Twitter error response: status code = 401\n",
      "1078749201058725888 14 Twitter error response: status code = 401\n",
      "1094972374523494401 0 Twitter error response: status code = 401\n",
      "367832396 12 Twitter error response: status code = 401\n",
      "2899781524 2 Twitter error response: status code = 401\n",
      "3251430046 11 Twitter error response: status code = 404\n",
      "1170739709670281217 8 Twitter error response: status code = 401\n",
      "859058872622993408 8 Twitter error response: status code = 401\n",
      "1082223079223377920 12 Twitter error response: status code = 401\n",
      "1243354374304403456 2 Twitter error response: status code = 404\n",
      "2356779330 8 Twitter error response: status code = 401\n",
      "1180032278472413184 8 Twitter error response: status code = 404\n",
      "1145951749 2 Twitter error response: status code = 401\n",
      "754746911408652288 12 Twitter error response: status code = 401\n",
      "40722570 9 Twitter error response: status code = 401\n",
      "1260657289029091336 6 Twitter error response: status code = 401\n",
      "214529763 11 Twitter error response: status code = 401\n",
      "971028896241082368 7 Twitter error response: status code = 404\n",
      "2987031879 2 Twitter error response: status code = 401\n",
      "923613056 3 Twitter error response: status code = 401\n",
      "27867216 8 Twitter error response: status code = 404\n",
      "551048644 14 Twitter error response: status code = 401\n",
      "1211679478625136641 6 Twitter error response: status code = 401\n",
      "1122907452 10 Twitter error response: status code = 401\n",
      "1239160199304351744 7 Twitter error response: status code = 401\n",
      "1253983993327955968 11 Twitter error response: status code = 401\n",
      "1187734345580199937 3 Twitter error response: status code = 401\n",
      "851581402269208576 7 Twitter error response: status code = 401\n",
      "1267410926938005506 10 Twitter error response: status code = 401\n",
      "1169330976671117313 14 Twitter error response: status code = 401\n",
      "1271525872927936512 8 Twitter error response: status code = 401\n",
      "106757069 3 Twitter error response: status code = 401\n",
      "1077894935574138881 8 Twitter error response: status code = 401\n",
      "751081823770378240 2 Twitter error response: status code = 401\n",
      "842706576456765440 8 Twitter error response: status code = 401\n",
      "1144176540260982784 2 Twitter error response: status code = 401\n",
      "1248343235199676417 7 Twitter error response: status code = 404\n",
      "1074064820968849414 0 Twitter error response: status code = 401\n",
      "276231917 11 Twitter error response: status code = 401\n",
      "1199959172420423680 2 Twitter error response: status code = 401\n",
      "1049830283145564160 13 Twitter error response: status code = 401\n",
      "953833494211448832 12 Twitter error response: status code = 401\n",
      "892505171439300613 7 Twitter error response: status code = 401\n",
      "4697553050 13 Twitter error response: status code = 401\n",
      "1192447216981544960 12 Twitter error response: status code = 401\n",
      "4039661644 12 Twitter error response: status code = 401\n",
      "3399967978 11 Twitter error response: status code = 401\n",
      "1104438462 12 Twitter error response: status code = 401\n",
      "1249469058333806592 7 Twitter error response: status code = 401\n",
      "69806124 7 Twitter error response: status code = 401\n",
      "801675235707777024 0 Twitter error response: status code = 401\n",
      "1689122053 5 Twitter error response: status code = 401\n",
      "1077742832830554112 9 Twitter error response: status code = 401\n",
      "402672150 7 Twitter error response: status code = 401\n",
      "1140949325113171968 12 Twitter error response: status code = 404\n",
      "1143423259767123968 6 Twitter error response: status code = 404\n",
      "22106552 13 Twitter error response: status code = 401\n",
      "929299290 1 Twitter error response: status code = 401\n",
      "701844182 6 Twitter error response: status code = 404\n",
      "1159212222318596098 3 Twitter error response: status code = 401\n",
      "3189860038 6 Twitter error response: status code = 401\n",
      "1109442224134213633 14 Twitter error response: status code = 401\n",
      "73974479 3 Twitter error response: status code = 401\n",
      "1012859202350354434 6 Twitter error response: status code = 401\n",
      "978704147049410560 2 Twitter error response: status code = 401\n",
      "3301705000 0 Twitter error response: status code = 401\n",
      "850803904652640257 11 Twitter error response: status code = 401\n",
      "164142430 4 Twitter error response: status code = 401\n",
      "1226812927040249856 3 Twitter error response: status code = 401\n",
      "218112346 13 Twitter error response: status code = 401\n",
      "391683463 6 Twitter error response: status code = 401\n",
      "2905619447 9 Twitter error response: status code = 401\n"
     ]
    },
    {
     "name": "stdout",
     "output_type": "stream",
     "text": [
      "1009596380 13 Twitter error response: status code = 401\n",
      "2609141204 11 Twitter error response: status code = 401\n",
      "419514199 7 Twitter error response: status code = 401\n",
      "186846903 12 Twitter error response: status code = 404\n",
      "1193918875978665984 10 Twitter error response: status code = 401\n",
      "594661639 4 Twitter error response: status code = 401\n",
      "1037309265952878593 0 Twitter error response: status code = 401\n",
      "773505551431036928 10 Twitter error response: status code = 401\n",
      "Process 8 saving 1000 timelines with output file: ../data/timelines/API/IDF-updates/timelines-0-0-8-1000-12b42030-fcfe-4902-af52-b1c45d2187b7.json.bz2\n",
      "546989279 11 Twitter error response: status code = 401\n",
      "736495843826618368 6 Twitter error response: status code = 401\n"
     ]
    },
    {
     "name": "stderr",
     "output_type": "stream",
     "text": [
      "Rate limit reached. Sleeping for: 596\n"
     ]
    },
    {
     "name": "stdout",
     "output_type": "stream",
     "text": [
      "323569200 6 Twitter error response: status code = 401\n",
      "3048186688 1 Twitter error response: status code = 404\n",
      "1233916421735878656 13 Twitter error response: status code = 401\n",
      "853738822223499265 7 Twitter error response: status code = 401\n",
      "152187748 5 Twitter error response: status code = 401\n"
     ]
    },
    {
     "name": "stderr",
     "output_type": "stream",
     "text": [
      "Rate limit reached. Sleeping for: 605\n"
     ]
    },
    {
     "name": "stdout",
     "output_type": "stream",
     "text": [
      "241334345 3 Twitter error response: status code = 401\n",
      "1105836355 3 Twitter error response: status code = 401\n",
      "60581096 12 Twitter error response: status code = 401\n",
      "484076037 14 Twitter error response: status code = 401\n"
     ]
    },
    {
     "name": "stderr",
     "output_type": "stream",
     "text": [
      "Rate limit reached. Sleeping for: 597\n",
      "Rate limit reached. Sleeping for: 598\n"
     ]
    },
    {
     "name": "stdout",
     "output_type": "stream",
     "text": [
      "1138479951861223425 8 Twitter error response: status code = 401\n"
     ]
    },
    {
     "name": "stderr",
     "output_type": "stream",
     "text": [
      "Rate limit reached. Sleeping for: 594\n",
      "Rate limit reached. Sleeping for: 594\n",
      "Rate limit reached. Sleeping for: 591\n",
      "Rate limit reached. Sleeping for: 591\n",
      "Rate limit reached. Sleeping for: 590\n",
      "Rate limit reached. Sleeping for: 589\n",
      "Rate limit reached. Sleeping for: 589\n",
      "Rate limit reached. Sleeping for: 587\n",
      "Rate limit reached. Sleeping for: 586\n"
     ]
    },
    {
     "name": "stdout",
     "output_type": "stream",
     "text": [
      "1260598115901595655 4 Twitter error response: status code = 401\n",
      "1150670131 9 Twitter error response: status code = 401\n"
     ]
    },
    {
     "name": "stderr",
     "output_type": "stream",
     "text": [
      "Rate limit reached. Sleeping for: 580\n",
      "Rate limit reached. Sleeping for: 573\n"
     ]
    },
    {
     "name": "stdout",
     "output_type": "stream",
     "text": [
      "472182239 0 Twitter error response: status code = 401\n",
      "396913758 12 Twitter error response: status code = 401\n",
      "Process 3 saving 1000 timelines with output file: ../data/timelines/API/IDF-updates/timelines-0-0-3-1000-b9ea9775-a635-4e7e-b50f-d7332f4fef7a.json.bz2\n",
      "Process 11 saving 1000 timelines with output file: ../data/timelines/API/IDF-updates/timelines-0-0-11-1000-bf00ffd4-384e-48a9-9f3c-e81a011d02b5.json.bz2\n",
      "2971602471 4 Twitter error response: status code = 401\n",
      "Process 10 saving 1000 timelines with output file: ../data/timelines/API/IDF-updates/timelines-0-0-10-1000-4a508363-72d9-4ade-a215-ec534e24922a.json.bz2\n",
      "2359480949 7 Twitter error response: status code = 401\n",
      "4004282741 13 Twitter error response: status code = 401\n",
      "1121087268750528515 6 Twitter error response: status code = 404\n",
      "1193552311777411072 2 Twitter error response: status code = 401\n",
      "Process 2 saving 1000 timelines with output file: ../data/timelines/API/IDF-updates/timelines-0-0-2-1000-a42e0daf-b2e5-4f10-b84c-5a507e7e0680.json.bz2\n",
      "485096689 4 Twitter error response: status code = 401\n",
      "453066702 11 Twitter error response: status code = 401\n",
      "2518133582 12 Twitter error response: status code = 401\n",
      "364856974 6 Twitter error response: status code = 401\n",
      "1002509210557526018 5 Twitter error response: status code = 401\n",
      "128964248 7 Twitter error response: status code = 401\n",
      "Process 14 saving 1000 timelines with output file: ../data/timelines/API/IDF-updates/timelines-0-0-14-1000-8764be74-3443-4e2b-85e2-4297bf658ad4.json.bz2\n",
      "1056868044633333760 12 Twitter error response: status code = 401\n",
      "Process 0 saving 1000 timelines with output file: ../data/timelines/API/IDF-updates/timelines-0-0-0-1000-c17993f7-e7c6-4726-a77d-2aa2fb1e2c21.json.bz2\n",
      "Process 6 saving 1000 timelines with output file: ../data/timelines/API/IDF-updates/timelines-0-0-6-1000-458e682d-b4d4-485a-9f73-3672c732de17.json.bz2\n",
      "Process 7 saving 1000 timelines with output file: ../data/timelines/API/IDF-updates/timelines-0-0-7-1000-faa4cacb-ac42-42a1-b8d6-d8d763dd5ebb.json.bz2\n",
      "904366447329202176 11 Twitter error response: status code = 401\n",
      "1088235898242781195 2 Twitter error response: status code = 401\n",
      "4185732317 12 Twitter error response: status code = 401\n",
      "3141025155 13 Twitter error response: status code = 401\n",
      "870344404418129920 2 Twitter error response: status code = 401\n",
      "2573681527 12 Twitter error response: status code = 401\n",
      "Process 12 saving 1000 timelines with output file: ../data/timelines/API/IDF-updates/timelines-0-0-12-1000-7dfa20a4-4b28-4445-8d7c-6f58b3e16187.json.bz2\n",
      "141656424 3 Twitter error response: status code = 401\n",
      "215952179 8 Twitter error response: status code = 401\n",
      "1185482598946136064 0 Twitter error response: status code = 401\n",
      "3207833386 8 Twitter error response: status code = 401\n",
      "3326781779 2 Twitter error response: status code = 401\n",
      "2480930757 10 Twitter error response: status code = 401\n",
      "1475968598 8 Twitter error response: status code = 401\n",
      "402214792 6 Twitter error response: status code = 401\n",
      "1086987508917985281 3 Twitter error response: status code = 401\n",
      "2316884855 4 Twitter error response: status code = 401\n",
      "Process 1 saving 1000 timelines with output file: ../data/timelines/API/IDF-updates/timelines-0-0-1-1000-2a4de319-4b74-453e-81d4-e01618fd0973.json.bz2\n",
      "Process 13 saving 1000 timelines with output file: ../data/timelines/API/IDF-updates/timelines-0-0-13-1000-1c376903-09b2-434b-b9f0-7e25992bff89.json.bz2\n",
      "1200949129838497792 9 Twitter error response: status code = 404\n",
      "744477034391478272 3 Twitter error response: status code = 404\n",
      "1082586122377719808 3 Twitter error response: status code = 401\n",
      "1090954698910253057 6 Twitter error response: status code = 401\n",
      "300855338 11 Twitter error response: status code = 401\n",
      "718946949156757505 8 Twitter error response: status code = 401\n",
      "1258242879488753665 1 Twitter error response: status code = 404\n",
      "852243158603845632 1 Twitter error response: status code = 401\n",
      "304962850 8 Twitter error response: status code = 401\n",
      "Process 5 saving 1000 timelines with output file: ../data/timelines/API/IDF-updates/timelines-0-0-5-1000-3f313d23-1ad2-4af7-aa74-f1ab4e9f88a1.json.bz2\n",
      "Process 4 saving 1000 timelines with output file: ../data/timelines/API/IDF-updates/timelines-0-0-4-1000-144752c2-8cee-4a3d-a01e-50a9a504f9ca.json.bz2\n",
      "Process 9 saving 1000 timelines with output file: ../data/timelines/API/IDF-updates/timelines-0-0-9-1000-59feb890-09cc-4780-8b0d-48aa789caa16.json.bz2\n",
      "1241349823246274563 10 Twitter error response: status code = 401\n",
      "1254821322221387779 0 Twitter error response: status code = 401\n",
      "1135177166306631681 100674409411  0Twitter error response: status code = 404 \n",
      "Twitter error response: status code = 401\n",
      "1269625753466892288 14 Twitter error response: status code = 401\n",
      "1247278167838134275 2 Twitter error response: status code = 401\n",
      "1152138109657735168 10 Twitter error response: status code = 401\n",
      "4822529103 10 Twitter error response: status code = 401\n",
      "255766640 10 Twitter error response: status code = 401\n",
      "1162448770979762176 8 Twitter error response: status code = 401\n",
      "1411255027 10 Twitter error response: status code = 401\n",
      "1237772797356769281 7 Twitter error response: status code = 401\n",
      "3346786636 2 Twitter error response: status code = 401\n",
      "2895721000 1 Twitter error response: status code = 401\n",
      "282517023 0 Twitter error response: status code = 401\n",
      "2441897837 9 Twitter error response: status code = 401\n",
      "962261585912848384 5 Twitter error response: status code = 401\n",
      "1195678008 8 Twitter error response: status code = 401\n",
      "1249686533071921154 2 Twitter error response: status code = 404\n",
      "226563021 0 Twitter error response: status code = 401\n",
      "1153334058522415106 8 Twitter error response: status code = 401\n",
      "1240377932931096577 8 Twitter error response: status code = 401\n",
      "1206759384572923904 7 Twitter error response: status code = 401\n",
      "54398979 1 Twitter error response: status code = 401\n",
      "1063492467436204032 1 Twitter error response: status code = 401\n",
      "3632779156 12 Twitter error response: status code = 404\n",
      "80048422 6 Twitter error response: status code = 401\n",
      "95435937 6 Twitter error response: status code = 401\n",
      "71935339 1 Twitter error response: status code = 401\n",
      "1126429432082649088 5 Twitter error response: status code = 401\n",
      "764852335507935232 3 Twitter error response: status code = 401\n",
      "4699152078 11 Twitter error response: status code = 401\n",
      "1164968970635624448 11 Twitter error response: status code = 401\n",
      "3852847517 0 Twitter error response: status code = 401\n",
      "1249796508704223232 6 Twitter error response: status code = 401\n",
      "585216396 9 Twitter error response: status code = 401\n",
      "1263607061545435137 12 Twitter error response: status code = 401\n",
      "453785011 3 Twitter error response: status code = 401\n",
      "930739836 6 Twitter error response: status code = 401\n",
      "4827588856 9 Twitter error response: status code = 401\n",
      "1271532224089907200 2 Twitter error response: status code = 401\n",
      "1522254348 14 Twitter error response: status code = 401\n",
      "216128379 5 Twitter error response: status code = 401\n",
      "1204534263355465729 9 Twitter error response: status code = 401\n",
      "981967475482021888 9 Twitter error response: status code = 401\n",
      "549437011 12 Twitter error response: status code = 401\n",
      "1418617992 5 Twitter error response: status code = 401\n",
      "1216030590669139968 5 Twitter error response: status code = 401\n",
      "748114120117985280 4 Twitter error response: status code = 401\n",
      "1265661127326871557 6 Twitter error response: status code = 401\n",
      "747396545243455489 0 Twitter error response: status code = 401\n",
      "79750430 5 Twitter error response: status code = 401\n",
      "454938416 14 Twitter error response: status code = 401\n",
      "1080755851609157632 9 Twitter error response: status code = 401\n",
      "1085340729461882881 10 Twitter error response: status code = 401\n",
      "636664459 13 Twitter error response: status code = 401\n",
      "1166776030717206529 5 Twitter error response: status code = 401\n",
      "1249386532768755712 2 Twitter error response: status code = 404\n",
      "75858129 2 Twitter error response: status code = 401\n",
      "3110743427 11 Twitter error response: status code = 401\n",
      "1018160723770400773 9 Twitter error response: status code = 401\n",
      "3225232321 10 Twitter error response: status code = 401\n",
      "1273333944155594755 1 Twitter error response: status code = 401\n"
     ]
    },
    {
     "name": "stdout",
     "output_type": "stream",
     "text": [
      "1081292229845680136 13 Twitter error response: status code = 401\n",
      "401963396 13 Twitter error response: status code = 401\n",
      "1067580255173570560 1 Twitter error response: status code = 404\n",
      "1189918510476079106 14 Twitter error response: status code = 404\n",
      "1011035544846036992 6 Twitter error response: status code = 401\n",
      "1268298300832309251 14 Twitter error response: status code = 401\n",
      "131279398 0 Twitter error response: status code = 401\n",
      "1268854735290994688 14 Twitter error response: status code = 401\n",
      "1126446962440536064 7 Twitter error response: status code = 401\n",
      "1258338138449227776 6 Twitter error response: status code = 401\n",
      "1235271000016683008 1 Twitter error response: status code = 404\n",
      "823148219714650112 3 Twitter error response: status code = 401\n",
      "1270370873518764033 0 Twitter error response: status code = 401\n",
      "275024282 13 Twitter error response: status code = 401\n",
      "66681594 2 Twitter error response: status code = 401\n",
      "52139273 13 Twitter error response: status code = 401\n",
      "809423262421659649 4 Twitter error response: status code = 401\n",
      "747127922658582529 8 Twitter error response: status code = 401\n",
      "2365161645 8 Twitter error response: status code = 401\n",
      "737169208623173632 11 Twitter error response: status code = 401\n",
      "109007232 1 Twitter error response: status code = 401\n",
      "1857950533 3 Twitter error response: status code = 401\n",
      "2173702450 5 Twitter error response: status code = 401\n",
      "1217889309396742144 8 Twitter error response: status code = 401\n",
      "1157266716323471360 6 Twitter error response: status code = 401\n",
      "1181529305060401152 14 Twitter error response: status code = 401\n",
      "1488544033 11 Twitter error response: status code = 401\n",
      "947872406 2 Twitter error response: status code = 401\n",
      "3066047333 7 Twitter error response: status code = 401\n",
      "1138841680222806019 12 Twitter error response: status code = 401\n",
      "248867901 1 Twitter error response: status code = 401\n",
      "3045439167 8 Twitter error response: status code = 401\n",
      "997430431 13 Twitter error response: status code = 404\n",
      "317911134 8 Twitter error response: status code = 401\n",
      "2946347746 8 Twitter error response: status code = 401\n",
      "1217586651381354499 10 Twitter error response: status code = 401\n",
      "722302118762319872 5 Twitter error response: status code = 401\n",
      "2950033168 13 Twitter error response: status code = 401\n",
      "2997063170 13 Twitter error response: status code = 404\n",
      "437698788 4 Twitter error response: status code = 401\n",
      "941997705555054598 5 Twitter error response: status code = 401\n",
      "1173731115401719808 14 Twitter error response: status code = 404\n",
      "2587755142 1 Twitter error response: status code = 404\n",
      "788082354489266176 9 Twitter error response: status code = 404\n",
      "237206358 4 Twitter error response: status code = 401\n",
      "795688413043261441 5 Twitter error response: status code = 401\n",
      "1202579222524510210 6 Twitter error response: status code = 401\n",
      "1266480159143727104 6 Twitter error response: status code = 401\n"
     ]
    },
    {
     "name": "stderr",
     "output_type": "stream",
     "text": [
      "Rate limit reached. Sleeping for: 635\n",
      "Rate limit reached. Sleeping for: 634\n"
     ]
    },
    {
     "name": "stdout",
     "output_type": "stream",
     "text": [
      "2840495013 13 Twitter error response: status code = 401\n",
      "3964622182 13 Twitter error response: status code = 401\n",
      "1005554802 2 Twitter error response: status code = 401\n",
      "1006172549556908033 8 Twitter error response: status code = 401\n"
     ]
    },
    {
     "name": "stderr",
     "output_type": "stream",
     "text": [
      "Rate limit reached. Sleeping for: 625\n"
     ]
    },
    {
     "name": "stdout",
     "output_type": "stream",
     "text": [
      "731587830753972224 6 Twitter error response: status code = 401\n",
      "229533414 5 Twitter error response: status code = 401\n"
     ]
    },
    {
     "name": "stderr",
     "output_type": "stream",
     "text": [
      "Rate limit reached. Sleeping for: 623\n",
      "Rate limit reached. Sleeping for: 622\n",
      "Rate limit reached. Sleeping for: 621\n"
     ]
    },
    {
     "name": "stdout",
     "output_type": "stream",
     "text": [
      "1214659119405314049 5 Twitter error response: status code = 404\n",
      "572435780 12 Twitter error response: status code = 401\n"
     ]
    },
    {
     "name": "stderr",
     "output_type": "stream",
     "text": [
      "Rate limit reached. Sleeping for: 599\n"
     ]
    },
    {
     "name": "stdout",
     "output_type": "stream",
     "text": [
      "41618935 7 Twitter error response: status code = 401\n"
     ]
    },
    {
     "name": "stderr",
     "output_type": "stream",
     "text": [
      "Rate limit reached. Sleeping for: 617\n"
     ]
    },
    {
     "name": "stdout",
     "output_type": "stream",
     "text": [
      "1216869875660009472 4 Twitter error response: status code = 401\n",
      "1026879828 3 Twitter error response: status code = 401\n"
     ]
    },
    {
     "name": "stderr",
     "output_type": "stream",
     "text": [
      "Rate limit reached. Sleeping for: 615\n"
     ]
    },
    {
     "name": "stdout",
     "output_type": "stream",
     "text": [
      "1209192029445611522 5 Twitter error response: status code = 401\n"
     ]
    },
    {
     "name": "stderr",
     "output_type": "stream",
     "text": [
      "Rate limit reached. Sleeping for: 612\n"
     ]
    },
    {
     "name": "stdout",
     "output_type": "stream",
     "text": [
      "1172234366472396807 9 Twitter error response: status code = 401\n"
     ]
    },
    {
     "name": "stderr",
     "output_type": "stream",
     "text": [
      "Rate limit reached. Sleeping for: 610\n"
     ]
    },
    {
     "name": "stdout",
     "output_type": "stream",
     "text": [
      "714197502979923968 5 Twitter error response: status code = 401\n"
     ]
    },
    {
     "name": "stderr",
     "output_type": "stream",
     "text": [
      "Rate limit reached. Sleeping for: 606\n",
      "Rate limit reached. Sleeping for: 606\n",
      "Rate limit reached. Sleeping for: 601\n"
     ]
    },
    {
     "name": "stdout",
     "output_type": "stream",
     "text": [
      "1129872328484163585 4 Twitter error response: status code = 404\n"
     ]
    },
    {
     "name": "stderr",
     "output_type": "stream",
     "text": [
      "Rate limit reached. Sleeping for: 591\n"
     ]
    },
    {
     "name": "stdout",
     "output_type": "stream",
     "text": [
      "1114996953786540032 5 Twitter error response: status code = 404\n",
      "998196644461019138 2 Twitter error response: status code = 401\n",
      "2962637189 12 Twitter error response: status code = 401\n",
      "913105190215196673 1 Twitter error response: status code = 401\n",
      "1058155359569874944 3 Twitter error response: status code = 401\n",
      "3381430900 5 Twitter error response: status code = 401\n",
      "1690427119 9 Twitter error response: status code = 401\n",
      "705105914731360256 13 Twitter error response: status code = 404\n",
      "1264922893986693120 3 Twitter error response: status code = 401\n",
      "264407436 0 Twitter error response: status code = 404\n",
      "1211585050812149761 1 Twitter error response: status code = 401\n",
      "1242839618740989955 3 Twitter error response: status code = 401\n",
      "1082508280197509120 12 Twitter error response: status code = 404\n",
      "240426570 11 Twitter error response: status code = 401\n",
      "1207354990811058176 2 Twitter error response: status code = 401\n",
      "364182634 10 Twitter error response: status code = 401\n",
      "1216050586493358081 13 Twitter error response: status code = 4012496649214\n",
      " 6 Twitter error response: status code = 401\n",
      "59379970 12 Twitter error response: status code = 401\n",
      "1212778948381138945 14 Twitter error response: status code = 401\n",
      "1211361641142448128 9 Twitter error response: status code = 401\n",
      "855424985862742017 6 Twitter error response: status code = 404\n",
      "95003529 2 Twitter error response: status code = 401\n",
      "1180583966 1 Twitter error response: status code = 401\n",
      "622603261 11 Twitter error response: status code = 401\n",
      "787316788379938816 13 Twitter error response: status code = 401\n",
      "2198284923 11 Twitter error response: status code = 401\n",
      "2176821311 12 Twitter error response: status code = 401\n",
      "920021935219716097 0 Twitter error response: status code = 401\n",
      "996272585611628544 12 Twitter error response: status code = 401\n",
      "1178310522896371713 4 Twitter error response: status code = 401\n",
      "163286481 3 Twitter error response: status code = 401\n",
      "2843488667 11 Twitter error response: status code = 404\n",
      "1249804726499246085 9 Twitter error response: status code = 401\n",
      "1077529001831354368 10 Twitter error response: status code = 401\n",
      "1271508927373619201 5 Twitter error response: status code = 401\n",
      "368206940 0 Twitter error response: status code = 401\n",
      "1209597100314505216 7 Twitter error response: status code = 401\n",
      "14592731 8 Twitter error response: status code = 404\n",
      "1012817328717869057 3 Twitter error response: status code = 404\n",
      "488632726 8 Twitter error response: status code = 401\n",
      "1919414762 5 Twitter error response: status code = 401\n",
      "2762041570 11 Twitter error response: status code = 401\n",
      "1200415436883578880 0 Twitter error response: status code = 401\n",
      "1173430180779614208 7 Twitter error response: status code = 404\n",
      "222110094 7 Twitter error response: status code = 404\n",
      "707420090 1 Twitter error response: status code = 401\n",
      "1216392589366132736 2 Twitter error response: status code = 404\n",
      "3348858585 12 Twitter error response: status code = 401\n",
      "842543978654453760 11 Twitter error response: status code = 404\n",
      "1119633063414312961 12 Twitter error response: status code = 401\n",
      "1120322863901347840 12 Twitter error response: status code = 401\n",
      "3424527165 12 Twitter error response: status code = 401\n",
      "1223993580810838017 0 Twitter error response: status code = 404\n",
      "46983871 14 Twitter error response: status code = 401\n",
      "1071930155952717824 7 Twitter error response: status code = 401\n",
      "2183136751 4 Twitter error response: status code = 404\n",
      "1208198928279232513 11 Twitter error response: status code = 401\n",
      "514503155 3 Twitter error response: status code = 401\n",
      "1101420445126049793 3 Twitter error response: status code = 404\n",
      "1143532187851087872 12 Twitter error response: status code = 401\n",
      "98849539 12 Twitter error response: status code = 404\n",
      "2784194590 12 Twitter error response: status code = 401\n",
      "601929144 12 Twitter error response: status code = 401\n",
      "2186383389 10 Twitter error response: status code = 401\n",
      "1115338417712312321 4 Twitter error response: status code = 401\n",
      "1074702334507315201 8 Twitter error response: status code = 401\n",
      "1367977681 6 Twitter error response: status code = 401\n",
      "1234610267239174145 8 Twitter error response: status code = 404\n",
      "1072063249871454208 1 Twitter error response: status code = 401\n",
      "2221498184 3 Twitter error response: status code = 401\n",
      "1218899881256980481 14 Twitter error response: status code = 401\n",
      "3054329190 8 Twitter error response: status code = 401\n",
      "1056368164739694594 6 Twitter error response: status code = 401\n",
      "3070155891 5 Twitter error response: status code = 401\n",
      "1272300145099620371 6 Twitter error response: status code = 401\n",
      "781622739098533888 13 Twitter error response: status code = 401\n",
      "234784912 11 Twitter error response: status code = 401\n",
      "2447904437 9 Twitter error response: status code = 401\n",
      "1395257203 0 Twitter error response: status code = 404\n",
      "2720718101 0 Twitter error response: status code = 401\n",
      "385583224 0 Twitter error response: status code = 404\n",
      "838585798966542336 2 Twitter error response: status code = 401\n",
      "427613727 13 Twitter error response: status code = 401\n",
      "1230479960973987841 0 Twitter error response: status code = 404\n",
      "62489286 6 Twitter error response: status code = 401\n",
      "123337471 5 Twitter error response: status code = 404\n",
      "2903680461 4 Twitter error response: status code = 401\n",
      "1178291181769375744 14 Twitter error response: status code = 401\n",
      "1157246486733873152 7 Twitter error response: status code = 401\n",
      "1150545859995688966 10 Twitter error response: status code = 401\n",
      "2976953879 11 Twitter error response: status code = 401\n",
      "1037096518178746368 3 Twitter error response: status code = 401\n",
      "1127548775948537856 3 Twitter error response: status code = 401\n",
      "342981197 14 Twitter error response: status code = 401\n",
      "1212415432486866945 8 Twitter error response: status code = 404\n",
      "365568604 4 Twitter error response: status code = 401\n",
      "2733367179 0 Twitter error response: status code = 401\n",
      "1252343306069200896 4 Twitter error response: status code = 401\n",
      "1954293308 10 Twitter error response: status code = 401\n",
      "1168309630268792832 4 Twitter error response: status code = 401\n",
      "54405679 12 Twitter error response: status code = 401\n",
      "1241230800940605440 2 Twitter error response: status code = 401\n",
      "1213163672668798976 3 Twitter error response: status code = 401\n",
      "488768377 2 Twitter error response: status code = 401\n",
      "875316146039336960 13 Twitter error response: status code = 401\n",
      "3409243029 10 Twitter error response: status code = 404\n",
      "972923091549609984 8 Twitter error response: status code = 401\n",
      "749240699783114752 10 Twitter error response: status code = 401\n",
      "1226371210155565057 8 Twitter error response: status code = 401\n",
      "146707562 0 Twitter error response: status code = 401\n",
      "43533248 8 Twitter error response: status code = 401\n",
      "1232645554007674880 2 Twitter error response: status code = 401\n",
      "164858090 10 Twitter error response: status code = 401\n",
      "3177119392 7 Twitter error response: status code = 401\n",
      "4100476821 10 Twitter error response: status code = 401\n",
      "1154328527212285952 8 Twitter error response: status code = 401\n",
      "1209779103743610881 14 Twitter error response: status code = 404\n",
      "1083804979863973888 8 Twitter error response: status code = 401\n",
      "1221853092406341632 2 Twitter error response: status code = 401\n",
      "2476024100 0 Twitter error response: status code = 401\n",
      "1180178496758386688 7 Twitter error response: status code = 401\n"
     ]
    },
    {
     "name": "stderr",
     "output_type": "stream",
     "text": [
      "Rate limit reached. Sleeping for: 639\n"
     ]
    },
    {
     "name": "stdout",
     "output_type": "stream",
     "text": [
      "840237627769049090 11 Twitter error response: status code = 401\n",
      "1180208140182274049 1 Twitter error response: status code = 404\n",
      "3131026925 12 Twitter error response: status code = 401\n",
      "599530464 2 Twitter error response: status code = 401\n",
      "1255531341963288579 9 Twitter error response: status code = 401\n",
      "1154555500698185729 7 Twitter error response: status code = 401\n",
      "2464720091 1 Twitter error response: status code = 401\n"
     ]
    },
    {
     "name": "stderr",
     "output_type": "stream",
     "text": [
      "Rate limit reached. Sleeping for: 638\n",
      "Rate limit reached. Sleeping for: 638\n",
      "Rate limit reached. Sleeping for: 637\n"
     ]
    },
    {
     "name": "stdout",
     "output_type": "stream",
     "text": [
      "1236596643602083840 3 Twitter error response: status code = 404\n"
     ]
    },
    {
     "name": "stderr",
     "output_type": "stream",
     "text": [
      "Rate limit reached. Sleeping for: 632\n"
     ]
    },
    {
     "name": "stdout",
     "output_type": "stream",
     "text": [
      "1175044767606018048 3 Twitter error response: status code = 401\n"
     ]
    },
    {
     "name": "stderr",
     "output_type": "stream",
     "text": [
      "Rate limit reached. Sleeping for: 631\n",
      "Rate limit reached. Sleeping for: 629\n"
     ]
    },
    {
     "name": "stdout",
     "output_type": "stream",
     "text": [
      "1238981012153159680 2 Twitter error response: status code = 401\n"
     ]
    },
    {
     "name": "stderr",
     "output_type": "stream",
     "text": [
      "Rate limit reached. Sleeping for: 623\n",
      "Rate limit reached. Sleeping for: 621\n",
      "Rate limit reached. Sleeping for: 617\n",
      "Rate limit reached. Sleeping for: 617\n",
      "Rate limit reached. Sleeping for: 616\n",
      "Rate limit reached. Sleeping for: 617\n",
      "Rate limit reached. Sleeping for: 607\n",
      "Rate limit reached. Sleeping for: 603\n"
     ]
    },
    {
     "name": "stdout",
     "output_type": "stream",
     "text": [
      "464763642 10 Twitter error response: status code = 401\n",
      "960095245278109696 6 Twitter error response: status code = 401\n",
      "1272136182999252992 6 Twitter error response: status code = 404\n",
      "1249482629851648001 1 Twitter error response: status code = 401\n",
      "1245457024093167617 6 Twitter error response: status code = 404\n",
      "1242039574697836544 12 Twitter error response: status code = 401\n",
      "1269887786607403009 12 Twitter error response: status code = 401\n",
      "1416148094 11 Twitter error response: status code = 401\n",
      "3579555262 7 Twitter error response: status code = 401\n",
      "1197596642788216833 12 Twitter error response: status code = 401\n",
      "4243263257 12 Twitter error response: status code = 401\n",
      "776167533674172416 13 Twitter error response: status code = 401\n",
      "134962843 2 Twitter error response: status code = 401\n",
      "121114618 9 Twitter error response: status code = 401\n",
      "1220121876468510720 4 Twitter error response: status code = 401\n",
      "1247220976821075974 8 Twitter error response: status code = 401\n",
      "1223415484315553793 2 Twitter error response: status code = 401\n",
      "1246614243094470661 10 Twitter error response: status code = 401\n",
      "2693504430 11 Twitter error response: status code = 401\n",
      "1263208844961906689 9 Twitter error response: status code = 401\n",
      "1352254800 13 Twitter error response: status code = 401\n",
      "3932101697 10 Twitter error response: status code = 404\n",
      "624518952 1 Twitter error response: status code = 401\n",
      "1246820467337572352274448693 1  Twitter error response: status code = 401\n",
      "8 Twitter error response: status code = 401\n",
      "1156651989457100802 13 Twitter error response: status code = 401\n",
      "1204146146811232257 12 Twitter error response: status code = 401\n",
      "1244101383583760385 11 Twitter error response: status code = 401\n",
      "620300481 9 Twitter error response: status code = 401\n",
      "571170165 0 Twitter error response: status code = 401\n",
      "532665387 13 Twitter error response: status code = 404\n",
      "375008515 13 Twitter error response: status code = 401\n",
      "1409808360 10 Twitter error response: status code = 401\n",
      "1043584284001488897 2 Twitter error response: status code = 401\n",
      "744069958057988096 6 Twitter error response: status code = 401\n",
      "713113398 6 Twitter error response: status code = 401\n",
      "59618867 5 Twitter error response: status code = 401\n",
      "1236895068772016128 1 Twitter error response: status code = 401\n",
      "1138898295668072449 14 Twitter error response: status code = 401\n",
      "1156552580308381696 7 Twitter error response: status code = 401\n",
      "742588385387261952 11 Twitter error response: status code = 401\n",
      "1147526833077968896 6 Twitter error response: status code = 401\n",
      "2213473042 2 Twitter error response: status code = 401\n",
      "1231289102097616896 13 Twitter error response: status code = 401\n",
      "2946117419 11 Twitter error response: status code = 401\n",
      "1188934327733764096 0 Twitter error response: status code = 401\n",
      "1067104831737946112 3 Twitter error response: status code = 401\n",
      "1189319853397696513 2 Twitter error response: status code = 401\n",
      "178049638 12 Twitter error response: status code = 401\n",
      "68983765 0 Twitter error response: status code = 404\n",
      "134663547 14 Twitter error response: status code = 401\n",
      "1245427916600741888 11 Twitter error response: status code = 401\n",
      "1223729396462256128 5 Twitter error response: status code = 404\n",
      "1210931988615426050 2 Twitter error response: status code = 401\n",
      "1186262897707667457 11 Twitter error response: status code = 401\n",
      "1221488495606353922 11 Twitter error response: status code = 404\n",
      "38123446 4 Twitter error response: status code = 401\n",
      "968400181719916544 8 Twitter error response: status code = 401\n",
      "1165740606624337921 10 Twitter error response: status code = 401\n",
      "1522656996 14 Twitter error response: status code = 401\n",
      "568994130 10 Twitter error response: status code = 401\n",
      "1271060171029123078 7 Twitter error response: status code = 404\n",
      "323525916 6 Twitter error response: status code = 404\n",
      "1198046364900503552 14 Twitter error response: status code = 404\n",
      "1222127925119606784 8 Twitter error response: status code = 404\n",
      "3232183959 1 Twitter error response: status code = 401\n",
      "53527783 10 Twitter error response: status code = 401\n",
      "915113461511835648 11 Twitter error response: status code = 401\n",
      "409872182 0 Twitter error response: status code = 401\n",
      "2730239355 14 Twitter error response: status code = 401\n",
      "1197473395140632577 8 Twitter error response: status code = 404\n",
      "558561754 9 Twitter error response: status code = 401\n",
      "966356825858854912 14 Twitter error response: status code = 404\n",
      "Process 11 saving 985 timelines with output file: ../data/timelines/API/IDF-updates/timelines-0-0-11-985-d1620e39-4a09-4031-8689-e96a20ff7ac4.json.bz2\n",
      "1142922820642643970 12 Twitter error response: status code = 401\n",
      "155884520 5 Twitter error response: status code = 401\n",
      "Process 8 saving 984 timelines with output file: ../data/timelines/API/IDF-updates/timelines-0-0-8-984-6bf62b46-a138-4a7b-9920-cb69fe671384.json.bz2\n",
      "851079984 14 Twitter error response: status code = 401\n",
      "2326936003 14 Twitter error response: status code = 401\n",
      "3308628067 14 Twitter error response: status code = 401\n",
      "1245370056265076738 10 Twitter error response: status code = 401\n",
      "1155760732841156608 10 Twitter error response: status code = 401\n",
      "361847725 10 Twitter error response: status code = 401\n",
      "1089893674065031168 3 Twitter error response: status code = 401\n",
      "2457822208 7 Twitter error response: status code = 401\n",
      "320914242 3 Twitter error response: status code = 401\n",
      "3676016543 3 Twitter error response: status code = 401\n",
      "1088384276104654848 14 Twitter error response: status code = 404\n",
      "1243249737479991297 14 Twitter error response: status code = 401\n",
      "267687986 7 Twitter error response: status code = 401\n",
      "2887517799 5 Twitter error response: status code = 401\n",
      "768754296 6 Twitter error response: status code = 401\n",
      "1165573642912174081 13 Twitter error response: status code = 401\n",
      "550261599 2 Twitter error response: status code = 401\n",
      "1250536210055024641 1 Twitter error response: status code = 401\n",
      "Process 10 saving 992 timelines with output file: ../data/timelines/API/IDF-updates/timelines-0-0-10-992-e0a7d69c-b4e6-4c16-bdfa-040b4552994b.json.bz2\n",
      "Process 0 saving 994 timelines with output file: ../data/timelines/API/IDF-updates/timelines-0-0-0-994-37f184b7-ba03-4ab9-b010-ed55088f01d9.json.bz2\n",
      "304897061 9 Twitter error response: status code = 401\n",
      "77646208 13 Twitter error response: status code = 401\n",
      "154603854 13 Twitter error response: status code = 401\n",
      "832155020 2 Twitter error response: status code = 401\n",
      "307926677 13 Twitter error response: status code = 401\n",
      "Process 3 saving 995 timelines with output file: ../data/timelines/API/IDF-updates/timelines-0-0-3-995-e28acbef-c4c1-49ec-9c2c-4819827a3f37.json.bz2\n",
      "Process 14 saving 1000 timelines with output file: ../data/timelines/API/IDF-updates/timelines-0-0-14-1000-71df4dd6-6fab-46a7-bc48-8c9d75dfefd5.json.bz2\n",
      "1273061461854695426 13 Twitter error response: status code = 401\n",
      "3008591123 7 Twitter error response: status code = 401\n",
      "1226256850154393600 12 Twitter error response: status code = 401\n",
      "ProcessProcess 2  saving6  980saving  timelines with output file:984  ../data/timelines/API/IDF-updates/timelines-0-0-2-980-719b9882-d914-456c-822f-0256c0f3fa53.json.bz2timelines with output file:\n",
      " ../data/timelines/API/IDF-updates/timelines-0-0-6-984-9de118e0-3575-4188-a181-e6da14158c59.json.bz2\n",
      "751913250 12 Twitter error response: status code = 401\n",
      "600379834 7 Twitter error response: status code = 401\n",
      "Process 12 saving 982 timelines with output file: ../data/timelines/API/IDF-updates/timelines-0-0-12-982-439e7087-29a1-4f2f-a048-d4c3e6869298.json.bz2\n",
      "557231678 9 Twitter error response: status code = 401\n",
      "1091706444070731776 5 Twitter error response: status code = 401\n",
      "339124415 4 Twitter error response: status code = 401\n",
      "1194050903021621248 4 Twitter error response: status code = 401\n",
      "221706231 9 Twitter error response: status code = 401\n",
      "1223748986198282246 9 Twitter error response: status code = 404\n",
      "Process 9 saving 995 timelines with output file: ../data/timelines/API/IDF-updates/timelines-0-0-9-995-6146027d-219c-4741-9d0e-6ce7347b95b5.json.bz2\n",
      "739784335776190464 1 Twitter error response: status code = 401\n"
     ]
    },
    {
     "name": "stdout",
     "output_type": "stream",
     "text": [
      "Process 13 saving 990 timelines with output file: ../data/timelines/API/IDF-updates/timelines-0-0-13-990-921a0650-fff5-4375-b633-246c879fcd6c.json.bz2\n",
      "Process 1 saving 1000 timelines with output file: ../data/timelines/API/IDF-updates/timelines-0-0-1-1000-cb33a656-7e7b-4aca-ba39-8b61db05486b.json.bz2\n",
      "Process 7 saving 991 timelines with output file: ../data/timelines/API/IDF-updates/timelines-0-0-7-991-332092ad-b8a1-4af1-9abe-c7a26cef0aef.json.bz2\n",
      "3749396362 4 Twitter error response: status code = 401\n",
      "Process 1 saving 3 timelines with output file: ../data/timelines/API/IDF-updates/timelines-0-0-1-3-b5004ddc-0b3d-45a8-91b7-08a39eacf1d4.json.bz2\n",
      "Process 4 saving 1000 timelines with output file: ../data/timelines/API/IDF-updates/timelines-0-0-4-1000-bb5d3bc4-756b-4c87-9693-95fe8aa48651.json.bz2\n",
      "1076624514031800321 5 Twitter error response: status code = 401\n",
      "1219400642160209927 5 Twitter error response: status code = 401\n",
      "Process 4 saving 4 timelines with output file: ../data/timelines/API/IDF-updates/timelines-0-0-4-4-4f95fa4e-19fb-4177-a51e-76c15938a74e.json.bz2\n",
      "2891807212 5 Twitter error response: status code = 401\n",
      "1061177534438608897 5 Twitter error response: status code = 401\n",
      "1109122556953575424 5 Twitter error response: status code = 401\n"
     ]
    },
    {
     "name": "stderr",
     "output_type": "stream",
     "text": [
      "Rate limit reached. Sleeping for: 563\n"
     ]
    },
    {
     "name": "stdout",
     "output_type": "stream",
     "text": [
      "1247544995860615169 5 Twitter error response: status code = 401\n",
      "1273939445956444163 5 Twitter error response: status code = 401\n",
      "14640579 5 Twitter error response: status code = 404\n"
     ]
    }
   ],
   "source": [
    "print('Extract Timelines...\\n')\n",
    "with mp.Pool() as pool:\n",
    "    pool.map(download_timelines, range(len(key_files)))"
   ]
  },
  {
   "cell_type": "code",
   "execution_count": null,
   "metadata": {},
   "outputs": [],
   "source": []
  }
 ],
 "metadata": {
  "kernelspec": {
   "display_name": "Python 3",
   "language": "python",
   "name": "python3"
  },
  "language_info": {
   "codemirror_mode": {
    "name": "ipython",
    "version": 3
   },
   "file_extension": ".py",
   "mimetype": "text/x-python",
   "name": "python",
   "nbconvert_exporter": "python",
   "pygments_lexer": "ipython3",
   "version": "3.7.5"
  }
 },
 "nbformat": 4,
 "nbformat_minor": 4
}
