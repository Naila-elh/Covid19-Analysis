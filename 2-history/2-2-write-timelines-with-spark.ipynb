{
 "cells": [
  {
   "cell_type": "code",
   "execution_count": 2,
   "metadata": {},
   "outputs": [],
   "source": [
    "import pandas as pd\n",
    "import numpy as np\n",
    "import json\n",
    "import os\n",
    "import multiprocessing as mp\n",
    "from time import time\n",
    "import socket\n",
    "from timeit import default_timer as timer\n",
    "\n",
    "\n",
    "import warnings\n",
    "warnings.filterwarnings('ignore')"
   ]
  },
  {
   "cell_type": "code",
   "execution_count": 3,
   "metadata": {},
   "outputs": [],
   "source": [
    "from pyspark.sql import SparkSession\n",
    "from pyspark.sql.functions import udf,desc,row_number,col,year,month,dayofmonth,dayofweek,to_timestamp,size,isnan,when,count,col,count,lit,sum\n",
    "import pyspark.sql.functions as F\n",
    "from pyspark.sql.types import MapType, StringType, IntegerType, StructType, StructField, FloatType, ArrayType\n",
    "from py4j.java_gateway import java_import\n",
    "from functools import reduce\n",
    "from pyspark.sql import DataFrame\n",
    "from pyspark import SparkContext"
   ]
  },
  {
   "cell_type": "markdown",
   "metadata": {},
   "source": [
    "# 1. Initialisation"
   ]
  },
  {
   "cell_type": "code",
   "execution_count": 4,
   "metadata": {},
   "outputs": [],
   "source": [
    "memory = '10g'\n",
    "pyspark_submit_args = ' --driver-memory ' + memory + ' pyspark-shell'\n",
    "os.environ[\"PYSPARK_SUBMIT_ARGS\"] = pyspark_submit_args"
   ]
  },
  {
   "cell_type": "code",
   "execution_count": 5,
   "metadata": {},
   "outputs": [
    {
     "name": "stdout",
     "output_type": "stream",
     "text": [
      "Create Local SparkSession\n"
     ]
    }
   ],
   "source": [
    "try:\n",
    "    spark\n",
    "except NameError:\n",
    "    print('Create Local SparkSession')\n",
    "    spark=SparkSession.builder.config(\"spark.driver.host\", \"localhost\").appName(\"extract-timelines\").getOrCreate()\n",
    "    \n",
    "# IgnoreCorruptFiles\n",
    "spark.conf.set(\"spark.sql.files.ignoreCorruptFiles\", \"true\")\n",
    "spark.conf.set(\"spark.sql.execution.arrow.enabled\", \"true\")\n",
    "\n",
    "sc = spark.sparkContext"
   ]
  },
  {
   "cell_type": "code",
   "execution_count": 6,
   "metadata": {},
   "outputs": [],
   "source": [
    "# Paths to data\n",
    "path_to_data = \"../data/\"\n",
    "path_to_timeline=os.path.join(path_to_data,'timelines/API/IDF_departments/')\n",
    "#path_to_timeline=os.path.join(path_to_data,'timelines/API/IDF/')\n",
    "path_to_external_data = os.path.join(path_to_data, \"external-data/\")"
   ]
  },
  {
   "cell_type": "code",
   "execution_count": 7,
   "metadata": {},
   "outputs": [
    {
     "name": "stdout",
     "output_type": "stream",
     "text": [
      "List files to be processed...\n",
      "# Files: 425\n"
     ]
    }
   ],
   "source": [
    "print('List files to be processed...')\n",
    "\n",
    "fs=spark._jvm.org.apache.hadoop.fs.FileSystem.get(spark._jsc.hadoopConfiguration())\n",
    "list_status=fs.listStatus(spark._jvm.org.apache.hadoop.fs.Path(path_to_timeline))\n",
    "\n",
    "paths=[file.getPath().toString() for file in list_status]\n",
    "paths=[path.replace('hdfs://dumbo','') for path in paths if 'json' in path]\n",
    "np.random.seed(0)\n",
    "paths=np.random.permutation(sorted(paths))\n",
    "\n",
    "print('# Files:', len(paths))"
   ]
  },
  {
   "cell_type": "code",
   "execution_count": 8,
   "metadata": {},
   "outputs": [
    {
     "name": "stdout",
     "output_type": "stream",
     "text": [
      "# Chunks: 10\n"
     ]
    }
   ],
   "source": [
    "n_chunks=10\n",
    "print('# Chunks:', n_chunks)\n",
    "paths_chunks=np.array_split(paths, n_chunks)"
   ]
  },
  {
   "cell_type": "markdown",
   "metadata": {},
   "source": [
    "# 2. Extract timelines"
   ]
  },
  {
   "cell_type": "code",
   "execution_count": 9,
   "metadata": {},
   "outputs": [],
   "source": [
    "def extract_chunk(i_chunk,paths_chunk) :\n",
    "\n",
    "    df = spark.read.json(list(paths_chunk))\n",
    "    \n",
    "    df=df.repartition(1000)\n",
    "    \n",
    "    df=df.select(\n",
    "            'id_str',\n",
    "            'created_at',\n",
    "            'full_text',\n",
    "            'lang',\n",
    "            'user_id',\n",
    "            'user_name',\n",
    "            'city',\n",
    "            'coordinates'\n",
    "            )\n",
    "    \n",
    "    df = df.toDF(*[\n",
    "            'id_str',\n",
    "            'created_at',\n",
    "            'full_text',\n",
    "            'lang',\n",
    "            'user_id',\n",
    "            'user_name',\n",
    "            'city',\n",
    "            'coordinates'\n",
    "            ])\n",
    "\n",
    "    df = df.withColumn('created_at', to_timestamp('created_at',\"EEE MMM dd HH:mm:ss ZZZZZ yyyy\"))\n",
    "    df = df.filter(col('created_at') > '2019-12-01') \n",
    "   \n",
    "    df = df.dropDuplicates()\n",
    "    \n",
    "    df.write.mode(\"overwrite\").parquet(os.path.join(path_to_data,'chunks','IDF_departments',str(i_chunk)))\n",
    "\n",
    "    return df"
   ]
  },
  {
   "cell_type": "code",
   "execution_count": 10,
   "metadata": {
    "scrolled": true
   },
   "outputs": [
    {
     "name": "stdout",
     "output_type": "stream",
     "text": [
      "EXTRACT CHUNK 0\n",
      "TIME: 231 SEC\n",
      "EXTRACT CHUNK 1\n",
      "TIME: 146 SEC\n",
      "EXTRACT CHUNK 3\n",
      "TIME: 139 SEC\n",
      "EXTRACT CHUNK 4\n",
      "TIME: 141 SEC\n",
      "EXTRACT CHUNK 5\n",
      "TIME: 142 SEC\n",
      "EXTRACT CHUNK 6\n",
      "TIME: 143 SEC\n",
      "EXTRACT CHUNK 7\n",
      "TIME: 145 SEC\n",
      "EXTRACT CHUNK 8\n",
      "TIME: 146 SEC\n",
      "EXTRACT CHUNK 9\n",
      "TIME: 140 SEC\n"
     ]
    }
   ],
   "source": [
    "for i_chunk,paths_chunk in enumerate(paths_chunks):\n",
    "    \n",
    "    print('EXTRACT CHUNK', i_chunk)\n",
    "    start = timer()\n",
    "\n",
    "    extract_chunk(i_chunk,paths_chunk)\n",
    "\n",
    "    end = timer()\n",
    "    print('TIME:', round(end - start), 'SEC')\n",
    "    "
   ]
  },
  {
   "cell_type": "code",
   "execution_count": 10,
   "metadata": {},
   "outputs": [],
   "source": [
    "# print('IMPORT')\n",
    "# start=timer()\n",
    "# timelines=spark.read.parquet(os.path.join(path_to_data,'chunks','IDF_departments','*/*.parquet'))\n",
    "# end=timer()\n",
    "# print('TIME ', round(end-start), 'SEC')"
   ]
  }
 ],
 "metadata": {
  "kernelspec": {
   "display_name": "Python 3",
   "language": "python",
   "name": "python3"
  },
  "language_info": {
   "codemirror_mode": {
    "name": "ipython",
    "version": 3
   },
   "file_extension": ".py",
   "mimetype": "text/x-python",
   "name": "python",
   "nbconvert_exporter": "python",
   "pygments_lexer": "ipython3",
   "version": "3.7.5"
  }
 },
 "nbformat": 4,
 "nbformat_minor": 4
}
