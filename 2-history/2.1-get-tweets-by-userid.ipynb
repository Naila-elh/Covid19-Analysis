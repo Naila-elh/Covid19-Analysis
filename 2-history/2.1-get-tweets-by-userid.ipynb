{
 "cells": [
  {
   "cell_type": "code",
   "execution_count": 1,
   "metadata": {
    "ExecuteTime": {
     "end_time": "2020-04-08T22:37:12.262201Z",
     "start_time": "2020-04-08T22:37:07.720408Z"
    }
   },
   "outputs": [],
   "source": [
    "from timeit import default_timer as timer\n",
    "import itertools\n",
    "import os\n",
    "import sys\n",
    "import uuid\n",
    "from glob import glob\n",
    "import json\n",
    "import tweepy\n",
    "import numpy as np\n",
    "import pandas as pd\n",
    "import multiprocessing as mp\n",
    "import psutil\n",
    "import socket\n",
    "from functools import partial\n",
    "import time"
   ]
  },
  {
   "cell_type": "markdown",
   "metadata": {},
   "source": [
    "# Params"
   ]
  },
  {
   "cell_type": "code",
   "execution_count": 2,
   "metadata": {
    "ExecuteTime": {
     "end_time": "2020-04-08T22:37:13.453851Z",
     "start_time": "2020-04-08T22:37:13.433517Z"
    }
   },
   "outputs": [
    {
     "name": "stdout",
     "output_type": "stream",
     "text": [
      "Save Data After Downloading 500 Timelines\n"
     ]
    }
   ],
   "source": [
    "cutoff = 500\n",
    "print('Save Data After Downloading',cutoff,'Timelines')\n"
   ]
  },
  {
   "cell_type": "code",
   "execution_count": 3,
   "metadata": {
    "ExecuteTime": {
     "end_time": "2020-04-08T22:37:14.317995Z",
     "start_time": "2020-04-08T22:37:14.304122Z"
    }
   },
   "outputs": [
    {
     "name": "stdout",
     "output_type": "stream",
     "text": [
      "SLURM_JOB_ID : 0 (Default)\n",
      "SLURM_ARRAY_TASK_ID : 0 (Default)\n",
      "SLURM_ARRAY_TASK_COUNT : 1 (Default)\n",
      "SLURM_JOB_CPUS_PER_NODE : 8 (Default)\n"
     ]
    }
   ],
   "source": [
    "def get_env_var(varname,default):\n",
    "    \n",
    "    if os.environ.get(varname) != None:\n",
    "        var = int(os.environ.get(varname))\n",
    "        print(varname,':', var)\n",
    "    else:\n",
    "        var = default\n",
    "        print(varname,':', var,'(Default)')\n",
    "    return var\n",
    "\n",
    "# Choose Number of Nodes To Distribute Credentials: e.g. jobarray=0-4, cpu_per_task=20, credentials = 90 (<100)\n",
    "SLURM_JOB_ID            = get_env_var('SLURM_JOB_ID',0)\n",
    "SLURM_ARRAY_TASK_ID     = get_env_var('SLURM_ARRAY_TASK_ID',0)\n",
    "SLURM_ARRAY_TASK_COUNT  = get_env_var('SLURM_ARRAY_TASK_COUNT',1)\n",
    "SLURM_JOB_CPUS_PER_NODE = get_env_var('SLURM_JOB_CPUS_PER_NODE',mp.cpu_count())"
   ]
  },
  {
   "cell_type": "code",
   "execution_count": 4,
   "metadata": {
    "ExecuteTime": {
     "end_time": "2020-04-08T22:37:14.913164Z",
     "start_time": "2020-04-08T22:37:14.900653Z"
    }
   },
   "outputs": [
    {
     "name": "stdout",
     "output_type": "stream",
     "text": [
      "../data/users\n",
      "../keys\n",
      "../data\\timelines\\API\n"
     ]
    }
   ],
   "source": [
    "path_to_data='../data'\n",
    "path_to_users = os.path.join(path_to_data + '/users')\n",
    "path_to_keys = os.path.join('../keys')\n",
    "path_to_timelines = os.path.join(path_to_data,'timelines','API')\n",
    "os.makedirs(path_to_timelines, exist_ok=True)\n",
    "print(path_to_users)\n",
    "print(path_to_keys)\n",
    "print(path_to_timelines)\n"
   ]
  },
  {
   "cell_type": "markdown",
   "metadata": {},
   "source": [
    "# Credentials"
   ]
  },
  {
   "cell_type": "code",
   "execution_count": 5,
   "metadata": {
    "ExecuteTime": {
     "end_time": "2020-04-08T22:37:15.796628Z",
     "start_time": "2020-04-08T22:37:15.768635Z"
    }
   },
   "outputs": [
    {
     "name": "stdout",
     "output_type": "stream",
     "text": [
      "# Credentials Allocated To Node: 7\n",
      "../keys\\key_youssr.json\n",
      "../keys\\key_jihanne.json\n",
      "../keys\\key_cyril.json\n",
      "../keys\\key_naila.json\n",
      "../keys\\key_clemence.json\n",
      "../keys\\key_noemie.json\n",
      "../keys\\key_naila2.json\n",
      "../keys\\auth_naila.json\n"
     ]
    }
   ],
   "source": [
    "def get_key_files(SLURM_ARRAY_TASK_ID,SLURM_ARRAY_TASK_COUNT,SLURM_JOB_CPUS_PER_NODE):\n",
    "\n",
    "    # Randomize set of key files using constant seed\n",
    "    np.random.seed(0)\n",
    "    all_key_files = np.random.permutation(glob(os.path.join(path_to_keys,'key*')))\n",
    "    auth_file = np.random.permutation(glob(os.path.join(path_to_keys,'auth*')))\n",
    "    \n",
    "    # Split file list by node\n",
    "    key_files = np.array_split(all_key_files,SLURM_ARRAY_TASK_COUNT)[SLURM_ARRAY_TASK_ID]\n",
    "    \n",
    "    # Check that node has more CPU than key file \n",
    "    if len(key_files) <= SLURM_JOB_CPUS_PER_NODE:\n",
    "        print('# Credentials Allocated To Node:', len(key_files)) \n",
    "    else:\n",
    "        print('Check environment variables:')\n",
    "        print('# Credentials (',len(key_files),') > # CPU (', SLURM_JOB_CPUS_PER_NODE,')')\n",
    "        print('Only keeping', SLURM_JOB_CPUS_PER_NODE, 'credentials')\n",
    "        key_files = key_files[:SLURM_JOB_CPUS_PER_NODE]\n",
    "        \n",
    "    return key_files, auth_file\n",
    "\n",
    "key_files, auth_file = get_key_files(SLURM_ARRAY_TASK_ID,SLURM_ARRAY_TASK_COUNT,SLURM_JOB_CPUS_PER_NODE)\n",
    "print('\\n'.join(key_files))\n",
    "print('\\n'.join(auth_file))"
   ]
  },
  {
   "cell_type": "code",
   "execution_count": 6,
   "metadata": {
    "ExecuteTime": {
     "end_time": "2020-04-08T22:37:18.053191Z",
     "start_time": "2020-04-08T22:37:18.033522Z"
    }
   },
   "outputs": [],
   "source": [
    "def get_auth(key_file):\n",
    "    \n",
    "    # Import Auth keys\n",
    "    for auth_file in glob(os.path.join(path_to_keys,'auth*')) :\n",
    "        with open (auth_file) as f:\n",
    "            auth_key = json.load(f)\n",
    "    \n",
    "    # Import token pairs\n",
    "    with open(key_file) as f:\n",
    "        key = json.load(f)\n",
    "\n",
    "    # OAuth process, using the keys and tokens\n",
    "    auth = tweepy.OAuthHandler(auth_key['consumer_key'], auth_key['consumer_secret'])\n",
    "    auth.set_access_token(key['access_token'], key['access_token_secret'])\n",
    "\n",
    "    # Creation of the actual interface, using authentication\n",
    "    api = tweepy.API(auth, wait_on_rate_limit=True, wait_on_rate_limit_notify=True)\n",
    "    \n",
    "    try:\n",
    "        api.verify_credentials()\n",
    "        print(key_file,\": Authentication checked\")\n",
    "    except:\n",
    "        print(key_file,\": error during authentication\")\n",
    "        sys.exit('Exit')\n",
    "    \n",
    "    return auth, api"
   ]
  },
  {
   "cell_type": "markdown",
   "metadata": {},
   "source": [
    "# Users list"
   ]
  },
  {
   "cell_type": "code",
   "execution_count": 7,
   "metadata": {
    "ExecuteTime": {
     "end_time": "2020-04-08T22:37:18.920884Z",
     "start_time": "2020-04-08T22:37:18.812927Z"
    }
   },
   "outputs": [
    {
     "name": "stdout",
     "output_type": "stream",
     "text": [
      "Import Users in IDF and Paris\n"
     ]
    }
   ],
   "source": [
    "print('Import Users in IDF and Paris')\n",
    "users_idf = pd.read_json(os.path.join(path_to_users, 'users_idf.json'), lines=True)[0].tolist()\n",
    "users_paris = pd.read_json(os.path.join(path_to_users, 'users_paris.json'), lines=True)[0].tolist()"
   ]
  },
  {
   "cell_type": "code",
   "execution_count": 8,
   "metadata": {
    "ExecuteTime": {
     "end_time": "2020-04-08T22:37:19.458035Z",
     "start_time": "2020-04-08T22:37:19.451034Z"
    }
   },
   "outputs": [],
   "source": [
    "# print('Import Users By Account')\n",
    "# start = timer()\n",
    "\n",
    "# l = []\n",
    "# for filename in sorted(glob(os.path.join(path_to_users,'users*.json'))):\n",
    "#     try:\n",
    "#         df = pd.read_json(filename, lines=True) \n",
    "#         l.append(df)\n",
    "#     except:\n",
    "#         print('error importing', filename)\n",
    "        \n",
    "# #users_by_account_location=pd.concat(l, axis=0, ignore_index=True)\n",
    "# #users_by_account_location=users_by_account_location.set_index('city')['user_id']\n",
    "# #users_by_account_location=users_by_account_location.apply(eval).apply(lambda x:[str(y) for y in x])\n",
    "# # print('# Locations:', len(users_by_account_location))\n",
    "# # print('# Users Total:', users_by_account_location.apply(len).sum())\n",
    "\n",
    "# end = timer()\n",
    "# print('Computing Time:', round(end - start), 'sec')"
   ]
  },
  {
   "cell_type": "code",
   "execution_count": 9,
   "metadata": {
    "ExecuteTime": {
     "end_time": "2020-04-08T22:37:20.057499Z",
     "start_time": "2020-04-08T22:37:20.051371Z"
    }
   },
   "outputs": [],
   "source": [
    "# print('Import Locations')\n",
    "# account_locations=pd.read_pickle(os.path.join(path_to_locations,'account-locations.pkl')) \n",
    "# print('# Locations:', len(account_locations))"
   ]
  },
  {
   "cell_type": "code",
   "execution_count": 10,
   "metadata": {
    "ExecuteTime": {
     "end_time": "2020-04-08T22:37:20.492510Z",
     "start_time": "2020-04-08T22:37:20.482723Z"
    }
   },
   "outputs": [
    {
     "name": "stdout",
     "output_type": "stream",
     "text": [
      "Select Users...\n",
      "Computing Time: 0 sec\n"
     ]
    }
   ],
   "source": [
    "start = timer()\n",
    "print('Select Users...')\n",
    "\n",
    "# Sorted list of users in selected countries\n",
    "# users=pd.merge(\n",
    "# users_by_account_location.reindex(\n",
    "# account_locations.loc[\n",
    "# account_locations['country_short'].isin(country_codes),'user_location']).dropna().reset_index(),\n",
    "# account_locations[['user_location','country_short']]).drop('user_location',1).rename(\n",
    "# columns={'country_short':'country_code'}).explode('user_id').set_index('user_id')['country_code'].sort_index()\n",
    "#users=pd.DataFrame(users_by_account_location.set_index('user_id')['country'].sort_index())\n",
    "\n",
    "# Randomize users\n",
    "#users=users.sample(frac=1,random_state=0)\n",
    "\n",
    "# del users_by_account_location\n",
    "# del account_locations\n",
    "\n",
    "#print('# Users :', len(users)) \n",
    "# print(users.reset_index().groupby('country_code').count())\n",
    "\n",
    "end = timer()\n",
    "print('Computing Time:', round(end - start), 'sec')"
   ]
  },
  {
   "cell_type": "code",
   "execution_count": 11,
   "metadata": {
    "ExecuteTime": {
     "end_time": "2020-04-08T22:37:21.092016Z",
     "start_time": "2020-04-08T22:37:21.082769Z"
    }
   },
   "outputs": [
    {
     "name": "stdout",
     "output_type": "stream",
     "text": [
      "Computing Time: -1 sec\n"
     ]
    }
   ],
   "source": [
    "start = timer()\n",
    "# print('Split Users Across Nodes...')\n",
    "\n",
    "# print('First user:', users.index[0])\n",
    "# users=np.array_split(users,SLURM_ARRAY_TASK_COUNT)[SLURM_ARRAY_TASK_ID]\n",
    "# print('# Users for this node:', len(users)) \n",
    "# print('First user for this node:', users.index[0])\n",
    "\n",
    "# end = timer()\n",
    "print('Computing Time:', round(end - start), 'sec')"
   ]
  },
  {
   "cell_type": "code",
   "execution_count": 12,
   "metadata": {
    "ExecuteTime": {
     "end_time": "2020-04-08T22:37:21.733497Z",
     "start_time": "2020-04-08T22:37:21.726179Z"
    }
   },
   "outputs": [],
   "source": [
    "# country_codes = users_by_account_location['country'].unique()"
   ]
  },
  {
   "cell_type": "code",
   "execution_count": 13,
   "metadata": {
    "ExecuteTime": {
     "end_time": "2020-04-08T22:37:22.243544Z",
     "start_time": "2020-04-08T22:37:22.234437Z"
    }
   },
   "outputs": [],
   "source": [
    "# start = timer()\n",
    "# print('Remove users whose timeline were successfully downloaded...')\n",
    "\n",
    "# def get_success(country_code):\n",
    "    \n",
    "#     if not os.path.exists(os.path.join(path_to_timelines, country_code, 'success')):\n",
    "#         return set()\n",
    "#     else:\n",
    "#         success = set()\n",
    "#         with open(os.path.join(path_to_timelines, country_code, 'success'), 'r', encoding='utf-8') as file:\n",
    "#             for line in file:\n",
    "#                 success.add(line.strip('\\n').split('\\t')[0])\n",
    "#         return set(success)\n",
    "\n",
    "# # success=set()\n",
    "# # for country_code in country_codes:\n",
    "# #     tmp=get_success(country_code)\n",
    "# #     print(country_code, ':', len(tmp))\n",
    "# #     success=success.union(tmp)\n",
    "# # print('# downloaded timelines:', len(success))\n",
    "\n",
    "# # users.drop(success,errors='ignore',inplace=True)\n",
    "# # print('# remaining users for this node:', len(users))\n",
    "\n",
    "# # Group users by country\n",
    "# users_by_country=users.reset_index().groupby('country')['user_id'].apply(list).reindex(country_codes)\n",
    "\n",
    "# end = timer()\n",
    "# print('Computing Time:', round(end - start), 'sec')"
   ]
  },
  {
   "cell_type": "markdown",
   "metadata": {},
   "source": [
    "# Get timeline"
   ]
  },
  {
   "cell_type": "code",
   "execution_count": 14,
   "metadata": {
    "ExecuteTime": {
     "end_time": "2020-04-08T22:37:23.137248Z",
     "start_time": "2020-04-08T22:37:23.121594Z"
    }
   },
   "outputs": [],
   "source": [
    "def get_timeline(user_id,api):\n",
    "    \n",
    "    timeline = []\n",
    "    error = None\n",
    "    \n",
    "    # Collect All Statuses in Timeline\n",
    "    try:\n",
    "        cursor = tweepy.Cursor(\n",
    "        api.user_timeline, \n",
    "        user_id=user_id, \n",
    "        count=3200,\n",
    "        tweet_mode=\"extended\", \n",
    "        include_rts=True).items()\n",
    "        \n",
    "        for status in cursor:\n",
    "            timeline.append(status._json)\n",
    "     \n",
    "    except tweepy.error.TweepError as e:\n",
    "        error = str(e)\n",
    "        \n",
    "    return pd.DataFrame(timeline), error\n",
    "\n",
    "# timeline = get_user_timeline('12',get_auth(key_file))"
   ]
  },
  {
   "cell_type": "code",
   "execution_count": 15,
   "metadata": {
    "ExecuteTime": {
     "end_time": "2020-04-08T22:37:24.325343Z",
     "start_time": "2020-04-08T22:37:24.313657Z"
    }
   },
   "outputs": [],
   "source": [
    "# timelines=pd.DataFrame()\n",
    "# downloaded_ids = []\n",
    "# country_code='France'\n",
    "# index_key=0\n",
    "# for user_id in users_block[0:3]:\n",
    "#         print(str(user_id))\n",
    "#         # Try Downloading Timeline\n",
    "#         timeline, error = get_timeline(user_id,api)\n",
    "        \n",
    "#         if error!=None:\n",
    "# #             print(user_id,index_key,error)\n",
    "#             continue\n",
    "#         # Append\n",
    "#         print('append')\n",
    "#         timelines = pd.concat([timelines, timeline],sort=False)\n",
    "#         downloaded_ids.append(user_id)\n",
    "            \n",
    "#         # Save after <cutoff> timelines or when reaching last user\n",
    "#         print('save')\n",
    "#         if len(downloaded_ids) == cutoff or user_id == users_block[2]:\n",
    "            \n",
    "#             filename = \\\n",
    "#             'timelines-'+\\\n",
    "#             str(SLURM_JOB_ID)+'-'+\\\n",
    "#             str(SLURM_ARRAY_TASK_ID)+'-'+\\\n",
    "#             str(index_key)+'-'+\\\n",
    "#             str(len(downloaded_ids))+'-'+\\\n",
    "#             output_id+'.json.bz2'\n",
    "            \n",
    "#             print('Process', index_key, 'saving', len(downloaded_ids), 'timelines with output file:', \n",
    "#             os.path.join(path_to_timelines,'IDF',filename))\n",
    "            \n",
    "#             # Save as list of dict discarding index\n",
    "#             print('save as list')\n",
    "#             timelines.to_json(\n",
    "#             os.path.join(path_to_timelines,'IDF',filename),\n",
    "#             orient='records',\n",
    "#             #force_ascii=False,\n",
    "#             date_format=None,\n",
    "#             double_precision=15)\n",
    "            \n",
    "#              # Save User Id and File In Which Its Timeline Was Saved\n",
    "# #             print('save user_id')\n",
    "# #             with open(os.path.join(path_to_timelines,'IDF','success'), 'a', encoding='utf-8') as file:\n",
    "# #                 for downloaded_id in downloaded_ids:\n",
    "# #                     file.write(downloaded_id+'\\t'+filename+'\\n')\n",
    "            \n",
    "#             # Reset Output File ID, Data, and Downloaded Users\n",
    "#             print('reset')\n",
    "#             del timelines, downloaded_ids\n",
    "#             output_id = str(uuid.uuid4())\n",
    "#             timelines = pd.DataFrame()\n",
    "#             downloaded_ids = []"
   ]
  },
  {
   "cell_type": "code",
   "execution_count": 16,
   "metadata": {
    "ExecuteTime": {
     "end_time": "2020-04-08T22:37:25.015226Z",
     "start_time": "2020-04-08T22:37:25.007107Z"
    },
    "code_folding": [
     0
    ]
   },
   "outputs": [],
   "source": [
    "# def download_timelines(index_key,users_list):\n",
    "\n",
    "#     # Create Access For Block of Users\n",
    "#     api = get_auth(key_files[index_key])\n",
    "    \n",
    "#     # Select Block of Users\n",
    "#     users_block = np.array_split(users_idf,len(key_files))[0]\n",
    "    \n",
    "#     # Initialize Output File ID\n",
    "#     output_id = str(uuid.uuid4())\n",
    "    \n",
    "#     # Initialize DataFrame\n",
    "#     timelines = pd.DataFrame()\n",
    "    \n",
    "#     # Initialize Downloaded User List\n",
    "#     downloaded_ids = []\n",
    "    \n",
    "#     for user_id in users_block[0:3]:\n",
    "#         # Try Downloading Timeline\n",
    "#         timeline, error = get_timeline(user_id,api)\n",
    "        \n",
    "#         if error!=None:\n",
    "# #             print(user_id,index_key,error)\n",
    "#             continue\n",
    "#         # Append\n",
    "#         print('append')\n",
    "#         timelines = pd.concat([timelines, timeline],sort=False)\n",
    "#         downloaded_ids.append(user_id)\n",
    "            \n",
    "#         # Save after <cutoff> timelines or when reaching last user\n",
    "#         print('save')\n",
    "#         if len(downloaded_ids) == cutoff or user_id == users_block[2]:\n",
    "            \n",
    "#             filename = \\\n",
    "#             'timelines-'+\\\n",
    "#             str(SLURM_JOB_ID)+'-'+\\\n",
    "#             str(SLURM_ARRAY_TASK_ID)+'-'+\\\n",
    "#             str(index_key)+'-'+\\\n",
    "#             str(len(downloaded_ids))+'-'+\\\n",
    "#             output_id+'.json.bz2'\n",
    "            \n",
    "#             print('Process', index_key, 'saving', len(downloaded_ids), 'timelines with output file:', \n",
    "#             os.path.join(path_to_timelines,'IDF',filename))\n",
    "            \n",
    "#             # Save as list of dict discarding index\n",
    "#             print('save as list')\n",
    "#             timelines.to_json(\n",
    "#             os.path.join(path_to_timelines,'IDF',filename),\n",
    "#             orient='records',\n",
    "#             #force_ascii=False,\n",
    "#             date_format=None,\n",
    "#             double_precision=15)\n",
    "            \n",
    "#              # Save User Id and File In Which Its Timeline Was Saved\n",
    "# #             print('save user_id')\n",
    "# #             with open(os.path.join(path_to_timelines,'IDF','success'), 'a', encoding='utf-8') as file:\n",
    "# #                 for downloaded_id in downloaded_ids:\n",
    "# #                     file.write(downloaded_id+'\\t'+filename+'\\n')\n",
    "            \n",
    "#             # Reset Output File ID, Data, and Downloaded Users\n",
    "#             print('reset')\n",
    "#             del timelines, downloaded_ids\n",
    "#             output_id = str(uuid.uuid4())\n",
    "#             timelines = pd.DataFrame()\n",
    "#             downloaded_ids = []\n",
    "#     return 0"
   ]
  },
  {
   "cell_type": "code",
   "execution_count": 17,
   "metadata": {
    "ExecuteTime": {
     "end_time": "2020-04-08T22:37:25.485943Z",
     "start_time": "2020-04-08T22:37:25.453853Z"
    }
   },
   "outputs": [
    {
     "name": "stdout",
     "output_type": "stream",
     "text": [
      "SLURM_JOB_ID : 0 (Default)\n",
      "SLURM_ARRAY_TASK_ID : 0 (Default)\n",
      "SLURM_ARRAY_TASK_COUNT : 1 (Default)\n",
      "SLURM_JOB_CPUS_PER_NODE : 8 (Default)\n",
      "# Credentials Allocated To Node: 7\n"
     ]
    }
   ],
   "source": [
    "import functions_api"
   ]
  },
  {
   "cell_type": "code",
   "execution_count": null,
   "metadata": {
    "ExecuteTime": {
     "start_time": "2020-04-08T22:37:25.875Z"
    }
   },
   "outputs": [
    {
     "name": "stdout",
     "output_type": "stream",
     "text": [
      "Extract Timelines...\n",
      "\n"
     ]
    }
   ],
   "source": [
    "print('Extract Timelines...\\n')\n",
    "with mp.Pool() as pool:\n",
    "    pool.map(partial(functions_api.download_timelines, users_list=users_idf), range(len(key_files)))\n"
   ]
  },
  {
   "cell_type": "code",
   "execution_count": null,
   "metadata": {},
   "outputs": [],
   "source": []
  }
 ],
 "metadata": {
  "kernelspec": {
   "display_name": "Python 3",
   "language": "python",
   "name": "python3"
  },
  "language_info": {
   "codemirror_mode": {
    "name": "ipython",
    "version": 3
   },
   "file_extension": ".py",
   "mimetype": "text/x-python",
   "name": "python",
   "nbconvert_exporter": "python",
   "pygments_lexer": "ipython3",
   "version": "3.7.3"
  }
 },
 "nbformat": 4,
 "nbformat_minor": 2
}
