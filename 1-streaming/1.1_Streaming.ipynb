{
 "cells": [
  {
   "cell_type": "code",
   "execution_count": 1,
   "metadata": {
    "ExecuteTime": {
     "end_time": "2020-04-08T09:49:01.137514Z",
     "start_time": "2020-04-08T09:49:00.487858Z"
    }
   },
   "outputs": [],
   "source": [
    "import tweepy\n",
    "import os\n",
    "import re\n",
    "import gzip\n",
    "import json\n",
    "import shutil\n",
    "from time import time\n",
    "import webbrowser"
   ]
  },
  {
   "cell_type": "code",
   "execution_count": 2,
   "metadata": {
    "ExecuteTime": {
     "end_time": "2020-04-08T09:49:01.144681Z",
     "start_time": "2020-04-08T09:49:01.137514Z"
    }
   },
   "outputs": [],
   "source": [
    "path_to_data=('../data/')\n",
    "path_to_keys=('../keys/')"
   ]
  },
  {
   "cell_type": "markdown",
   "metadata": {},
   "source": [
    "# Authentification"
   ]
  },
  {
   "cell_type": "code",
   "execution_count": 3,
   "metadata": {
    "ExecuteTime": {
     "end_time": "2020-04-08T09:49:01.546295Z",
     "start_time": "2020-04-08T09:49:01.529340Z"
    }
   },
   "outputs": [],
   "source": [
    "with open (path_to_keys+'auth_naila.json') as f:\n",
    "    auth_key = json.load(f)\n",
    "    \n",
    "# Import token pairs\n",
    "with open(path_to_keys+'key_naila.json') as f:\n",
    "    token_key = json.load(f)"
   ]
  },
  {
   "cell_type": "markdown",
   "metadata": {},
   "source": [
    "# Download data from Twitter API"
   ]
  },
  {
   "cell_type": "code",
   "execution_count": 4,
   "metadata": {
    "ExecuteTime": {
     "end_time": "2020-04-08T09:49:03.870171Z",
     "start_time": "2020-04-08T09:49:02.333635Z"
    }
   },
   "outputs": [],
   "source": [
    "import time\n",
    "from tweepy import Stream\n",
    "from tweepy.streaming import StreamListener\n",
    "from http.client import IncompleteRead\n",
    "import pandas as pd\n",
    "\n",
    "# Get these values from your dev.twitter application settings.\n",
    "CONSUMER_KEY = auth_key['consumer_key']\n",
    "CONSUMER_SECRET = auth_key['consumer_secret']\n",
    "ACCESS_TOKEN = token_key['access_token']\n",
    "ACCESS_TOKEN_SECRET = token_key['access_token_secret']\n",
    "\n",
    "auth = tweepy.OAuthHandler(CONSUMER_KEY, CONSUMER_SECRET)\n",
    "auth.set_access_token(ACCESS_TOKEN, ACCESS_TOKEN_SECRET)"
   ]
  },
  {
   "cell_type": "code",
   "execution_count": 5,
   "metadata": {
    "ExecuteTime": {
     "end_time": "2020-04-08T09:49:03.879176Z",
     "start_time": "2020-04-08T09:49:03.870171Z"
    }
   },
   "outputs": [],
   "source": [
    "language_id     = \"in\"\n",
    "#most_freq_words = list(pd.read_csv('most_freq_indonesia',header=None)[0].values)[:400]\n",
    "\n",
    "# Bounding boxes for geolocations\n",
    "# Online-Tool to create boxes (c+p as raw CSV): http://boundingbox.klokantech.com/\n",
    "GEOBOX_PARIS = [2.2526417626,48.8163260795,2.4220143351,48.9021588775]\n",
    "GEOBOX_WORLD = [-180,-90,180,90]"
   ]
  },
  {
   "cell_type": "code",
   "execution_count": null,
   "metadata": {
    "ExecuteTime": {
     "start_time": "2020-04-08T09:49:05.141Z"
    }
   },
   "outputs": [],
   "source": [
    "class MyListener(StreamListener):\n",
    " \n",
    "    def on_data(self, data):\n",
    "        try:\n",
    "#             with open('./data/twitter-stream-'+language_id+'-'+time.strftime(\"%Y-%m-%d-%H\", time.gmtime())+'.json', 'a') as f:\n",
    "            with open('../data/twitter-stream-geobox-paris-'+time.strftime(\"%Y-%m-%d-%H\", time.gmtime())+'.json', 'a') as f:\n",
    "                f.write(data)\n",
    "                return True\n",
    "        except BaseException as e:\n",
    "            print('Error on_data: ', str(e))\n",
    "        return True\n",
    " \n",
    "    def on_error(self, status):\n",
    "        print(status)\n",
    "        return True\n",
    "\n",
    "while True:\n",
    "    \n",
    "    try:\n",
    "        \n",
    "        # Connect/reconnect the stream\n",
    "        twitter_stream = Stream(auth, MyListener())\n",
    "#         twitter_stream.filter(languages=[language_id],track=most_freq_words)\n",
    "        twitter_stream.filter(locations=GEOBOX_PARIS)\n",
    "        #twitter_stream.filter(languages=['fr'])\n",
    "\n",
    "    except:\n",
    "        \n",
    "        # Oh well, reconnect and keep trucking\n",
    "        continue"
   ]
  },
  {
   "cell_type": "code",
   "execution_count": null,
   "metadata": {},
   "outputs": [],
   "source": []
  }
 ],
 "metadata": {
  "kernelspec": {
   "display_name": "Python 3",
   "language": "python",
   "name": "python3"
  },
  "language_info": {
   "codemirror_mode": {
    "name": "ipython",
    "version": 3
   },
   "file_extension": ".py",
   "mimetype": "text/x-python",
   "name": "python",
   "nbconvert_exporter": "python",
   "pygments_lexer": "ipython3",
   "version": "3.7.3"
  }
 },
 "nbformat": 4,
 "nbformat_minor": 2
}
