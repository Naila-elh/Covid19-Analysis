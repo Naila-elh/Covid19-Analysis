{
 "cells": [
  {
   "cell_type": "code",
   "execution_count": 1,
   "metadata": {
    "ExecuteTime": {
     "end_time": "2020-04-06T11:29:25.767722Z",
     "start_time": "2020-04-06T11:29:25.733581Z"
    }
   },
   "outputs": [],
   "source": [
    "import os\n",
    "import re\n",
    "import gzip\n",
    "import json\n",
    "import shutil\n",
    "from time import time\n"
   ]
  },
  {
   "cell_type": "code",
   "execution_count": 2,
   "metadata": {
    "ExecuteTime": {
     "end_time": "2020-04-06T11:29:25.942015Z",
     "start_time": "2020-04-06T11:29:25.937062Z"
    }
   },
   "outputs": [],
   "source": [
    "path_to_data='../data/'"
   ]
  },
  {
   "cell_type": "code",
   "execution_count": 3,
   "metadata": {
    "ExecuteTime": {
     "end_time": "2020-04-06T11:39:17.804936Z",
     "start_time": "2020-04-06T11:29:26.441619Z"
    }
   },
   "outputs": [
    {
     "name": "stdout",
     "output_type": "stream",
     "text": [
      "File: twitter-stream-geobox-paris-2020-04-02-08.json\n",
      "Compress...\n",
      "Remove...\n",
      "Done in  0 sec\n",
      "File: twitter-stream-geobox-paris-2020-04-02-09.json\n",
      "Compress...\n",
      "Remove...\n",
      "Done in  0 sec\n",
      "File: twitter-stream-geobox-paris-2020-04-02-10.json\n",
      "Compress...\n",
      "Remove...\n",
      "Done in  0 sec\n",
      "File: twitter-stream-geobox-paris-2020-04-02-11.json\n",
      "Compress...\n",
      "Remove...\n",
      "Done in  0 sec\n",
      "File: twitter-stream-geobox-paris-2020-04-02-12.json\n",
      "Compress...\n",
      "Remove...\n",
      "Done in  0 sec\n",
      "File: twitter-stream-language-fr-2020-04-02-14.json\n",
      "Compress...\n",
      "Remove...\n",
      "Done in  0 sec\n",
      "File: twitter-stream-geobox-CLEM-world-fr-2020-04-02-15.json\n",
      "Compress...\n",
      "Remove...\n",
      "Done in  0 sec\n",
      "File: twitter-stream-geobox-JI-2020-04-02-15.json\n",
      "Compress...\n",
      "Remove...\n",
      "Done in  17 sec\n",
      "File: twitter-stream-geobox-world-2020-04-02-15.json\n",
      "Compress...\n",
      "Remove...\n",
      "Done in  0 sec\n",
      "File: twitter-stream-geobox-CLEM-world-fr-2020-04-02-16.json\n",
      "Compress...\n",
      "Remove...\n",
      "Done in  1 sec\n",
      "File: twitter-stream-geobox-JI-2020-04-02-16.json\n",
      "Compress...\n",
      "Remove...\n",
      "Done in  20 sec\n",
      "File: twitter-stream-geobox-world-2020-04-02-16.json\n",
      "Compress...\n",
      "Remove...\n",
      "Done in  0 sec\n",
      "File: twitter-stream-geobox-CLEM-world-fr-2020-04-02-17.json\n",
      "Compress...\n",
      "Remove...\n",
      "Done in  0 sec\n",
      "File: twitter-stream-geobox-JI-2020-04-02-17.json\n",
      "Compress...\n",
      "Remove...\n",
      "Done in  3 sec\n"
     ]
    },
    {
     "ename": "KeyboardInterrupt",
     "evalue": "",
     "output_type": "error",
     "traceback": [
      "\u001b[1;31m---------------------------------------------------------------------------\u001b[0m",
      "\u001b[1;31mKeyboardInterrupt\u001b[0m                         Traceback (most recent call last)",
      "\u001b[1;32m<ipython-input-3-5b23aa086423>\u001b[0m in \u001b[0;36m<module>\u001b[1;34m\u001b[0m\n\u001b[0;32m      2\u001b[0m \u001b[1;33m\u001b[0m\u001b[0m\n\u001b[0;32m      3\u001b[0m     \u001b[1;31m# Get all jsons\u001b[0m\u001b[1;33m\u001b[0m\u001b[1;33m\u001b[0m\u001b[1;33m\u001b[0m\u001b[0m\n\u001b[1;32m----> 4\u001b[1;33m     \u001b[0mjsons\u001b[0m \u001b[1;33m=\u001b[0m \u001b[1;33m[\u001b[0m\u001b[0mx\u001b[0m \u001b[1;32mfor\u001b[0m \u001b[0mx\u001b[0m \u001b[1;32min\u001b[0m \u001b[0mos\u001b[0m\u001b[1;33m.\u001b[0m\u001b[0mlistdir\u001b[0m\u001b[1;33m(\u001b[0m\u001b[0mos\u001b[0m\u001b[1;33m.\u001b[0m\u001b[0mgetcwd\u001b[0m\u001b[1;33m(\u001b[0m\u001b[1;33m)\u001b[0m\u001b[1;33m+\u001b[0m\u001b[1;34m'/../data'\u001b[0m\u001b[1;33m)\u001b[0m \u001b[1;32mif\u001b[0m \u001b[0mx\u001b[0m\u001b[1;33m[\u001b[0m\u001b[1;33m-\u001b[0m\u001b[1;36m5\u001b[0m\u001b[1;33m:\u001b[0m\u001b[1;33m]\u001b[0m\u001b[1;33m==\u001b[0m\u001b[1;34m'.json'\u001b[0m\u001b[1;33m]\u001b[0m\u001b[1;33m\u001b[0m\u001b[1;33m\u001b[0m\u001b[0m\n\u001b[0m\u001b[0;32m      5\u001b[0m \u001b[1;33m\u001b[0m\u001b[0m\n\u001b[0;32m      6\u001b[0m     \u001b[1;31m# As long as there are more than 1\u001b[0m\u001b[1;33m\u001b[0m\u001b[1;33m\u001b[0m\u001b[1;33m\u001b[0m\u001b[0m\n",
      "\u001b[1;31mKeyboardInterrupt\u001b[0m: "
     ]
    }
   ],
   "source": [
    "while True:\n",
    "    \n",
    "    # Get all jsons\n",
    "    jsons = [x for x in os.listdir(os.getcwd()+'/../data') if x[-5:]=='.json']\n",
    "    \n",
    "    # As long as there are more than 1\n",
    "    if len(jsons)>1:\n",
    "        \n",
    "        # Sort chronologically\n",
    "        jsons = sorted(jsons, key = lambda x:re.findall('\\d\\d\\d\\d-\\d\\d-\\d\\d-\\d\\d',x)[0])\n",
    "        \n",
    "        start = time()\n",
    "        print('File:', jsons[0])\n",
    "\n",
    "        print('Compress...')\n",
    "        with open('../data/'+jsons[0], 'rb') as f_in, gzip.open('../data/'+jsons[0]+'.gz', 'wb') as f_out:\n",
    "            shutil.copyfileobj(f_in, f_out)\n",
    "\n",
    "        print('Remove...')\n",
    "        os.remove('../data/'+jsons[0])\n",
    "        \n",
    "        print('Done in ', round(time() - start), 'sec')"
   ]
  },
  {
   "cell_type": "code",
   "execution_count": null,
   "metadata": {},
   "outputs": [],
   "source": []
  }
 ],
 "metadata": {
  "kernelspec": {
   "display_name": "Python 3",
   "language": "python",
   "name": "python3"
  },
  "language_info": {
   "codemirror_mode": {
    "name": "ipython",
    "version": 3
   },
   "file_extension": ".py",
   "mimetype": "text/x-python",
   "name": "python",
   "nbconvert_exporter": "python",
   "pygments_lexer": "ipython3",
   "version": "3.7.3"
  }
 },
 "nbformat": 4,
 "nbformat_minor": 2
}
